{
  "nbformat": 4,
  "nbformat_minor": 0,
  "metadata": {
    "colab": {
      "provenance": [],
      "include_colab_link": true
    },
    "kernelspec": {
      "name": "python3",
      "display_name": "Python 3"
    },
    "language_info": {
      "name": "python"
    }
  },
  "cells": [
    {
      "cell_type": "markdown",
      "metadata": {
        "id": "view-in-github",
        "colab_type": "text"
      },
      "source": [
        "<a href=\"https://colab.research.google.com/github/eyv7jz/ds1002-eyv7jz/blob/main/for_loop_review.ipynb\" target=\"_parent\"><img src=\"https://colab.research.google.com/assets/colab-badge.svg\" alt=\"Open In Colab\"/></a>"
      ]
    },
    {
      "cell_type": "markdown",
      "source": [
        "# Looping Over Things\n",
        "\n",
        "You will encounter a variety of objects you need to loop through.\n",
        "\n",
        "## Pandas DataFrames"
      ],
      "metadata": {
        "id": "w75Jv4tqSnrw"
      }
    },
    {
      "cell_type": "code",
      "execution_count": 1,
      "metadata": {
        "id": "LXZCf2w9QCDn",
        "colab": {
          "base_uri": "https://localhost:8080/",
          "height": 206
        },
        "outputId": "e8f23192-0ccd-4f2b-84e0-cea0adb4aaf9"
      },
      "outputs": [
        {
          "output_type": "execute_result",
          "data": {
            "text/plain": [
              "         date  temperature\n",
              "0  2019-03-03         14.0\n",
              "1  2019-03-04         15.0\n",
              "2  2019-03-05         18.0\n",
              "3  2019-03-06         16.0\n",
              "4  2019-03-07         62.6"
            ],
            "text/html": [
              "\n",
              "  <div id=\"df-984ef2d1-888a-4a98-bf33-c3e707b2e32f\" class=\"colab-df-container\">\n",
              "    <div>\n",
              "<style scoped>\n",
              "    .dataframe tbody tr th:only-of-type {\n",
              "        vertical-align: middle;\n",
              "    }\n",
              "\n",
              "    .dataframe tbody tr th {\n",
              "        vertical-align: top;\n",
              "    }\n",
              "\n",
              "    .dataframe thead th {\n",
              "        text-align: right;\n",
              "    }\n",
              "</style>\n",
              "<table border=\"1\" class=\"dataframe\">\n",
              "  <thead>\n",
              "    <tr style=\"text-align: right;\">\n",
              "      <th></th>\n",
              "      <th>date</th>\n",
              "      <th>temperature</th>\n",
              "    </tr>\n",
              "  </thead>\n",
              "  <tbody>\n",
              "    <tr>\n",
              "      <th>0</th>\n",
              "      <td>2019-03-03</td>\n",
              "      <td>14.0</td>\n",
              "    </tr>\n",
              "    <tr>\n",
              "      <th>1</th>\n",
              "      <td>2019-03-04</td>\n",
              "      <td>15.0</td>\n",
              "    </tr>\n",
              "    <tr>\n",
              "      <th>2</th>\n",
              "      <td>2019-03-05</td>\n",
              "      <td>18.0</td>\n",
              "    </tr>\n",
              "    <tr>\n",
              "      <th>3</th>\n",
              "      <td>2019-03-06</td>\n",
              "      <td>16.0</td>\n",
              "    </tr>\n",
              "    <tr>\n",
              "      <th>4</th>\n",
              "      <td>2019-03-07</td>\n",
              "      <td>62.6</td>\n",
              "    </tr>\n",
              "  </tbody>\n",
              "</table>\n",
              "</div>\n",
              "    <div class=\"colab-df-buttons\">\n",
              "\n",
              "  <div class=\"colab-df-container\">\n",
              "    <button class=\"colab-df-convert\" onclick=\"convertToInteractive('df-984ef2d1-888a-4a98-bf33-c3e707b2e32f')\"\n",
              "            title=\"Convert this dataframe to an interactive table.\"\n",
              "            style=\"display:none;\">\n",
              "\n",
              "  <svg xmlns=\"http://www.w3.org/2000/svg\" height=\"24px\" viewBox=\"0 -960 960 960\">\n",
              "    <path d=\"M120-120v-720h720v720H120Zm60-500h600v-160H180v160Zm220 220h160v-160H400v160Zm0 220h160v-160H400v160ZM180-400h160v-160H180v160Zm440 0h160v-160H620v160ZM180-180h160v-160H180v160Zm440 0h160v-160H620v160Z\"/>\n",
              "  </svg>\n",
              "    </button>\n",
              "\n",
              "  <style>\n",
              "    .colab-df-container {\n",
              "      display:flex;\n",
              "      gap: 12px;\n",
              "    }\n",
              "\n",
              "    .colab-df-convert {\n",
              "      background-color: #E8F0FE;\n",
              "      border: none;\n",
              "      border-radius: 50%;\n",
              "      cursor: pointer;\n",
              "      display: none;\n",
              "      fill: #1967D2;\n",
              "      height: 32px;\n",
              "      padding: 0 0 0 0;\n",
              "      width: 32px;\n",
              "    }\n",
              "\n",
              "    .colab-df-convert:hover {\n",
              "      background-color: #E2EBFA;\n",
              "      box-shadow: 0px 1px 2px rgba(60, 64, 67, 0.3), 0px 1px 3px 1px rgba(60, 64, 67, 0.15);\n",
              "      fill: #174EA6;\n",
              "    }\n",
              "\n",
              "    .colab-df-buttons div {\n",
              "      margin-bottom: 4px;\n",
              "    }\n",
              "\n",
              "    [theme=dark] .colab-df-convert {\n",
              "      background-color: #3B4455;\n",
              "      fill: #D2E3FC;\n",
              "    }\n",
              "\n",
              "    [theme=dark] .colab-df-convert:hover {\n",
              "      background-color: #434B5C;\n",
              "      box-shadow: 0px 1px 3px 1px rgba(0, 0, 0, 0.15);\n",
              "      filter: drop-shadow(0px 1px 2px rgba(0, 0, 0, 0.3));\n",
              "      fill: #FFFFFF;\n",
              "    }\n",
              "  </style>\n",
              "\n",
              "    <script>\n",
              "      const buttonEl =\n",
              "        document.querySelector('#df-984ef2d1-888a-4a98-bf33-c3e707b2e32f button.colab-df-convert');\n",
              "      buttonEl.style.display =\n",
              "        google.colab.kernel.accessAllowed ? 'block' : 'none';\n",
              "\n",
              "      async function convertToInteractive(key) {\n",
              "        const element = document.querySelector('#df-984ef2d1-888a-4a98-bf33-c3e707b2e32f');\n",
              "        const dataTable =\n",
              "          await google.colab.kernel.invokeFunction('convertToInteractive',\n",
              "                                                    [key], {});\n",
              "        if (!dataTable) return;\n",
              "\n",
              "        const docLinkHtml = 'Like what you see? Visit the ' +\n",
              "          '<a target=\"_blank\" href=https://colab.research.google.com/notebooks/data_table.ipynb>data table notebook</a>'\n",
              "          + ' to learn more about interactive tables.';\n",
              "        element.innerHTML = '';\n",
              "        dataTable['output_type'] = 'display_data';\n",
              "        await google.colab.output.renderOutput(dataTable, element);\n",
              "        const docLink = document.createElement('div');\n",
              "        docLink.innerHTML = docLinkHtml;\n",
              "        element.appendChild(docLink);\n",
              "      }\n",
              "    </script>\n",
              "  </div>\n",
              "\n",
              "\n",
              "<div id=\"df-47326166-5aaa-4ece-b093-2066793afef7\">\n",
              "  <button class=\"colab-df-quickchart\" onclick=\"quickchart('df-47326166-5aaa-4ece-b093-2066793afef7')\"\n",
              "            title=\"Suggest charts.\"\n",
              "            style=\"display:none;\">\n",
              "\n",
              "<svg xmlns=\"http://www.w3.org/2000/svg\" height=\"24px\"viewBox=\"0 0 24 24\"\n",
              "     width=\"24px\">\n",
              "    <g>\n",
              "        <path d=\"M19 3H5c-1.1 0-2 .9-2 2v14c0 1.1.9 2 2 2h14c1.1 0 2-.9 2-2V5c0-1.1-.9-2-2-2zM9 17H7v-7h2v7zm4 0h-2V7h2v10zm4 0h-2v-4h2v4z\"/>\n",
              "    </g>\n",
              "</svg>\n",
              "  </button>\n",
              "\n",
              "<style>\n",
              "  .colab-df-quickchart {\n",
              "      --bg-color: #E8F0FE;\n",
              "      --fill-color: #1967D2;\n",
              "      --hover-bg-color: #E2EBFA;\n",
              "      --hover-fill-color: #174EA6;\n",
              "      --disabled-fill-color: #AAA;\n",
              "      --disabled-bg-color: #DDD;\n",
              "  }\n",
              "\n",
              "  [theme=dark] .colab-df-quickchart {\n",
              "      --bg-color: #3B4455;\n",
              "      --fill-color: #D2E3FC;\n",
              "      --hover-bg-color: #434B5C;\n",
              "      --hover-fill-color: #FFFFFF;\n",
              "      --disabled-bg-color: #3B4455;\n",
              "      --disabled-fill-color: #666;\n",
              "  }\n",
              "\n",
              "  .colab-df-quickchart {\n",
              "    background-color: var(--bg-color);\n",
              "    border: none;\n",
              "    border-radius: 50%;\n",
              "    cursor: pointer;\n",
              "    display: none;\n",
              "    fill: var(--fill-color);\n",
              "    height: 32px;\n",
              "    padding: 0;\n",
              "    width: 32px;\n",
              "  }\n",
              "\n",
              "  .colab-df-quickchart:hover {\n",
              "    background-color: var(--hover-bg-color);\n",
              "    box-shadow: 0 1px 2px rgba(60, 64, 67, 0.3), 0 1px 3px 1px rgba(60, 64, 67, 0.15);\n",
              "    fill: var(--button-hover-fill-color);\n",
              "  }\n",
              "\n",
              "  .colab-df-quickchart-complete:disabled,\n",
              "  .colab-df-quickchart-complete:disabled:hover {\n",
              "    background-color: var(--disabled-bg-color);\n",
              "    fill: var(--disabled-fill-color);\n",
              "    box-shadow: none;\n",
              "  }\n",
              "\n",
              "  .colab-df-spinner {\n",
              "    border: 2px solid var(--fill-color);\n",
              "    border-color: transparent;\n",
              "    border-bottom-color: var(--fill-color);\n",
              "    animation:\n",
              "      spin 1s steps(1) infinite;\n",
              "  }\n",
              "\n",
              "  @keyframes spin {\n",
              "    0% {\n",
              "      border-color: transparent;\n",
              "      border-bottom-color: var(--fill-color);\n",
              "      border-left-color: var(--fill-color);\n",
              "    }\n",
              "    20% {\n",
              "      border-color: transparent;\n",
              "      border-left-color: var(--fill-color);\n",
              "      border-top-color: var(--fill-color);\n",
              "    }\n",
              "    30% {\n",
              "      border-color: transparent;\n",
              "      border-left-color: var(--fill-color);\n",
              "      border-top-color: var(--fill-color);\n",
              "      border-right-color: var(--fill-color);\n",
              "    }\n",
              "    40% {\n",
              "      border-color: transparent;\n",
              "      border-right-color: var(--fill-color);\n",
              "      border-top-color: var(--fill-color);\n",
              "    }\n",
              "    60% {\n",
              "      border-color: transparent;\n",
              "      border-right-color: var(--fill-color);\n",
              "    }\n",
              "    80% {\n",
              "      border-color: transparent;\n",
              "      border-right-color: var(--fill-color);\n",
              "      border-bottom-color: var(--fill-color);\n",
              "    }\n",
              "    90% {\n",
              "      border-color: transparent;\n",
              "      border-bottom-color: var(--fill-color);\n",
              "    }\n",
              "  }\n",
              "</style>\n",
              "\n",
              "  <script>\n",
              "    async function quickchart(key) {\n",
              "      const quickchartButtonEl =\n",
              "        document.querySelector('#' + key + ' button');\n",
              "      quickchartButtonEl.disabled = true;  // To prevent multiple clicks.\n",
              "      quickchartButtonEl.classList.add('colab-df-spinner');\n",
              "      try {\n",
              "        const charts = await google.colab.kernel.invokeFunction(\n",
              "            'suggestCharts', [key], {});\n",
              "      } catch (error) {\n",
              "        console.error('Error during call to suggestCharts:', error);\n",
              "      }\n",
              "      quickchartButtonEl.classList.remove('colab-df-spinner');\n",
              "      quickchartButtonEl.classList.add('colab-df-quickchart-complete');\n",
              "    }\n",
              "    (() => {\n",
              "      let quickchartButtonEl =\n",
              "        document.querySelector('#df-47326166-5aaa-4ece-b093-2066793afef7 button');\n",
              "      quickchartButtonEl.style.display =\n",
              "        google.colab.kernel.accessAllowed ? 'block' : 'none';\n",
              "    })();\n",
              "  </script>\n",
              "</div>\n",
              "    </div>\n",
              "  </div>\n"
            ]
          },
          "metadata": {},
          "execution_count": 1
        }
      ],
      "source": [
        "import pandas as pd\n",
        "\n",
        "df = pd.read_csv(\"https://s3.amazonaws.com/ds1002-resources/data/temperatures.csv\")\n",
        "df.head()"
      ]
    },
    {
      "cell_type": "code",
      "source": [
        "# interrows() allows you to iterate over the rows of a DataFrame and perform\n",
        "# operations on the data in each row\n",
        "for row in df.iterrows():\n",
        "  print(row)"
      ],
      "metadata": {
        "id": "QiJNoZY8Qwks",
        "colab": {
          "base_uri": "https://localhost:8080/"
        },
        "outputId": "ecc6b475-3f7e-4c3a-9394-1322ea5b6e8b"
      },
      "execution_count": 3,
      "outputs": [
        {
          "output_type": "stream",
          "name": "stdout",
          "text": [
            "(0, date           2019-03-03\n",
            "temperature          14.0\n",
            "Name: 0, dtype: object)\n",
            "(1, date           2019-03-04\n",
            "temperature          15.0\n",
            "Name: 1, dtype: object)\n",
            "(2, date           2019-03-05\n",
            "temperature          18.0\n",
            "Name: 2, dtype: object)\n",
            "(3, date           2019-03-06\n",
            "temperature          16.0\n",
            "Name: 3, dtype: object)\n",
            "(4, date           2019-03-07\n",
            "temperature          62.6\n",
            "Name: 4, dtype: object)\n",
            "(5, date           2019-03-08\n",
            "temperature          16.0\n",
            "Name: 5, dtype: object)\n",
            "(6, date           2019-03-09\n",
            "temperature          16.0\n",
            "Name: 6, dtype: object)\n",
            "(7, date           2019-03-10\n",
            "temperature          16.0\n",
            "Name: 7, dtype: object)\n",
            "(8, date           2019-03-11\n",
            "temperature          17.0\n",
            "Name: 8, dtype: object)\n",
            "(9, date           2019-03-12\n",
            "temperature          18.0\n",
            "Name: 9, dtype: object)\n",
            "(10, date           2019-03-13\n",
            "temperature          18.0\n",
            "Name: 10, dtype: object)\n",
            "(11, date           2019-03-14\n",
            "temperature          18.0\n",
            "Name: 11, dtype: object)\n",
            "(12, date           2019-03-15\n",
            "temperature          17.0\n",
            "Name: 12, dtype: object)\n",
            "(13, date           2019-03-16\n",
            "temperature          17.0\n",
            "Name: 13, dtype: object)\n",
            "(14, date           2019-03-17\n",
            "temperature          14.0\n",
            "Name: 14, dtype: object)\n",
            "(15, date           2019-03-18\n",
            "temperature          14.0\n",
            "Name: 15, dtype: object)\n",
            "(16, date           2019-03-19\n",
            "temperature          14.0\n",
            "Name: 16, dtype: object)\n",
            "(17, date           2019-03-20\n",
            "temperature          18.0\n",
            "Name: 17, dtype: object)\n",
            "(18, date           2019-03-21\n",
            "temperature          20.0\n",
            "Name: 18, dtype: object)\n",
            "(19, date           2019-03-22\n",
            "temperature          20.0\n",
            "Name: 19, dtype: object)\n",
            "(20, date           2019-03-23\n",
            "temperature          17.0\n",
            "Name: 20, dtype: object)\n",
            "(21, date           2019-03-24\n",
            "temperature          17.0\n",
            "Name: 21, dtype: object)\n",
            "(22, date           2019-03-25\n",
            "temperature          17.0\n",
            "Name: 22, dtype: object)\n",
            "(23, date           2019-03-26\n",
            "temperature          17.0\n",
            "Name: 23, dtype: object)\n",
            "(24, date           2019-03-27\n",
            "temperature          17.0\n",
            "Name: 24, dtype: object)\n",
            "(25, date           2019-03-28\n",
            "temperature          18.0\n",
            "Name: 25, dtype: object)\n",
            "(26, date           2019-03-29\n",
            "temperature          18.0\n",
            "Name: 26, dtype: object)\n",
            "(27, date           2019-03-30\n",
            "temperature          18.0\n",
            "Name: 27, dtype: object)\n",
            "(28, date           2019-03-31\n",
            "temperature          18.0\n",
            "Name: 28, dtype: object)\n"
          ]
        }
      ]
    },
    {
      "cell_type": "code",
      "source": [
        "for i in range(len(df)):\n",
        "  print(df.loc[i, \"date\"], df.loc[i, \"temperature\"])"
      ],
      "metadata": {
        "id": "SVopO-htQq2Y",
        "colab": {
          "base_uri": "https://localhost:8080/"
        },
        "outputId": "661bfc90-4d4a-4737-f209-60601d86a7e2"
      },
      "execution_count": 4,
      "outputs": [
        {
          "output_type": "stream",
          "name": "stdout",
          "text": [
            "2019-03-03 14.0\n",
            "2019-03-04 15.0\n",
            "2019-03-05 18.0\n",
            "2019-03-06 16.0\n",
            "2019-03-07 62.6\n",
            "2019-03-08 16.0\n",
            "2019-03-09 16.0\n",
            "2019-03-10 16.0\n",
            "2019-03-11 17.0\n",
            "2019-03-12 18.0\n",
            "2019-03-13 18.0\n",
            "2019-03-14 18.0\n",
            "2019-03-15 17.0\n",
            "2019-03-16 17.0\n",
            "2019-03-17 14.0\n",
            "2019-03-18 14.0\n",
            "2019-03-19 14.0\n",
            "2019-03-20 18.0\n",
            "2019-03-21 20.0\n",
            "2019-03-22 20.0\n",
            "2019-03-23 17.0\n",
            "2019-03-24 17.0\n",
            "2019-03-25 17.0\n",
            "2019-03-26 17.0\n",
            "2019-03-27 17.0\n",
            "2019-03-28 18.0\n",
            "2019-03-29 18.0\n",
            "2019-03-30 18.0\n",
            "2019-03-31 18.0\n"
          ]
        }
      ]
    },
    {
      "cell_type": "code",
      "source": [
        "for i in range(len(df)):\n",
        "  print(df.iloc[i, 0], df.iloc[i, 1])"
      ],
      "metadata": {
        "id": "_yum86r2RqMT",
        "colab": {
          "base_uri": "https://localhost:8080/"
        },
        "outputId": "075e1a4c-64e2-4eba-baa4-71654eb8547f"
      },
      "execution_count": 5,
      "outputs": [
        {
          "output_type": "stream",
          "name": "stdout",
          "text": [
            "2019-03-03 14.0\n",
            "2019-03-04 15.0\n",
            "2019-03-05 18.0\n",
            "2019-03-06 16.0\n",
            "2019-03-07 62.6\n",
            "2019-03-08 16.0\n",
            "2019-03-09 16.0\n",
            "2019-03-10 16.0\n",
            "2019-03-11 17.0\n",
            "2019-03-12 18.0\n",
            "2019-03-13 18.0\n",
            "2019-03-14 18.0\n",
            "2019-03-15 17.0\n",
            "2019-03-16 17.0\n",
            "2019-03-17 14.0\n",
            "2019-03-18 14.0\n",
            "2019-03-19 14.0\n",
            "2019-03-20 18.0\n",
            "2019-03-21 20.0\n",
            "2019-03-22 20.0\n",
            "2019-03-23 17.0\n",
            "2019-03-24 17.0\n",
            "2019-03-25 17.0\n",
            "2019-03-26 17.0\n",
            "2019-03-27 17.0\n",
            "2019-03-28 18.0\n",
            "2019-03-29 18.0\n",
            "2019-03-30 18.0\n",
            "2019-03-31 18.0\n"
          ]
        }
      ]
    },
    {
      "cell_type": "code",
      "source": [
        "for index, row in df.iterrows():\n",
        "  print(row[\"date\"], row[\"temperature\"])"
      ],
      "metadata": {
        "id": "xeGlOm1bR5AR",
        "colab": {
          "base_uri": "https://localhost:8080/"
        },
        "outputId": "b2d4a070-8f3c-4959-d5b9-dcbec5ec0752"
      },
      "execution_count": 6,
      "outputs": [
        {
          "output_type": "stream",
          "name": "stdout",
          "text": [
            "2019-03-03 14.0\n",
            "2019-03-04 15.0\n",
            "2019-03-05 18.0\n",
            "2019-03-06 16.0\n",
            "2019-03-07 62.6\n",
            "2019-03-08 16.0\n",
            "2019-03-09 16.0\n",
            "2019-03-10 16.0\n",
            "2019-03-11 17.0\n",
            "2019-03-12 18.0\n",
            "2019-03-13 18.0\n",
            "2019-03-14 18.0\n",
            "2019-03-15 17.0\n",
            "2019-03-16 17.0\n",
            "2019-03-17 14.0\n",
            "2019-03-18 14.0\n",
            "2019-03-19 14.0\n",
            "2019-03-20 18.0\n",
            "2019-03-21 20.0\n",
            "2019-03-22 20.0\n",
            "2019-03-23 17.0\n",
            "2019-03-24 17.0\n",
            "2019-03-25 17.0\n",
            "2019-03-26 17.0\n",
            "2019-03-27 17.0\n",
            "2019-03-28 18.0\n",
            "2019-03-29 18.0\n",
            "2019-03-30 18.0\n",
            "2019-03-31 18.0\n"
          ]
        }
      ]
    },
    {
      "cell_type": "markdown",
      "source": [
        "## Dictionaries"
      ],
      "metadata": {
        "id": "BD1Wg4oSSEdz"
      }
    },
    {
      "cell_type": "code",
      "source": [
        "mydict = {'United States':'Washington DC',\n",
        "          'Italy':'Rome',\n",
        "          'England':'London',\n",
        "          'Thailand':'Bangkok',\n",
        "          'Brazil':'Brasilia'}"
      ],
      "metadata": {
        "id": "9DpHR_WzSGA8"
      },
      "execution_count": 7,
      "outputs": []
    },
    {
      "cell_type": "code",
      "source": [
        "# This gets out all my keys:\n",
        "for thing in mydict:\n",
        "  print(thing)"
      ],
      "metadata": {
        "id": "Iy_i6RE3S1ta",
        "colab": {
          "base_uri": "https://localhost:8080/"
        },
        "outputId": "80eeacd4-948f-45e2-f429-104247d97115"
      },
      "execution_count": 8,
      "outputs": [
        {
          "output_type": "stream",
          "name": "stdout",
          "text": [
            "United States\n",
            "Italy\n",
            "England\n",
            "Thailand\n",
            "Brazil\n"
          ]
        }
      ]
    },
    {
      "cell_type": "code",
      "source": [
        "# This pulls out all the values of the dict:\n",
        "for thing in mydict:\n",
        "  print(mydict[thing])"
      ],
      "metadata": {
        "id": "eYNBRQAsS95v",
        "colab": {
          "base_uri": "https://localhost:8080/"
        },
        "outputId": "bf51ee33-da2e-4c65-ac60-f107a19be513"
      },
      "execution_count": 9,
      "outputs": [
        {
          "output_type": "stream",
          "name": "stdout",
          "text": [
            "Washington DC\n",
            "Rome\n",
            "London\n",
            "Bangkok\n",
            "Brasilia\n"
          ]
        }
      ]
    },
    {
      "cell_type": "code",
      "source": [
        "# This pulls both keys and values of a dict:\n",
        "for key, value in mydict.items():\n",
        "  print(key, \" \", value)"
      ],
      "metadata": {
        "id": "b1KYFdDxSH7X",
        "colab": {
          "base_uri": "https://localhost:8080/"
        },
        "outputId": "25736687-d540-4f5a-847f-01fcfa621ce1"
      },
      "execution_count": 10,
      "outputs": [
        {
          "output_type": "stream",
          "name": "stdout",
          "text": [
            "United States   Washington DC\n",
            "Italy   Rome\n",
            "England   London\n",
            "Thailand   Bangkok\n",
            "Brazil   Brasilia\n"
          ]
        }
      ]
    },
    {
      "cell_type": "markdown",
      "source": [
        "## Tuples"
      ],
      "metadata": {
        "id": "irmLi_FPUDr4"
      }
    },
    {
      "cell_type": "code",
      "source": [
        "thistuple = (\"apple\", \"banana\", \"cherry\")\n",
        "for i in thistuple:\n",
        "  print(i)"
      ],
      "metadata": {
        "id": "qYFAXDo8UHSS",
        "colab": {
          "base_uri": "https://localhost:8080/"
        },
        "outputId": "0138d235-eddd-4e4b-ae5f-aed59c6df410"
      },
      "execution_count": 11,
      "outputs": [
        {
          "output_type": "stream",
          "name": "stdout",
          "text": [
            "apple\n",
            "banana\n",
            "cherry\n"
          ]
        }
      ]
    },
    {
      "cell_type": "code",
      "source": [
        "thistuple = (\"apple\", \"banana\", \"cherry\")\n",
        "i = 0\n",
        "while i < len(thistuple):\n",
        "  print(thistuple[i])\n",
        "  i = i + 1"
      ],
      "metadata": {
        "id": "x5Lqwg1nUFgI",
        "colab": {
          "base_uri": "https://localhost:8080/"
        },
        "outputId": "2ab865da-9ae5-4ee6-a79b-2a743e937069"
      },
      "execution_count": 12,
      "outputs": [
        {
          "output_type": "stream",
          "name": "stdout",
          "text": [
            "apple\n",
            "banana\n",
            "cherry\n"
          ]
        }
      ]
    }
  ]
}