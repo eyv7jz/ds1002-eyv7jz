{
  "cells": [
    {
      "cell_type": "markdown",
      "metadata": {
        "id": "view-in-github",
        "colab_type": "text"
      },
      "source": [
        "<a href=\"https://colab.research.google.com/github/eyv7jz/ds1002-eyv7jz/blob/main/API_Cals_HW.ipynb\" target=\"_parent\"><img src=\"https://colab.research.google.com/assets/colab-badge.svg\" alt=\"Open In Colab\"/></a>"
      ]
    },
    {
      "cell_type": "code",
      "execution_count": 1,
      "metadata": {
        "id": "8u_FqiCwQjJz"
      },
      "outputs": [],
      "source": [
        "import os\n",
        "import json\n",
        "import pprint\n",
        "import requests\n",
        "import requests.exceptions\n",
        "import pandas as pd"
      ]
    },
    {
      "cell_type": "code",
      "execution_count": 4,
      "metadata": {
        "id": "bHBBO29ZRacS"
      },
      "outputs": [],
      "source": [
        "def get_API_response(url, response_type):\n",
        "  try:\n",
        "      response = requests.get(url)\n",
        "      response.raise_for_status()\n",
        "\n",
        "  except requests.exceptions.HTTPError as errh:\n",
        "      return \"An Http Error occurred: \" + repr(errh)\n",
        "  except requests.exceptions.ConnectionError as errc:\n",
        "      return \"An Error Connecting to the API occurred: \" + repr(errc)\n",
        "  except requests.exceptions.Timeout as errt:\n",
        "      return \"A Timeout Error occurred: \" + repr(errt)\n",
        "  except requests.exceptions.RequestException as err:\n",
        "      return \"An Unknown Error occurred: \" + repr(err)\n",
        "\n",
        "  if response_type == 'json':\n",
        "      result = json.dumps(response.json(), sort_keys=True, indent=4)\n",
        "  elif response_type == 'dataframe':\n",
        "      result = pd.json_normalize(response.json())\n",
        "  else:\n",
        "      result = \"An unhandled error has occurred!\"\n",
        "\n",
        "  return result"
      ]
    },
    {
      "cell_type": "code",
      "execution_count": 5,
      "metadata": {
        "id": "ZfgPWFPoQWis",
        "colab": {
          "base_uri": "https://localhost:8080/"
        },
        "outputId": "3e1efef4-a3d8-4787-deed-0518c15fb5ef"
      },
      "outputs": [
        {
          "output_type": "stream",
          "name": "stdout",
          "text": [
            "Enter a country name: Germany\n",
            "Do you want to enter additional countries? yes\n",
            "Enter a country name: Austria\n",
            "Do you want to enter additional countries? yes\n",
            "Enter a country name: Chile\n",
            "Do you want to enter additional countries? yes\n",
            "Enter a country name: Portugal\n",
            "Do you want to enter additional countries? no\n",
            "  Common Name Capital City  Population\n",
            "0     Germany     [Berlin]    83240525\n",
            "1     Austria     [Vienna]     8917205\n",
            "2       Chile   [Santiago]    19116209\n",
            "3    Portugal     [Lisbon]    10305564\n"
          ]
        }
      ],
      "source": [
        "name = input(\"Enter a country name: \")\n",
        "URL = f\"https://restcountries.com/v3.1/name/{name}\"\n",
        "response_type = ['json', 'dataframe']\n",
        "df = get_API_response(URL, response_type[1])\n",
        "\n",
        "if isinstance(df, str):\n",
        "  print(\"Enter a real country name. \")\n",
        "else:\n",
        "  df_final = df[['name.common', 'capital', 'population']]\n",
        "  while True:\n",
        "    additional_countries = input(\"Do you want to enter additional countries? \")\n",
        "    if additional_countries == 'yes':\n",
        "      name = input(\"Enter a country name: \")\n",
        "      URL = f\"https://restcountries.com/v3.1/name/{name}\"\n",
        "      df = get_API_response(URL, response_type[1])\n",
        "      if isinstance(df, str):\n",
        "        print(\"Enter the name of a real country.\")\n",
        "      else:\n",
        "        df_new_entry = df[['name.common', 'capital', 'population']]\n",
        "        df_final = pd.concat([df_final, df_new_entry], ignore_index = True)\n",
        "    elif additional_countries == 'no':\n",
        "      df_final.rename(columns={'name.common': 'Common Name', 'capital': 'Capital City', 'population': 'Population'}, inplace = True)\n",
        "      print(df_final)\n",
        "      break"
      ]
    },
    {
      "cell_type": "code",
      "execution_count": 6,
      "metadata": {
        "id": "8_pwMb8IYag7"
      },
      "outputs": [],
      "source": [
        "df_final.to_json('Country_Data.json', index = True)"
      ]
    }
  ],
  "metadata": {
    "colab": {
      "provenance": [],
      "include_colab_link": true
    },
    "kernelspec": {
      "display_name": "Python 3",
      "name": "python3"
    },
    "language_info": {
      "name": "python"
    }
  },
  "nbformat": 4,
  "nbformat_minor": 0
}