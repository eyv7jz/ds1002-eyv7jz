{
  "nbformat": 4,
  "nbformat_minor": 0,
  "metadata": {
    "colab": {
      "provenance": [],
      "include_colab_link": true
    },
    "kernelspec": {
      "name": "ir",
      "display_name": "R"
    },
    "language_info": {
      "name": "R"
    }
  },
  "cells": [
    {
      "cell_type": "markdown",
      "metadata": {
        "id": "view-in-github",
        "colab_type": "text"
      },
      "source": [
        "<a href=\"https://colab.research.google.com/github/eyv7jz/ds1002-eyv7jz/blob/main/22-data-cleaning-in-r.ipynb\" target=\"_parent\"><img src=\"https://colab.research.google.com/assets/colab-badge.svg\" alt=\"Open In Colab\"/></a>"
      ]
    },
    {
      "cell_type": "markdown",
      "source": [
        "## Normalized Data\n",
        "\n",
        "Having cleaned, ordered, organized data makes your next steps easy. Take the `airquality` sample data set for example:"
      ],
      "metadata": {
        "id": "Lz7wt8eqGdt3"
      }
    },
    {
      "cell_type": "code",
      "source": [
        "airquality"
      ],
      "metadata": {
        "id": "INgs6RtHGooL",
        "colab": {
          "base_uri": "https://localhost:8080/",
          "height": 1000
        },
        "outputId": "014c64bd-fe03-48d2-b164-b82dfa2c1fd9"
      },
      "execution_count": 1,
      "outputs": [
        {
          "output_type": "display_data",
          "data": {
            "text/html": [
              "<table class=\"dataframe\">\n",
              "<caption>A data.frame: 153 × 6</caption>\n",
              "<thead>\n",
              "\t<tr><th scope=col>Ozone</th><th scope=col>Solar.R</th><th scope=col>Wind</th><th scope=col>Temp</th><th scope=col>Month</th><th scope=col>Day</th></tr>\n",
              "\t<tr><th scope=col>&lt;int&gt;</th><th scope=col>&lt;int&gt;</th><th scope=col>&lt;dbl&gt;</th><th scope=col>&lt;int&gt;</th><th scope=col>&lt;int&gt;</th><th scope=col>&lt;int&gt;</th></tr>\n",
              "</thead>\n",
              "<tbody>\n",
              "\t<tr><td> 41</td><td>190</td><td> 7.4</td><td>67</td><td>5</td><td> 1</td></tr>\n",
              "\t<tr><td> 36</td><td>118</td><td> 8.0</td><td>72</td><td>5</td><td> 2</td></tr>\n",
              "\t<tr><td> 12</td><td>149</td><td>12.6</td><td>74</td><td>5</td><td> 3</td></tr>\n",
              "\t<tr><td> 18</td><td>313</td><td>11.5</td><td>62</td><td>5</td><td> 4</td></tr>\n",
              "\t<tr><td> NA</td><td> NA</td><td>14.3</td><td>56</td><td>5</td><td> 5</td></tr>\n",
              "\t<tr><td> 28</td><td> NA</td><td>14.9</td><td>66</td><td>5</td><td> 6</td></tr>\n",
              "\t<tr><td> 23</td><td>299</td><td> 8.6</td><td>65</td><td>5</td><td> 7</td></tr>\n",
              "\t<tr><td> 19</td><td> 99</td><td>13.8</td><td>59</td><td>5</td><td> 8</td></tr>\n",
              "\t<tr><td>  8</td><td> 19</td><td>20.1</td><td>61</td><td>5</td><td> 9</td></tr>\n",
              "\t<tr><td> NA</td><td>194</td><td> 8.6</td><td>69</td><td>5</td><td>10</td></tr>\n",
              "\t<tr><td>  7</td><td> NA</td><td> 6.9</td><td>74</td><td>5</td><td>11</td></tr>\n",
              "\t<tr><td> 16</td><td>256</td><td> 9.7</td><td>69</td><td>5</td><td>12</td></tr>\n",
              "\t<tr><td> 11</td><td>290</td><td> 9.2</td><td>66</td><td>5</td><td>13</td></tr>\n",
              "\t<tr><td> 14</td><td>274</td><td>10.9</td><td>68</td><td>5</td><td>14</td></tr>\n",
              "\t<tr><td> 18</td><td> 65</td><td>13.2</td><td>58</td><td>5</td><td>15</td></tr>\n",
              "\t<tr><td> 14</td><td>334</td><td>11.5</td><td>64</td><td>5</td><td>16</td></tr>\n",
              "\t<tr><td> 34</td><td>307</td><td>12.0</td><td>66</td><td>5</td><td>17</td></tr>\n",
              "\t<tr><td>  6</td><td> 78</td><td>18.4</td><td>57</td><td>5</td><td>18</td></tr>\n",
              "\t<tr><td> 30</td><td>322</td><td>11.5</td><td>68</td><td>5</td><td>19</td></tr>\n",
              "\t<tr><td> 11</td><td> 44</td><td> 9.7</td><td>62</td><td>5</td><td>20</td></tr>\n",
              "\t<tr><td>  1</td><td>  8</td><td> 9.7</td><td>59</td><td>5</td><td>21</td></tr>\n",
              "\t<tr><td> 11</td><td>320</td><td>16.6</td><td>73</td><td>5</td><td>22</td></tr>\n",
              "\t<tr><td>  4</td><td> 25</td><td> 9.7</td><td>61</td><td>5</td><td>23</td></tr>\n",
              "\t<tr><td> 32</td><td> 92</td><td>12.0</td><td>61</td><td>5</td><td>24</td></tr>\n",
              "\t<tr><td> NA</td><td> 66</td><td>16.6</td><td>57</td><td>5</td><td>25</td></tr>\n",
              "\t<tr><td> NA</td><td>266</td><td>14.9</td><td>58</td><td>5</td><td>26</td></tr>\n",
              "\t<tr><td> NA</td><td> NA</td><td> 8.0</td><td>57</td><td>5</td><td>27</td></tr>\n",
              "\t<tr><td> 23</td><td> 13</td><td>12.0</td><td>67</td><td>5</td><td>28</td></tr>\n",
              "\t<tr><td> 45</td><td>252</td><td>14.9</td><td>81</td><td>5</td><td>29</td></tr>\n",
              "\t<tr><td>115</td><td>223</td><td> 5.7</td><td>79</td><td>5</td><td>30</td></tr>\n",
              "\t<tr><td>⋮</td><td>⋮</td><td>⋮</td><td>⋮</td><td>⋮</td><td>⋮</td></tr>\n",
              "\t<tr><td>96</td><td>167</td><td> 6.9</td><td>91</td><td>9</td><td> 1</td></tr>\n",
              "\t<tr><td>78</td><td>197</td><td> 5.1</td><td>92</td><td>9</td><td> 2</td></tr>\n",
              "\t<tr><td>73</td><td>183</td><td> 2.8</td><td>93</td><td>9</td><td> 3</td></tr>\n",
              "\t<tr><td>91</td><td>189</td><td> 4.6</td><td>93</td><td>9</td><td> 4</td></tr>\n",
              "\t<tr><td>47</td><td> 95</td><td> 7.4</td><td>87</td><td>9</td><td> 5</td></tr>\n",
              "\t<tr><td>32</td><td> 92</td><td>15.5</td><td>84</td><td>9</td><td> 6</td></tr>\n",
              "\t<tr><td>20</td><td>252</td><td>10.9</td><td>80</td><td>9</td><td> 7</td></tr>\n",
              "\t<tr><td>23</td><td>220</td><td>10.3</td><td>78</td><td>9</td><td> 8</td></tr>\n",
              "\t<tr><td>21</td><td>230</td><td>10.9</td><td>75</td><td>9</td><td> 9</td></tr>\n",
              "\t<tr><td>24</td><td>259</td><td> 9.7</td><td>73</td><td>9</td><td>10</td></tr>\n",
              "\t<tr><td>44</td><td>236</td><td>14.9</td><td>81</td><td>9</td><td>11</td></tr>\n",
              "\t<tr><td>21</td><td>259</td><td>15.5</td><td>76</td><td>9</td><td>12</td></tr>\n",
              "\t<tr><td>28</td><td>238</td><td> 6.3</td><td>77</td><td>9</td><td>13</td></tr>\n",
              "\t<tr><td> 9</td><td> 24</td><td>10.9</td><td>71</td><td>9</td><td>14</td></tr>\n",
              "\t<tr><td>13</td><td>112</td><td>11.5</td><td>71</td><td>9</td><td>15</td></tr>\n",
              "\t<tr><td>46</td><td>237</td><td> 6.9</td><td>78</td><td>9</td><td>16</td></tr>\n",
              "\t<tr><td>18</td><td>224</td><td>13.8</td><td>67</td><td>9</td><td>17</td></tr>\n",
              "\t<tr><td>13</td><td> 27</td><td>10.3</td><td>76</td><td>9</td><td>18</td></tr>\n",
              "\t<tr><td>24</td><td>238</td><td>10.3</td><td>68</td><td>9</td><td>19</td></tr>\n",
              "\t<tr><td>16</td><td>201</td><td> 8.0</td><td>82</td><td>9</td><td>20</td></tr>\n",
              "\t<tr><td>13</td><td>238</td><td>12.6</td><td>64</td><td>9</td><td>21</td></tr>\n",
              "\t<tr><td>23</td><td> 14</td><td> 9.2</td><td>71</td><td>9</td><td>22</td></tr>\n",
              "\t<tr><td>36</td><td>139</td><td>10.3</td><td>81</td><td>9</td><td>23</td></tr>\n",
              "\t<tr><td> 7</td><td> 49</td><td>10.3</td><td>69</td><td>9</td><td>24</td></tr>\n",
              "\t<tr><td>14</td><td> 20</td><td>16.6</td><td>63</td><td>9</td><td>25</td></tr>\n",
              "\t<tr><td>30</td><td>193</td><td> 6.9</td><td>70</td><td>9</td><td>26</td></tr>\n",
              "\t<tr><td>NA</td><td>145</td><td>13.2</td><td>77</td><td>9</td><td>27</td></tr>\n",
              "\t<tr><td>14</td><td>191</td><td>14.3</td><td>75</td><td>9</td><td>28</td></tr>\n",
              "\t<tr><td>18</td><td>131</td><td> 8.0</td><td>76</td><td>9</td><td>29</td></tr>\n",
              "\t<tr><td>20</td><td>223</td><td>11.5</td><td>68</td><td>9</td><td>30</td></tr>\n",
              "</tbody>\n",
              "</table>\n"
            ],
            "text/markdown": "\nA data.frame: 153 × 6\n\n| Ozone &lt;int&gt; | Solar.R &lt;int&gt; | Wind &lt;dbl&gt; | Temp &lt;int&gt; | Month &lt;int&gt; | Day &lt;int&gt; |\n|---|---|---|---|---|---|\n|  41 | 190 |  7.4 | 67 | 5 |  1 |\n|  36 | 118 |  8.0 | 72 | 5 |  2 |\n|  12 | 149 | 12.6 | 74 | 5 |  3 |\n|  18 | 313 | 11.5 | 62 | 5 |  4 |\n|  NA |  NA | 14.3 | 56 | 5 |  5 |\n|  28 |  NA | 14.9 | 66 | 5 |  6 |\n|  23 | 299 |  8.6 | 65 | 5 |  7 |\n|  19 |  99 | 13.8 | 59 | 5 |  8 |\n|   8 |  19 | 20.1 | 61 | 5 |  9 |\n|  NA | 194 |  8.6 | 69 | 5 | 10 |\n|   7 |  NA |  6.9 | 74 | 5 | 11 |\n|  16 | 256 |  9.7 | 69 | 5 | 12 |\n|  11 | 290 |  9.2 | 66 | 5 | 13 |\n|  14 | 274 | 10.9 | 68 | 5 | 14 |\n|  18 |  65 | 13.2 | 58 | 5 | 15 |\n|  14 | 334 | 11.5 | 64 | 5 | 16 |\n|  34 | 307 | 12.0 | 66 | 5 | 17 |\n|   6 |  78 | 18.4 | 57 | 5 | 18 |\n|  30 | 322 | 11.5 | 68 | 5 | 19 |\n|  11 |  44 |  9.7 | 62 | 5 | 20 |\n|   1 |   8 |  9.7 | 59 | 5 | 21 |\n|  11 | 320 | 16.6 | 73 | 5 | 22 |\n|   4 |  25 |  9.7 | 61 | 5 | 23 |\n|  32 |  92 | 12.0 | 61 | 5 | 24 |\n|  NA |  66 | 16.6 | 57 | 5 | 25 |\n|  NA | 266 | 14.9 | 58 | 5 | 26 |\n|  NA |  NA |  8.0 | 57 | 5 | 27 |\n|  23 |  13 | 12.0 | 67 | 5 | 28 |\n|  45 | 252 | 14.9 | 81 | 5 | 29 |\n| 115 | 223 |  5.7 | 79 | 5 | 30 |\n| ⋮ | ⋮ | ⋮ | ⋮ | ⋮ | ⋮ |\n| 96 | 167 |  6.9 | 91 | 9 |  1 |\n| 78 | 197 |  5.1 | 92 | 9 |  2 |\n| 73 | 183 |  2.8 | 93 | 9 |  3 |\n| 91 | 189 |  4.6 | 93 | 9 |  4 |\n| 47 |  95 |  7.4 | 87 | 9 |  5 |\n| 32 |  92 | 15.5 | 84 | 9 |  6 |\n| 20 | 252 | 10.9 | 80 | 9 |  7 |\n| 23 | 220 | 10.3 | 78 | 9 |  8 |\n| 21 | 230 | 10.9 | 75 | 9 |  9 |\n| 24 | 259 |  9.7 | 73 | 9 | 10 |\n| 44 | 236 | 14.9 | 81 | 9 | 11 |\n| 21 | 259 | 15.5 | 76 | 9 | 12 |\n| 28 | 238 |  6.3 | 77 | 9 | 13 |\n|  9 |  24 | 10.9 | 71 | 9 | 14 |\n| 13 | 112 | 11.5 | 71 | 9 | 15 |\n| 46 | 237 |  6.9 | 78 | 9 | 16 |\n| 18 | 224 | 13.8 | 67 | 9 | 17 |\n| 13 |  27 | 10.3 | 76 | 9 | 18 |\n| 24 | 238 | 10.3 | 68 | 9 | 19 |\n| 16 | 201 |  8.0 | 82 | 9 | 20 |\n| 13 | 238 | 12.6 | 64 | 9 | 21 |\n| 23 |  14 |  9.2 | 71 | 9 | 22 |\n| 36 | 139 | 10.3 | 81 | 9 | 23 |\n|  7 |  49 | 10.3 | 69 | 9 | 24 |\n| 14 |  20 | 16.6 | 63 | 9 | 25 |\n| 30 | 193 |  6.9 | 70 | 9 | 26 |\n| NA | 145 | 13.2 | 77 | 9 | 27 |\n| 14 | 191 | 14.3 | 75 | 9 | 28 |\n| 18 | 131 |  8.0 | 76 | 9 | 29 |\n| 20 | 223 | 11.5 | 68 | 9 | 30 |\n\n",
            "text/latex": "A data.frame: 153 × 6\n\\begin{tabular}{llllll}\n Ozone & Solar.R & Wind & Temp & Month & Day\\\\\n <int> & <int> & <dbl> & <int> & <int> & <int>\\\\\n\\hline\n\t  41 & 190 &  7.4 & 67 & 5 &  1\\\\\n\t  36 & 118 &  8.0 & 72 & 5 &  2\\\\\n\t  12 & 149 & 12.6 & 74 & 5 &  3\\\\\n\t  18 & 313 & 11.5 & 62 & 5 &  4\\\\\n\t  NA &  NA & 14.3 & 56 & 5 &  5\\\\\n\t  28 &  NA & 14.9 & 66 & 5 &  6\\\\\n\t  23 & 299 &  8.6 & 65 & 5 &  7\\\\\n\t  19 &  99 & 13.8 & 59 & 5 &  8\\\\\n\t   8 &  19 & 20.1 & 61 & 5 &  9\\\\\n\t  NA & 194 &  8.6 & 69 & 5 & 10\\\\\n\t   7 &  NA &  6.9 & 74 & 5 & 11\\\\\n\t  16 & 256 &  9.7 & 69 & 5 & 12\\\\\n\t  11 & 290 &  9.2 & 66 & 5 & 13\\\\\n\t  14 & 274 & 10.9 & 68 & 5 & 14\\\\\n\t  18 &  65 & 13.2 & 58 & 5 & 15\\\\\n\t  14 & 334 & 11.5 & 64 & 5 & 16\\\\\n\t  34 & 307 & 12.0 & 66 & 5 & 17\\\\\n\t   6 &  78 & 18.4 & 57 & 5 & 18\\\\\n\t  30 & 322 & 11.5 & 68 & 5 & 19\\\\\n\t  11 &  44 &  9.7 & 62 & 5 & 20\\\\\n\t   1 &   8 &  9.7 & 59 & 5 & 21\\\\\n\t  11 & 320 & 16.6 & 73 & 5 & 22\\\\\n\t   4 &  25 &  9.7 & 61 & 5 & 23\\\\\n\t  32 &  92 & 12.0 & 61 & 5 & 24\\\\\n\t  NA &  66 & 16.6 & 57 & 5 & 25\\\\\n\t  NA & 266 & 14.9 & 58 & 5 & 26\\\\\n\t  NA &  NA &  8.0 & 57 & 5 & 27\\\\\n\t  23 &  13 & 12.0 & 67 & 5 & 28\\\\\n\t  45 & 252 & 14.9 & 81 & 5 & 29\\\\\n\t 115 & 223 &  5.7 & 79 & 5 & 30\\\\\n\t ⋮ & ⋮ & ⋮ & ⋮ & ⋮ & ⋮\\\\\n\t 96 & 167 &  6.9 & 91 & 9 &  1\\\\\n\t 78 & 197 &  5.1 & 92 & 9 &  2\\\\\n\t 73 & 183 &  2.8 & 93 & 9 &  3\\\\\n\t 91 & 189 &  4.6 & 93 & 9 &  4\\\\\n\t 47 &  95 &  7.4 & 87 & 9 &  5\\\\\n\t 32 &  92 & 15.5 & 84 & 9 &  6\\\\\n\t 20 & 252 & 10.9 & 80 & 9 &  7\\\\\n\t 23 & 220 & 10.3 & 78 & 9 &  8\\\\\n\t 21 & 230 & 10.9 & 75 & 9 &  9\\\\\n\t 24 & 259 &  9.7 & 73 & 9 & 10\\\\\n\t 44 & 236 & 14.9 & 81 & 9 & 11\\\\\n\t 21 & 259 & 15.5 & 76 & 9 & 12\\\\\n\t 28 & 238 &  6.3 & 77 & 9 & 13\\\\\n\t  9 &  24 & 10.9 & 71 & 9 & 14\\\\\n\t 13 & 112 & 11.5 & 71 & 9 & 15\\\\\n\t 46 & 237 &  6.9 & 78 & 9 & 16\\\\\n\t 18 & 224 & 13.8 & 67 & 9 & 17\\\\\n\t 13 &  27 & 10.3 & 76 & 9 & 18\\\\\n\t 24 & 238 & 10.3 & 68 & 9 & 19\\\\\n\t 16 & 201 &  8.0 & 82 & 9 & 20\\\\\n\t 13 & 238 & 12.6 & 64 & 9 & 21\\\\\n\t 23 &  14 &  9.2 & 71 & 9 & 22\\\\\n\t 36 & 139 & 10.3 & 81 & 9 & 23\\\\\n\t  7 &  49 & 10.3 & 69 & 9 & 24\\\\\n\t 14 &  20 & 16.6 & 63 & 9 & 25\\\\\n\t 30 & 193 &  6.9 & 70 & 9 & 26\\\\\n\t NA & 145 & 13.2 & 77 & 9 & 27\\\\\n\t 14 & 191 & 14.3 & 75 & 9 & 28\\\\\n\t 18 & 131 &  8.0 & 76 & 9 & 29\\\\\n\t 20 & 223 & 11.5 & 68 & 9 & 30\\\\\n\\end{tabular}\n",
            "text/plain": [
              "    Ozone Solar.R Wind Temp Month Day\n",
              "1    41   190      7.4 67   5      1 \n",
              "2    36   118      8.0 72   5      2 \n",
              "3    12   149     12.6 74   5      3 \n",
              "4    18   313     11.5 62   5      4 \n",
              "5    NA    NA     14.3 56   5      5 \n",
              "6    28    NA     14.9 66   5      6 \n",
              "7    23   299      8.6 65   5      7 \n",
              "8    19    99     13.8 59   5      8 \n",
              "9     8    19     20.1 61   5      9 \n",
              "10   NA   194      8.6 69   5     10 \n",
              "11    7    NA      6.9 74   5     11 \n",
              "12   16   256      9.7 69   5     12 \n",
              "13   11   290      9.2 66   5     13 \n",
              "14   14   274     10.9 68   5     14 \n",
              "15   18    65     13.2 58   5     15 \n",
              "16   14   334     11.5 64   5     16 \n",
              "17   34   307     12.0 66   5     17 \n",
              "18    6    78     18.4 57   5     18 \n",
              "19   30   322     11.5 68   5     19 \n",
              "20   11    44      9.7 62   5     20 \n",
              "21    1     8      9.7 59   5     21 \n",
              "22   11   320     16.6 73   5     22 \n",
              "23    4    25      9.7 61   5     23 \n",
              "24   32    92     12.0 61   5     24 \n",
              "25   NA    66     16.6 57   5     25 \n",
              "26   NA   266     14.9 58   5     26 \n",
              "27   NA    NA      8.0 57   5     27 \n",
              "28   23    13     12.0 67   5     28 \n",
              "29   45   252     14.9 81   5     29 \n",
              "30  115   223      5.7 79   5     30 \n",
              "⋮   ⋮     ⋮       ⋮    ⋮    ⋮     ⋮  \n",
              "124 96    167      6.9 91   9      1 \n",
              "125 78    197      5.1 92   9      2 \n",
              "126 73    183      2.8 93   9      3 \n",
              "127 91    189      4.6 93   9      4 \n",
              "128 47     95      7.4 87   9      5 \n",
              "129 32     92     15.5 84   9      6 \n",
              "130 20    252     10.9 80   9      7 \n",
              "131 23    220     10.3 78   9      8 \n",
              "132 21    230     10.9 75   9      9 \n",
              "133 24    259      9.7 73   9     10 \n",
              "134 44    236     14.9 81   9     11 \n",
              "135 21    259     15.5 76   9     12 \n",
              "136 28    238      6.3 77   9     13 \n",
              "137  9     24     10.9 71   9     14 \n",
              "138 13    112     11.5 71   9     15 \n",
              "139 46    237      6.9 78   9     16 \n",
              "140 18    224     13.8 67   9     17 \n",
              "141 13     27     10.3 76   9     18 \n",
              "142 24    238     10.3 68   9     19 \n",
              "143 16    201      8.0 82   9     20 \n",
              "144 13    238     12.6 64   9     21 \n",
              "145 23     14      9.2 71   9     22 \n",
              "146 36    139     10.3 81   9     23 \n",
              "147  7     49     10.3 69   9     24 \n",
              "148 14     20     16.6 63   9     25 \n",
              "149 30    193      6.9 70   9     26 \n",
              "150 NA    145     13.2 77   9     27 \n",
              "151 14    191     14.3 75   9     28 \n",
              "152 18    131      8.0 76   9     29 \n",
              "153 20    223     11.5 68   9     30 "
            ]
          },
          "metadata": {}
        }
      ]
    },
    {
      "cell_type": "code",
      "source": [
        "boxplot(airquality)"
      ],
      "metadata": {
        "id": "Mp5W66hCGrP9",
        "colab": {
          "base_uri": "https://localhost:8080/",
          "height": 437
        },
        "outputId": "062d3fe0-9962-4615-ca19-7c2c594c05c2"
      },
      "execution_count": 2,
      "outputs": [
        {
          "output_type": "display_data",
          "data": {
            "text/plain": [
              "plot without title"
            ],
            "image/png": "[encoded data removed]"
          },
          "metadata": {
            "image/png": {
              "width": 420,
              "height": 420
            }
          }
        }
      ]
    },
    {
      "cell_type": "code",
      "source": [
        "# I think this isn't working because there are NA values present\n",
        "hist(airquality)"
      ],
      "metadata": {
        "id": "lNZT8GnMIb0r",
        "colab": {
          "base_uri": "https://localhost:8080/",
          "height": 179
        },
        "outputId": "c580c9c7-e0fe-4736-a490-6adddfbc8af0"
      },
      "execution_count": 3,
      "outputs": [
        {
          "output_type": "error",
          "ename": "ERROR",
          "evalue": "ignored",
          "traceback": [
            "Error in hist.default(airquality): 'x' must be numeric\nTraceback:\n",
            "1. hist(airquality)",
            "2. hist.default(airquality)",
            "3. stop(\"'x' must be numeric\")"
          ]
        }
      ]
    },
    {
      "cell_type": "markdown",
      "source": [
        "## Data Cleaning\n",
        "\n",
        "Normal cleaning and management operations are just as common in R as they are in Python. The most frequent cleaning tasks are:\n",
        "\n",
        "- Identifying and removing duplicate rows.\n",
        "- Normalizing data values.\n",
        "- Finding empty / NULL / `NA` values and determining what to do with them, i.e. deleting, imputing, etc.\n"
      ],
      "metadata": {
        "id": "Y13yIJFXJjnH"
      }
    },
    {
      "cell_type": "code",
      "source": [
        "df <- read.csv(\"https://raw.githubusercontent.com/nmagee/ds1002/main/data/very-messy-data-2.csv\")"
      ],
      "metadata": {
        "id": "7OiaM0XGNMid"
      },
      "execution_count": 4,
      "outputs": []
    },
    {
      "cell_type": "code",
      "source": [
        "# Use str() to get the structure of the data frame:\n",
        "str(df)"
      ],
      "metadata": {
        "id": "Y23IbpvhDorT",
        "colab": {
          "base_uri": "https://localhost:8080/"
        },
        "outputId": "0f6af688-a139-4393-a9fd-b8e3d0e9a5fb"
      },
      "execution_count": 5,
      "outputs": [
        {
          "output_type": "stream",
          "name": "stdout",
          "text": [
            "'data.frame':\t1316 obs. of  6 variables:\n",
            " $ id          : int  1 2 3 4 5 6 7 8 9 10 ...\n",
            " $ sepal_length: num  3.5 3.6 3.8 5.8 4.9 5 4.8 5.5 5.5 NA ...\n",
            " $ sepal_width : num  2.9 3.2 NA 2.7 3.6 2.7 3 2.2 2.9 3.4 ...\n",
            " $ petal_length: num  1.4 3 2.2 2.6 3 1.4 2.6 2.1 1.1 2.6 ...\n",
            " $ petal_width : chr  \"0.5\" \"0.5\" \"1.5\" \"1.2\" ...\n",
            " $ species     : chr  \"virginica\" \"setosa\" \"setosa\" \"virginica\" ...\n"
          ]
        }
      ]
    },
    {
      "cell_type": "code",
      "source": [
        "# Use summary() to get summary data for each attribute, including empty values.\n",
        "summary(df)"
      ],
      "metadata": {
        "id": "rLV1gEWG28a0",
        "colab": {
          "base_uri": "https://localhost:8080/",
          "height": 303
        },
        "outputId": "d9469b6b-0345-45bf-8c3b-d5adef0c8837"
      },
      "execution_count": 6,
      "outputs": [
        {
          "output_type": "display_data",
          "data": {
            "text/plain": [
              "       id          sepal_length   sepal_width     petal_length  \n",
              " Min.   :   1.0   Min.   :3.00   Min.   :2.000   Min.   :1.000  \n",
              " 1st Qu.: 215.0   1st Qu.:3.80   1st Qu.:2.500   1st Qu.:1.500  \n",
              " Median : 379.5   Median :4.60   Median :3.000   Median :2.000  \n",
              " Mean   : 442.4   Mean   :4.53   Mean   :2.993   Mean   :2.005  \n",
              " 3rd Qu.: 671.2   3rd Qu.:5.20   3rd Qu.:3.500   3rd Qu.:2.500  \n",
              " Max.   :1000.0   Max.   :6.00   Max.   :4.000   Max.   :3.000  \n",
              "                  NA's   :72     NA's   :213     NA's   :127    \n",
              " petal_width          species         \n",
              " Length:1316        Length:1316       \n",
              " Class :character   Class :character  \n",
              " Mode  :character   Mode  :character  \n",
              "                                      \n",
              "                                      \n",
              "                                      \n",
              "                                      "
            ]
          },
          "metadata": {}
        }
      ]
    },
    {
      "cell_type": "code",
      "source": [
        "df"
      ],
      "metadata": {
        "id": "S7dl_RUtyJkv",
        "colab": {
          "base_uri": "https://localhost:8080/",
          "height": 1000
        },
        "outputId": "72f393f1-8a98-40d0-c442-14ca929fcc34"
      },
      "execution_count": 7,
      "outputs": [
        {
          "output_type": "display_data",
          "data": {
            "text/html": [
              "<table class=\"dataframe\">\n",
              "<caption>A data.frame: 1316 × 6</caption>\n",
              "<thead>\n",
              "\t<tr><th scope=col>id</th><th scope=col>sepal_length</th><th scope=col>sepal_width</th><th scope=col>petal_length</th><th scope=col>petal_width</th><th scope=col>species</th></tr>\n",
              "\t<tr><th scope=col>&lt;int&gt;</th><th scope=col>&lt;dbl&gt;</th><th scope=col>&lt;dbl&gt;</th><th scope=col>&lt;dbl&gt;</th><th scope=col>&lt;chr&gt;</th><th scope=col>&lt;chr&gt;</th></tr>\n",
              "</thead>\n",
              "<tbody>\n",
              "\t<tr><td> 1</td><td>3.5</td><td>2.9</td><td>1.4</td><td>0.5 </td><td>virginica</td></tr>\n",
              "\t<tr><td> 2</td><td>3.6</td><td>3.2</td><td>3.0</td><td>0.5 </td><td>setosa   </td></tr>\n",
              "\t<tr><td> 3</td><td>3.8</td><td> NA</td><td>2.2</td><td>1.5 </td><td>setosa   </td></tr>\n",
              "\t<tr><td> 4</td><td>5.8</td><td>2.7</td><td>2.6</td><td>1.2 </td><td>virginica</td></tr>\n",
              "\t<tr><td> 5</td><td>4.9</td><td>3.6</td><td>3.0</td><td>1.2 </td><td>virginica</td></tr>\n",
              "\t<tr><td> 6</td><td>5.0</td><td>2.7</td><td>1.4</td><td>2.3 </td><td>setosa   </td></tr>\n",
              "\t<tr><td> 7</td><td>4.8</td><td>3.0</td><td>2.6</td><td>1.4 </td><td>setosa   </td></tr>\n",
              "\t<tr><td> 8</td><td>5.5</td><td>2.2</td><td>2.1</td><td>2.1 </td><td>virginica</td></tr>\n",
              "\t<tr><td> 9</td><td>5.5</td><td>2.9</td><td>1.1</td><td>3   </td><td>setosa   </td></tr>\n",
              "\t<tr><td>10</td><td> NA</td><td>3.4</td><td>2.6</td><td>1.9 </td><td>virginica</td></tr>\n",
              "\t<tr><td>11</td><td>3.7</td><td>2.1</td><td>1.4</td><td>1.3 </td><td>setosa   </td></tr>\n",
              "\t<tr><td>12</td><td> NA</td><td>3.5</td><td>1.6</td><td>gg28</td><td>setosa   </td></tr>\n",
              "\t<tr><td>13</td><td>4.7</td><td>2.0</td><td>1.2</td><td>1.9 </td><td>virginica</td></tr>\n",
              "\t<tr><td>14</td><td>6.0</td><td> NA</td><td>1.1</td><td>2.6 </td><td>virginica</td></tr>\n",
              "\t<tr><td>15</td><td>3.3</td><td>2.7</td><td>2.9</td><td>0.4 </td><td>setosa   </td></tr>\n",
              "\t<tr><td>16</td><td>4.1</td><td>3.5</td><td>1.9</td><td>0.7 </td><td>virginica</td></tr>\n",
              "\t<tr><td>17</td><td>4.6</td><td>2.9</td><td>2.1</td><td>2.6 </td><td>virginica</td></tr>\n",
              "\t<tr><td>18</td><td>3.7</td><td>2.6</td><td>1.3</td><td>0.9 </td><td>setosa   </td></tr>\n",
              "\t<tr><td>19</td><td>5.5</td><td>2.5</td><td>1.8</td><td>1.8 </td><td>virginica</td></tr>\n",
              "\t<tr><td>20</td><td>3.7</td><td>2.4</td><td>1.2</td><td>    </td><td>setosa   </td></tr>\n",
              "\t<tr><td>21</td><td>3.1</td><td>2.4</td><td>1.4</td><td>0.7 </td><td>setosa   </td></tr>\n",
              "\t<tr><td>22</td><td>4.4</td><td>2.1</td><td>2.8</td><td>1.9 </td><td>virginica</td></tr>\n",
              "\t<tr><td>23</td><td>5.7</td><td>3.0</td><td>2.5</td><td>gg29</td><td>setosa   </td></tr>\n",
              "\t<tr><td>24</td><td>5.6</td><td>3.3</td><td>1.2</td><td>0.3 </td><td>virginica</td></tr>\n",
              "\t<tr><td>25</td><td>3.2</td><td>3.3</td><td>2.0</td><td>0.7 </td><td>virginica</td></tr>\n",
              "\t<tr><td>26</td><td>5.0</td><td>3.3</td><td>2.4</td><td>2.2 </td><td>virginica</td></tr>\n",
              "\t<tr><td>27</td><td>3.9</td><td>3.2</td><td>2.7</td><td>0.1 </td><td>setosa   </td></tr>\n",
              "\t<tr><td>28</td><td> NA</td><td>2.2</td><td>1.5</td><td>1.2 </td><td>virginica</td></tr>\n",
              "\t<tr><td>29</td><td>5.8</td><td>2.6</td><td>2.3</td><td>2.3 </td><td>setosa   </td></tr>\n",
              "\t<tr><td>30</td><td>4.7</td><td>3.7</td><td>1.8</td><td>2.7 </td><td>virginica</td></tr>\n",
              "\t<tr><td>⋮</td><td>⋮</td><td>⋮</td><td>⋮</td><td>⋮</td><td>⋮</td></tr>\n",
              "\t<tr><td>387</td><td>4.7</td><td>2.4</td><td>2.3</td><td>1.7</td><td>setosa   </td></tr>\n",
              "\t<tr><td>388</td><td>4.9</td><td>2.1</td><td>1.5</td><td>1.7</td><td>setosa   </td></tr>\n",
              "\t<tr><td>389</td><td>3.6</td><td>3.3</td><td>1.8</td><td>   </td><td>virginica</td></tr>\n",
              "\t<tr><td>390</td><td>5.3</td><td>2.2</td><td>2.0</td><td>2.1</td><td>virginica</td></tr>\n",
              "\t<tr><td>391</td><td>4.5</td><td>3.3</td><td> NA</td><td>2.3</td><td>virginica</td></tr>\n",
              "\t<tr><td>392</td><td>4.1</td><td> NA</td><td>1.8</td><td>0.2</td><td>setosa   </td></tr>\n",
              "\t<tr><td>393</td><td>4.0</td><td>3.0</td><td>1.8</td><td>2.5</td><td>virginica</td></tr>\n",
              "\t<tr><td>394</td><td>4.8</td><td> NA</td><td>1.5</td><td>2  </td><td>virginica</td></tr>\n",
              "\t<tr><td>395</td><td>3.4</td><td>2.8</td><td>3.0</td><td>1  </td><td>setosa   </td></tr>\n",
              "\t<tr><td>396</td><td> NA</td><td>2.9</td><td>1.5</td><td>   </td><td>virginica</td></tr>\n",
              "\t<tr><td>397</td><td>3.9</td><td>2.3</td><td>2.5</td><td>1.4</td><td>setosa   </td></tr>\n",
              "\t<tr><td>398</td><td>4.0</td><td>3.8</td><td>2.9</td><td>0.3</td><td>setosa   </td></tr>\n",
              "\t<tr><td>399</td><td>4.1</td><td>2.8</td><td>1.6</td><td>   </td><td>setosa   </td></tr>\n",
              "\t<tr><td>400</td><td>5.1</td><td> NA</td><td>2.1</td><td>0.9</td><td>virginica</td></tr>\n",
              "\t<tr><td>401</td><td>5.7</td><td>2.7</td><td>2.8</td><td>2.3</td><td>virginica</td></tr>\n",
              "\t<tr><td>402</td><td>5.4</td><td>3.7</td><td> NA</td><td>2.6</td><td>setosa   </td></tr>\n",
              "\t<tr><td>403</td><td>4.7</td><td>2.0</td><td>1.8</td><td>1.6</td><td>setosa   </td></tr>\n",
              "\t<tr><td>404</td><td>4.8</td><td>3.2</td><td>2.9</td><td>0.6</td><td>virginica</td></tr>\n",
              "\t<tr><td>405</td><td>4.9</td><td>4.0</td><td> NA</td><td>0.4</td><td>         </td></tr>\n",
              "\t<tr><td>406</td><td>3.2</td><td> NA</td><td>1.7</td><td>0.8</td><td>setosa   </td></tr>\n",
              "\t<tr><td>407</td><td>3.3</td><td>2.1</td><td>1.8</td><td>1.9</td><td>virginica</td></tr>\n",
              "\t<tr><td>408</td><td>3.2</td><td>3.4</td><td> NA</td><td>0.7</td><td>virginica</td></tr>\n",
              "\t<tr><td>409</td><td>3.3</td><td>3.4</td><td>2.5</td><td>2.5</td><td>virginica</td></tr>\n",
              "\t<tr><td>410</td><td>4.5</td><td>3.4</td><td>1.9</td><td>1.7</td><td>setosa   </td></tr>\n",
              "\t<tr><td>411</td><td>4.8</td><td>2.6</td><td>1.9</td><td>0.9</td><td>setosa   </td></tr>\n",
              "\t<tr><td>412</td><td> NA</td><td>3.6</td><td>2.9</td><td>0.5</td><td>virginica</td></tr>\n",
              "\t<tr><td>413</td><td>5.8</td><td>2.7</td><td>2.0</td><td>0.1</td><td>virginica</td></tr>\n",
              "\t<tr><td>414</td><td>3.3</td><td>3.7</td><td>1.3</td><td>2.8</td><td>setosa   </td></tr>\n",
              "\t<tr><td>415</td><td>3.1</td><td> NA</td><td>1.1</td><td>   </td><td>virginica</td></tr>\n",
              "\t<tr><td>416</td><td>4.3</td><td>2.5</td><td>1.3</td><td>1  </td><td>setosa   </td></tr>\n",
              "</tbody>\n",
              "</table>\n"
            ],
            "text/markdown": "\nA data.frame: 1316 × 6\n\n| id &lt;int&gt; | sepal_length &lt;dbl&gt; | sepal_width &lt;dbl&gt; | petal_length &lt;dbl&gt; | petal_width &lt;chr&gt; | species &lt;chr&gt; |\n|---|---|---|---|---|---|\n|  1 | 3.5 | 2.9 | 1.4 | 0.5  | virginica |\n|  2 | 3.6 | 3.2 | 3.0 | 0.5  | setosa    |\n|  3 | 3.8 |  NA | 2.2 | 1.5  | setosa    |\n|  4 | 5.8 | 2.7 | 2.6 | 1.2  | virginica |\n|  5 | 4.9 | 3.6 | 3.0 | 1.2  | virginica |\n|  6 | 5.0 | 2.7 | 1.4 | 2.3  | setosa    |\n|  7 | 4.8 | 3.0 | 2.6 | 1.4  | setosa    |\n|  8 | 5.5 | 2.2 | 2.1 | 2.1  | virginica |\n|  9 | 5.5 | 2.9 | 1.1 | 3    | setosa    |\n| 10 |  NA | 3.4 | 2.6 | 1.9  | virginica |\n| 11 | 3.7 | 2.1 | 1.4 | 1.3  | setosa    |\n| 12 |  NA | 3.5 | 1.6 | gg28 | setosa    |\n| 13 | 4.7 | 2.0 | 1.2 | 1.9  | virginica |\n| 14 | 6.0 |  NA | 1.1 | 2.6  | virginica |\n| 15 | 3.3 | 2.7 | 2.9 | 0.4  | setosa    |\n| 16 | 4.1 | 3.5 | 1.9 | 0.7  | virginica |\n| 17 | 4.6 | 2.9 | 2.1 | 2.6  | virginica |\n| 18 | 3.7 | 2.6 | 1.3 | 0.9  | setosa    |\n| 19 | 5.5 | 2.5 | 1.8 | 1.8  | virginica |\n| 20 | 3.7 | 2.4 | 1.2 | <!----> | setosa    |\n| 21 | 3.1 | 2.4 | 1.4 | 0.7  | setosa    |\n| 22 | 4.4 | 2.1 | 2.8 | 1.9  | virginica |\n| 23 | 5.7 | 3.0 | 2.5 | gg29 | setosa    |\n| 24 | 5.6 | 3.3 | 1.2 | 0.3  | virginica |\n| 25 | 3.2 | 3.3 | 2.0 | 0.7  | virginica |\n| 26 | 5.0 | 3.3 | 2.4 | 2.2  | virginica |\n| 27 | 3.9 | 3.2 | 2.7 | 0.1  | setosa    |\n| 28 |  NA | 2.2 | 1.5 | 1.2  | virginica |\n| 29 | 5.8 | 2.6 | 2.3 | 2.3  | setosa    |\n| 30 | 4.7 | 3.7 | 1.8 | 2.7  | virginica |\n| ⋮ | ⋮ | ⋮ | ⋮ | ⋮ | ⋮ |\n| 387 | 4.7 | 2.4 | 2.3 | 1.7 | setosa    |\n| 388 | 4.9 | 2.1 | 1.5 | 1.7 | setosa    |\n| 389 | 3.6 | 3.3 | 1.8 | <!----> | virginica |\n| 390 | 5.3 | 2.2 | 2.0 | 2.1 | virginica |\n| 391 | 4.5 | 3.3 |  NA | 2.3 | virginica |\n| 392 | 4.1 |  NA | 1.8 | 0.2 | setosa    |\n| 393 | 4.0 | 3.0 | 1.8 | 2.5 | virginica |\n| 394 | 4.8 |  NA | 1.5 | 2   | virginica |\n| 395 | 3.4 | 2.8 | 3.0 | 1   | setosa    |\n| 396 |  NA | 2.9 | 1.5 | <!----> | virginica |\n| 397 | 3.9 | 2.3 | 2.5 | 1.4 | setosa    |\n| 398 | 4.0 | 3.8 | 2.9 | 0.3 | setosa    |\n| 399 | 4.1 | 2.8 | 1.6 | <!----> | setosa    |\n| 400 | 5.1 |  NA | 2.1 | 0.9 | virginica |\n| 401 | 5.7 | 2.7 | 2.8 | 2.3 | virginica |\n| 402 | 5.4 | 3.7 |  NA | 2.6 | setosa    |\n| 403 | 4.7 | 2.0 | 1.8 | 1.6 | setosa    |\n| 404 | 4.8 | 3.2 | 2.9 | 0.6 | virginica |\n| 405 | 4.9 | 4.0 |  NA | 0.4 | <!----> |\n| 406 | 3.2 |  NA | 1.7 | 0.8 | setosa    |\n| 407 | 3.3 | 2.1 | 1.8 | 1.9 | virginica |\n| 408 | 3.2 | 3.4 |  NA | 0.7 | virginica |\n| 409 | 3.3 | 3.4 | 2.5 | 2.5 | virginica |\n| 410 | 4.5 | 3.4 | 1.9 | 1.7 | setosa    |\n| 411 | 4.8 | 2.6 | 1.9 | 0.9 | setosa    |\n| 412 |  NA | 3.6 | 2.9 | 0.5 | virginica |\n| 413 | 5.8 | 2.7 | 2.0 | 0.1 | virginica |\n| 414 | 3.3 | 3.7 | 1.3 | 2.8 | setosa    |\n| 415 | 3.1 |  NA | 1.1 | <!----> | virginica |\n| 416 | 4.3 | 2.5 | 1.3 | 1   | setosa    |\n\n",
            "text/latex": "A data.frame: 1316 × 6\n\\begin{tabular}{llllll}\n id & sepal\\_length & sepal\\_width & petal\\_length & petal\\_width & species\\\\\n <int> & <dbl> & <dbl> & <dbl> & <chr> & <chr>\\\\\n\\hline\n\t  1 & 3.5 & 2.9 & 1.4 & 0.5  & virginica\\\\\n\t  2 & 3.6 & 3.2 & 3.0 & 0.5  & setosa   \\\\\n\t  3 & 3.8 &  NA & 2.2 & 1.5  & setosa   \\\\\n\t  4 & 5.8 & 2.7 & 2.6 & 1.2  & virginica\\\\\n\t  5 & 4.9 & 3.6 & 3.0 & 1.2  & virginica\\\\\n\t  6 & 5.0 & 2.7 & 1.4 & 2.3  & setosa   \\\\\n\t  7 & 4.8 & 3.0 & 2.6 & 1.4  & setosa   \\\\\n\t  8 & 5.5 & 2.2 & 2.1 & 2.1  & virginica\\\\\n\t  9 & 5.5 & 2.9 & 1.1 & 3    & setosa   \\\\\n\t 10 &  NA & 3.4 & 2.6 & 1.9  & virginica\\\\\n\t 11 & 3.7 & 2.1 & 1.4 & 1.3  & setosa   \\\\\n\t 12 &  NA & 3.5 & 1.6 & gg28 & setosa   \\\\\n\t 13 & 4.7 & 2.0 & 1.2 & 1.9  & virginica\\\\\n\t 14 & 6.0 &  NA & 1.1 & 2.6  & virginica\\\\\n\t 15 & 3.3 & 2.7 & 2.9 & 0.4  & setosa   \\\\\n\t 16 & 4.1 & 3.5 & 1.9 & 0.7  & virginica\\\\\n\t 17 & 4.6 & 2.9 & 2.1 & 2.6  & virginica\\\\\n\t 18 & 3.7 & 2.6 & 1.3 & 0.9  & setosa   \\\\\n\t 19 & 5.5 & 2.5 & 1.8 & 1.8  & virginica\\\\\n\t 20 & 3.7 & 2.4 & 1.2 &      & setosa   \\\\\n\t 21 & 3.1 & 2.4 & 1.4 & 0.7  & setosa   \\\\\n\t 22 & 4.4 & 2.1 & 2.8 & 1.9  & virginica\\\\\n\t 23 & 5.7 & 3.0 & 2.5 & gg29 & setosa   \\\\\n\t 24 & 5.6 & 3.3 & 1.2 & 0.3  & virginica\\\\\n\t 25 & 3.2 & 3.3 & 2.0 & 0.7  & virginica\\\\\n\t 26 & 5.0 & 3.3 & 2.4 & 2.2  & virginica\\\\\n\t 27 & 3.9 & 3.2 & 2.7 & 0.1  & setosa   \\\\\n\t 28 &  NA & 2.2 & 1.5 & 1.2  & virginica\\\\\n\t 29 & 5.8 & 2.6 & 2.3 & 2.3  & setosa   \\\\\n\t 30 & 4.7 & 3.7 & 1.8 & 2.7  & virginica\\\\\n\t ⋮ & ⋮ & ⋮ & ⋮ & ⋮ & ⋮\\\\\n\t 387 & 4.7 & 2.4 & 2.3 & 1.7 & setosa   \\\\\n\t 388 & 4.9 & 2.1 & 1.5 & 1.7 & setosa   \\\\\n\t 389 & 3.6 & 3.3 & 1.8 &     & virginica\\\\\n\t 390 & 5.3 & 2.2 & 2.0 & 2.1 & virginica\\\\\n\t 391 & 4.5 & 3.3 &  NA & 2.3 & virginica\\\\\n\t 392 & 4.1 &  NA & 1.8 & 0.2 & setosa   \\\\\n\t 393 & 4.0 & 3.0 & 1.8 & 2.5 & virginica\\\\\n\t 394 & 4.8 &  NA & 1.5 & 2   & virginica\\\\\n\t 395 & 3.4 & 2.8 & 3.0 & 1   & setosa   \\\\\n\t 396 &  NA & 2.9 & 1.5 &     & virginica\\\\\n\t 397 & 3.9 & 2.3 & 2.5 & 1.4 & setosa   \\\\\n\t 398 & 4.0 & 3.8 & 2.9 & 0.3 & setosa   \\\\\n\t 399 & 4.1 & 2.8 & 1.6 &     & setosa   \\\\\n\t 400 & 5.1 &  NA & 2.1 & 0.9 & virginica\\\\\n\t 401 & 5.7 & 2.7 & 2.8 & 2.3 & virginica\\\\\n\t 402 & 5.4 & 3.7 &  NA & 2.6 & setosa   \\\\\n\t 403 & 4.7 & 2.0 & 1.8 & 1.6 & setosa   \\\\\n\t 404 & 4.8 & 3.2 & 2.9 & 0.6 & virginica\\\\\n\t 405 & 4.9 & 4.0 &  NA & 0.4 &          \\\\\n\t 406 & 3.2 &  NA & 1.7 & 0.8 & setosa   \\\\\n\t 407 & 3.3 & 2.1 & 1.8 & 1.9 & virginica\\\\\n\t 408 & 3.2 & 3.4 &  NA & 0.7 & virginica\\\\\n\t 409 & 3.3 & 3.4 & 2.5 & 2.5 & virginica\\\\\n\t 410 & 4.5 & 3.4 & 1.9 & 1.7 & setosa   \\\\\n\t 411 & 4.8 & 2.6 & 1.9 & 0.9 & setosa   \\\\\n\t 412 &  NA & 3.6 & 2.9 & 0.5 & virginica\\\\\n\t 413 & 5.8 & 2.7 & 2.0 & 0.1 & virginica\\\\\n\t 414 & 3.3 & 3.7 & 1.3 & 2.8 & setosa   \\\\\n\t 415 & 3.1 &  NA & 1.1 &     & virginica\\\\\n\t 416 & 4.3 & 2.5 & 1.3 & 1   & setosa   \\\\\n\\end{tabular}\n",
            "text/plain": [
              "     id  sepal_length sepal_width petal_length petal_width species  \n",
              "1     1  3.5          2.9         1.4          0.5         virginica\n",
              "2     2  3.6          3.2         3.0          0.5         setosa   \n",
              "3     3  3.8           NA         2.2          1.5         setosa   \n",
              "4     4  5.8          2.7         2.6          1.2         virginica\n",
              "5     5  4.9          3.6         3.0          1.2         virginica\n",
              "6     6  5.0          2.7         1.4          2.3         setosa   \n",
              "7     7  4.8          3.0         2.6          1.4         setosa   \n",
              "8     8  5.5          2.2         2.1          2.1         virginica\n",
              "9     9  5.5          2.9         1.1          3           setosa   \n",
              "10   10   NA          3.4         2.6          1.9         virginica\n",
              "11   11  3.7          2.1         1.4          1.3         setosa   \n",
              "12   12   NA          3.5         1.6          gg28        setosa   \n",
              "13   13  4.7          2.0         1.2          1.9         virginica\n",
              "14   14  6.0           NA         1.1          2.6         virginica\n",
              "15   15  3.3          2.7         2.9          0.4         setosa   \n",
              "16   16  4.1          3.5         1.9          0.7         virginica\n",
              "17   17  4.6          2.9         2.1          2.6         virginica\n",
              "18   18  3.7          2.6         1.3          0.9         setosa   \n",
              "19   19  5.5          2.5         1.8          1.8         virginica\n",
              "20   20  3.7          2.4         1.2                      setosa   \n",
              "21   21  3.1          2.4         1.4          0.7         setosa   \n",
              "22   22  4.4          2.1         2.8          1.9         virginica\n",
              "23   23  5.7          3.0         2.5          gg29        setosa   \n",
              "24   24  5.6          3.3         1.2          0.3         virginica\n",
              "25   25  3.2          3.3         2.0          0.7         virginica\n",
              "26   26  5.0          3.3         2.4          2.2         virginica\n",
              "27   27  3.9          3.2         2.7          0.1         setosa   \n",
              "28   28   NA          2.2         1.5          1.2         virginica\n",
              "29   29  5.8          2.6         2.3          2.3         setosa   \n",
              "30   30  4.7          3.7         1.8          2.7         virginica\n",
              "⋮    ⋮   ⋮            ⋮           ⋮            ⋮           ⋮        \n",
              "1287 387 4.7          2.4         2.3          1.7         setosa   \n",
              "1288 388 4.9          2.1         1.5          1.7         setosa   \n",
              "1289 389 3.6          3.3         1.8                      virginica\n",
              "1290 390 5.3          2.2         2.0          2.1         virginica\n",
              "1291 391 4.5          3.3          NA          2.3         virginica\n",
              "1292 392 4.1           NA         1.8          0.2         setosa   \n",
              "1293 393 4.0          3.0         1.8          2.5         virginica\n",
              "1294 394 4.8           NA         1.5          2           virginica\n",
              "1295 395 3.4          2.8         3.0          1           setosa   \n",
              "1296 396  NA          2.9         1.5                      virginica\n",
              "1297 397 3.9          2.3         2.5          1.4         setosa   \n",
              "1298 398 4.0          3.8         2.9          0.3         setosa   \n",
              "1299 399 4.1          2.8         1.6                      setosa   \n",
              "1300 400 5.1           NA         2.1          0.9         virginica\n",
              "1301 401 5.7          2.7         2.8          2.3         virginica\n",
              "1302 402 5.4          3.7          NA          2.6         setosa   \n",
              "1303 403 4.7          2.0         1.8          1.6         setosa   \n",
              "1304 404 4.8          3.2         2.9          0.6         virginica\n",
              "1305 405 4.9          4.0          NA          0.4                  \n",
              "1306 406 3.2           NA         1.7          0.8         setosa   \n",
              "1307 407 3.3          2.1         1.8          1.9         virginica\n",
              "1308 408 3.2          3.4          NA          0.7         virginica\n",
              "1309 409 3.3          3.4         2.5          2.5         virginica\n",
              "1310 410 4.5          3.4         1.9          1.7         setosa   \n",
              "1311 411 4.8          2.6         1.9          0.9         setosa   \n",
              "1312 412  NA          3.6         2.9          0.5         virginica\n",
              "1313 413 5.8          2.7         2.0          0.1         virginica\n",
              "1314 414 3.3          3.7         1.3          2.8         setosa   \n",
              "1315 415 3.1           NA         1.1                      virginica\n",
              "1316 416 4.3          2.5         1.3          1           setosa   "
            ]
          },
          "metadata": {}
        }
      ]
    },
    {
      "cell_type": "markdown",
      "source": [
        "### Duplicate Rows\n",
        "\n",
        "To see how many duplicate rows exist in a data frame:"
      ],
      "metadata": {
        "id": "3jvficLhINMI"
      }
    },
    {
      "cell_type": "code",
      "source": [
        "nrow(df[duplicated(df), ])"
      ],
      "metadata": {
        "id": "eZLsIT5LIQ0s",
        "colab": {
          "base_uri": "https://localhost:8080/",
          "height": 34
        },
        "outputId": "35796a63-787a-47af-836a-619e3c062f9c"
      },
      "execution_count": 8,
      "outputs": [
        {
          "output_type": "display_data",
          "data": {
            "text/html": [
              "316"
            ],
            "text/markdown": "316",
            "text/latex": "316",
            "text/plain": [
              "[1] 316"
            ]
          },
          "metadata": {}
        }
      ]
    },
    {
      "cell_type": "markdown",
      "source": [
        "To remove duplicate rows from a data frame there is a simple one-line command. This will select all NON-duplicated rows from the `df` data frame and pass them into a new data frame named `df2`:"
      ],
      "metadata": {
        "id": "W3uWBP-PJ5kX"
      }
    },
    {
      "cell_type": "code",
      "source": [
        "df2 <- df[!duplicated(df), ]"
      ],
      "metadata": {
        "id": "JQhEDLd3J8--"
      },
      "execution_count": 11,
      "outputs": []
    },
    {
      "cell_type": "code",
      "source": [
        "# or, using dplyr, pass the\n",
        "library(dplyr)\n",
        "df2 <- df %>% distinct()"
      ],
      "metadata": {
        "id": "otf7k58QM28B",
        "colab": {
          "base_uri": "https://localhost:8080/"
        },
        "outputId": "35ca0b3e-3ac6-492c-9928-6e12a5719987"
      },
      "execution_count": 12,
      "outputs": [
        {
          "output_type": "stream",
          "name": "stderr",
          "text": [
            "\n",
            "Attaching package: ‘dplyr’\n",
            "\n",
            "\n",
            "The following objects are masked from ‘package:stats’:\n",
            "\n",
            "    filter, lag\n",
            "\n",
            "\n",
            "The following objects are masked from ‘package:base’:\n",
            "\n",
            "    intersect, setdiff, setequal, union\n",
            "\n",
            "\n"
          ]
        }
      ]
    },
    {
      "cell_type": "markdown",
      "source": [
        "### Look for Irregularities\n",
        "\n",
        "Sometimes a row value will be out of the bounds of expected data values. A good example of this might be a `logical` column where you expect to see `TRUE` and `FALSE`. It's useful to look at a list of the distinct values from a column. Use the `unique()` function to return these."
      ],
      "metadata": {
        "id": "_dgJNtovCLv6"
      }
    },
    {
      "cell_type": "code",
      "source": [
        "# unique() will omit the repeats of numbers or values and only display them once\n",
        "unique(df2$sepal_length)\n",
        "unique(df2$sepal_width)\n",
        "unique(df2$petal_length)\n",
        "unique(df2$petal_width)\n",
        "unique(df2$species)"
      ],
      "metadata": {
        "id": "7CU8EpepCLZI",
        "colab": {
          "base_uri": "https://localhost:8080/",
          "height": 104
        },
        "outputId": "a9f5c0a0-5301-46c3-fbaf-7a9670d57d1c"
      },
      "execution_count": 16,
      "outputs": [
        {
          "output_type": "display_data",
          "data": {
            "text/html": [
              "<style>\n",
              ".list-inline {list-style: none; margin:0; padding: 0}\n",
              ".list-inline>li {display: inline-block}\n",
              ".list-inline>li:not(:last-child)::after {content: \"\\00b7\"; padding: 0 .5ex}\n",
              "</style>\n",
              "<ol class=list-inline><li>3.5</li><li>3.6</li><li>3.8</li><li>5.8</li><li>4.9</li><li>5</li><li>4.8</li><li>5.5</li><li>&lt;NA&gt;</li><li>3.7</li><li>4.7</li><li>6</li><li>3.3</li><li>4.1</li><li>4.6</li><li>3.1</li><li>4.4</li><li>5.7</li><li>5.6</li><li>3.2</li><li>3.9</li><li>5.9</li><li>4</li><li>5.4</li><li>5.3</li><li>5.2</li><li>3</li><li>4.3</li><li>5.1</li><li>4.2</li><li>3.4</li><li>4.5</li></ol>\n"
            ],
            "text/markdown": "1. 3.5\n2. 3.6\n3. 3.8\n4. 5.8\n5. 4.9\n6. 5\n7. 4.8\n8. 5.5\n9. &lt;NA&gt;\n10. 3.7\n11. 4.7\n12. 6\n13. 3.3\n14. 4.1\n15. 4.6\n16. 3.1\n17. 4.4\n18. 5.7\n19. 5.6\n20. 3.2\n21. 3.9\n22. 5.9\n23. 4\n24. 5.4\n25. 5.3\n26. 5.2\n27. 3\n28. 4.3\n29. 5.1\n30. 4.2\n31. 3.4\n32. 4.5\n\n\n",
            "text/latex": "\\begin{enumerate*}\n\\item 3.5\n\\item 3.6\n\\item 3.8\n\\item 5.8\n\\item 4.9\n\\item 5\n\\item 4.8\n\\item 5.5\n\\item <NA>\n\\item 3.7\n\\item 4.7\n\\item 6\n\\item 3.3\n\\item 4.1\n\\item 4.6\n\\item 3.1\n\\item 4.4\n\\item 5.7\n\\item 5.6\n\\item 3.2\n\\item 3.9\n\\item 5.9\n\\item 4\n\\item 5.4\n\\item 5.3\n\\item 5.2\n\\item 3\n\\item 4.3\n\\item 5.1\n\\item 4.2\n\\item 3.4\n\\item 4.5\n\\end{enumerate*}\n",
            "text/plain": [
              " [1] 3.5 3.6 3.8 5.8 4.9 5.0 4.8 5.5  NA 3.7 4.7 6.0 3.3 4.1 4.6 3.1 4.4 5.7 5.6\n",
              "[20] 3.2 3.9 5.9 4.0 5.4 5.3 5.2 3.0 4.3 5.1 4.2 3.4 4.5"
            ]
          },
          "metadata": {}
        },
        {
          "output_type": "display_data",
          "data": {
            "text/html": [
              "<style>\n",
              ".list-inline {list-style: none; margin:0; padding: 0}\n",
              ".list-inline>li {display: inline-block}\n",
              ".list-inline>li:not(:last-child)::after {content: \"\\00b7\"; padding: 0 .5ex}\n",
              "</style>\n",
              "<ol class=list-inline><li>2.9</li><li>3.2</li><li>&lt;NA&gt;</li><li>2.7</li><li>3.6</li><li>3</li><li>2.2</li><li>3.4</li><li>2.1</li><li>3.5</li><li>2</li><li>2.6</li><li>2.5</li><li>2.4</li><li>3.3</li><li>3.7</li><li>3.1</li><li>2.8</li><li>3.8</li><li>4</li><li>3.9</li><li>2.3</li></ol>\n"
            ],
            "text/markdown": "1. 2.9\n2. 3.2\n3. &lt;NA&gt;\n4. 2.7\n5. 3.6\n6. 3\n7. 2.2\n8. 3.4\n9. 2.1\n10. 3.5\n11. 2\n12. 2.6\n13. 2.5\n14. 2.4\n15. 3.3\n16. 3.7\n17. 3.1\n18. 2.8\n19. 3.8\n20. 4\n21. 3.9\n22. 2.3\n\n\n",
            "text/latex": "\\begin{enumerate*}\n\\item 2.9\n\\item 3.2\n\\item <NA>\n\\item 2.7\n\\item 3.6\n\\item 3\n\\item 2.2\n\\item 3.4\n\\item 2.1\n\\item 3.5\n\\item 2\n\\item 2.6\n\\item 2.5\n\\item 2.4\n\\item 3.3\n\\item 3.7\n\\item 3.1\n\\item 2.8\n\\item 3.8\n\\item 4\n\\item 3.9\n\\item 2.3\n\\end{enumerate*}\n",
            "text/plain": [
              " [1] 2.9 3.2  NA 2.7 3.6 3.0 2.2 3.4 2.1 3.5 2.0 2.6 2.5 2.4 3.3 3.7 3.1 2.8 3.8\n",
              "[20] 4.0 3.9 2.3"
            ]
          },
          "metadata": {}
        },
        {
          "output_type": "display_data",
          "data": {
            "text/html": [
              "<style>\n",
              ".list-inline {list-style: none; margin:0; padding: 0}\n",
              ".list-inline>li {display: inline-block}\n",
              ".list-inline>li:not(:last-child)::after {content: \"\\00b7\"; padding: 0 .5ex}\n",
              "</style>\n",
              "<ol class=list-inline><li>1.4</li><li>3</li><li>2.2</li><li>2.6</li><li>2.1</li><li>1.1</li><li>1.6</li><li>1.2</li><li>2.9</li><li>1.9</li><li>1.3</li><li>1.8</li><li>2.8</li><li>2.5</li><li>2</li><li>2.4</li><li>2.7</li><li>1.5</li><li>2.3</li><li>&lt;NA&gt;</li><li>1.7</li><li>1</li></ol>\n"
            ],
            "text/markdown": "1. 1.4\n2. 3\n3. 2.2\n4. 2.6\n5. 2.1\n6. 1.1\n7. 1.6\n8. 1.2\n9. 2.9\n10. 1.9\n11. 1.3\n12. 1.8\n13. 2.8\n14. 2.5\n15. 2\n16. 2.4\n17. 2.7\n18. 1.5\n19. 2.3\n20. &lt;NA&gt;\n21. 1.7\n22. 1\n\n\n",
            "text/latex": "\\begin{enumerate*}\n\\item 1.4\n\\item 3\n\\item 2.2\n\\item 2.6\n\\item 2.1\n\\item 1.1\n\\item 1.6\n\\item 1.2\n\\item 2.9\n\\item 1.9\n\\item 1.3\n\\item 1.8\n\\item 2.8\n\\item 2.5\n\\item 2\n\\item 2.4\n\\item 2.7\n\\item 1.5\n\\item 2.3\n\\item <NA>\n\\item 1.7\n\\item 1\n\\end{enumerate*}\n",
            "text/plain": [
              " [1] 1.4 3.0 2.2 2.6 2.1 1.1 1.6 1.2 2.9 1.9 1.3 1.8 2.8 2.5 2.0 2.4 2.7 1.5 2.3\n",
              "[20]  NA 1.7 1.0"
            ]
          },
          "metadata": {}
        },
        {
          "output_type": "display_data",
          "data": {
            "text/html": [
              "<style>\n",
              ".list-inline {list-style: none; margin:0; padding: 0}\n",
              ".list-inline>li {display: inline-block}\n",
              ".list-inline>li:not(:last-child)::after {content: \"\\00b7\"; padding: 0 .5ex}\n",
              "</style>\n",
              "<ol class=list-inline><li>'0.5'</li><li>'1.5'</li><li>'1.2'</li><li>'2.3'</li><li>'1.4'</li><li>'2.1'</li><li>'3'</li><li>'1.9'</li><li>'1.3'</li><li>'gg28'</li><li>'2.6'</li><li>'0.4'</li><li>'0.7'</li><li>'0.9'</li><li>'1.8'</li><li>''</li><li>'gg29'</li><li>'0.3'</li><li>'2.2'</li><li>'0.1'</li><li>'2.7'</li><li>'2.9'</li><li>'1'</li><li>'1.6'</li><li>'2.4'</li><li>'2'</li><li>'0.6'</li><li>'0.8'</li><li>'2.8'</li><li>'1.1'</li><li>'0.2'</li><li>'1.7'</li><li>'0'</li><li>'2.5'</li></ol>\n"
            ],
            "text/markdown": "1. '0.5'\n2. '1.5'\n3. '1.2'\n4. '2.3'\n5. '1.4'\n6. '2.1'\n7. '3'\n8. '1.9'\n9. '1.3'\n10. 'gg28'\n11. '2.6'\n12. '0.4'\n13. '0.7'\n14. '0.9'\n15. '1.8'\n16. ''\n17. 'gg29'\n18. '0.3'\n19. '2.2'\n20. '0.1'\n21. '2.7'\n22. '2.9'\n23. '1'\n24. '1.6'\n25. '2.4'\n26. '2'\n27. '0.6'\n28. '0.8'\n29. '2.8'\n30. '1.1'\n31. '0.2'\n32. '1.7'\n33. '0'\n34. '2.5'\n\n\n",
            "text/latex": "\\begin{enumerate*}\n\\item '0.5'\n\\item '1.5'\n\\item '1.2'\n\\item '2.3'\n\\item '1.4'\n\\item '2.1'\n\\item '3'\n\\item '1.9'\n\\item '1.3'\n\\item 'gg28'\n\\item '2.6'\n\\item '0.4'\n\\item '0.7'\n\\item '0.9'\n\\item '1.8'\n\\item ''\n\\item 'gg29'\n\\item '0.3'\n\\item '2.2'\n\\item '0.1'\n\\item '2.7'\n\\item '2.9'\n\\item '1'\n\\item '1.6'\n\\item '2.4'\n\\item '2'\n\\item '0.6'\n\\item '0.8'\n\\item '2.8'\n\\item '1.1'\n\\item '0.2'\n\\item '1.7'\n\\item '0'\n\\item '2.5'\n\\end{enumerate*}\n",
            "text/plain": [
              " [1] \"0.5\"  \"1.5\"  \"1.2\"  \"2.3\"  \"1.4\"  \"2.1\"  \"3\"    \"1.9\"  \"1.3\"  \"gg28\"\n",
              "[11] \"2.6\"  \"0.4\"  \"0.7\"  \"0.9\"  \"1.8\"  \"\"     \"gg29\" \"0.3\"  \"2.2\"  \"0.1\" \n",
              "[21] \"2.7\"  \"2.9\"  \"1\"    \"1.6\"  \"2.4\"  \"2\"    \"0.6\"  \"0.8\"  \"2.8\"  \"1.1\" \n",
              "[31] \"0.2\"  \"1.7\"  \"0\"    \"2.5\" "
            ]
          },
          "metadata": {}
        },
        {
          "output_type": "display_data",
          "data": {
            "text/html": [
              "<style>\n",
              ".list-inline {list-style: none; margin:0; padding: 0}\n",
              ".list-inline>li {display: inline-block}\n",
              ".list-inline>li:not(:last-child)::after {content: \"\\00b7\"; padding: 0 .5ex}\n",
              "</style>\n",
              "<ol class=list-inline><li>'virginica'</li><li>'setosa'</li><li>''</li></ol>\n"
            ],
            "text/markdown": "1. 'virginica'\n2. 'setosa'\n3. ''\n\n\n",
            "text/latex": "\\begin{enumerate*}\n\\item 'virginica'\n\\item 'setosa'\n\\item ''\n\\end{enumerate*}\n",
            "text/plain": [
              "[1] \"virginica\" \"setosa\"    \"\"         "
            ]
          },
          "metadata": {}
        }
      ]
    },
    {
      "cell_type": "markdown",
      "source": [
        "### Update Values As Needed\n",
        "\n",
        "To remove or `NA` a specific value within an observation, simply map a new value to a `df` search.\n",
        "\n",
        "Suppose you want to remove \"empty\" values and replace them with `NA`, use this syntax:\n",
        "\n",
        "```\n",
        "df2[df2==\"\"] <- NA\n",
        "```"
      ],
      "metadata": {
        "id": "OtmrntDUEO8l"
      }
    },
    {
      "cell_type": "code",
      "source": [
        "df2[df2==\"gg28\"] <- NA\n",
        "df2[df2==\"gg29\"] <- NA\n",
        "df2[df2==\"\"] <- NA\n",
        "head(df2)"
      ],
      "metadata": {
        "id": "ptD4mthjEnyk",
        "colab": {
          "base_uri": "https://localhost:8080/",
          "height": 286
        },
        "outputId": "429c664b-1789-4589-a4e0-ed5ef13a88c2"
      },
      "execution_count": 18,
      "outputs": [
        {
          "output_type": "display_data",
          "data": {
            "text/html": [
              "<table class=\"dataframe\">\n",
              "<caption>A data.frame: 6 × 6</caption>\n",
              "<thead>\n",
              "\t<tr><th></th><th scope=col>id</th><th scope=col>sepal_length</th><th scope=col>sepal_width</th><th scope=col>petal_length</th><th scope=col>petal_width</th><th scope=col>species</th></tr>\n",
              "\t<tr><th></th><th scope=col>&lt;int&gt;</th><th scope=col>&lt;dbl&gt;</th><th scope=col>&lt;dbl&gt;</th><th scope=col>&lt;dbl&gt;</th><th scope=col>&lt;chr&gt;</th><th scope=col>&lt;chr&gt;</th></tr>\n",
              "</thead>\n",
              "<tbody>\n",
              "\t<tr><th scope=row>1</th><td>1</td><td>3.5</td><td>2.9</td><td>1.4</td><td>0.5</td><td>virginica</td></tr>\n",
              "\t<tr><th scope=row>2</th><td>2</td><td>3.6</td><td>3.2</td><td>3.0</td><td>0.5</td><td>setosa   </td></tr>\n",
              "\t<tr><th scope=row>3</th><td>3</td><td>3.8</td><td> NA</td><td>2.2</td><td>1.5</td><td>setosa   </td></tr>\n",
              "\t<tr><th scope=row>4</th><td>4</td><td>5.8</td><td>2.7</td><td>2.6</td><td>1.2</td><td>virginica</td></tr>\n",
              "\t<tr><th scope=row>5</th><td>5</td><td>4.9</td><td>3.6</td><td>3.0</td><td>1.2</td><td>virginica</td></tr>\n",
              "\t<tr><th scope=row>6</th><td>6</td><td>5.0</td><td>2.7</td><td>1.4</td><td>2.3</td><td>setosa   </td></tr>\n",
              "</tbody>\n",
              "</table>\n"
            ],
            "text/markdown": "\nA data.frame: 6 × 6\n\n| <!--/--> | id &lt;int&gt; | sepal_length &lt;dbl&gt; | sepal_width &lt;dbl&gt; | petal_length &lt;dbl&gt; | petal_width &lt;chr&gt; | species &lt;chr&gt; |\n|---|---|---|---|---|---|---|\n| 1 | 1 | 3.5 | 2.9 | 1.4 | 0.5 | virginica |\n| 2 | 2 | 3.6 | 3.2 | 3.0 | 0.5 | setosa    |\n| 3 | 3 | 3.8 |  NA | 2.2 | 1.5 | setosa    |\n| 4 | 4 | 5.8 | 2.7 | 2.6 | 1.2 | virginica |\n| 5 | 5 | 4.9 | 3.6 | 3.0 | 1.2 | virginica |\n| 6 | 6 | 5.0 | 2.7 | 1.4 | 2.3 | setosa    |\n\n",
            "text/latex": "A data.frame: 6 × 6\n\\begin{tabular}{r|llllll}\n  & id & sepal\\_length & sepal\\_width & petal\\_length & petal\\_width & species\\\\\n  & <int> & <dbl> & <dbl> & <dbl> & <chr> & <chr>\\\\\n\\hline\n\t1 & 1 & 3.5 & 2.9 & 1.4 & 0.5 & virginica\\\\\n\t2 & 2 & 3.6 & 3.2 & 3.0 & 0.5 & setosa   \\\\\n\t3 & 3 & 3.8 &  NA & 2.2 & 1.5 & setosa   \\\\\n\t4 & 4 & 5.8 & 2.7 & 2.6 & 1.2 & virginica\\\\\n\t5 & 5 & 4.9 & 3.6 & 3.0 & 1.2 & virginica\\\\\n\t6 & 6 & 5.0 & 2.7 & 1.4 & 2.3 & setosa   \\\\\n\\end{tabular}\n",
            "text/plain": [
              "  id sepal_length sepal_width petal_length petal_width species  \n",
              "1 1  3.5          2.9         1.4          0.5         virginica\n",
              "2 2  3.6          3.2         3.0          0.5         setosa   \n",
              "3 3  3.8           NA         2.2          1.5         setosa   \n",
              "4 4  5.8          2.7         2.6          1.2         virginica\n",
              "5 5  4.9          3.6         3.0          1.2         virginica\n",
              "6 6  5.0          2.7         1.4          2.3         setosa   "
            ]
          },
          "metadata": {}
        }
      ]
    },
    {
      "cell_type": "code",
      "source": [
        "petal_width_numeric <- as.numeric(df2$petal_width)\n",
        "typeof(petal_width_numeric)"
      ],
      "metadata": {
        "colab": {
          "base_uri": "https://localhost:8080/",
          "height": 34
        },
        "id": "cM79PPhhT3Cu",
        "outputId": "60678a49-e8be-4b5c-ba5d-5873fb360313"
      },
      "execution_count": 22,
      "outputs": [
        {
          "output_type": "display_data",
          "data": {
            "text/html": [
              "'double'"
            ],
            "text/markdown": "'double'",
            "text/latex": "'double'",
            "text/plain": [
              "[1] \"double\""
            ]
          },
          "metadata": {}
        }
      ]
    },
    {
      "cell_type": "code",
      "source": [
        "df2$petal_width <- petal_width_numeric\n",
        "head(df2)"
      ],
      "metadata": {
        "colab": {
          "base_uri": "https://localhost:8080/",
          "height": 286
        },
        "id": "mQrvG96wUTY_",
        "outputId": "577a00e8-271b-476d-b03f-c6c57fcb457c"
      },
      "execution_count": 25,
      "outputs": [
        {
          "output_type": "display_data",
          "data": {
            "text/html": [
              "<table class=\"dataframe\">\n",
              "<caption>A data.frame: 6 × 6</caption>\n",
              "<thead>\n",
              "\t<tr><th></th><th scope=col>id</th><th scope=col>sepal_length</th><th scope=col>sepal_width</th><th scope=col>petal_length</th><th scope=col>petal_width</th><th scope=col>species</th></tr>\n",
              "\t<tr><th></th><th scope=col>&lt;int&gt;</th><th scope=col>&lt;dbl&gt;</th><th scope=col>&lt;dbl&gt;</th><th scope=col>&lt;dbl&gt;</th><th scope=col>&lt;dbl&gt;</th><th scope=col>&lt;chr&gt;</th></tr>\n",
              "</thead>\n",
              "<tbody>\n",
              "\t<tr><th scope=row>1</th><td>1</td><td>3.5</td><td>2.9</td><td>1.4</td><td>0.5</td><td>virginica</td></tr>\n",
              "\t<tr><th scope=row>2</th><td>2</td><td>3.6</td><td>3.2</td><td>3.0</td><td>0.5</td><td>setosa   </td></tr>\n",
              "\t<tr><th scope=row>3</th><td>3</td><td>3.8</td><td> NA</td><td>2.2</td><td>1.5</td><td>setosa   </td></tr>\n",
              "\t<tr><th scope=row>4</th><td>4</td><td>5.8</td><td>2.7</td><td>2.6</td><td>1.2</td><td>virginica</td></tr>\n",
              "\t<tr><th scope=row>5</th><td>5</td><td>4.9</td><td>3.6</td><td>3.0</td><td>1.2</td><td>virginica</td></tr>\n",
              "\t<tr><th scope=row>6</th><td>6</td><td>5.0</td><td>2.7</td><td>1.4</td><td>2.3</td><td>setosa   </td></tr>\n",
              "</tbody>\n",
              "</table>\n"
            ],
            "text/markdown": "\nA data.frame: 6 × 6\n\n| <!--/--> | id &lt;int&gt; | sepal_length &lt;dbl&gt; | sepal_width &lt;dbl&gt; | petal_length &lt;dbl&gt; | petal_width &lt;dbl&gt; | species &lt;chr&gt; |\n|---|---|---|---|---|---|---|\n| 1 | 1 | 3.5 | 2.9 | 1.4 | 0.5 | virginica |\n| 2 | 2 | 3.6 | 3.2 | 3.0 | 0.5 | setosa    |\n| 3 | 3 | 3.8 |  NA | 2.2 | 1.5 | setosa    |\n| 4 | 4 | 5.8 | 2.7 | 2.6 | 1.2 | virginica |\n| 5 | 5 | 4.9 | 3.6 | 3.0 | 1.2 | virginica |\n| 6 | 6 | 5.0 | 2.7 | 1.4 | 2.3 | setosa    |\n\n",
            "text/latex": "A data.frame: 6 × 6\n\\begin{tabular}{r|llllll}\n  & id & sepal\\_length & sepal\\_width & petal\\_length & petal\\_width & species\\\\\n  & <int> & <dbl> & <dbl> & <dbl> & <dbl> & <chr>\\\\\n\\hline\n\t1 & 1 & 3.5 & 2.9 & 1.4 & 0.5 & virginica\\\\\n\t2 & 2 & 3.6 & 3.2 & 3.0 & 0.5 & setosa   \\\\\n\t3 & 3 & 3.8 &  NA & 2.2 & 1.5 & setosa   \\\\\n\t4 & 4 & 5.8 & 2.7 & 2.6 & 1.2 & virginica\\\\\n\t5 & 5 & 4.9 & 3.6 & 3.0 & 1.2 & virginica\\\\\n\t6 & 6 & 5.0 & 2.7 & 1.4 & 2.3 & setosa   \\\\\n\\end{tabular}\n",
            "text/plain": [
              "  id sepal_length sepal_width petal_length petal_width species  \n",
              "1 1  3.5          2.9         1.4          0.5         virginica\n",
              "2 2  3.6          3.2         3.0          0.5         setosa   \n",
              "3 3  3.8           NA         2.2          1.5         setosa   \n",
              "4 4  5.8          2.7         2.6          1.2         virginica\n",
              "5 5  4.9          3.6         3.0          1.2         virginica\n",
              "6 6  5.0          2.7         1.4          2.3         setosa   "
            ]
          },
          "metadata": {}
        }
      ]
    },
    {
      "cell_type": "markdown",
      "source": [
        "The above method is useful whenever you need to push a replacement value into specific cells."
      ],
      "metadata": {
        "id": "CAHCu7zayHnj"
      }
    },
    {
      "cell_type": "markdown",
      "source": [
        "### Remove Rows with `NA` values\n",
        "\n",
        "A simple way to do this is to extract only valid data out of the data frame with the `na.omit` method:\n",
        "\n",
        "**This is a destructive action!**"
      ],
      "metadata": {
        "id": "s6WvxPKhNqUz"
      }
    },
    {
      "cell_type": "code",
      "source": [
        "df_no_empty <- na.omit(df)\n",
        "str(df_no_empty)"
      ],
      "metadata": {
        "id": "Y-2QsnGONqEv",
        "colab": {
          "base_uri": "https://localhost:8080/"
        },
        "outputId": "25f43b81-513c-49b8-f5e0-0b5333a44aaa"
      },
      "execution_count": 26,
      "outputs": [
        {
          "output_type": "stream",
          "name": "stdout",
          "text": [
            "'data.frame':\t942 obs. of  6 variables:\n",
            " $ id          : int  1 2 4 5 6 7 8 9 11 13 ...\n",
            " $ sepal_length: num  3.5 3.6 5.8 4.9 5 4.8 5.5 5.5 3.7 4.7 ...\n",
            " $ sepal_width : num  2.9 3.2 2.7 3.6 2.7 3 2.2 2.9 2.1 2 ...\n",
            " $ petal_length: num  1.4 3 2.6 3 1.4 2.6 2.1 1.1 1.4 1.2 ...\n",
            " $ petal_width : chr  \"0.5\" \"0.5\" \"1.2\" \"1.2\" ...\n",
            " $ species     : chr  \"virginica\" \"setosa\" \"virginica\" \"virginica\" ...\n",
            " - attr(*, \"na.action\")= 'omit' Named int [1:374] 3 10 12 14 28 32 35 43 51 54 ...\n",
            "  ..- attr(*, \"names\")= chr [1:374] \"3\" \"10\" \"12\" \"14\" ...\n"
          ]
        }
      ]
    },
    {
      "cell_type": "code",
      "source": [
        "# Two other methods to achieve this:\n",
        "\n",
        "#Remove rows with NA's using complete.cases\n",
        "df <- df[complete.cases(df), ]\n",
        "\n",
        "#Remove rows with NA's using rowSums()\n",
        "df <- df[rowSums(is.na(df)) == 0, ]\n",
        "\n",
        "# Or with the tidyverse library\n",
        "#Remove rows with NA's using drop_na()\n",
        "library(\"tidyr\")\n",
        "df <- df %>% drop_na()"
      ],
      "metadata": {
        "id": "8MqVoIinOPR-"
      },
      "execution_count": null,
      "outputs": []
    },
    {
      "cell_type": "markdown",
      "source": [
        "### Imputate Missing Data\n",
        "\n",
        "The question surrounding imputation is WHAT to replace `NA` values with. This question is a data/statistical one and should not be treated lightly. The answer can throw off results greatly.\n",
        "\n",
        "Because R is a statistical language, getting statistical data values for a column, such as `mean` or `sum` is simple:"
      ],
      "metadata": {
        "id": "s_Afm57POv94"
      }
    },
    {
      "cell_type": "code",
      "source": [
        "nums <- c(4.14,8.26,14.84,18.6,7,11.9)"
      ],
      "metadata": {
        "id": "fREWyUSBL-Zd"
      },
      "execution_count": 27,
      "outputs": []
    },
    {
      "cell_type": "code",
      "source": [
        "mean(nums)"
      ],
      "metadata": {
        "id": "-iEf1OYAMdw-",
        "colab": {
          "base_uri": "https://localhost:8080/",
          "height": 34
        },
        "outputId": "ee74a21b-b549-47c6-c463-5ddfc899b8e1"
      },
      "execution_count": 28,
      "outputs": [
        {
          "output_type": "display_data",
          "data": {
            "text/html": [
              "10.79"
            ],
            "text/markdown": "10.79",
            "text/latex": "10.79",
            "text/plain": [
              "[1] 10.79"
            ]
          },
          "metadata": {}
        }
      ]
    },
    {
      "cell_type": "code",
      "source": [
        "sum(nums)"
      ],
      "metadata": {
        "colab": {
          "base_uri": "https://localhost:8080/",
          "height": 34
        },
        "id": "RRLLg7Z9VKav",
        "outputId": "ef5edaf0-9707-488f-c70b-e2573cca4395"
      },
      "execution_count": 29,
      "outputs": [
        {
          "output_type": "display_data",
          "data": {
            "text/html": [
              "64.74"
            ],
            "text/markdown": "64.74",
            "text/latex": "64.74",
            "text/plain": [
              "[1] 64.74"
            ]
          },
          "metadata": {}
        }
      ]
    },
    {
      "cell_type": "markdown",
      "source": [
        "With that caveat in mind, here is the method for imputing missing values and replacing them with the mean of the rest of the data.\n",
        "\n",
        "The R below will update the sepal and petal columns by replacing empty values with the mean of the valid values within each column."
      ],
      "metadata": {
        "id": "AOrWfY6jMOdY"
      }
    },
    {
      "cell_type": "code",
      "source": [
        "df2$sepal_length[is.na(df2$sepal_length)] <- mean(df2$sepal_length, na.rm = T)\n",
        "df2$sepal_width[is.na(df2$sepal_width)] <- mean(df2$sepal_width, na.rm = T)\n",
        "df2$petal_length[is.na(df2$petal_length)] <- mean(df2$petal_length, na.rm = T)\n",
        "df2$petal_width[is.na(df2$petal_width)] <- mean(df2$petal_width, na.rm = T)\n",
        "\n",
        "df2"
      ],
      "metadata": {
        "id": "V0wiEKJQPOMY",
        "colab": {
          "base_uri": "https://localhost:8080/",
          "height": 1000
        },
        "outputId": "d110ecec-e35a-4196-e02e-a69d4cef4839"
      },
      "execution_count": 30,
      "outputs": [
        {
          "output_type": "display_data",
          "data": {
            "text/html": [
              "<table class=\"dataframe\">\n",
              "<caption>A data.frame: 1000 × 6</caption>\n",
              "<thead>\n",
              "\t<tr><th scope=col>id</th><th scope=col>sepal_length</th><th scope=col>sepal_width</th><th scope=col>petal_length</th><th scope=col>petal_width</th><th scope=col>species</th></tr>\n",
              "\t<tr><th scope=col>&lt;int&gt;</th><th scope=col>&lt;dbl&gt;</th><th scope=col>&lt;dbl&gt;</th><th scope=col>&lt;dbl&gt;</th><th scope=col>&lt;dbl&gt;</th><th scope=col>&lt;chr&gt;</th></tr>\n",
              "</thead>\n",
              "<tbody>\n",
              "\t<tr><td> 1</td><td>3.500</td><td>2.900000</td><td>1.4</td><td>0.500000</td><td>virginica</td></tr>\n",
              "\t<tr><td> 2</td><td>3.600</td><td>3.200000</td><td>3.0</td><td>0.500000</td><td>setosa   </td></tr>\n",
              "\t<tr><td> 3</td><td>3.800</td><td>2.987694</td><td>2.2</td><td>1.500000</td><td>setosa   </td></tr>\n",
              "\t<tr><td> 4</td><td>5.800</td><td>2.700000</td><td>2.6</td><td>1.200000</td><td>virginica</td></tr>\n",
              "\t<tr><td> 5</td><td>4.900</td><td>3.600000</td><td>3.0</td><td>1.200000</td><td>virginica</td></tr>\n",
              "\t<tr><td> 6</td><td>5.000</td><td>2.700000</td><td>1.4</td><td>2.300000</td><td>setosa   </td></tr>\n",
              "\t<tr><td> 7</td><td>4.800</td><td>3.000000</td><td>2.6</td><td>1.400000</td><td>setosa   </td></tr>\n",
              "\t<tr><td> 8</td><td>5.500</td><td>2.200000</td><td>2.1</td><td>2.100000</td><td>virginica</td></tr>\n",
              "\t<tr><td> 9</td><td>5.500</td><td>2.900000</td><td>1.1</td><td>3.000000</td><td>setosa   </td></tr>\n",
              "\t<tr><td>10</td><td>4.525</td><td>3.400000</td><td>2.6</td><td>1.900000</td><td>virginica</td></tr>\n",
              "\t<tr><td>11</td><td>3.700</td><td>2.100000</td><td>1.4</td><td>1.300000</td><td>setosa   </td></tr>\n",
              "\t<tr><td>12</td><td>4.525</td><td>3.500000</td><td>1.6</td><td>1.560586</td><td>setosa   </td></tr>\n",
              "\t<tr><td>13</td><td>4.700</td><td>2.000000</td><td>1.2</td><td>1.900000</td><td>virginica</td></tr>\n",
              "\t<tr><td>14</td><td>6.000</td><td>2.987694</td><td>1.1</td><td>2.600000</td><td>virginica</td></tr>\n",
              "\t<tr><td>15</td><td>3.300</td><td>2.700000</td><td>2.9</td><td>0.400000</td><td>setosa   </td></tr>\n",
              "\t<tr><td>16</td><td>4.100</td><td>3.500000</td><td>1.9</td><td>0.700000</td><td>virginica</td></tr>\n",
              "\t<tr><td>17</td><td>4.600</td><td>2.900000</td><td>2.1</td><td>2.600000</td><td>virginica</td></tr>\n",
              "\t<tr><td>18</td><td>3.700</td><td>2.600000</td><td>1.3</td><td>0.900000</td><td>setosa   </td></tr>\n",
              "\t<tr><td>19</td><td>5.500</td><td>2.500000</td><td>1.8</td><td>1.800000</td><td>virginica</td></tr>\n",
              "\t<tr><td>20</td><td>3.700</td><td>2.400000</td><td>1.2</td><td>1.560586</td><td>setosa   </td></tr>\n",
              "\t<tr><td>21</td><td>3.100</td><td>2.400000</td><td>1.4</td><td>0.700000</td><td>setosa   </td></tr>\n",
              "\t<tr><td>22</td><td>4.400</td><td>2.100000</td><td>2.8</td><td>1.900000</td><td>virginica</td></tr>\n",
              "\t<tr><td>23</td><td>5.700</td><td>3.000000</td><td>2.5</td><td>1.560586</td><td>setosa   </td></tr>\n",
              "\t<tr><td>24</td><td>5.600</td><td>3.300000</td><td>1.2</td><td>0.300000</td><td>virginica</td></tr>\n",
              "\t<tr><td>25</td><td>3.200</td><td>3.300000</td><td>2.0</td><td>0.700000</td><td>virginica</td></tr>\n",
              "\t<tr><td>26</td><td>5.000</td><td>3.300000</td><td>2.4</td><td>2.200000</td><td>virginica</td></tr>\n",
              "\t<tr><td>27</td><td>3.900</td><td>3.200000</td><td>2.7</td><td>0.100000</td><td>setosa   </td></tr>\n",
              "\t<tr><td>28</td><td>4.525</td><td>2.200000</td><td>1.5</td><td>1.200000</td><td>virginica</td></tr>\n",
              "\t<tr><td>29</td><td>5.800</td><td>2.600000</td><td>2.3</td><td>2.300000</td><td>setosa   </td></tr>\n",
              "\t<tr><td>30</td><td>4.700</td><td>3.700000</td><td>1.8</td><td>2.700000</td><td>virginica</td></tr>\n",
              "\t<tr><td>⋮</td><td>⋮</td><td>⋮</td><td>⋮</td><td>⋮</td><td>⋮</td></tr>\n",
              "\t<tr><td> 971</td><td>3.400</td><td>3.500000</td><td>2.800000</td><td>2.500000</td><td>NA       </td></tr>\n",
              "\t<tr><td> 972</td><td>4.300</td><td>2.700000</td><td>1.600000</td><td>0.000000</td><td>setosa   </td></tr>\n",
              "\t<tr><td> 973</td><td>3.700</td><td>2.987694</td><td>2.300000</td><td>0.600000</td><td>virginica</td></tr>\n",
              "\t<tr><td> 974</td><td>3.900</td><td>3.600000</td><td>2.300000</td><td>1.560586</td><td>setosa   </td></tr>\n",
              "\t<tr><td> 975</td><td>3.800</td><td>2.400000</td><td>3.000000</td><td>2.500000</td><td>virginica</td></tr>\n",
              "\t<tr><td> 976</td><td>3.100</td><td>4.000000</td><td>2.000442</td><td>0.600000</td><td>setosa   </td></tr>\n",
              "\t<tr><td> 977</td><td>3.400</td><td>3.700000</td><td>3.000000</td><td>3.000000</td><td>setosa   </td></tr>\n",
              "\t<tr><td> 978</td><td>4.800</td><td>3.300000</td><td>2.000000</td><td>0.900000</td><td>virginica</td></tr>\n",
              "\t<tr><td> 979</td><td>4.525</td><td>2.600000</td><td>1.400000</td><td>1.300000</td><td>virginica</td></tr>\n",
              "\t<tr><td> 980</td><td>5.700</td><td>2.987694</td><td>2.600000</td><td>0.600000</td><td>virginica</td></tr>\n",
              "\t<tr><td> 981</td><td>3.600</td><td>2.600000</td><td>2.300000</td><td>0.900000</td><td>virginica</td></tr>\n",
              "\t<tr><td> 982</td><td>4.000</td><td>2.600000</td><td>1.900000</td><td>1.560586</td><td>setosa   </td></tr>\n",
              "\t<tr><td> 983</td><td>4.500</td><td>2.987694</td><td>2.000000</td><td>0.300000</td><td>setosa   </td></tr>\n",
              "\t<tr><td> 984</td><td>5.900</td><td>2.400000</td><td>1.100000</td><td>2.300000</td><td>setosa   </td></tr>\n",
              "\t<tr><td> 985</td><td>3.300</td><td>2.400000</td><td>1.600000</td><td>2.800000</td><td>setosa   </td></tr>\n",
              "\t<tr><td> 986</td><td>4.600</td><td>3.900000</td><td>2.400000</td><td>1.800000</td><td>setosa   </td></tr>\n",
              "\t<tr><td> 987</td><td>3.200</td><td>2.800000</td><td>1.500000</td><td>2.900000</td><td>setosa   </td></tr>\n",
              "\t<tr><td> 988</td><td>4.800</td><td>2.987694</td><td>2.500000</td><td>2.100000</td><td>virginica</td></tr>\n",
              "\t<tr><td> 989</td><td>5.500</td><td>2.600000</td><td>2.600000</td><td>0.500000</td><td>setosa   </td></tr>\n",
              "\t<tr><td> 990</td><td>3.800</td><td>3.600000</td><td>1.400000</td><td>0.600000</td><td>virginica</td></tr>\n",
              "\t<tr><td> 991</td><td>3.600</td><td>2.987694</td><td>2.100000</td><td>2.900000</td><td>setosa   </td></tr>\n",
              "\t<tr><td> 992</td><td>3.700</td><td>2.500000</td><td>2.600000</td><td>2.800000</td><td>virginica</td></tr>\n",
              "\t<tr><td> 993</td><td>3.200</td><td>2.400000</td><td>2.000442</td><td>1.200000</td><td>virginica</td></tr>\n",
              "\t<tr><td> 994</td><td>4.500</td><td>3.700000</td><td>1.200000</td><td>0.300000</td><td>virginica</td></tr>\n",
              "\t<tr><td> 995</td><td>4.000</td><td>2.900000</td><td>1.000000</td><td>0.200000</td><td>virginica</td></tr>\n",
              "\t<tr><td> 996</td><td>4.500</td><td>3.600000</td><td>2.000442</td><td>2.700000</td><td>setosa   </td></tr>\n",
              "\t<tr><td> 997</td><td>4.000</td><td>2.100000</td><td>2.000442</td><td>2.100000</td><td>setosa   </td></tr>\n",
              "\t<tr><td> 998</td><td>5.900</td><td>2.500000</td><td>2.100000</td><td>2.500000</td><td>virginica</td></tr>\n",
              "\t<tr><td> 999</td><td>5.000</td><td>2.600000</td><td>1.900000</td><td>1.560586</td><td>NA       </td></tr>\n",
              "\t<tr><td>1000</td><td>3.400</td><td>3.900000</td><td>1.900000</td><td>1.500000</td><td>setosa   </td></tr>\n",
              "</tbody>\n",
              "</table>\n"
            ],
            "text/markdown": "\nA data.frame: 1000 × 6\n\n| id &lt;int&gt; | sepal_length &lt;dbl&gt; | sepal_width &lt;dbl&gt; | petal_length &lt;dbl&gt; | petal_width &lt;dbl&gt; | species &lt;chr&gt; |\n|---|---|---|---|---|---|\n|  1 | 3.500 | 2.900000 | 1.4 | 0.500000 | virginica |\n|  2 | 3.600 | 3.200000 | 3.0 | 0.500000 | setosa    |\n|  3 | 3.800 | 2.987694 | 2.2 | 1.500000 | setosa    |\n|  4 | 5.800 | 2.700000 | 2.6 | 1.200000 | virginica |\n|  5 | 4.900 | 3.600000 | 3.0 | 1.200000 | virginica |\n|  6 | 5.000 | 2.700000 | 1.4 | 2.300000 | setosa    |\n|  7 | 4.800 | 3.000000 | 2.6 | 1.400000 | setosa    |\n|  8 | 5.500 | 2.200000 | 2.1 | 2.100000 | virginica |\n|  9 | 5.500 | 2.900000 | 1.1 | 3.000000 | setosa    |\n| 10 | 4.525 | 3.400000 | 2.6 | 1.900000 | virginica |\n| 11 | 3.700 | 2.100000 | 1.4 | 1.300000 | setosa    |\n| 12 | 4.525 | 3.500000 | 1.6 | 1.560586 | setosa    |\n| 13 | 4.700 | 2.000000 | 1.2 | 1.900000 | virginica |\n| 14 | 6.000 | 2.987694 | 1.1 | 2.600000 | virginica |\n| 15 | 3.300 | 2.700000 | 2.9 | 0.400000 | setosa    |\n| 16 | 4.100 | 3.500000 | 1.9 | 0.700000 | virginica |\n| 17 | 4.600 | 2.900000 | 2.1 | 2.600000 | virginica |\n| 18 | 3.700 | 2.600000 | 1.3 | 0.900000 | setosa    |\n| 19 | 5.500 | 2.500000 | 1.8 | 1.800000 | virginica |\n| 20 | 3.700 | 2.400000 | 1.2 | 1.560586 | setosa    |\n| 21 | 3.100 | 2.400000 | 1.4 | 0.700000 | setosa    |\n| 22 | 4.400 | 2.100000 | 2.8 | 1.900000 | virginica |\n| 23 | 5.700 | 3.000000 | 2.5 | 1.560586 | setosa    |\n| 24 | 5.600 | 3.300000 | 1.2 | 0.300000 | virginica |\n| 25 | 3.200 | 3.300000 | 2.0 | 0.700000 | virginica |\n| 26 | 5.000 | 3.300000 | 2.4 | 2.200000 | virginica |\n| 27 | 3.900 | 3.200000 | 2.7 | 0.100000 | setosa    |\n| 28 | 4.525 | 2.200000 | 1.5 | 1.200000 | virginica |\n| 29 | 5.800 | 2.600000 | 2.3 | 2.300000 | setosa    |\n| 30 | 4.700 | 3.700000 | 1.8 | 2.700000 | virginica |\n| ⋮ | ⋮ | ⋮ | ⋮ | ⋮ | ⋮ |\n|  971 | 3.400 | 3.500000 | 2.800000 | 2.500000 | NA        |\n|  972 | 4.300 | 2.700000 | 1.600000 | 0.000000 | setosa    |\n|  973 | 3.700 | 2.987694 | 2.300000 | 0.600000 | virginica |\n|  974 | 3.900 | 3.600000 | 2.300000 | 1.560586 | setosa    |\n|  975 | 3.800 | 2.400000 | 3.000000 | 2.500000 | virginica |\n|  976 | 3.100 | 4.000000 | 2.000442 | 0.600000 | setosa    |\n|  977 | 3.400 | 3.700000 | 3.000000 | 3.000000 | setosa    |\n|  978 | 4.800 | 3.300000 | 2.000000 | 0.900000 | virginica |\n|  979 | 4.525 | 2.600000 | 1.400000 | 1.300000 | virginica |\n|  980 | 5.700 | 2.987694 | 2.600000 | 0.600000 | virginica |\n|  981 | 3.600 | 2.600000 | 2.300000 | 0.900000 | virginica |\n|  982 | 4.000 | 2.600000 | 1.900000 | 1.560586 | setosa    |\n|  983 | 4.500 | 2.987694 | 2.000000 | 0.300000 | setosa    |\n|  984 | 5.900 | 2.400000 | 1.100000 | 2.300000 | setosa    |\n|  985 | 3.300 | 2.400000 | 1.600000 | 2.800000 | setosa    |\n|  986 | 4.600 | 3.900000 | 2.400000 | 1.800000 | setosa    |\n|  987 | 3.200 | 2.800000 | 1.500000 | 2.900000 | setosa    |\n|  988 | 4.800 | 2.987694 | 2.500000 | 2.100000 | virginica |\n|  989 | 5.500 | 2.600000 | 2.600000 | 0.500000 | setosa    |\n|  990 | 3.800 | 3.600000 | 1.400000 | 0.600000 | virginica |\n|  991 | 3.600 | 2.987694 | 2.100000 | 2.900000 | setosa    |\n|  992 | 3.700 | 2.500000 | 2.600000 | 2.800000 | virginica |\n|  993 | 3.200 | 2.400000 | 2.000442 | 1.200000 | virginica |\n|  994 | 4.500 | 3.700000 | 1.200000 | 0.300000 | virginica |\n|  995 | 4.000 | 2.900000 | 1.000000 | 0.200000 | virginica |\n|  996 | 4.500 | 3.600000 | 2.000442 | 2.700000 | setosa    |\n|  997 | 4.000 | 2.100000 | 2.000442 | 2.100000 | setosa    |\n|  998 | 5.900 | 2.500000 | 2.100000 | 2.500000 | virginica |\n|  999 | 5.000 | 2.600000 | 1.900000 | 1.560586 | NA        |\n| 1000 | 3.400 | 3.900000 | 1.900000 | 1.500000 | setosa    |\n\n",
            "text/latex": "A data.frame: 1000 × 6\n\\begin{tabular}{llllll}\n id & sepal\\_length & sepal\\_width & petal\\_length & petal\\_width & species\\\\\n <int> & <dbl> & <dbl> & <dbl> & <dbl> & <chr>\\\\\n\\hline\n\t  1 & 3.500 & 2.900000 & 1.4 & 0.500000 & virginica\\\\\n\t  2 & 3.600 & 3.200000 & 3.0 & 0.500000 & setosa   \\\\\n\t  3 & 3.800 & 2.987694 & 2.2 & 1.500000 & setosa   \\\\\n\t  4 & 5.800 & 2.700000 & 2.6 & 1.200000 & virginica\\\\\n\t  5 & 4.900 & 3.600000 & 3.0 & 1.200000 & virginica\\\\\n\t  6 & 5.000 & 2.700000 & 1.4 & 2.300000 & setosa   \\\\\n\t  7 & 4.800 & 3.000000 & 2.6 & 1.400000 & setosa   \\\\\n\t  8 & 5.500 & 2.200000 & 2.1 & 2.100000 & virginica\\\\\n\t  9 & 5.500 & 2.900000 & 1.1 & 3.000000 & setosa   \\\\\n\t 10 & 4.525 & 3.400000 & 2.6 & 1.900000 & virginica\\\\\n\t 11 & 3.700 & 2.100000 & 1.4 & 1.300000 & setosa   \\\\\n\t 12 & 4.525 & 3.500000 & 1.6 & 1.560586 & setosa   \\\\\n\t 13 & 4.700 & 2.000000 & 1.2 & 1.900000 & virginica\\\\\n\t 14 & 6.000 & 2.987694 & 1.1 & 2.600000 & virginica\\\\\n\t 15 & 3.300 & 2.700000 & 2.9 & 0.400000 & setosa   \\\\\n\t 16 & 4.100 & 3.500000 & 1.9 & 0.700000 & virginica\\\\\n\t 17 & 4.600 & 2.900000 & 2.1 & 2.600000 & virginica\\\\\n\t 18 & 3.700 & 2.600000 & 1.3 & 0.900000 & setosa   \\\\\n\t 19 & 5.500 & 2.500000 & 1.8 & 1.800000 & virginica\\\\\n\t 20 & 3.700 & 2.400000 & 1.2 & 1.560586 & setosa   \\\\\n\t 21 & 3.100 & 2.400000 & 1.4 & 0.700000 & setosa   \\\\\n\t 22 & 4.400 & 2.100000 & 2.8 & 1.900000 & virginica\\\\\n\t 23 & 5.700 & 3.000000 & 2.5 & 1.560586 & setosa   \\\\\n\t 24 & 5.600 & 3.300000 & 1.2 & 0.300000 & virginica\\\\\n\t 25 & 3.200 & 3.300000 & 2.0 & 0.700000 & virginica\\\\\n\t 26 & 5.000 & 3.300000 & 2.4 & 2.200000 & virginica\\\\\n\t 27 & 3.900 & 3.200000 & 2.7 & 0.100000 & setosa   \\\\\n\t 28 & 4.525 & 2.200000 & 1.5 & 1.200000 & virginica\\\\\n\t 29 & 5.800 & 2.600000 & 2.3 & 2.300000 & setosa   \\\\\n\t 30 & 4.700 & 3.700000 & 1.8 & 2.700000 & virginica\\\\\n\t ⋮ & ⋮ & ⋮ & ⋮ & ⋮ & ⋮\\\\\n\t  971 & 3.400 & 3.500000 & 2.800000 & 2.500000 & NA       \\\\\n\t  972 & 4.300 & 2.700000 & 1.600000 & 0.000000 & setosa   \\\\\n\t  973 & 3.700 & 2.987694 & 2.300000 & 0.600000 & virginica\\\\\n\t  974 & 3.900 & 3.600000 & 2.300000 & 1.560586 & setosa   \\\\\n\t  975 & 3.800 & 2.400000 & 3.000000 & 2.500000 & virginica\\\\\n\t  976 & 3.100 & 4.000000 & 2.000442 & 0.600000 & setosa   \\\\\n\t  977 & 3.400 & 3.700000 & 3.000000 & 3.000000 & setosa   \\\\\n\t  978 & 4.800 & 3.300000 & 2.000000 & 0.900000 & virginica\\\\\n\t  979 & 4.525 & 2.600000 & 1.400000 & 1.300000 & virginica\\\\\n\t  980 & 5.700 & 2.987694 & 2.600000 & 0.600000 & virginica\\\\\n\t  981 & 3.600 & 2.600000 & 2.300000 & 0.900000 & virginica\\\\\n\t  982 & 4.000 & 2.600000 & 1.900000 & 1.560586 & setosa   \\\\\n\t  983 & 4.500 & 2.987694 & 2.000000 & 0.300000 & setosa   \\\\\n\t  984 & 5.900 & 2.400000 & 1.100000 & 2.300000 & setosa   \\\\\n\t  985 & 3.300 & 2.400000 & 1.600000 & 2.800000 & setosa   \\\\\n\t  986 & 4.600 & 3.900000 & 2.400000 & 1.800000 & setosa   \\\\\n\t  987 & 3.200 & 2.800000 & 1.500000 & 2.900000 & setosa   \\\\\n\t  988 & 4.800 & 2.987694 & 2.500000 & 2.100000 & virginica\\\\\n\t  989 & 5.500 & 2.600000 & 2.600000 & 0.500000 & setosa   \\\\\n\t  990 & 3.800 & 3.600000 & 1.400000 & 0.600000 & virginica\\\\\n\t  991 & 3.600 & 2.987694 & 2.100000 & 2.900000 & setosa   \\\\\n\t  992 & 3.700 & 2.500000 & 2.600000 & 2.800000 & virginica\\\\\n\t  993 & 3.200 & 2.400000 & 2.000442 & 1.200000 & virginica\\\\\n\t  994 & 4.500 & 3.700000 & 1.200000 & 0.300000 & virginica\\\\\n\t  995 & 4.000 & 2.900000 & 1.000000 & 0.200000 & virginica\\\\\n\t  996 & 4.500 & 3.600000 & 2.000442 & 2.700000 & setosa   \\\\\n\t  997 & 4.000 & 2.100000 & 2.000442 & 2.100000 & setosa   \\\\\n\t  998 & 5.900 & 2.500000 & 2.100000 & 2.500000 & virginica\\\\\n\t  999 & 5.000 & 2.600000 & 1.900000 & 1.560586 & NA       \\\\\n\t 1000 & 3.400 & 3.900000 & 1.900000 & 1.500000 & setosa   \\\\\n\\end{tabular}\n",
            "text/plain": [
              "     id   sepal_length sepal_width petal_length petal_width species  \n",
              "1     1   3.500        2.900000    1.4          0.500000    virginica\n",
              "2     2   3.600        3.200000    3.0          0.500000    setosa   \n",
              "3     3   3.800        2.987694    2.2          1.500000    setosa   \n",
              "4     4   5.800        2.700000    2.6          1.200000    virginica\n",
              "5     5   4.900        3.600000    3.0          1.200000    virginica\n",
              "6     6   5.000        2.700000    1.4          2.300000    setosa   \n",
              "7     7   4.800        3.000000    2.6          1.400000    setosa   \n",
              "8     8   5.500        2.200000    2.1          2.100000    virginica\n",
              "9     9   5.500        2.900000    1.1          3.000000    setosa   \n",
              "10   10   4.525        3.400000    2.6          1.900000    virginica\n",
              "11   11   3.700        2.100000    1.4          1.300000    setosa   \n",
              "12   12   4.525        3.500000    1.6          1.560586    setosa   \n",
              "13   13   4.700        2.000000    1.2          1.900000    virginica\n",
              "14   14   6.000        2.987694    1.1          2.600000    virginica\n",
              "15   15   3.300        2.700000    2.9          0.400000    setosa   \n",
              "16   16   4.100        3.500000    1.9          0.700000    virginica\n",
              "17   17   4.600        2.900000    2.1          2.600000    virginica\n",
              "18   18   3.700        2.600000    1.3          0.900000    setosa   \n",
              "19   19   5.500        2.500000    1.8          1.800000    virginica\n",
              "20   20   3.700        2.400000    1.2          1.560586    setosa   \n",
              "21   21   3.100        2.400000    1.4          0.700000    setosa   \n",
              "22   22   4.400        2.100000    2.8          1.900000    virginica\n",
              "23   23   5.700        3.000000    2.5          1.560586    setosa   \n",
              "24   24   5.600        3.300000    1.2          0.300000    virginica\n",
              "25   25   3.200        3.300000    2.0          0.700000    virginica\n",
              "26   26   5.000        3.300000    2.4          2.200000    virginica\n",
              "27   27   3.900        3.200000    2.7          0.100000    setosa   \n",
              "28   28   4.525        2.200000    1.5          1.200000    virginica\n",
              "29   29   5.800        2.600000    2.3          2.300000    setosa   \n",
              "30   30   4.700        3.700000    1.8          2.700000    virginica\n",
              "⋮    ⋮    ⋮            ⋮           ⋮            ⋮           ⋮        \n",
              "971   971 3.400        3.500000    2.800000     2.500000    NA       \n",
              "972   972 4.300        2.700000    1.600000     0.000000    setosa   \n",
              "973   973 3.700        2.987694    2.300000     0.600000    virginica\n",
              "974   974 3.900        3.600000    2.300000     1.560586    setosa   \n",
              "975   975 3.800        2.400000    3.000000     2.500000    virginica\n",
              "976   976 3.100        4.000000    2.000442     0.600000    setosa   \n",
              "977   977 3.400        3.700000    3.000000     3.000000    setosa   \n",
              "978   978 4.800        3.300000    2.000000     0.900000    virginica\n",
              "979   979 4.525        2.600000    1.400000     1.300000    virginica\n",
              "980   980 5.700        2.987694    2.600000     0.600000    virginica\n",
              "981   981 3.600        2.600000    2.300000     0.900000    virginica\n",
              "982   982 4.000        2.600000    1.900000     1.560586    setosa   \n",
              "983   983 4.500        2.987694    2.000000     0.300000    setosa   \n",
              "984   984 5.900        2.400000    1.100000     2.300000    setosa   \n",
              "985   985 3.300        2.400000    1.600000     2.800000    setosa   \n",
              "986   986 4.600        3.900000    2.400000     1.800000    setosa   \n",
              "987   987 3.200        2.800000    1.500000     2.900000    setosa   \n",
              "988   988 4.800        2.987694    2.500000     2.100000    virginica\n",
              "989   989 5.500        2.600000    2.600000     0.500000    setosa   \n",
              "990   990 3.800        3.600000    1.400000     0.600000    virginica\n",
              "991   991 3.600        2.987694    2.100000     2.900000    setosa   \n",
              "992   992 3.700        2.500000    2.600000     2.800000    virginica\n",
              "993   993 3.200        2.400000    2.000442     1.200000    virginica\n",
              "994   994 4.500        3.700000    1.200000     0.300000    virginica\n",
              "995   995 4.000        2.900000    1.000000     0.200000    virginica\n",
              "996   996 4.500        3.600000    2.000442     2.700000    setosa   \n",
              "997   997 4.000        2.100000    2.000442     2.100000    setosa   \n",
              "998   998 5.900        2.500000    2.100000     2.500000    virginica\n",
              "999   999 5.000        2.600000    1.900000     1.560586    NA       \n",
              "1000 1000 3.400        3.900000    1.900000     1.500000    setosa   "
            ]
          },
          "metadata": {}
        }
      ]
    },
    {
      "cell_type": "code",
      "source": [
        "# Another way to achieve this is using the Hmisc package\n",
        "\n",
        "df3 <- read.csv(\"https://raw.githubusercontent.com/nmagee/ds1002/main/data/very-messy-data.csv\")\n",
        "df3 <- df3[!duplicated(df3), ]\n",
        "\n",
        "install.packages(\"Hmisc\")\n",
        "library(Hmisc)"
      ],
      "metadata": {
        "id": "pBmdD9kLQdy2",
        "colab": {
          "base_uri": "https://localhost:8080/"
        },
        "outputId": "546a8f17-4850-47c5-f48d-09ded2d87a5f"
      },
      "execution_count": 31,
      "outputs": [
        {
          "output_type": "stream",
          "name": "stderr",
          "text": [
            "Installing package into ‘/usr/local/lib/R/site-library’\n",
            "(as ‘lib’ is unspecified)\n",
            "\n",
            "also installing the dependencies ‘checkmate’, ‘htmlwidgets’, ‘gridExtra’, ‘htmlTable’, ‘viridis’, ‘Formula’\n",
            "\n",
            "\n",
            "\n",
            "Attaching package: ‘Hmisc’\n",
            "\n",
            "\n",
            "The following objects are masked from ‘package:dplyr’:\n",
            "\n",
            "    src, summarize\n",
            "\n",
            "\n",
            "The following objects are masked from ‘package:base’:\n",
            "\n",
            "    format.pval, units\n",
            "\n",
            "\n"
          ]
        }
      ]
    },
    {
      "cell_type": "code",
      "source": [
        "df3$sepal_length <- impute(df3$sepal_length, median)\n",
        "df3$sepal_width <- impute(df3$sepal_width, median)\n",
        "df3$petal_length <- impute(df3$petal_length, median)\n",
        "df3$petal_width <- impute(df3$petal_width, median)"
      ],
      "metadata": {
        "id": "VcFfllhyxt3c"
      },
      "execution_count": 32,
      "outputs": []
    },
    {
      "cell_type": "code",
      "source": [
        "df3"
      ],
      "metadata": {
        "id": "qsu6VcGeTaHN",
        "colab": {
          "base_uri": "https://localhost:8080/",
          "height": 1000
        },
        "outputId": "ef2487c2-2d19-4468-c496-5532698bd8df"
      },
      "execution_count": 33,
      "outputs": [
        {
          "output_type": "display_data",
          "data": {
            "text/html": [
              "<table class=\"dataframe\">\n",
              "<caption>A data.frame: 1000 × 6</caption>\n",
              "<thead>\n",
              "\t<tr><th></th><th scope=col>id</th><th scope=col>sepal_length</th><th scope=col>sepal_width</th><th scope=col>petal_length</th><th scope=col>petal_width</th><th scope=col>species</th></tr>\n",
              "\t<tr><th></th><th scope=col>&lt;int&gt;</th><th scope=col>&lt;impute&gt;</th><th scope=col>&lt;impute&gt;</th><th scope=col>&lt;impute&gt;</th><th scope=col>&lt;impute&gt;</th><th scope=col>&lt;chr&gt;</th></tr>\n",
              "</thead>\n",
              "<tbody>\n",
              "\t<tr><th scope=row>1</th><td> 1</td><td>3.5</td><td>2.9</td><td>1.4</td><td>0.5</td><td>virginica</td></tr>\n",
              "\t<tr><th scope=row>2</th><td> 2</td><td>3.6</td><td>3.2</td><td>3.0</td><td>0.5</td><td>setosa   </td></tr>\n",
              "\t<tr><th scope=row>3</th><td> 3</td><td>3.8</td><td>3.0</td><td>2.2</td><td>1.5</td><td>setosa   </td></tr>\n",
              "\t<tr><th scope=row>4</th><td> 4</td><td>5.8</td><td>2.7</td><td>2.6</td><td>1.2</td><td>virginica</td></tr>\n",
              "\t<tr><th scope=row>5</th><td> 5</td><td>4.9</td><td>3.6</td><td>3.0</td><td>1.2</td><td>virginica</td></tr>\n",
              "\t<tr><th scope=row>6</th><td> 6</td><td>5.0</td><td>2.7</td><td>1.4</td><td>2.3</td><td>setosa   </td></tr>\n",
              "\t<tr><th scope=row>7</th><td> 7</td><td>4.8</td><td>3.0</td><td>2.6</td><td>1.4</td><td>setosa   </td></tr>\n",
              "\t<tr><th scope=row>8</th><td> 8</td><td>5.5</td><td>2.2</td><td>2.1</td><td>2.1</td><td>virginica</td></tr>\n",
              "\t<tr><th scope=row>9</th><td> 9</td><td>5.5</td><td>2.9</td><td>1.1</td><td>3.0</td><td>setosa   </td></tr>\n",
              "\t<tr><th scope=row>10</th><td>10</td><td>4.6</td><td>3.4</td><td>2.6</td><td>1.9</td><td>virginica</td></tr>\n",
              "\t<tr><th scope=row>11</th><td>11</td><td>3.7</td><td>2.1</td><td>1.4</td><td>1.3</td><td>setosa   </td></tr>\n",
              "\t<tr><th scope=row>12</th><td>12</td><td>4.6</td><td>3.5</td><td>1.6</td><td>2.9</td><td>setosa   </td></tr>\n",
              "\t<tr><th scope=row>13</th><td>13</td><td>4.7</td><td>2.0</td><td>1.2</td><td>1.9</td><td>virginica</td></tr>\n",
              "\t<tr><th scope=row>14</th><td>14</td><td>6.0</td><td>3.0</td><td>1.1</td><td>2.6</td><td>virginica</td></tr>\n",
              "\t<tr><th scope=row>15</th><td>15</td><td>3.3</td><td>2.7</td><td>2.9</td><td>0.4</td><td>setosa   </td></tr>\n",
              "\t<tr><th scope=row>16</th><td>16</td><td>4.1</td><td>3.5</td><td>1.9</td><td>0.7</td><td>virginica</td></tr>\n",
              "\t<tr><th scope=row>17</th><td>17</td><td>4.6</td><td>2.9</td><td>2.1</td><td>2.6</td><td>virginica</td></tr>\n",
              "\t<tr><th scope=row>18</th><td>18</td><td>3.7</td><td>2.6</td><td>1.3</td><td>0.9</td><td>setosa   </td></tr>\n",
              "\t<tr><th scope=row>19</th><td>19</td><td>5.5</td><td>2.5</td><td>1.8</td><td>1.8</td><td>virginica</td></tr>\n",
              "\t<tr><th scope=row>20</th><td>20</td><td>3.7</td><td>2.4</td><td>1.2</td><td>1.6</td><td>setosa   </td></tr>\n",
              "\t<tr><th scope=row>21</th><td>21</td><td>3.1</td><td>2.4</td><td>1.4</td><td>0.7</td><td>setosa   </td></tr>\n",
              "\t<tr><th scope=row>22</th><td>22</td><td>4.4</td><td>2.1</td><td>2.8</td><td>1.9</td><td>virginica</td></tr>\n",
              "\t<tr><th scope=row>23</th><td>23</td><td>5.7</td><td>3.0</td><td>2.5</td><td>1.4</td><td>setosa   </td></tr>\n",
              "\t<tr><th scope=row>24</th><td>24</td><td>5.6</td><td>3.3</td><td>1.2</td><td>0.3</td><td>virginica</td></tr>\n",
              "\t<tr><th scope=row>25</th><td>25</td><td>3.2</td><td>3.3</td><td>2.0</td><td>0.7</td><td>virginica</td></tr>\n",
              "\t<tr><th scope=row>26</th><td>26</td><td>5.0</td><td>3.3</td><td>2.4</td><td>2.2</td><td>virginica</td></tr>\n",
              "\t<tr><th scope=row>27</th><td>27</td><td>3.9</td><td>3.2</td><td>2.7</td><td>0.1</td><td>setosa   </td></tr>\n",
              "\t<tr><th scope=row>28</th><td>28</td><td>4.6</td><td>2.2</td><td>1.5</td><td>1.2</td><td>virginica</td></tr>\n",
              "\t<tr><th scope=row>29</th><td>29</td><td>5.8</td><td>2.6</td><td>2.3</td><td>2.3</td><td>setosa   </td></tr>\n",
              "\t<tr><th scope=row>30</th><td>30</td><td>4.7</td><td>3.7</td><td>1.8</td><td>2.7</td><td>virginica</td></tr>\n",
              "\t<tr><th scope=row>⋮</th><td>⋮</td><td>⋮</td><td>⋮</td><td>⋮</td><td>⋮</td><td>⋮</td></tr>\n",
              "\t<tr><th scope=row>971</th><td> 971</td><td>3.4</td><td>3.5</td><td>2.8</td><td>2.5</td><td>         </td></tr>\n",
              "\t<tr><th scope=row>972</th><td> 972</td><td>4.3</td><td>2.7</td><td>1.6</td><td>0.0</td><td>setosa   </td></tr>\n",
              "\t<tr><th scope=row>973</th><td> 973</td><td>3.7</td><td>3.0</td><td>2.3</td><td>0.6</td><td>virginica</td></tr>\n",
              "\t<tr><th scope=row>974</th><td> 974</td><td>3.9</td><td>3.6</td><td>2.3</td><td>1.6</td><td>setosa   </td></tr>\n",
              "\t<tr><th scope=row>975</th><td> 975</td><td>3.8</td><td>2.4</td><td>3.0</td><td>2.5</td><td>virginica</td></tr>\n",
              "\t<tr><th scope=row>976</th><td> 976</td><td>3.1</td><td>4.0</td><td>2.0</td><td>0.6</td><td>setosa   </td></tr>\n",
              "\t<tr><th scope=row>977</th><td> 977</td><td>3.4</td><td>3.7</td><td>3.0</td><td>3.0</td><td>setosa   </td></tr>\n",
              "\t<tr><th scope=row>978</th><td> 978</td><td>4.8</td><td>3.3</td><td>2.0</td><td>0.9</td><td>virginica</td></tr>\n",
              "\t<tr><th scope=row>979</th><td> 979</td><td>4.6</td><td>2.6</td><td>1.4</td><td>1.3</td><td>virginica</td></tr>\n",
              "\t<tr><th scope=row>980</th><td> 980</td><td>5.7</td><td>3.0</td><td>2.6</td><td>0.6</td><td>virginica</td></tr>\n",
              "\t<tr><th scope=row>981</th><td> 981</td><td>3.6</td><td>2.6</td><td>2.3</td><td>0.9</td><td>virginica</td></tr>\n",
              "\t<tr><th scope=row>982</th><td> 982</td><td>4.0</td><td>2.6</td><td>1.9</td><td>1.6</td><td>setosa   </td></tr>\n",
              "\t<tr><th scope=row>983</th><td> 983</td><td>4.5</td><td>3.0</td><td>2.0</td><td>0.3</td><td>setosa   </td></tr>\n",
              "\t<tr><th scope=row>984</th><td> 984</td><td>5.9</td><td>2.4</td><td>1.1</td><td>2.3</td><td>setosa   </td></tr>\n",
              "\t<tr><th scope=row>985</th><td> 985</td><td>3.3</td><td>2.4</td><td>1.6</td><td>2.8</td><td>setosa   </td></tr>\n",
              "\t<tr><th scope=row>986</th><td> 986</td><td>4.6</td><td>3.9</td><td>2.4</td><td>1.8</td><td>setosa   </td></tr>\n",
              "\t<tr><th scope=row>987</th><td> 987</td><td>3.2</td><td>2.8</td><td>1.5</td><td>2.9</td><td>setosa   </td></tr>\n",
              "\t<tr><th scope=row>988</th><td> 988</td><td>4.8</td><td>3.0</td><td>2.5</td><td>2.1</td><td>virginica</td></tr>\n",
              "\t<tr><th scope=row>989</th><td> 989</td><td>5.5</td><td>2.6</td><td>2.6</td><td>0.5</td><td>setosa   </td></tr>\n",
              "\t<tr><th scope=row>990</th><td> 990</td><td>3.8</td><td>3.6</td><td>1.4</td><td>0.6</td><td>virginica</td></tr>\n",
              "\t<tr><th scope=row>991</th><td> 991</td><td>3.6</td><td>3.0</td><td>2.1</td><td>2.9</td><td>setosa   </td></tr>\n",
              "\t<tr><th scope=row>992</th><td> 992</td><td>3.7</td><td>2.5</td><td>2.6</td><td>2.8</td><td>virginica</td></tr>\n",
              "\t<tr><th scope=row>993</th><td> 993</td><td>3.2</td><td>2.4</td><td>2.0</td><td>1.2</td><td>virginica</td></tr>\n",
              "\t<tr><th scope=row>994</th><td> 994</td><td>4.5</td><td>3.7</td><td>1.2</td><td>0.3</td><td>virginica</td></tr>\n",
              "\t<tr><th scope=row>995</th><td> 995</td><td>4.0</td><td>2.9</td><td>1.0</td><td>0.2</td><td>virginica</td></tr>\n",
              "\t<tr><th scope=row>996</th><td> 996</td><td>4.5</td><td>3.6</td><td>2.0</td><td>2.7</td><td>setosa   </td></tr>\n",
              "\t<tr><th scope=row>997</th><td> 997</td><td>4.0</td><td>2.1</td><td>2.0</td><td>2.1</td><td>setosa   </td></tr>\n",
              "\t<tr><th scope=row>998</th><td> 998</td><td>5.9</td><td>2.5</td><td>2.1</td><td>2.5</td><td>virginica</td></tr>\n",
              "\t<tr><th scope=row>999</th><td> 999</td><td>5.0</td><td>2.6</td><td>1.9</td><td>1.6</td><td>         </td></tr>\n",
              "\t<tr><th scope=row>1000</th><td>1000</td><td>3.4</td><td>3.9</td><td>1.9</td><td>1.5</td><td>setosa   </td></tr>\n",
              "</tbody>\n",
              "</table>\n"
            ],
            "text/markdown": "\nA data.frame: 1000 × 6\n\n| <!--/--> | id &lt;int&gt; | sepal_length &lt;impute&gt; | sepal_width &lt;impute&gt; | petal_length &lt;impute&gt; | petal_width &lt;impute&gt; | species &lt;chr&gt; |\n|---|---|---|---|---|---|---|\n| 1 |  1 | 3.5 | 2.9 | 1.4 | 0.5 | virginica |\n| 2 |  2 | 3.6 | 3.2 | 3.0 | 0.5 | setosa    |\n| 3 |  3 | 3.8 | 3.0 | 2.2 | 1.5 | setosa    |\n| 4 |  4 | 5.8 | 2.7 | 2.6 | 1.2 | virginica |\n| 5 |  5 | 4.9 | 3.6 | 3.0 | 1.2 | virginica |\n| 6 |  6 | 5.0 | 2.7 | 1.4 | 2.3 | setosa    |\n| 7 |  7 | 4.8 | 3.0 | 2.6 | 1.4 | setosa    |\n| 8 |  8 | 5.5 | 2.2 | 2.1 | 2.1 | virginica |\n| 9 |  9 | 5.5 | 2.9 | 1.1 | 3.0 | setosa    |\n| 10 | 10 | 4.6 | 3.4 | 2.6 | 1.9 | virginica |\n| 11 | 11 | 3.7 | 2.1 | 1.4 | 1.3 | setosa    |\n| 12 | 12 | 4.6 | 3.5 | 1.6 | 2.9 | setosa    |\n| 13 | 13 | 4.7 | 2.0 | 1.2 | 1.9 | virginica |\n| 14 | 14 | 6.0 | 3.0 | 1.1 | 2.6 | virginica |\n| 15 | 15 | 3.3 | 2.7 | 2.9 | 0.4 | setosa    |\n| 16 | 16 | 4.1 | 3.5 | 1.9 | 0.7 | virginica |\n| 17 | 17 | 4.6 | 2.9 | 2.1 | 2.6 | virginica |\n| 18 | 18 | 3.7 | 2.6 | 1.3 | 0.9 | setosa    |\n| 19 | 19 | 5.5 | 2.5 | 1.8 | 1.8 | virginica |\n| 20 | 20 | 3.7 | 2.4 | 1.2 | 1.6 | setosa    |\n| 21 | 21 | 3.1 | 2.4 | 1.4 | 0.7 | setosa    |\n| 22 | 22 | 4.4 | 2.1 | 2.8 | 1.9 | virginica |\n| 23 | 23 | 5.7 | 3.0 | 2.5 | 1.4 | setosa    |\n| 24 | 24 | 5.6 | 3.3 | 1.2 | 0.3 | virginica |\n| 25 | 25 | 3.2 | 3.3 | 2.0 | 0.7 | virginica |\n| 26 | 26 | 5.0 | 3.3 | 2.4 | 2.2 | virginica |\n| 27 | 27 | 3.9 | 3.2 | 2.7 | 0.1 | setosa    |\n| 28 | 28 | 4.6 | 2.2 | 1.5 | 1.2 | virginica |\n| 29 | 29 | 5.8 | 2.6 | 2.3 | 2.3 | setosa    |\n| 30 | 30 | 4.7 | 3.7 | 1.8 | 2.7 | virginica |\n| ⋮ | ⋮ | ⋮ | ⋮ | ⋮ | ⋮ | ⋮ |\n| 971 |  971 | 3.4 | 3.5 | 2.8 | 2.5 | <!----> |\n| 972 |  972 | 4.3 | 2.7 | 1.6 | 0.0 | setosa    |\n| 973 |  973 | 3.7 | 3.0 | 2.3 | 0.6 | virginica |\n| 974 |  974 | 3.9 | 3.6 | 2.3 | 1.6 | setosa    |\n| 975 |  975 | 3.8 | 2.4 | 3.0 | 2.5 | virginica |\n| 976 |  976 | 3.1 | 4.0 | 2.0 | 0.6 | setosa    |\n| 977 |  977 | 3.4 | 3.7 | 3.0 | 3.0 | setosa    |\n| 978 |  978 | 4.8 | 3.3 | 2.0 | 0.9 | virginica |\n| 979 |  979 | 4.6 | 2.6 | 1.4 | 1.3 | virginica |\n| 980 |  980 | 5.7 | 3.0 | 2.6 | 0.6 | virginica |\n| 981 |  981 | 3.6 | 2.6 | 2.3 | 0.9 | virginica |\n| 982 |  982 | 4.0 | 2.6 | 1.9 | 1.6 | setosa    |\n| 983 |  983 | 4.5 | 3.0 | 2.0 | 0.3 | setosa    |\n| 984 |  984 | 5.9 | 2.4 | 1.1 | 2.3 | setosa    |\n| 985 |  985 | 3.3 | 2.4 | 1.6 | 2.8 | setosa    |\n| 986 |  986 | 4.6 | 3.9 | 2.4 | 1.8 | setosa    |\n| 987 |  987 | 3.2 | 2.8 | 1.5 | 2.9 | setosa    |\n| 988 |  988 | 4.8 | 3.0 | 2.5 | 2.1 | virginica |\n| 989 |  989 | 5.5 | 2.6 | 2.6 | 0.5 | setosa    |\n| 990 |  990 | 3.8 | 3.6 | 1.4 | 0.6 | virginica |\n| 991 |  991 | 3.6 | 3.0 | 2.1 | 2.9 | setosa    |\n| 992 |  992 | 3.7 | 2.5 | 2.6 | 2.8 | virginica |\n| 993 |  993 | 3.2 | 2.4 | 2.0 | 1.2 | virginica |\n| 994 |  994 | 4.5 | 3.7 | 1.2 | 0.3 | virginica |\n| 995 |  995 | 4.0 | 2.9 | 1.0 | 0.2 | virginica |\n| 996 |  996 | 4.5 | 3.6 | 2.0 | 2.7 | setosa    |\n| 997 |  997 | 4.0 | 2.1 | 2.0 | 2.1 | setosa    |\n| 998 |  998 | 5.9 | 2.5 | 2.1 | 2.5 | virginica |\n| 999 |  999 | 5.0 | 2.6 | 1.9 | 1.6 | <!----> |\n| 1000 | 1000 | 3.4 | 3.9 | 1.9 | 1.5 | setosa    |\n\n",
            "text/latex": "A data.frame: 1000 × 6\n\\begin{tabular}{r|llllll}\n  & id & sepal\\_length & sepal\\_width & petal\\_length & petal\\_width & species\\\\\n  & <int> & <impute> & <impute> & <impute> & <impute> & <chr>\\\\\n\\hline\n\t1 &  1 & 3.5 & 2.9 & 1.4 & 0.5 & virginica\\\\\n\t2 &  2 & 3.6 & 3.2 & 3.0 & 0.5 & setosa   \\\\\n\t3 &  3 & 3.8 & 3.0 & 2.2 & 1.5 & setosa   \\\\\n\t4 &  4 & 5.8 & 2.7 & 2.6 & 1.2 & virginica\\\\\n\t5 &  5 & 4.9 & 3.6 & 3.0 & 1.2 & virginica\\\\\n\t6 &  6 & 5.0 & 2.7 & 1.4 & 2.3 & setosa   \\\\\n\t7 &  7 & 4.8 & 3.0 & 2.6 & 1.4 & setosa   \\\\\n\t8 &  8 & 5.5 & 2.2 & 2.1 & 2.1 & virginica\\\\\n\t9 &  9 & 5.5 & 2.9 & 1.1 & 3.0 & setosa   \\\\\n\t10 & 10 & 4.6 & 3.4 & 2.6 & 1.9 & virginica\\\\\n\t11 & 11 & 3.7 & 2.1 & 1.4 & 1.3 & setosa   \\\\\n\t12 & 12 & 4.6 & 3.5 & 1.6 & 2.9 & setosa   \\\\\n\t13 & 13 & 4.7 & 2.0 & 1.2 & 1.9 & virginica\\\\\n\t14 & 14 & 6.0 & 3.0 & 1.1 & 2.6 & virginica\\\\\n\t15 & 15 & 3.3 & 2.7 & 2.9 & 0.4 & setosa   \\\\\n\t16 & 16 & 4.1 & 3.5 & 1.9 & 0.7 & virginica\\\\\n\t17 & 17 & 4.6 & 2.9 & 2.1 & 2.6 & virginica\\\\\n\t18 & 18 & 3.7 & 2.6 & 1.3 & 0.9 & setosa   \\\\\n\t19 & 19 & 5.5 & 2.5 & 1.8 & 1.8 & virginica\\\\\n\t20 & 20 & 3.7 & 2.4 & 1.2 & 1.6 & setosa   \\\\\n\t21 & 21 & 3.1 & 2.4 & 1.4 & 0.7 & setosa   \\\\\n\t22 & 22 & 4.4 & 2.1 & 2.8 & 1.9 & virginica\\\\\n\t23 & 23 & 5.7 & 3.0 & 2.5 & 1.4 & setosa   \\\\\n\t24 & 24 & 5.6 & 3.3 & 1.2 & 0.3 & virginica\\\\\n\t25 & 25 & 3.2 & 3.3 & 2.0 & 0.7 & virginica\\\\\n\t26 & 26 & 5.0 & 3.3 & 2.4 & 2.2 & virginica\\\\\n\t27 & 27 & 3.9 & 3.2 & 2.7 & 0.1 & setosa   \\\\\n\t28 & 28 & 4.6 & 2.2 & 1.5 & 1.2 & virginica\\\\\n\t29 & 29 & 5.8 & 2.6 & 2.3 & 2.3 & setosa   \\\\\n\t30 & 30 & 4.7 & 3.7 & 1.8 & 2.7 & virginica\\\\\n\t⋮ & ⋮ & ⋮ & ⋮ & ⋮ & ⋮ & ⋮\\\\\n\t971 &  971 & 3.4 & 3.5 & 2.8 & 2.5 &          \\\\\n\t972 &  972 & 4.3 & 2.7 & 1.6 & 0.0 & setosa   \\\\\n\t973 &  973 & 3.7 & 3.0 & 2.3 & 0.6 & virginica\\\\\n\t974 &  974 & 3.9 & 3.6 & 2.3 & 1.6 & setosa   \\\\\n\t975 &  975 & 3.8 & 2.4 & 3.0 & 2.5 & virginica\\\\\n\t976 &  976 & 3.1 & 4.0 & 2.0 & 0.6 & setosa   \\\\\n\t977 &  977 & 3.4 & 3.7 & 3.0 & 3.0 & setosa   \\\\\n\t978 &  978 & 4.8 & 3.3 & 2.0 & 0.9 & virginica\\\\\n\t979 &  979 & 4.6 & 2.6 & 1.4 & 1.3 & virginica\\\\\n\t980 &  980 & 5.7 & 3.0 & 2.6 & 0.6 & virginica\\\\\n\t981 &  981 & 3.6 & 2.6 & 2.3 & 0.9 & virginica\\\\\n\t982 &  982 & 4.0 & 2.6 & 1.9 & 1.6 & setosa   \\\\\n\t983 &  983 & 4.5 & 3.0 & 2.0 & 0.3 & setosa   \\\\\n\t984 &  984 & 5.9 & 2.4 & 1.1 & 2.3 & setosa   \\\\\n\t985 &  985 & 3.3 & 2.4 & 1.6 & 2.8 & setosa   \\\\\n\t986 &  986 & 4.6 & 3.9 & 2.4 & 1.8 & setosa   \\\\\n\t987 &  987 & 3.2 & 2.8 & 1.5 & 2.9 & setosa   \\\\\n\t988 &  988 & 4.8 & 3.0 & 2.5 & 2.1 & virginica\\\\\n\t989 &  989 & 5.5 & 2.6 & 2.6 & 0.5 & setosa   \\\\\n\t990 &  990 & 3.8 & 3.6 & 1.4 & 0.6 & virginica\\\\\n\t991 &  991 & 3.6 & 3.0 & 2.1 & 2.9 & setosa   \\\\\n\t992 &  992 & 3.7 & 2.5 & 2.6 & 2.8 & virginica\\\\\n\t993 &  993 & 3.2 & 2.4 & 2.0 & 1.2 & virginica\\\\\n\t994 &  994 & 4.5 & 3.7 & 1.2 & 0.3 & virginica\\\\\n\t995 &  995 & 4.0 & 2.9 & 1.0 & 0.2 & virginica\\\\\n\t996 &  996 & 4.5 & 3.6 & 2.0 & 2.7 & setosa   \\\\\n\t997 &  997 & 4.0 & 2.1 & 2.0 & 2.1 & setosa   \\\\\n\t998 &  998 & 5.9 & 2.5 & 2.1 & 2.5 & virginica\\\\\n\t999 &  999 & 5.0 & 2.6 & 1.9 & 1.6 &          \\\\\n\t1000 & 1000 & 3.4 & 3.9 & 1.9 & 1.5 & setosa   \\\\\n\\end{tabular}\n",
            "text/plain": [
              "     id   sepal_length sepal_width petal_length petal_width species  \n",
              "1     1   3.5          2.9         1.4          0.5         virginica\n",
              "2     2   3.6          3.2         3.0          0.5         setosa   \n",
              "3     3   3.8          3.0         2.2          1.5         setosa   \n",
              "4     4   5.8          2.7         2.6          1.2         virginica\n",
              "5     5   4.9          3.6         3.0          1.2         virginica\n",
              "6     6   5.0          2.7         1.4          2.3         setosa   \n",
              "7     7   4.8          3.0         2.6          1.4         setosa   \n",
              "8     8   5.5          2.2         2.1          2.1         virginica\n",
              "9     9   5.5          2.9         1.1          3.0         setosa   \n",
              "10   10   4.6          3.4         2.6          1.9         virginica\n",
              "11   11   3.7          2.1         1.4          1.3         setosa   \n",
              "12   12   4.6          3.5         1.6          2.9         setosa   \n",
              "13   13   4.7          2.0         1.2          1.9         virginica\n",
              "14   14   6.0          3.0         1.1          2.6         virginica\n",
              "15   15   3.3          2.7         2.9          0.4         setosa   \n",
              "16   16   4.1          3.5         1.9          0.7         virginica\n",
              "17   17   4.6          2.9         2.1          2.6         virginica\n",
              "18   18   3.7          2.6         1.3          0.9         setosa   \n",
              "19   19   5.5          2.5         1.8          1.8         virginica\n",
              "20   20   3.7          2.4         1.2          1.6         setosa   \n",
              "21   21   3.1          2.4         1.4          0.7         setosa   \n",
              "22   22   4.4          2.1         2.8          1.9         virginica\n",
              "23   23   5.7          3.0         2.5          1.4         setosa   \n",
              "24   24   5.6          3.3         1.2          0.3         virginica\n",
              "25   25   3.2          3.3         2.0          0.7         virginica\n",
              "26   26   5.0          3.3         2.4          2.2         virginica\n",
              "27   27   3.9          3.2         2.7          0.1         setosa   \n",
              "28   28   4.6          2.2         1.5          1.2         virginica\n",
              "29   29   5.8          2.6         2.3          2.3         setosa   \n",
              "30   30   4.7          3.7         1.8          2.7         virginica\n",
              "⋮    ⋮    ⋮            ⋮           ⋮            ⋮           ⋮        \n",
              "971   971 3.4          3.5         2.8          2.5                  \n",
              "972   972 4.3          2.7         1.6          0.0         setosa   \n",
              "973   973 3.7          3.0         2.3          0.6         virginica\n",
              "974   974 3.9          3.6         2.3          1.6         setosa   \n",
              "975   975 3.8          2.4         3.0          2.5         virginica\n",
              "976   976 3.1          4.0         2.0          0.6         setosa   \n",
              "977   977 3.4          3.7         3.0          3.0         setosa   \n",
              "978   978 4.8          3.3         2.0          0.9         virginica\n",
              "979   979 4.6          2.6         1.4          1.3         virginica\n",
              "980   980 5.7          3.0         2.6          0.6         virginica\n",
              "981   981 3.6          2.6         2.3          0.9         virginica\n",
              "982   982 4.0          2.6         1.9          1.6         setosa   \n",
              "983   983 4.5          3.0         2.0          0.3         setosa   \n",
              "984   984 5.9          2.4         1.1          2.3         setosa   \n",
              "985   985 3.3          2.4         1.6          2.8         setosa   \n",
              "986   986 4.6          3.9         2.4          1.8         setosa   \n",
              "987   987 3.2          2.8         1.5          2.9         setosa   \n",
              "988   988 4.8          3.0         2.5          2.1         virginica\n",
              "989   989 5.5          2.6         2.6          0.5         setosa   \n",
              "990   990 3.8          3.6         1.4          0.6         virginica\n",
              "991   991 3.6          3.0         2.1          2.9         setosa   \n",
              "992   992 3.7          2.5         2.6          2.8         virginica\n",
              "993   993 3.2          2.4         2.0          1.2         virginica\n",
              "994   994 4.5          3.7         1.2          0.3         virginica\n",
              "995   995 4.0          2.9         1.0          0.2         virginica\n",
              "996   996 4.5          3.6         2.0          2.7         setosa   \n",
              "997   997 4.0          2.1         2.0          2.1         setosa   \n",
              "998   998 5.9          2.5         2.1          2.5         virginica\n",
              "999   999 5.0          2.6         1.9          1.6                  \n",
              "1000 1000 3.4          3.9         1.9          1.5         setosa   "
            ]
          },
          "metadata": {}
        }
      ]
    },
    {
      "cell_type": "code",
      "source": [
        "# data()\n",
        "glimpse(faithful)\n",
        "?faithful"
      ],
      "metadata": {
        "id": "J4Sk7qAZ0TG2",
        "colab": {
          "base_uri": "https://localhost:8080/"
        },
        "outputId": "8bde40b5-dd4e-4f02-abb4-08df7f72bb29"
      },
      "execution_count": 34,
      "outputs": [
        {
          "output_type": "stream",
          "name": "stdout",
          "text": [
            "Rows: 272\n",
            "Columns: 2\n",
            "$ eruptions \u001b[3m\u001b[90m<dbl>\u001b[39m\u001b[23m 3.600, 1.800, 3.333, 2.283, 4.533, 2.883, 4.700, 3.600, 1.95…\n",
            "$ waiting   \u001b[3m\u001b[90m<dbl>\u001b[39m\u001b[23m 79, 54, 74, 62, 85, 55, 88, 85, 51, 85, 54, 84, 78, 47, 83, …\n"
          ]
        }
      ]
    },
    {
      "cell_type": "markdown",
      "source": [
        "### Remove Whitespace\n",
        "\n",
        "Create a simple data frame with extra space characters thrown in:"
      ],
      "metadata": {
        "id": "QCdErmY7zDL1"
      }
    },
    {
      "cell_type": "code",
      "source": [
        "df_space <- data.frame(first  = c(\"Boston \", \" Chicago \", \"New York \", \" Minneapolis\", \" Portland\"),\n",
        "                        second = c(\"Massachusetts\", \" Illinois\", \"New  York\", \"Minnesota\", \"  Oregon\"),\n",
        "                        third = c(\"New England  \", \"Mid-West\", \" New England\", \"Mid-West\", \"North-West \")\n",
        "                      )"
      ],
      "metadata": {
        "id": "_RXDPBwxzv4I"
      },
      "execution_count": 35,
      "outputs": []
    },
    {
      "cell_type": "code",
      "source": [
        "df_space$first"
      ],
      "metadata": {
        "id": "TMeQLuCCz3Aa",
        "colab": {
          "base_uri": "https://localhost:8080/",
          "height": 34
        },
        "outputId": "fbf262ec-5abe-4d05-b1d6-aa768a7cac94"
      },
      "execution_count": 36,
      "outputs": [
        {
          "output_type": "display_data",
          "data": {
            "text/html": [
              "<style>\n",
              ".list-inline {list-style: none; margin:0; padding: 0}\n",
              ".list-inline>li {display: inline-block}\n",
              ".list-inline>li:not(:last-child)::after {content: \"\\00b7\"; padding: 0 .5ex}\n",
              "</style>\n",
              "<ol class=list-inline><li>'Boston '</li><li>' Chicago '</li><li>'New York '</li><li>' Minneapolis'</li><li>' Portland'</li></ol>\n"
            ],
            "text/markdown": "1. 'Boston '\n2. ' Chicago '\n3. 'New York '\n4. ' Minneapolis'\n5. ' Portland'\n\n\n",
            "text/latex": "\\begin{enumerate*}\n\\item 'Boston '\n\\item ' Chicago '\n\\item 'New York '\n\\item ' Minneapolis'\n\\item ' Portland'\n\\end{enumerate*}\n",
            "text/plain": [
              "[1] \"Boston \"      \" Chicago \"    \"New York \"    \" Minneapolis\" \" Portland\"   "
            ]
          },
          "metadata": {}
        }
      ]
    },
    {
      "cell_type": "code",
      "source": [
        "library(dplyr)\n",
        "library(stringr)\n",
        "\n",
        "df_space %>%\n",
        "  mutate(across(where(is.character), str_trim))"
      ],
      "metadata": {
        "id": "bmu6AgdZzB_L",
        "colab": {
          "base_uri": "https://localhost:8080/",
          "height": 255
        },
        "outputId": "a63720f3-2068-4700-a702-1ad1b0780d2b"
      },
      "execution_count": 37,
      "outputs": [
        {
          "output_type": "display_data",
          "data": {
            "text/html": [
              "<table class=\"dataframe\">\n",
              "<caption>A data.frame: 5 × 3</caption>\n",
              "<thead>\n",
              "\t<tr><th scope=col>first</th><th scope=col>second</th><th scope=col>third</th></tr>\n",
              "\t<tr><th scope=col>&lt;chr&gt;</th><th scope=col>&lt;chr&gt;</th><th scope=col>&lt;chr&gt;</th></tr>\n",
              "</thead>\n",
              "<tbody>\n",
              "\t<tr><td>Boston     </td><td>Massachusetts</td><td>New England</td></tr>\n",
              "\t<tr><td>Chicago    </td><td>Illinois     </td><td>Mid-West   </td></tr>\n",
              "\t<tr><td>New York   </td><td>New  York    </td><td>New England</td></tr>\n",
              "\t<tr><td>Minneapolis</td><td>Minnesota    </td><td>Mid-West   </td></tr>\n",
              "\t<tr><td>Portland   </td><td>Oregon       </td><td>North-West </td></tr>\n",
              "</tbody>\n",
              "</table>\n"
            ],
            "text/markdown": "\nA data.frame: 5 × 3\n\n| first &lt;chr&gt; | second &lt;chr&gt; | third &lt;chr&gt; |\n|---|---|---|\n| Boston      | Massachusetts | New England |\n| Chicago     | Illinois      | Mid-West    |\n| New York    | New  York     | New England |\n| Minneapolis | Minnesota     | Mid-West    |\n| Portland    | Oregon        | North-West  |\n\n",
            "text/latex": "A data.frame: 5 × 3\n\\begin{tabular}{lll}\n first & second & third\\\\\n <chr> & <chr> & <chr>\\\\\n\\hline\n\t Boston      & Massachusetts & New England\\\\\n\t Chicago     & Illinois      & Mid-West   \\\\\n\t New York    & New  York     & New England\\\\\n\t Minneapolis & Minnesota     & Mid-West   \\\\\n\t Portland    & Oregon        & North-West \\\\\n\\end{tabular}\n",
            "text/plain": [
              "  first       second        third      \n",
              "1 Boston      Massachusetts New England\n",
              "2 Chicago     Illinois      Mid-West   \n",
              "3 New York    New  York     New England\n",
              "4 Minneapolis Minnesota     Mid-West   \n",
              "5 Portland    Oregon        North-West "
            ]
          },
          "metadata": {}
        }
      ]
    },
    {
      "cell_type": "code",
      "source": [
        "df_space$first"
      ],
      "metadata": {
        "id": "MCizoSuRz-A6",
        "colab": {
          "base_uri": "https://localhost:8080/",
          "height": 34
        },
        "outputId": "89e34ada-0cad-4c9d-f477-48fe09185bf2"
      },
      "execution_count": 38,
      "outputs": [
        {
          "output_type": "display_data",
          "data": {
            "text/html": [
              "<style>\n",
              ".list-inline {list-style: none; margin:0; padding: 0}\n",
              ".list-inline>li {display: inline-block}\n",
              ".list-inline>li:not(:last-child)::after {content: \"\\00b7\"; padding: 0 .5ex}\n",
              "</style>\n",
              "<ol class=list-inline><li>'Boston '</li><li>' Chicago '</li><li>'New York '</li><li>' Minneapolis'</li><li>' Portland'</li></ol>\n"
            ],
            "text/markdown": "1. 'Boston '\n2. ' Chicago '\n3. 'New York '\n4. ' Minneapolis'\n5. ' Portland'\n\n\n",
            "text/latex": "\\begin{enumerate*}\n\\item 'Boston '\n\\item ' Chicago '\n\\item 'New York '\n\\item ' Minneapolis'\n\\item ' Portland'\n\\end{enumerate*}\n",
            "text/plain": [
              "[1] \"Boston \"      \" Chicago \"    \"New York \"    \" Minneapolis\" \" Portland\"   "
            ]
          },
          "metadata": {}
        }
      ]
    },
    {
      "cell_type": "markdown",
      "source": [
        "Note the above `dplyr` does not save the cleaned data. To do this, assign the output into the same/new parameter:"
      ],
      "metadata": {
        "id": "ldn9mRvL0qBf"
      }
    },
    {
      "cell_type": "code",
      "source": [
        "df_space <- df_space %>%\n",
        "  mutate(across(where(is.character), str_trim))"
      ],
      "metadata": {
        "id": "YDa3SKlg00ZI"
      },
      "execution_count": 39,
      "outputs": []
    },
    {
      "cell_type": "markdown",
      "source": [
        "## Extracting Row Data back into Vector\n",
        "\n",
        "To extract a column of attributes back into a vector, call it out by appending `$ColName` to the data frame."
      ],
      "metadata": {
        "id": "LIRrb60I_CQI"
      }
    },
    {
      "cell_type": "code",
      "source": [
        "df2$sepal_length\n",
        "\n",
        "# Or assign into a var\n",
        "sepal_length_extracted <- df2$sepal_width"
      ],
      "metadata": {
        "id": "YBS7y1jZ-yBF",
        "colab": {
          "base_uri": "https://localhost:8080/",
          "height": 156
        },
        "outputId": "96f875e3-b90a-45a4-e95b-56ef5c36c507"
      },
      "execution_count": 40,
      "outputs": [
        {
          "output_type": "display_data",
          "data": {
            "text/html": [
              "<style>\n",
              ".list-inline {list-style: none; margin:0; padding: 0}\n",
              ".list-inline>li {display: inline-block}\n",
              ".list-inline>li:not(:last-child)::after {content: \"\\00b7\"; padding: 0 .5ex}\n",
              "</style>\n",
              "<ol class=list-inline><li>3.5</li><li>3.6</li><li>3.8</li><li>5.8</li><li>4.9</li><li>5</li><li>4.8</li><li>5.5</li><li>5.5</li><li>4.525</li><li>3.7</li><li>4.525</li><li>4.7</li><li>6</li><li>3.3</li><li>4.1</li><li>4.6</li><li>3.7</li><li>5.5</li><li>3.7</li><li>3.1</li><li>4.4</li><li>5.7</li><li>5.6</li><li>3.2</li><li>5</li><li>3.9</li><li>4.525</li><li>5.8</li><li>4.7</li><li>5.9</li><li>5.6</li><li>4</li><li>5.6</li><li>3.9</li><li>3.1</li><li>4.8</li><li>5.4</li><li>5.4</li><li>5.3</li><li>5.2</li><li>4.6</li><li>5.2</li><li>4.1</li><li>5.2</li><li>3</li><li>4.3</li><li>5.8</li><li>4.6</li><li>3.8</li><li>5.7</li><li>5.1</li><li>4.2</li><li>3.9</li><li>5.2</li><li>3.7</li><li>4.525</li><li>5.9</li><li>4.4</li><li>3</li><li>4.7</li><li>3.7</li><li>5.3</li><li>4.7</li><li>3.6</li><li>3.1</li><li>4.2</li><li>5.4</li><li>5.8</li><li>3.4</li><li>4.3</li><li>4.8</li><li>6</li><li>4.525</li><li>5.8</li><li>3.7</li><li>5.7</li><li>3.8</li><li>5.4</li><li>5</li><li>4.7</li><li>3.6</li><li>4.3</li><li>4.8</li><li>4</li><li>5.1</li><li>5</li><li>5.3</li><li>4.4</li><li>3.3</li><li>3.1</li><li>4.7</li><li>3.1</li><li>6</li><li>3.1</li><li>3.7</li><li>5</li><li>5.5</li><li>4.525</li><li>3</li><li>4.3</li><li>5.6</li><li>4.7</li><li>3.7</li><li>5.4</li><li>3.3</li><li>4.5</li><li>5.9</li><li>4.8</li><li>3.5</li><li>5</li><li>5.4</li><li>6</li><li>5</li><li>3.7</li><li>4.3</li><li>5.1</li><li>5.2</li><li>4.8</li><li>4.6</li><li>3.3</li><li>4.3</li><li>4.7</li><li>3.8</li><li>5.7</li><li>5.8</li><li>5.2</li><li>5.6</li><li>5.6</li><li>5.4</li><li>4.6</li><li>4.525</li><li>5.2</li><li>3.8</li><li>3</li><li>5.8</li><li>5.8</li><li>5.1</li><li>5.9</li><li>3.7</li><li>5.4</li><li>4.525</li><li>5.2</li><li>4.3</li><li>4.8</li><li>5.6</li><li>4.3</li><li>3.6</li><li>5.3</li><li>4.3</li><li>4.5</li><li>4.8</li><li>4.4</li><li>4.2</li><li>3.7</li><li>5</li><li>5.8</li><li>5.8</li><li>5.4</li><li>3.6</li><li>5.3</li><li>4.6</li><li>4.525</li><li>3.1</li><li>3.9</li><li>3.6</li><li>3.9</li><li>3.5</li><li>5.3</li><li>5.1</li><li>3.9</li><li>4.3</li><li>3.6</li><li>3.7</li><li>3.9</li><li>4.525</li><li>4.525</li><li>3.4</li><li>5.5</li><li>4.7</li><li>5.3</li><li>5.7</li><li>4.2</li><li>3.7</li><li>4.7</li><li>3.9</li><li>4.8</li><li>3.6</li><li>3.6</li><li>3.4</li><li>4.6</li><li>5.3</li><li>4.2</li><li>4.3</li><li>5.2</li><li>3.6</li><li>5.1</li><li>3.4</li><li>4.8</li><li>4.7</li><li>⋯</li><li>5.2</li><li>4.8</li><li>4.5</li><li>5.2</li><li>3.6</li><li>4.6</li><li>4.6</li><li>3.1</li><li>4.1</li><li>5.6</li><li>5.3</li><li>4</li><li>4.4</li><li>3.9</li><li>4.2</li><li>5.2</li><li>4</li><li>3.3</li><li>5.7</li><li>3.8</li><li>5.7</li><li>3.9</li><li>3.8</li><li>4</li><li>4.525</li><li>3.9</li><li>5.2</li><li>4.7</li><li>3.8</li><li>4.7</li><li>4.525</li><li>5.1</li><li>3.2</li><li>4.9</li><li>4</li><li>3.6</li><li>4.6</li><li>3.1</li><li>4.1</li><li>3.7</li><li>4.4</li><li>5.3</li><li>5.9</li><li>3.5</li><li>4.8</li><li>5.2</li><li>5</li><li>4.525</li><li>4.7</li><li>4.525</li><li>4.8</li><li>3</li><li>5.7</li><li>3.5</li><li>5</li><li>5.9</li><li>4.8</li><li>5.7</li><li>4.3</li><li>4.7</li><li>4.1</li><li>5.3</li><li>4.9</li><li>3.1</li><li>3</li><li>4.6</li><li>4.525</li><li>5.2</li><li>4.2</li><li>3.4</li><li>4.5</li><li>5.6</li><li>3.1</li><li>6</li><li>4.525</li><li>3.9</li><li>3.6</li><li>3.8</li><li>5.8</li><li>5.2</li><li>4.4</li><li>3.3</li><li>3.9</li><li>4.2</li><li>4.525</li><li>4.6</li><li>3.8</li><li>5</li><li>4.4</li><li>4.5</li><li>3.3</li><li>4.3</li><li>5.7</li><li>4.7</li><li>4.3</li><li>3.9</li><li>3.7</li><li>3.2</li><li>5.1</li><li>3.1</li><li>4.525</li><li>3.3</li><li>3.5</li><li>4.3</li><li>4.3</li><li>4.2</li><li>5</li><li>5</li><li>5.6</li><li>3.9</li><li>4.6</li><li>5.4</li><li>4.525</li><li>3.8</li><li>4.525</li><li>5.3</li><li>3.8</li><li>4.6</li><li>3.2</li><li>4.2</li><li>5.5</li><li>5.9</li><li>4.7</li><li>3.1</li><li>3.4</li><li>3.8</li><li>5.1</li><li>4.2</li><li>5.3</li><li>3.9</li><li>3.8</li><li>5.4</li><li>4</li><li>3.7</li><li>5.4</li><li>5.2</li><li>3.6</li><li>5.6</li><li>3.1</li><li>5.3</li><li>3.7</li><li>5</li><li>5.7</li><li>5.5</li><li>3.8</li><li>5.7</li><li>5.3</li><li>5.7</li><li>5</li><li>5.3</li><li>5.6</li><li>5.9</li><li>5</li><li>4.525</li><li>4.525</li><li>3.6</li><li>4.7</li><li>4.5</li><li>5</li><li>5</li><li>4.2</li><li>4.8</li><li>5.2</li><li>4.5</li><li>5.8</li><li>4.4</li><li>4.6</li><li>3.3</li><li>4.1</li><li>4.6</li><li>3.4</li><li>4.3</li><li>3.7</li><li>3.9</li><li>3.8</li><li>3.1</li><li>3.4</li><li>4.8</li><li>4.525</li><li>5.7</li><li>3.6</li><li>4</li><li>4.5</li><li>5.9</li><li>3.3</li><li>4.6</li><li>3.2</li><li>4.8</li><li>5.5</li><li>3.8</li><li>3.6</li><li>3.7</li><li>3.2</li><li>4.5</li><li>4</li><li>4.5</li><li>4</li><li>5.9</li><li>5</li><li>3.4</li></ol>\n"
            ],
            "text/markdown": "1. 3.5\n2. 3.6\n3. 3.8\n4. 5.8\n5. 4.9\n6. 5\n7. 4.8\n8. 5.5\n9. 5.5\n10. 4.525\n11. 3.7\n12. 4.525\n13. 4.7\n14. 6\n15. 3.3\n16. 4.1\n17. 4.6\n18. 3.7\n19. 5.5\n20. 3.7\n21. 3.1\n22. 4.4\n23. 5.7\n24. 5.6\n25. 3.2\n26. 5\n27. 3.9\n28. 4.525\n29. 5.8\n30. 4.7\n31. 5.9\n32. 5.6\n33. 4\n34. 5.6\n35. 3.9\n36. 3.1\n37. 4.8\n38. 5.4\n39. 5.4\n40. 5.3\n41. 5.2\n42. 4.6\n43. 5.2\n44. 4.1\n45. 5.2\n46. 3\n47. 4.3\n48. 5.8\n49. 4.6\n50. 3.8\n51. 5.7\n52. 5.1\n53. 4.2\n54. 3.9\n55. 5.2\n56. 3.7\n57. 4.525\n58. 5.9\n59. 4.4\n60. 3\n61. 4.7\n62. 3.7\n63. 5.3\n64. 4.7\n65. 3.6\n66. 3.1\n67. 4.2\n68. 5.4\n69. 5.8\n70. 3.4\n71. 4.3\n72. 4.8\n73. 6\n74. 4.525\n75. 5.8\n76. 3.7\n77. 5.7\n78. 3.8\n79. 5.4\n80. 5\n81. 4.7\n82. 3.6\n83. 4.3\n84. 4.8\n85. 4\n86. 5.1\n87. 5\n88. 5.3\n89. 4.4\n90. 3.3\n91. 3.1\n92. 4.7\n93. 3.1\n94. 6\n95. 3.1\n96. 3.7\n97. 5\n98. 5.5\n99. 4.525\n100. 3\n101. 4.3\n102. 5.6\n103. 4.7\n104. 3.7\n105. 5.4\n106. 3.3\n107. 4.5\n108. 5.9\n109. 4.8\n110. 3.5\n111. 5\n112. 5.4\n113. 6\n114. 5\n115. 3.7\n116. 4.3\n117. 5.1\n118. 5.2\n119. 4.8\n120. 4.6\n121. 3.3\n122. 4.3\n123. 4.7\n124. 3.8\n125. 5.7\n126. 5.8\n127. 5.2\n128. 5.6\n129. 5.6\n130. 5.4\n131. 4.6\n132. 4.525\n133. 5.2\n134. 3.8\n135. 3\n136. 5.8\n137. 5.8\n138. 5.1\n139. 5.9\n140. 3.7\n141. 5.4\n142. 4.525\n143. 5.2\n144. 4.3\n145. 4.8\n146. 5.6\n147. 4.3\n148. 3.6\n149. 5.3\n150. 4.3\n151. 4.5\n152. 4.8\n153. 4.4\n154. 4.2\n155. 3.7\n156. 5\n157. 5.8\n158. 5.8\n159. 5.4\n160. 3.6\n161. 5.3\n162. 4.6\n163. 4.525\n164. 3.1\n165. 3.9\n166. 3.6\n167. 3.9\n168. 3.5\n169. 5.3\n170. 5.1\n171. 3.9\n172. 4.3\n173. 3.6\n174. 3.7\n175. 3.9\n176. 4.525\n177. 4.525\n178. 3.4\n179. 5.5\n180. 4.7\n181. 5.3\n182. 5.7\n183. 4.2\n184. 3.7\n185. 4.7\n186. 3.9\n187. 4.8\n188. 3.6\n189. 3.6\n190. 3.4\n191. 4.6\n192. 5.3\n193. 4.2\n194. 4.3\n195. 5.2\n196. 3.6\n197. 5.1\n198. 3.4\n199. 4.8\n200. 4.7\n201. ⋯\n202. 5.2\n203. 4.8\n204. 4.5\n205. 5.2\n206. 3.6\n207. 4.6\n208. 4.6\n209. 3.1\n210. 4.1\n211. 5.6\n212. 5.3\n213. 4\n214. 4.4\n215. 3.9\n216. 4.2\n217. 5.2\n218. 4\n219. 3.3\n220. 5.7\n221. 3.8\n222. 5.7\n223. 3.9\n224. 3.8\n225. 4\n226. 4.525\n227. 3.9\n228. 5.2\n229. 4.7\n230. 3.8\n231. 4.7\n232. 4.525\n233. 5.1\n234. 3.2\n235. 4.9\n236. 4\n237. 3.6\n238. 4.6\n239. 3.1\n240. 4.1\n241. 3.7\n242. 4.4\n243. 5.3\n244. 5.9\n245. 3.5\n246. 4.8\n247. 5.2\n248. 5\n249. 4.525\n250. 4.7\n251. 4.525\n252. 4.8\n253. 3\n254. 5.7\n255. 3.5\n256. 5\n257. 5.9\n258. 4.8\n259. 5.7\n260. 4.3\n261. 4.7\n262. 4.1\n263. 5.3\n264. 4.9\n265. 3.1\n266. 3\n267. 4.6\n268. 4.525\n269. 5.2\n270. 4.2\n271. 3.4\n272. 4.5\n273. 5.6\n274. 3.1\n275. 6\n276. 4.525\n277. 3.9\n278. 3.6\n279. 3.8\n280. 5.8\n281. 5.2\n282. 4.4\n283. 3.3\n284. 3.9\n285. 4.2\n286. 4.525\n287. 4.6\n288. 3.8\n289. 5\n290. 4.4\n291. 4.5\n292. 3.3\n293. 4.3\n294. 5.7\n295. 4.7\n296. 4.3\n297. 3.9\n298. 3.7\n299. 3.2\n300. 5.1\n301. 3.1\n302. 4.525\n303. 3.3\n304. 3.5\n305. 4.3\n306. 4.3\n307. 4.2\n308. 5\n309. 5\n310. 5.6\n311. 3.9\n312. 4.6\n313. 5.4\n314. 4.525\n315. 3.8\n316. 4.525\n317. 5.3\n318. 3.8\n319. 4.6\n320. 3.2\n321. 4.2\n322. 5.5\n323. 5.9\n324. 4.7\n325. 3.1\n326. 3.4\n327. 3.8\n328. 5.1\n329. 4.2\n330. 5.3\n331. 3.9\n332. 3.8\n333. 5.4\n334. 4\n335. 3.7\n336. 5.4\n337. 5.2\n338. 3.6\n339. 5.6\n340. 3.1\n341. 5.3\n342. 3.7\n343. 5\n344. 5.7\n345. 5.5\n346. 3.8\n347. 5.7\n348. 5.3\n349. 5.7\n350. 5\n351. 5.3\n352. 5.6\n353. 5.9\n354. 5\n355. 4.525\n356. 4.525\n357. 3.6\n358. 4.7\n359. 4.5\n360. 5\n361. 5\n362. 4.2\n363. 4.8\n364. 5.2\n365. 4.5\n366. 5.8\n367. 4.4\n368. 4.6\n369. 3.3\n370. 4.1\n371. 4.6\n372. 3.4\n373. 4.3\n374. 3.7\n375. 3.9\n376. 3.8\n377. 3.1\n378. 3.4\n379. 4.8\n380. 4.525\n381. 5.7\n382. 3.6\n383. 4\n384. 4.5\n385. 5.9\n386. 3.3\n387. 4.6\n388. 3.2\n389. 4.8\n390. 5.5\n391. 3.8\n392. 3.6\n393. 3.7\n394. 3.2\n395. 4.5\n396. 4\n397. 4.5\n398. 4\n399. 5.9\n400. 5\n401. 3.4\n\n\n",
            "text/latex": "\\begin{enumerate*}\n\\item 3.5\n\\item 3.6\n\\item 3.8\n\\item 5.8\n\\item 4.9\n\\item 5\n\\item 4.8\n\\item 5.5\n\\item 5.5\n\\item 4.525\n\\item 3.7\n\\item 4.525\n\\item 4.7\n\\item 6\n\\item 3.3\n\\item 4.1\n\\item 4.6\n\\item 3.7\n\\item 5.5\n\\item 3.7\n\\item 3.1\n\\item 4.4\n\\item 5.7\n\\item 5.6\n\\item 3.2\n\\item 5\n\\item 3.9\n\\item 4.525\n\\item 5.8\n\\item 4.7\n\\item 5.9\n\\item 5.6\n\\item 4\n\\item 5.6\n\\item 3.9\n\\item 3.1\n\\item 4.8\n\\item 5.4\n\\item 5.4\n\\item 5.3\n\\item 5.2\n\\item 4.6\n\\item 5.2\n\\item 4.1\n\\item 5.2\n\\item 3\n\\item 4.3\n\\item 5.8\n\\item 4.6\n\\item 3.8\n\\item 5.7\n\\item 5.1\n\\item 4.2\n\\item 3.9\n\\item 5.2\n\\item 3.7\n\\item 4.525\n\\item 5.9\n\\item 4.4\n\\item 3\n\\item 4.7\n\\item 3.7\n\\item 5.3\n\\item 4.7\n\\item 3.6\n\\item 3.1\n\\item 4.2\n\\item 5.4\n\\item 5.8\n\\item 3.4\n\\item 4.3\n\\item 4.8\n\\item 6\n\\item 4.525\n\\item 5.8\n\\item 3.7\n\\item 5.7\n\\item 3.8\n\\item 5.4\n\\item 5\n\\item 4.7\n\\item 3.6\n\\item 4.3\n\\item 4.8\n\\item 4\n\\item 5.1\n\\item 5\n\\item 5.3\n\\item 4.4\n\\item 3.3\n\\item 3.1\n\\item 4.7\n\\item 3.1\n\\item 6\n\\item 3.1\n\\item 3.7\n\\item 5\n\\item 5.5\n\\item 4.525\n\\item 3\n\\item 4.3\n\\item 5.6\n\\item 4.7\n\\item 3.7\n\\item 5.4\n\\item 3.3\n\\item 4.5\n\\item 5.9\n\\item 4.8\n\\item 3.5\n\\item 5\n\\item 5.4\n\\item 6\n\\item 5\n\\item 3.7\n\\item 4.3\n\\item 5.1\n\\item 5.2\n\\item 4.8\n\\item 4.6\n\\item 3.3\n\\item 4.3\n\\item 4.7\n\\item 3.8\n\\item 5.7\n\\item 5.8\n\\item 5.2\n\\item 5.6\n\\item 5.6\n\\item 5.4\n\\item 4.6\n\\item 4.525\n\\item 5.2\n\\item 3.8\n\\item 3\n\\item 5.8\n\\item 5.8\n\\item 5.1\n\\item 5.9\n\\item 3.7\n\\item 5.4\n\\item 4.525\n\\item 5.2\n\\item 4.3\n\\item 4.8\n\\item 5.6\n\\item 4.3\n\\item 3.6\n\\item 5.3\n\\item 4.3\n\\item 4.5\n\\item 4.8\n\\item 4.4\n\\item 4.2\n\\item 3.7\n\\item 5\n\\item 5.8\n\\item 5.8\n\\item 5.4\n\\item 3.6\n\\item 5.3\n\\item 4.6\n\\item 4.525\n\\item 3.1\n\\item 3.9\n\\item 3.6\n\\item 3.9\n\\item 3.5\n\\item 5.3\n\\item 5.1\n\\item 3.9\n\\item 4.3\n\\item 3.6\n\\item 3.7\n\\item 3.9\n\\item 4.525\n\\item 4.525\n\\item 3.4\n\\item 5.5\n\\item 4.7\n\\item 5.3\n\\item 5.7\n\\item 4.2\n\\item 3.7\n\\item 4.7\n\\item 3.9\n\\item 4.8\n\\item 3.6\n\\item 3.6\n\\item 3.4\n\\item 4.6\n\\item 5.3\n\\item 4.2\n\\item 4.3\n\\item 5.2\n\\item 3.6\n\\item 5.1\n\\item 3.4\n\\item 4.8\n\\item 4.7\n\\item ⋯\n\\item 5.2\n\\item 4.8\n\\item 4.5\n\\item 5.2\n\\item 3.6\n\\item 4.6\n\\item 4.6\n\\item 3.1\n\\item 4.1\n\\item 5.6\n\\item 5.3\n\\item 4\n\\item 4.4\n\\item 3.9\n\\item 4.2\n\\item 5.2\n\\item 4\n\\item 3.3\n\\item 5.7\n\\item 3.8\n\\item 5.7\n\\item 3.9\n\\item 3.8\n\\item 4\n\\item 4.525\n\\item 3.9\n\\item 5.2\n\\item 4.7\n\\item 3.8\n\\item 4.7\n\\item 4.525\n\\item 5.1\n\\item 3.2\n\\item 4.9\n\\item 4\n\\item 3.6\n\\item 4.6\n\\item 3.1\n\\item 4.1\n\\item 3.7\n\\item 4.4\n\\item 5.3\n\\item 5.9\n\\item 3.5\n\\item 4.8\n\\item 5.2\n\\item 5\n\\item 4.525\n\\item 4.7\n\\item 4.525\n\\item 4.8\n\\item 3\n\\item 5.7\n\\item 3.5\n\\item 5\n\\item 5.9\n\\item 4.8\n\\item 5.7\n\\item 4.3\n\\item 4.7\n\\item 4.1\n\\item 5.3\n\\item 4.9\n\\item 3.1\n\\item 3\n\\item 4.6\n\\item 4.525\n\\item 5.2\n\\item 4.2\n\\item 3.4\n\\item 4.5\n\\item 5.6\n\\item 3.1\n\\item 6\n\\item 4.525\n\\item 3.9\n\\item 3.6\n\\item 3.8\n\\item 5.8\n\\item 5.2\n\\item 4.4\n\\item 3.3\n\\item 3.9\n\\item 4.2\n\\item 4.525\n\\item 4.6\n\\item 3.8\n\\item 5\n\\item 4.4\n\\item 4.5\n\\item 3.3\n\\item 4.3\n\\item 5.7\n\\item 4.7\n\\item 4.3\n\\item 3.9\n\\item 3.7\n\\item 3.2\n\\item 5.1\n\\item 3.1\n\\item 4.525\n\\item 3.3\n\\item 3.5\n\\item 4.3\n\\item 4.3\n\\item 4.2\n\\item 5\n\\item 5\n\\item 5.6\n\\item 3.9\n\\item 4.6\n\\item 5.4\n\\item 4.525\n\\item 3.8\n\\item 4.525\n\\item 5.3\n\\item 3.8\n\\item 4.6\n\\item 3.2\n\\item 4.2\n\\item 5.5\n\\item 5.9\n\\item 4.7\n\\item 3.1\n\\item 3.4\n\\item 3.8\n\\item 5.1\n\\item 4.2\n\\item 5.3\n\\item 3.9\n\\item 3.8\n\\item 5.4\n\\item 4\n\\item 3.7\n\\item 5.4\n\\item 5.2\n\\item 3.6\n\\item 5.6\n\\item 3.1\n\\item 5.3\n\\item 3.7\n\\item 5\n\\item 5.7\n\\item 5.5\n\\item 3.8\n\\item 5.7\n\\item 5.3\n\\item 5.7\n\\item 5\n\\item 5.3\n\\item 5.6\n\\item 5.9\n\\item 5\n\\item 4.525\n\\item 4.525\n\\item 3.6\n\\item 4.7\n\\item 4.5\n\\item 5\n\\item 5\n\\item 4.2\n\\item 4.8\n\\item 5.2\n\\item 4.5\n\\item 5.8\n\\item 4.4\n\\item 4.6\n\\item 3.3\n\\item 4.1\n\\item 4.6\n\\item 3.4\n\\item 4.3\n\\item 3.7\n\\item 3.9\n\\item 3.8\n\\item 3.1\n\\item 3.4\n\\item 4.8\n\\item 4.525\n\\item 5.7\n\\item 3.6\n\\item 4\n\\item 4.5\n\\item 5.9\n\\item 3.3\n\\item 4.6\n\\item 3.2\n\\item 4.8\n\\item 5.5\n\\item 3.8\n\\item 3.6\n\\item 3.7\n\\item 3.2\n\\item 4.5\n\\item 4\n\\item 4.5\n\\item 4\n\\item 5.9\n\\item 5\n\\item 3.4\n\\end{enumerate*}\n",
            "text/plain": [
              "   [1] 3.500 3.600 3.800 5.800 4.900 5.000 4.800 5.500 5.500 4.525 3.700 4.525\n",
              "  [13] 4.700 6.000 3.300 4.100 4.600 3.700 5.500 3.700 3.100 4.400 5.700 5.600\n",
              "  [25] 3.200 5.000 3.900 4.525 5.800 4.700 5.900 5.600 4.000 5.600 3.900 3.100\n",
              "  [37] 4.800 5.400 5.400 5.300 5.200 4.600 5.200 4.100 5.200 3.000 4.300 5.800\n",
              "  [49] 4.600 3.800 5.700 5.100 4.200 3.900 5.200 3.700 4.525 5.900 4.400 3.000\n",
              "  [61] 4.700 3.700 5.300 4.700 3.600 3.100 4.200 5.400 5.800 3.400 4.300 4.800\n",
              "  [73] 6.000 4.525 5.800 3.700 5.700 3.800 5.400 5.000 4.700 3.600 4.300 4.800\n",
              "  [85] 4.000 5.100 5.000 5.300 4.400 3.300 3.100 4.700 3.100 6.000 3.100 3.700\n",
              "  [97] 5.000 5.500 4.525 3.000 4.300 5.600 4.700 3.700 5.400 3.300 4.500 5.900\n",
              " [109] 4.800 3.500 5.000 5.400 6.000 5.000 3.700 4.300 5.100 5.200 4.800 4.600\n",
              " [121] 3.300 4.300 4.700 3.800 5.700 5.800 5.200 5.600 5.600 5.400 4.600 4.525\n",
              " [133] 5.200 3.800 3.000 5.800 5.800 5.100 5.900 3.700 5.400 4.525 5.200 4.300\n",
              " [145] 4.800 5.600 4.300 3.600 5.300 4.300 4.500 4.800 4.400 4.200 3.700 5.000\n",
              " [157] 5.800 5.800 5.400 3.600 5.300 4.600 4.525 3.100 3.900 3.600 3.900 3.500\n",
              " [169] 5.300 5.100 3.900 4.300 3.600 3.700 3.900 4.525 4.525 3.400 5.500 4.700\n",
              " [181] 5.300 5.700 4.200 3.700 4.700 3.900 4.800 3.600 3.600 3.400 4.600 5.300\n",
              " [193] 4.200 4.300 5.200 3.600 5.100 3.400 4.800 4.700 3.500 4.600 5.400 3.200\n",
              " [205] 4.400 5.800 5.000 3.700 5.800 3.800 5.800 3.900 3.200 4.600 5.400 5.600\n",
              " [217] 4.700 5.500 4.525 4.900 4.200 3.800 4.800 4.600 4.900 5.600 3.300 5.800\n",
              " [229] 5.800 4.600 3.700 4.500 4.900 4.900 5.100 3.300 4.800 3.100 3.400 3.600\n",
              " [241] 3.500 4.100 5.600 5.700 3.800 5.800 4.800 5.900 3.100 5.000 4.700 3.100\n",
              " [253] 5.000 5.200 4.000 3.400 5.800 4.100 5.900 4.525 4.600 4.100 5.300 5.600\n",
              " [265] 4.500 4.525 4.100 4.400 5.800 5.700 3.400 4.800 5.600 4.300 3.200 5.100\n",
              " [277] 5.200 5.800 3.300 3.000 4.600 5.200 4.300 4.200 4.400 3.600 3.200 3.800\n",
              " [289] 5.900 4.000 3.200 4.700 3.500 4.525 4.800 4.900 4.100 4.000 3.200 3.900\n",
              " [301] 3.000 4.500 3.600 5.700 5.800 5.100 5.600 5.700 4.200 4.800 3.500 6.000\n",
              " [313] 5.800 4.900 3.600 4.525 5.000 5.100 4.600 4.700 3.700 3.700 4.100 3.200\n",
              " [325] 4.600 3.900 4.000 5.900 3.300 5.600 4.600 3.800 4.500 3.100 3.500 4.700\n",
              " [337] 3.500 3.300 5.500 6.000 5.100 3.500 3.200 3.800 5.300 5.100 3.200 5.600\n",
              " [349] 5.800 5.200 6.000 4.800 5.700 4.600 4.900 3.800 5.200 4.100 5.900 3.300\n",
              " [361] 5.900 4.100 5.300 5.200 5.200 5.800 5.000 3.900 4.900 4.100 4.200 3.300\n",
              " [373] 4.900 4.700 4.900 4.500 5.600 4.300 4.800 5.800 5.500 4.100 4.600 3.700\n",
              " [385] 3.400 3.400 4.700 4.900 3.600 5.300 4.500 4.100 4.000 4.800 3.400 4.525\n",
              " [397] 3.900 4.000 4.100 5.100 5.700 5.400 4.700 4.800 4.900 3.200 3.300 3.200\n",
              " [409] 3.300 4.500 4.800 4.525 5.800 3.300 3.100 4.300 5.700 5.600 4.300 4.100\n",
              " [421] 5.000 5.100 3.600 4.300 4.800 5.300 4.200 3.600 5.200 4.525 3.900 5.000\n",
              " [433] 4.700 5.400 3.500 3.700 5.400 5.700 3.800 3.200 4.525 3.700 5.300 3.300\n",
              " [445] 5.100 4.100 4.300 4.525 5.200 4.200 3.500 4.600 4.900 4.100 4.200 4.400\n",
              " [457] 4.800 5.500 5.100 4.900 5.200 5.900 3.100 4.800 4.525 5.900 5.900 4.300\n",
              " [469] 4.400 5.900 4.900 3.800 5.400 5.500 4.400 5.200 3.500 3.300 3.800 4.600\n",
              " [481] 3.900 4.525 3.700 4.600 4.200 5.400 4.400 5.700 4.700 3.900 5.300 5.300\n",
              " [493] 4.500 4.600 5.500 4.900 3.200 3.100 4.800 3.300 4.900 4.200 3.700 3.400\n",
              " [505] 3.300 5.300 4.700 4.800 3.400 3.100 4.500 3.800 3.700 3.000 4.000 5.300\n",
              " [517] 3.000 6.000 4.525 5.400 4.600 4.525 4.400 4.500 6.000 5.700 4.200 5.100\n",
              " [529] 6.000 4.000 6.000 5.600 3.000 3.400 4.525 3.100 5.200 5.700 3.100 4.525\n",
              " [541] 4.600 4.900 3.200 3.300 3.100 4.525 5.300 3.200 5.500 5.400 3.200 4.525\n",
              " [553] 5.100 3.300 5.800 3.900 5.300 4.800 4.200 3.900 5.700 4.525 4.500 5.300\n",
              " [565] 5.500 5.500 4.500 4.700 4.200 5.300 4.100 3.300 4.400 5.400 3.000 3.900\n",
              " [577] 3.000 4.300 3.700 4.525 3.400 4.900 4.525 5.400 5.300 4.525 3.300 5.100\n",
              " [589] 5.500 5.300 4.400 4.200 3.100 4.800 4.100 3.800 3.500 4.525 4.900 4.300\n",
              " [601] 3.400 5.500 5.000 5.000 5.600 4.525 5.000 4.500 5.500 3.700 5.900 4.000\n",
              " [613] 3.100 3.800 4.000 4.600 4.900 5.500 5.400 4.200 4.600 5.200 3.800 5.800\n",
              " [625] 3.400 3.500 4.600 4.900 4.000 4.200 4.900 3.700 3.800 5.500 3.600 3.600\n",
              " [637] 3.600 4.800 4.400 6.000 4.000 3.600 3.100 5.700 5.100 4.700 5.300 5.300\n",
              " [649] 3.900 3.000 4.525 5.200 4.200 4.500 4.500 5.400 3.500 5.800 3.800 3.600\n",
              " [661] 3.200 5.000 3.500 3.300 3.900 3.900 5.800 3.700 4.500 5.500 5.800 5.100\n",
              " [673] 4.500 3.600 5.500 5.800 3.700 4.800 3.700 5.200 5.200 4.525 5.600 5.100\n",
              " [685] 5.700 4.800 5.700 4.900 4.500 5.400 4.000 4.700 5.000 5.100 4.300 5.300\n",
              " [697] 3.000 5.200 4.900 4.800 3.400 4.525 4.400 5.700 4.525 4.200 4.525 4.525\n",
              " [709] 4.500 5.100 5.300 6.000 3.600 4.800 3.500 5.500 4.100 4.700 3.200 4.700\n",
              " [721] 3.400 3.000 5.100 4.800 4.700 4.000 3.900 5.700 3.700 4.900 5.700 4.300\n",
              " [733] 3.300 4.525 5.700 5.500 5.600 4.100 3.300 3.600 3.800 4.800 4.900 4.525\n",
              " [745] 5.600 4.900 4.400 3.400 5.900 3.300 3.900 4.600 3.900 5.900 5.900 6.000\n",
              " [757] 5.100 5.600 5.100 4.600 5.500 4.800 5.600 5.100 4.400 5.500 3.600 4.100\n",
              " [769] 5.800 4.700 3.100 3.800 4.500 3.200 3.500 4.525 5.500 4.525 5.300 5.200\n",
              " [781] 4.500 3.400 5.500 5.900 4.800 4.600 5.700 5.800 4.200 4.300 3.500 3.600\n",
              " [793] 4.525 5.600 4.525 4.100 3.600 4.100 3.900 5.800 5.200 4.800 4.500 5.200\n",
              " [805] 3.600 4.600 4.600 3.100 4.100 5.600 5.300 4.000 4.400 3.900 4.200 5.200\n",
              " [817] 4.000 3.300 5.700 3.800 5.700 3.900 3.800 4.000 4.525 3.900 5.200 4.700\n",
              " [829] 3.800 4.700 4.525 5.100 3.200 4.900 4.000 3.600 4.600 3.100 4.100 3.700\n",
              " [841] 4.400 5.300 5.900 3.500 4.800 5.200 5.000 4.525 4.700 4.525 4.800 3.000\n",
              " [853] 5.700 3.500 5.000 5.900 4.800 5.700 4.300 4.700 4.100 5.300 4.900 3.100\n",
              " [865] 3.000 4.600 4.525 5.200 4.200 3.400 4.500 5.600 3.100 6.000 4.525 3.900\n",
              " [877] 3.600 3.800 5.800 5.200 4.400 3.300 3.900 4.200 4.525 4.600 3.800 5.000\n",
              " [889] 4.400 4.500 3.300 4.300 5.700 4.700 4.300 3.900 3.700 3.200 5.100 3.100\n",
              " [901] 4.525 3.300 3.500 4.300 4.300 4.200 5.000 5.000 5.600 3.900 4.600 5.400\n",
              " [913] 4.525 3.800 4.525 5.300 3.800 4.600 3.200 4.200 5.500 5.900 4.700 3.100\n",
              " [925] 3.400 3.800 5.100 4.200 5.300 3.900 3.800 5.400 4.000 3.700 5.400 5.200\n",
              " [937] 3.600 5.600 3.100 5.300 3.700 5.000 5.700 5.500 3.800 5.700 5.300 5.700\n",
              " [949] 5.000 5.300 5.600 5.900 5.000 4.525 4.525 3.600 4.700 4.500 5.000 5.000\n",
              " [961] 4.200 4.800 5.200 4.500 5.800 4.400 4.600 3.300 4.100 4.600 3.400 4.300\n",
              " [973] 3.700 3.900 3.800 3.100 3.400 4.800 4.525 5.700 3.600 4.000 4.500 5.900\n",
              " [985] 3.300 4.600 3.200 4.800 5.500 3.800 3.600 3.700 3.200 4.500 4.000 4.500\n",
              " [997] 4.000 5.900 5.000 3.400"
            ]
          },
          "metadata": {}
        }
      ]
    }
  ]
}