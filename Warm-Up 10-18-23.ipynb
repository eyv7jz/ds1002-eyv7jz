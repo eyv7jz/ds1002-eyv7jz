{
  "nbformat": 4,
  "nbformat_minor": 0,
  "metadata": {
    "colab": {
      "provenance": [],
      "authorship_tag": "ABX9TyOtxzdKwlWhsjL2m+eVK+wD",
      "include_colab_link": true
    },
    "kernelspec": {
      "name": "python3",
      "display_name": "Python 3"
    },
    "language_info": {
      "name": "python"
    }
  },
  "cells": [
    {
      "cell_type": "markdown",
      "metadata": {
        "id": "view-in-github",
        "colab_type": "text"
      },
      "source": [
        "<a href=\"https://colab.research.google.com/github/eyv7jz/ds1002-eyv7jz/blob/main/Warm-Up%2010/18/23.ipynb\" target=\"_parent\"><img src=\"https://colab.research.google.com/assets/colab-badge.svg\" alt=\"Open In Colab\"/></a>"
      ]
    },
    {
      "cell_type": "markdown",
      "source": [
        "# Warm-Up"
      ],
      "metadata": {
        "id": "kVOpIcFSF4ku"
      }
    },
    {
      "cell_type": "code",
      "source": [
        "# write a function that takes TWO integer parameters.\n",
        "# The function should range from the first integer to the second\n",
        "# The function should then evaluate each integer and determine whether\n",
        "# it is even or odd, and print that out for every item\n",
        "\n",
        "# when I did this I forogt to do the def line\n",
        "# for i in range(0,10):\n",
        "#    if i % 2 == 0:\n",
        "#      print(\"value is even\")\n",
        "#    else:\n",
        "#      print(\"value is odd\")\n",
        "\n",
        "def even_or_odd(start,finish):\n",
        "  for i in range(start,finish):\n",
        "    if i % 2 == 0:\n",
        "      print(i,\"is even\")\n",
        "    else:\n",
        "      print(i,\"is odd\")\n",
        "\n",
        "even_or_odd(0,10)\n",
        "# or write the code as...\n",
        "# start = 0\n",
        "# finish = 10\n",
        "# even_or_odd(start,finish)\n",
        "# or even\n",
        "# v = 0\n",
        "# g = 10\n",
        "# even_or_odd(v,g)"
      ],
      "metadata": {
        "colab": {
          "base_uri": "https://localhost:8080/"
        },
        "id": "UUHb7-FVGBbl",
        "outputId": "60c400a7-8aa6-4913-b7f4-be3bfd67bb9c"
      },
      "execution_count": 6,
      "outputs": [
        {
          "output_type": "stream",
          "name": "stdout",
          "text": [
            "0 is even\n",
            "1 is odd\n",
            "2 is even\n",
            "3 is odd\n",
            "4 is even\n",
            "5 is odd\n",
            "6 is even\n",
            "7 is odd\n",
            "8 is even\n",
            "9 is odd\n"
          ]
        }
      ]
    }
  ]
}
