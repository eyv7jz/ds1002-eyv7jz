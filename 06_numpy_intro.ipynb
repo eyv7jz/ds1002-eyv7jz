{
  "nbformat": 4,
  "nbformat_minor": 0,
  "metadata": {
    "colab": {
      "provenance": [],
      "include_colab_link": true
    },
    "kernelspec": {
      "name": "python3",
      "display_name": "Python 3"
    },
    "language_info": {
      "name": "python"
    }
  },
  "cells": [
    {
      "cell_type": "markdown",
      "metadata": {
        "id": "view-in-github",
        "colab_type": "text"
      },
      "source": [
        "<a href=\"https://colab.research.google.com/github/eyv7jz/ds1002-eyv7jz/blob/main/06_numpy_intro.ipynb\" target=\"_parent\"><img src=\"https://colab.research.google.com/assets/colab-badge.svg\" alt=\"Open In Colab\"/></a>"
      ]
    },
    {
      "cell_type": "markdown",
      "source": [
        "## Installing & Importing Packages"
      ],
      "metadata": {
        "id": "bP9jDhP4ya3x"
      }
    },
    {
      "cell_type": "markdown",
      "source": [
        "`numpy` is the first Python package we will be using. External packages not built into Python usually have to be (1) installed and (2) imported.\n",
        "\n",
        "### Installing\n",
        "\n",
        "To install any package into your current Google Colab session, use the `!pip` command like this:\n",
        "```\n",
        "!pip install numpy\n",
        "```\n",
        "However, `numpy` is such a common package it comes pre-installed here.\n",
        "\n",
        "### Importing\n",
        "Once a package is installed into your system, it must be imported into any Python code using the `import` command:\n",
        "```\n",
        "import numpy\n",
        "```\n",
        "### Import Aliases\n",
        "Python also allows import statements to declare an alias for referencing the package. It is a common practice among `numpy` users to import it as `np` like this:\n",
        "```\n",
        "import numpy as np\n",
        "```"
      ],
      "metadata": {
        "id": "7SPm4s7TDoGF"
      }
    },
    {
      "cell_type": "markdown",
      "source": [
        "## Basic NumPy Array Functionality"
      ],
      "metadata": {
        "id": "cZ09VMUnE0hn"
      }
    },
    {
      "cell_type": "code",
      "source": [
        "import numpy as np"
      ],
      "metadata": {
        "id": "pTtxnCPmDmzx"
      },
      "execution_count": 1,
      "outputs": []
    },
    {
      "cell_type": "code",
      "source": [
        "z = np.ones(10)\n",
        "z"
      ],
      "metadata": {
        "id": "oOCGJiPnxO7L",
        "outputId": "72addd4e-b2cd-4b5c-8777-014c65573bd5",
        "colab": {
          "base_uri": "https://localhost:8080/"
        }
      },
      "execution_count": 2,
      "outputs": [
        {
          "output_type": "execute_result",
          "data": {
            "text/plain": [
              "array([1., 1., 1., 1., 1., 1., 1., 1., 1., 1.])"
            ]
          },
          "metadata": {},
          "execution_count": 2
        }
      ]
    },
    {
      "cell_type": "code",
      "source": [
        "z.shape"
      ],
      "metadata": {
        "id": "QCvVComPxf_7",
        "outputId": "ae8b4ea1-0415-4ace-df25-2cbc2883f28c",
        "colab": {
          "base_uri": "https://localhost:8080/"
        }
      },
      "execution_count": 3,
      "outputs": [
        {
          "output_type": "execute_result",
          "data": {
            "text/plain": [
              "(10,)"
            ]
          },
          "metadata": {},
          "execution_count": 3
        }
      ]
    },
    {
      "cell_type": "code",
      "source": [
        "z = np.linspace(2, 10, 5)         # go from 2 to 10, with 5 elements\n",
        "z"
      ],
      "metadata": {
        "id": "K9o0_jOcxmeX",
        "outputId": "558e4412-3d3a-42fe-e947-8cf4b80d145d",
        "colab": {
          "base_uri": "https://localhost:8080/"
        }
      },
      "execution_count": 4,
      "outputs": [
        {
          "output_type": "execute_result",
          "data": {
            "text/plain": [
              "array([ 2.,  4.,  6.,  8., 10.])"
            ]
          },
          "metadata": {},
          "execution_count": 4
        }
      ]
    },
    {
      "cell_type": "code",
      "source": [
        "a_list = [1,2,3,4,5,6,7]\n",
        "z = np.array([a_list])\n",
        "z"
      ],
      "metadata": {
        "id": "DgYzyO8Vxwez",
        "outputId": "45563502-d205-4183-d495-46d2123f292e",
        "colab": {
          "base_uri": "https://localhost:8080/"
        }
      },
      "execution_count": 5,
      "outputs": [
        {
          "output_type": "execute_result",
          "data": {
            "text/plain": [
              "array([[1, 2, 3, 4, 5, 6, 7]])"
            ]
          },
          "metadata": {},
          "execution_count": 5
        }
      ]
    },
    {
      "cell_type": "code",
      "source": [
        "type(z)"
      ],
      "metadata": {
        "id": "bCLMABEhx5Ix",
        "outputId": "894b30a9-4a07-4b99-bd72-a6a2fb92806d",
        "colab": {
          "base_uri": "https://localhost:8080/"
        }
      },
      "execution_count": 6,
      "outputs": [
        {
          "output_type": "execute_result",
          "data": {
            "text/plain": [
              "numpy.ndarray"
            ]
          },
          "metadata": {},
          "execution_count": 6
        }
      ]
    },
    {
      "cell_type": "code",
      "source": [
        "b_list = [[9,8,7,6,5,4,3],[1,2,3,4,5,6,7]]      # 2-dimensional array\n",
        "z = np.array([b_list])\n",
        "z"
      ],
      "metadata": {
        "id": "yHljhRBex9Lg",
        "outputId": "73f6c3b4-0d86-48e3-87b0-e3f7d59c6e38",
        "colab": {
          "base_uri": "https://localhost:8080/"
        }
      },
      "execution_count": 7,
      "outputs": [
        {
          "output_type": "execute_result",
          "data": {
            "text/plain": [
              "array([[[9, 8, 7, 6, 5, 4, 3],\n",
              "        [1, 2, 3, 4, 5, 6, 7]]])"
            ]
          },
          "metadata": {},
          "execution_count": 7
        }
      ]
    },
    {
      "cell_type": "code",
      "source": [
        "z.shape       # get the shape of the array\n",
        "z.ndim        # get the dimensions of the array"
      ],
      "metadata": {
        "id": "GXxKSvTVyD8M",
        "outputId": "3f3d97dd-93d5-415e-db62-fb2d8ca21b51",
        "colab": {
          "base_uri": "https://localhost:8080/"
        }
      },
      "execution_count": 8,
      "outputs": [
        {
          "output_type": "execute_result",
          "data": {
            "text/plain": [
              "3"
            ]
          },
          "metadata": {},
          "execution_count": 8
        }
      ]
    },
    {
      "cell_type": "code",
      "source": [
        "# Sort an array\n",
        "\n",
        "x = np.array([2, 1, 4, 3, 5])\n",
        "np.sort(x)"
      ],
      "metadata": {
        "id": "z1GXyQZYw4QQ",
        "outputId": "0bcc23f1-7d0a-4ad3-e045-5deec83e4769",
        "colab": {
          "base_uri": "https://localhost:8080/"
        }
      },
      "execution_count": 9,
      "outputs": [
        {
          "output_type": "execute_result",
          "data": {
            "text/plain": [
              "array([1, 2, 3, 4, 5])"
            ]
          },
          "metadata": {},
          "execution_count": 9
        }
      ]
    },
    {
      "cell_type": "code",
      "source": [
        "z = np.array([1, 2, 3, 4, 5])"
      ],
      "metadata": {
        "id": "eDGHQKzcvpoF"
      },
      "execution_count": 10,
      "outputs": []
    },
    {
      "cell_type": "code",
      "source": [
        "# Filter the array\n",
        "z < 3"
      ],
      "metadata": {
        "id": "50vOX5Rwvypx",
        "outputId": "326c54fa-37b7-4ef8-9a0e-a876c00bf92b",
        "colab": {
          "base_uri": "https://localhost:8080/"
        }
      },
      "execution_count": 11,
      "outputs": [
        {
          "output_type": "execute_result",
          "data": {
            "text/plain": [
              "array([ True,  True, False, False, False])"
            ]
          },
          "metadata": {},
          "execution_count": 11
        }
      ]
    },
    {
      "cell_type": "code",
      "source": [
        "z > 3"
      ],
      "metadata": {
        "id": "25C6DxaOv1cA",
        "outputId": "e840f6bb-c4cb-4a90-80bf-99c5eaf42f87",
        "colab": {
          "base_uri": "https://localhost:8080/"
        }
      },
      "execution_count": 12,
      "outputs": [
        {
          "output_type": "execute_result",
          "data": {
            "text/plain": [
              "array([False, False, False,  True,  True])"
            ]
          },
          "metadata": {},
          "execution_count": 12
        }
      ]
    },
    {
      "cell_type": "code",
      "source": [
        "# Apply a mask to an array\n",
        "z[z > 3]"
      ],
      "metadata": {
        "id": "nWM_38szv2h5",
        "outputId": "dda320ed-c2da-4320-90e2-cbcfa6b78d58",
        "colab": {
          "base_uri": "https://localhost:8080/"
        }
      },
      "execution_count": 13,
      "outputs": [
        {
          "output_type": "execute_result",
          "data": {
            "text/plain": [
              "array([4, 5])"
            ]
          },
          "metadata": {},
          "execution_count": 13
        }
      ]
    },
    {
      "cell_type": "code",
      "source": [
        "# Adding and combining arrays\n",
        "\n",
        "a_array = np.array([1,2,3,4,5])\n",
        "b_array = np.array([6,7,8,9,10])"
      ],
      "metadata": {
        "id": "tbJWXO8JwNdI"
      },
      "execution_count": 14,
      "outputs": []
    },
    {
      "cell_type": "code",
      "source": [
        "a_array + b_array"
      ],
      "metadata": {
        "id": "ksSgOgz6wTlr",
        "outputId": "780c8ec9-37fe-4233-c6f8-9ae094ac23c5",
        "colab": {
          "base_uri": "https://localhost:8080/"
        }
      },
      "execution_count": 15,
      "outputs": [
        {
          "output_type": "execute_result",
          "data": {
            "text/plain": [
              "array([ 7,  9, 11, 13, 15])"
            ]
          },
          "metadata": {},
          "execution_count": 15
        }
      ]
    },
    {
      "cell_type": "code",
      "source": [
        "a_array + 30"
      ],
      "metadata": {
        "id": "nH0-Yd8pwX5N",
        "outputId": "c879b1a9-3d78-47e1-c692-59fadbb1d24a",
        "colab": {
          "base_uri": "https://localhost:8080/"
        }
      },
      "execution_count": 16,
      "outputs": [
        {
          "output_type": "execute_result",
          "data": {
            "text/plain": [
              "array([31, 32, 33, 34, 35])"
            ]
          },
          "metadata": {},
          "execution_count": 16
        }
      ]
    },
    {
      "cell_type": "code",
      "source": [
        "a_array * b_array"
      ],
      "metadata": {
        "id": "U_PSotFmwZlY",
        "outputId": "95225e49-0dc5-40fa-da1b-f029beccb3c7",
        "colab": {
          "base_uri": "https://localhost:8080/"
        }
      },
      "execution_count": 17,
      "outputs": [
        {
          "output_type": "execute_result",
          "data": {
            "text/plain": [
              "array([ 6, 14, 24, 36, 50])"
            ]
          },
          "metadata": {},
          "execution_count": 17
        }
      ]
    },
    {
      "cell_type": "code",
      "source": [
        "a_array * 10"
      ],
      "metadata": {
        "id": "Son_IPI4wcn8",
        "outputId": "d802ca78-e5bc-41c6-d303-9816548544e3",
        "colab": {
          "base_uri": "https://localhost:8080/"
        }
      },
      "execution_count": 18,
      "outputs": [
        {
          "output_type": "execute_result",
          "data": {
            "text/plain": [
              "array([10, 20, 30, 40, 50])"
            ]
          },
          "metadata": {},
          "execution_count": 18
        }
      ]
    },
    {
      "cell_type": "markdown",
      "source": [
        "## Images are Numerical Data"
      ],
      "metadata": {
        "id": "WnaTMQaeyRkq"
      }
    },
    {
      "cell_type": "code",
      "execution_count": null,
      "metadata": {
        "id": "f5r-yejvtvUw"
      },
      "outputs": [],
      "source": [
        "!pip install scikit-image matplotlib"
      ]
    },
    {
      "cell_type": "code",
      "source": [
        "import numpy as np\n",
        "from skimage import io\n",
        "\n",
        "photo = io.imread('hotel.jpg')\n",
        "type(photo)"
      ],
      "metadata": {
        "id": "MekyEI1RueMK"
      },
      "execution_count": null,
      "outputs": []
    },
    {
      "cell_type": "code",
      "source": [
        "photo.shape"
      ],
      "metadata": {
        "id": "aAotRovJuf4U"
      },
      "execution_count": null,
      "outputs": []
    },
    {
      "cell_type": "code",
      "source": [
        "import matplotlib.pyplot as plt\n",
        "plt.imshow(photo)"
      ],
      "metadata": {
        "id": "Svpg3eHxuhny"
      },
      "execution_count": null,
      "outputs": []
    },
    {
      "cell_type": "code",
      "source": [
        "plt.imshow(photo[::-1])"
      ],
      "metadata": {
        "id": "2z9DGVk-uxyx"
      },
      "execution_count": null,
      "outputs": []
    },
    {
      "cell_type": "code",
      "source": [
        "plt.imshow(photo[:, ::-1])"
      ],
      "metadata": {
        "id": "t7NgloZMu3D5"
      },
      "execution_count": null,
      "outputs": []
    },
    {
      "cell_type": "code",
      "source": [
        "plt.imshow(photo[200:400, 300:500])"
      ],
      "metadata": {
        "id": "tp-2V5nIu89y"
      },
      "execution_count": null,
      "outputs": []
    },
    {
      "cell_type": "code",
      "source": [
        "plt.imshow(photo[::2, ::2])"
      ],
      "metadata": {
        "id": "d9KXsXLPvQtG"
      },
      "execution_count": null,
      "outputs": []
    },
    {
      "cell_type": "code",
      "source": [
        "# Get the sin of all three channels of each pixel value\n",
        "\n",
        "photo_sin = np.sin(photo)\n",
        "photo_sin"
      ],
      "metadata": {
        "id": "l8hgkn2tvWyK"
      },
      "execution_count": null,
      "outputs": []
    },
    {
      "cell_type": "code",
      "source": [
        "# Other built-in statistical functions\n",
        "\n",
        "print(np.sum(photo))\n",
        "print(np.prod(photo))\n",
        "print(np.mean(photo))\n",
        "print(np.std(photo))\n",
        "print(np.var(photo))\n",
        "print(np.min(photo))\n",
        "print(np.max(photo))"
      ],
      "metadata": {
        "id": "a99o5Sy-vbb1"
      },
      "execution_count": null,
      "outputs": []
    },
    {
      "cell_type": "code",
      "source": [
        "# Search every value in the array, and when a value is above 100, replace it with 255.\n",
        "# Where it isn't above 100, replace with 0.\n",
        "\n",
        "photo_masked = np.where(photo > 100, 255, 0)"
      ],
      "metadata": {
        "id": "d1cxpr87v9d-"
      },
      "execution_count": null,
      "outputs": []
    },
    {
      "cell_type": "code",
      "source": [
        "plt.imshow(photo_masked)"
      ],
      "metadata": {
        "id": "ULbMPTJswEtM"
      },
      "execution_count": null,
      "outputs": []
    },
    {
      "cell_type": "code",
      "source": [
        "# Both filter the values of the array and transpose its axes.\n",
        "# Switches rows and columns.\n",
        "\n",
        "plt.imshow(photo[:,:,0].T)"
      ],
      "metadata": {
        "id": "irDxAP4wwvye"
      },
      "execution_count": null,
      "outputs": []
    }
  ]
}