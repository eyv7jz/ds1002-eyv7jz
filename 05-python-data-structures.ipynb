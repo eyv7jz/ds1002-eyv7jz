{
  "cells": [
    {
      "cell_type": "markdown",
      "metadata": {
        "id": "view-in-github",
        "colab_type": "text"
      },
      "source": [
        "<a href=\"https://colab.research.google.com/github/eyv7jz/ds1002-eyv7jz/blob/main/05-python-data-structures.ipynb\" target=\"_parent\"><img src=\"https://colab.research.google.com/assets/colab-badge.svg\" alt=\"Open In Colab\"/></a>"
      ]
    },
    {
      "cell_type": "markdown",
      "id": "f60fd822-d184-4931-9ab2-26d60c6d362c",
      "metadata": {
        "tags": [],
        "id": "f60fd822-d184-4931-9ab2-26d60c6d362c"
      },
      "source": [
        "# Metadata\n",
        "\n",
        "```\n",
        "Course:   DS1002\n",
        "Module:   04 Basics\n",
        "Topic:    Data Structures\n",
        "```"
      ]
    },
    {
      "cell_type": "markdown",
      "id": "2eed1ead",
      "metadata": {
        "id": "2eed1ead"
      },
      "source": [
        "# Data Structures in Python\n",
        "\n",
        "-----------------------\n",
        "### PREREQUISITES\n",
        "- variables\n",
        "- data types\n",
        "\n",
        "### REFERENCE\n",
        "- Python documentation on data structures\n",
        "https://docs.python.org/3/tutorial/datastructures.html\n",
        "\n",
        "\n",
        "- Python data structures\n",
        "https://learning.oreilly.com/library/view/python-in-a/9781098113544/ch03.html#data_types\n",
        "\n",
        "\n",
        "### OBJECTIVES\n",
        "- Present the essential Python data structures and some of their basic functionality\n",
        "\n",
        "NOTE:\n",
        "1. See above references for more details. As the course progresses, our use of data structures will complexify.\n",
        "2. We jump ahead a bit, showing functionality involving `for-loops`,  \n",
        "both covered in more detail later.\n",
        "\n",
        "\n",
        "### CONCEPTS\n",
        "- zero-based indexing\n",
        "- list\n",
        "- tuple\n",
        "- set\n",
        "- dictionary (dict)\n",
        "- enumerate\n",
        "- range"
      ]
    },
    {
      "cell_type": "markdown",
      "id": "495460ca-44e9-4f16-aa4d-b40cc0b44134",
      "metadata": {
        "id": "495460ca-44e9-4f16-aa4d-b40cc0b44134"
      },
      "source": [
        "# Data Structures\n",
        "\n",
        "In contrast to primitive data types, data structures organize types into structures that have certain properties, such as **order**, **mutability**, and **addressing scheme**, e.g. by index."
      ]
    },
    {
      "cell_type": "markdown",
      "id": "18f574bb-0db7-40ac-9c0e-fb507024e171",
      "metadata": {
        "tags": [],
        "id": "18f574bb-0db7-40ac-9c0e-fb507024e171"
      },
      "source": [
        "# Lists\n",
        "\n",
        "A list is an ordered sequence of items.\n",
        "\n",
        "Each element of a list is associated with an integer that represents the order in which the element appears.\n",
        "\n",
        "Lists are indexed with **brackets** `[]`.\n",
        "\n",
        "List elements are accessed by providing their order number in the brackets.\n",
        "\n",
        "Lists are **mutable**, meaning you can modify them after they have been created.\n",
        "\n",
        "They can contain mixed types."
      ]
    },
    {
      "cell_type": "markdown",
      "id": "518c5585-c5a7-4b26-92b7-e401908f2421",
      "metadata": {
        "tags": [],
        "id": "518c5585-c5a7-4b26-92b7-e401908f2421"
      },
      "source": [
        "## Constructing\n",
        "\n",
        "They can be **constructed** in several ways:"
      ]
    },
    {
      "cell_type": "code",
      "execution_count": null,
      "id": "3f062d71-f2b7-4cab-96da-f27f4edd9fad",
      "metadata": {
        "id": "3f062d71-f2b7-4cab-96da-f27f4edd9fad"
      },
      "outputs": [],
      "source": [
        "list1 = []\n",
        "list2 = list(())\n",
        "list3 = \"some string\".split()\n",
        "numbers = [1,2,3,4]\n",
        "\n",
        "list3"
      ]
    },
    {
      "cell_type": "markdown",
      "id": "5ec0d4fc",
      "metadata": {
        "id": "5ec0d4fc"
      },
      "source": [
        "> Using any of the above methods, make a list containing your numerical birth month, the first letter of your name, & a boolean to the question: I like coffee."
      ]
    },
    {
      "cell_type": "code",
      "execution_count": 3,
      "id": "40f0de3c",
      "metadata": {
        "id": "40f0de3c",
        "outputId": "479c9fec-06e7-4aa6-9e9a-ea32329d24ae",
        "colab": {
          "base_uri": "https://localhost:8080/"
        }
      },
      "outputs": [
        {
          "output_type": "execute_result",
          "data": {
            "text/plain": [
              "[5, 'v', True]"
            ]
          },
          "metadata": {},
          "execution_count": 3
        }
      ],
      "source": [
        "list1 = [5,'v',True]\n",
        "list1"
      ]
    },
    {
      "cell_type": "markdown",
      "id": "055206a8-4683-4903-8f2b-1d746c667d54",
      "metadata": {
        "tags": [],
        "id": "055206a8-4683-4903-8f2b-1d746c667d54"
      },
      "source": [
        "## Indexing"
      ]
    },
    {
      "cell_type": "markdown",
      "id": "54d4571c-e4ac-404c-90fd-270e5e2fe42a",
      "metadata": {
        "id": "54d4571c-e4ac-404c-90fd-270e5e2fe42a"
      },
      "source": [
        "**Zero-based indexing**  \n",
        "\n",
        "Python uses zero-based indexing, which means for a collection `mylist`\n",
        "\n",
        "`mylist[0]` references the first element  \n",
        "`mylist[1]` references the second element, etc\n",
        "\n",
        "For any iterable object of length *N*:  \n",
        "`mylist[:n]` will return the first *n* elements from index *0* to *n-1*  \n",
        "`mylist[-n:]` will return the last *n* elements from index *N-n* to *N-1*"
      ]
    },
    {
      "cell_type": "code",
      "source": [
        "numbers = [1,2,3,4,5,6]"
      ],
      "metadata": {
        "id": "XZgPtOG6IULe"
      },
      "id": "XZgPtOG6IULe",
      "execution_count": 4,
      "outputs": []
    },
    {
      "cell_type": "code",
      "execution_count": 5,
      "id": "9634cd89-fcdd-4e13-b953-17ec6d7e8feb",
      "metadata": {
        "id": "9634cd89-fcdd-4e13-b953-17ec6d7e8feb",
        "outputId": "e912873a-7338-4409-f2a6-af08b5316125",
        "colab": {
          "base_uri": "https://localhost:8080/"
        }
      },
      "outputs": [
        {
          "output_type": "execute_result",
          "data": {
            "text/plain": [
              "1"
            ]
          },
          "metadata": {},
          "execution_count": 5
        }
      ],
      "source": [
        "numbers[0] # Access first element (output: 1)"
      ]
    },
    {
      "cell_type": "code",
      "execution_count": 6,
      "id": "721d2f80-c371-4a75-85ca-410b986c0f75",
      "metadata": {
        "id": "721d2f80-c371-4a75-85ca-410b986c0f75",
        "outputId": "fcacf9c7-6dbb-43b8-a302-5a5707739549",
        "colab": {
          "base_uri": "https://localhost:8080/"
        }
      },
      "outputs": [
        {
          "output_type": "execute_result",
          "data": {
            "text/plain": [
              "5"
            ]
          },
          "metadata": {},
          "execution_count": 6
        }
      ],
      "source": [
        "numbers[0] + numbers[3] # doing arithmetic with the values (output: 5)"
      ]
    },
    {
      "cell_type": "code",
      "execution_count": 7,
      "id": "113521f2-8e9d-4b5f-ae5c-a170b6c09ee7",
      "metadata": {
        "id": "113521f2-8e9d-4b5f-ae5c-a170b6c09ee7",
        "outputId": "26251848-946d-484e-a630-5c079cb82b76",
        "colab": {
          "base_uri": "https://localhost:8080/"
        }
      },
      "outputs": [
        {
          "output_type": "execute_result",
          "data": {
            "text/plain": [
              "6"
            ]
          },
          "metadata": {},
          "execution_count": 7
        }
      ],
      "source": [
        "len(numbers)\n"
      ]
    },
    {
      "cell_type": "code",
      "execution_count": 8,
      "id": "07c1bf0d",
      "metadata": {
        "id": "07c1bf0d",
        "outputId": "41388022-9aba-4529-bf21-111ac1dc741e",
        "colab": {
          "base_uri": "https://localhost:8080/"
        }
      },
      "outputs": [
        {
          "output_type": "execute_result",
          "data": {
            "text/plain": [
              "[6]"
            ]
          },
          "metadata": {},
          "execution_count": 8
        }
      ],
      "source": [
        "numbers[-1:]"
      ]
    },
    {
      "cell_type": "code",
      "execution_count": 9,
      "id": "e2bca69c",
      "metadata": {
        "id": "e2bca69c",
        "outputId": "83a680a0-1518-4754-ebf5-b3af13ba713b",
        "colab": {
          "base_uri": "https://localhost:8080/"
        }
      },
      "outputs": [
        {
          "output_type": "execute_result",
          "data": {
            "text/plain": [
              "[1, 2]"
            ]
          },
          "metadata": {},
          "execution_count": 9
        }
      ],
      "source": [
        "numbers[:2] # returns 1 (index 0) through 2 (index 2 minus 1)"
      ]
    },
    {
      "cell_type": "code",
      "execution_count": 10,
      "id": "12be4aa6",
      "metadata": {
        "id": "12be4aa6",
        "outputId": "35b92098-66eb-4ceb-ab9d-6c344292f876",
        "colab": {
          "base_uri": "https://localhost:8080/"
        }
      },
      "outputs": [
        {
          "output_type": "execute_result",
          "data": {
            "text/plain": [
              "[5, 6]"
            ]
          },
          "metadata": {},
          "execution_count": 10
        }
      ],
      "source": [
        "numbers[-2:] # returns 3 (4 minus 2 = index 2) through 4 (4 minus 1 = index 3)"
      ]
    },
    {
      "cell_type": "markdown",
      "id": "8438be45",
      "metadata": {
        "id": "8438be45"
      },
      "source": [
        "Can find the index of an element by using `.index()`"
      ]
    },
    {
      "cell_type": "code",
      "execution_count": 13,
      "id": "91c68a67",
      "metadata": {
        "id": "91c68a67",
        "outputId": "a641bdbc-95a5-4743-bbc5-45f1df86e7b7",
        "colab": {
          "base_uri": "https://localhost:8080/"
        }
      },
      "outputs": [
        {
          "output_type": "execute_result",
          "data": {
            "text/plain": [
              "2"
            ]
          },
          "metadata": {},
          "execution_count": 13
        }
      ],
      "source": [
        "numbers.index(3)"
      ]
    },
    {
      "cell_type": "markdown",
      "id": "c4b21d8a",
      "metadata": {
        "id": "c4b21d8a"
      },
      "source": [
        "> Using the list you created above, using indexing to pull out your numerical birth month."
      ]
    },
    {
      "cell_type": "code",
      "execution_count": 14,
      "id": "dea82b7b",
      "metadata": {
        "id": "dea82b7b",
        "outputId": "c504bf73-10ee-4c85-a7e8-cd1818ca4590",
        "colab": {
          "base_uri": "https://localhost:8080/"
        }
      },
      "outputs": [
        {
          "output_type": "execute_result",
          "data": {
            "text/plain": [
              "0"
            ]
          },
          "metadata": {},
          "execution_count": 14
        }
      ],
      "source": [
        "list1.index(5)"
      ]
    },
    {
      "cell_type": "markdown",
      "id": "ed32ea76-4431-407f-a7ea-a2a774cf8722",
      "metadata": {
        "tags": [],
        "id": "ed32ea76-4431-407f-a7ea-a2a774cf8722"
      },
      "source": [
        "## Slicing\n",
        "\n",
        "`a[start:stop]` items start through stop-1\n",
        "\n",
        "`a[start:]`     items start through the rest of the array\n",
        "\n",
        "`a[:stop]`      items from the beginning through stop-1\n",
        "\n",
        "`a[:]`          a copy of the whole array\n"
      ]
    },
    {
      "cell_type": "code",
      "execution_count": 15,
      "id": "0eae24c3-6af0-45c7-a2df-7b0297c2e274",
      "metadata": {
        "id": "0eae24c3-6af0-45c7-a2df-7b0297c2e274",
        "outputId": "e7ea1635-74b2-4dda-f84f-3feb98272687",
        "colab": {
          "base_uri": "https://localhost:8080/"
        }
      },
      "outputs": [
        {
          "output_type": "execute_result",
          "data": {
            "text/plain": [
              "[1, 2]"
            ]
          },
          "metadata": {},
          "execution_count": 15
        }
      ],
      "source": [
        "numbers[0:2] # Output: [1, 2]"
      ]
    },
    {
      "cell_type": "code",
      "execution_count": 16,
      "id": "f7b45918-72a5-4100-99cb-1bb35746d4ca",
      "metadata": {
        "id": "f7b45918-72a5-4100-99cb-1bb35746d4ca",
        "outputId": "8935b0ca-15d5-4205-f15a-a74e07f35a2a",
        "colab": {
          "base_uri": "https://localhost:8080/"
        }
      },
      "outputs": [
        {
          "output_type": "execute_result",
          "data": {
            "text/plain": [
              "[2, 3]"
            ]
          },
          "metadata": {},
          "execution_count": 16
        }
      ],
      "source": [
        "numbers[1:3] # Output: [2, 3]"
      ]
    },
    {
      "cell_type": "code",
      "execution_count": 17,
      "id": "0c3a816c-8c1e-44e6-a404-ab3258d45977",
      "metadata": {
        "id": "0c3a816c-8c1e-44e6-a404-ab3258d45977",
        "outputId": "2a86b676-feb2-4d4e-d04c-59d44fa98e40",
        "colab": {
          "base_uri": "https://localhost:8080/"
        }
      },
      "outputs": [
        {
          "output_type": "execute_result",
          "data": {
            "text/plain": [
              "[3, 4, 5, 6]"
            ]
          },
          "metadata": {},
          "execution_count": 17
        }
      ],
      "source": [
        "numbers[2:]  # Output: [3, 4]"
      ]
    },
    {
      "cell_type": "markdown",
      "id": "a12cd4b2",
      "metadata": {
        "id": "a12cd4b2"
      },
      "source": [
        "> Slice your list using a method from above."
      ]
    },
    {
      "cell_type": "code",
      "execution_count": 19,
      "id": "30581e49",
      "metadata": {
        "id": "30581e49",
        "outputId": "53f7dfbd-301d-45a8-e322-c10980050f72",
        "colab": {
          "base_uri": "https://localhost:8080/"
        }
      },
      "outputs": [
        {
          "output_type": "execute_result",
          "data": {
            "text/plain": [
              "[5]"
            ]
          },
          "metadata": {},
          "execution_count": 19
        }
      ],
      "source": [
        "list1[0:1]"
      ]
    },
    {
      "cell_type": "markdown",
      "id": "8b8b02f8-932a-42f9-91d2-f6f2741f6de8",
      "metadata": {
        "tags": [],
        "id": "8b8b02f8-932a-42f9-91d2-f6f2741f6de8"
      },
      "source": [
        "## Multiply lists by a scalar\n",
        "\n",
        "A scalar is a single value number."
      ]
    },
    {
      "cell_type": "code",
      "execution_count": 20,
      "id": "11796cce-2ca8-4663-9485-f549f57839a9",
      "metadata": {
        "id": "11796cce-2ca8-4663-9485-f549f57839a9",
        "outputId": "bc01bc34-0314-46cd-b19c-b06e8b1c9663",
        "colab": {
          "base_uri": "https://localhost:8080/"
        }
      },
      "outputs": [
        {
          "output_type": "execute_result",
          "data": {
            "text/plain": [
              "[1, 2, 3, 4, 5, 6, 1, 2, 3, 4, 5, 6]"
            ]
          },
          "metadata": {},
          "execution_count": 20
        }
      ],
      "source": [
        "numbers * 2"
      ]
    },
    {
      "cell_type": "markdown",
      "id": "f31c27fb",
      "metadata": {
        "id": "f31c27fb"
      },
      "source": [
        "> multiple your list by 4"
      ]
    },
    {
      "cell_type": "code",
      "execution_count": 21,
      "id": "99cd2df5",
      "metadata": {
        "id": "99cd2df5",
        "outputId": "5b04bc19-d005-4a49-bd17-7fa2cc230d6b",
        "colab": {
          "base_uri": "https://localhost:8080/"
        }
      },
      "outputs": [
        {
          "output_type": "execute_result",
          "data": {
            "text/plain": [
              "[5, 'v', True, 5, 'v', True, 5, 'v', True, 5, 'v', True]"
            ]
          },
          "metadata": {},
          "execution_count": 21
        }
      ],
      "source": [
        "list1 * 4"
      ]
    },
    {
      "cell_type": "markdown",
      "id": "cfae8f09-d591-4c5e-8047-4dd449e3aa82",
      "metadata": {
        "id": "cfae8f09-d591-4c5e-8047-4dd449e3aa82"
      },
      "source": [
        "## Concatenate lists with `+`"
      ]
    },
    {
      "cell_type": "code",
      "execution_count": 22,
      "id": "8b489944-e470-4290-99c2-e96f61c5e77a",
      "metadata": {
        "id": "8b489944-e470-4290-99c2-e96f61c5e77a"
      },
      "outputs": [],
      "source": [
        "numbers2 = [30, 40, 50]"
      ]
    },
    {
      "cell_type": "code",
      "execution_count": 23,
      "id": "273e0866-6b23-4f3e-af0a-70a0ca0e4184",
      "metadata": {
        "id": "273e0866-6b23-4f3e-af0a-70a0ca0e4184",
        "outputId": "2cbee1f1-286c-427d-a5d7-813a95f80955",
        "colab": {
          "base_uri": "https://localhost:8080/"
        }
      },
      "outputs": [
        {
          "output_type": "execute_result",
          "data": {
            "text/plain": [
              "[1, 2, 3, 4, 5, 6, 30, 40, 50]"
            ]
          },
          "metadata": {},
          "execution_count": 23
        }
      ],
      "source": [
        "numbers + numbers2 # concatenate two lists"
      ]
    },
    {
      "cell_type": "markdown",
      "id": "e71bf6a6",
      "metadata": {
        "id": "e71bf6a6"
      },
      "source": [
        "> Add `numbers` to your list    "
      ]
    },
    {
      "cell_type": "code",
      "execution_count": 24,
      "id": "a4e3eaab",
      "metadata": {
        "id": "a4e3eaab",
        "outputId": "6a972823-972c-4bb6-840c-db194f6f7673",
        "colab": {
          "base_uri": "https://localhost:8080/"
        }
      },
      "outputs": [
        {
          "output_type": "execute_result",
          "data": {
            "text/plain": [
              "[5, 'v', True, 30, 40, 50]"
            ]
          },
          "metadata": {},
          "execution_count": 24
        }
      ],
      "source": [
        "list1 + numbers2"
      ]
    },
    {
      "cell_type": "markdown",
      "id": "fdca7e30-19de-4bf8-8864-d63f4170be25",
      "metadata": {
        "id": "fdca7e30-19de-4bf8-8864-d63f4170be25"
      },
      "source": [
        "## Lists can mix types"
      ]
    },
    {
      "cell_type": "code",
      "execution_count": 25,
      "id": "17b45df0-66aa-489b-adea-968aa5b9bf0b",
      "metadata": {
        "id": "17b45df0-66aa-489b-adea-968aa5b9bf0b"
      },
      "outputs": [],
      "source": [
        "myList = ['coconuts', 777, 7.25, 'Sir Robin', 80.0, True]"
      ]
    },
    {
      "cell_type": "code",
      "execution_count": 26,
      "id": "2a87c943-0787-46bb-a5b5-b154af5de805",
      "metadata": {
        "id": "2a87c943-0787-46bb-a5b5-b154af5de805",
        "outputId": "101c00ef-e827-49a0-e1e6-2fd58e6f20b0",
        "colab": {
          "base_uri": "https://localhost:8080/"
        }
      },
      "outputs": [
        {
          "output_type": "execute_result",
          "data": {
            "text/plain": [
              "['coconuts', 777, 7.25, 'Sir Robin', 80.0, True]"
            ]
          },
          "metadata": {},
          "execution_count": 26
        }
      ],
      "source": [
        "myList"
      ]
    },
    {
      "cell_type": "markdown",
      "id": "a1eb1801-b619-44b8-8fea-f2e320e5a825",
      "metadata": {
        "id": "a1eb1801-b619-44b8-8fea-f2e320e5a825"
      },
      "source": [
        "**What happens if we multiply a list with strings?**"
      ]
    },
    {
      "cell_type": "code",
      "execution_count": 27,
      "id": "ce38d67c-b371-4101-b1af-3bc47e0c3f7b",
      "metadata": {
        "id": "ce38d67c-b371-4101-b1af-3bc47e0c3f7b",
        "outputId": "cfc69cae-69f5-4b55-b89d-fa5178e13527",
        "colab": {
          "base_uri": "https://localhost:8080/"
        }
      },
      "outputs": [
        {
          "output_type": "execute_result",
          "data": {
            "text/plain": [
              "['coconuts',\n",
              " 777,\n",
              " 7.25,\n",
              " 'Sir Robin',\n",
              " 80.0,\n",
              " True,\n",
              " 'coconuts',\n",
              " 777,\n",
              " 7.25,\n",
              " 'Sir Robin',\n",
              " 80.0,\n",
              " True]"
            ]
          },
          "metadata": {},
          "execution_count": 27
        }
      ],
      "source": [
        "myList * 2"
      ]
    },
    {
      "cell_type": "code",
      "execution_count": 28,
      "id": "ca5a7d14",
      "metadata": {
        "id": "ca5a7d14",
        "outputId": "f43b6af8-c3e0-45cb-80f3-95eb053dfdae",
        "colab": {
          "base_uri": "https://localhost:8080/",
          "height": 179
        }
      },
      "outputs": [
        {
          "output_type": "error",
          "ename": "TypeError",
          "evalue": "ignored",
          "traceback": [
            "\u001b[0;31m---------------------------------------------------------------------------\u001b[0m",
            "\u001b[0;31mTypeError\u001b[0m                                 Traceback (most recent call last)",
            "\u001b[0;32m<ipython-input-28-ceec0a0b7566>\u001b[0m in \u001b[0;36m<cell line: 1>\u001b[0;34m()\u001b[0m\n\u001b[0;32m----> 1\u001b[0;31m \u001b[0mmyList\u001b[0m \u001b[0;34m*\u001b[0m \u001b[0mmyList\u001b[0m\u001b[0;34m\u001b[0m\u001b[0;34m\u001b[0m\u001b[0m\n\u001b[0m",
            "\u001b[0;31mTypeError\u001b[0m: can't multiply sequence by non-int of type 'list'"
          ]
        }
      ],
      "source": [
        "myList * myList"
      ]
    },
    {
      "cell_type": "markdown",
      "id": "1e72be7f-06cd-40f0-9453-36bd4960f38b",
      "metadata": {
        "tags": [],
        "id": "1e72be7f-06cd-40f0-9453-36bd4960f38b"
      },
      "source": [
        "## Lists can be nested"
      ]
    },
    {
      "cell_type": "code",
      "execution_count": 29,
      "id": "6b455e9c-00ee-42a0-ae74-57e39a6d4b49",
      "metadata": {
        "id": "6b455e9c-00ee-42a0-ae74-57e39a6d4b49",
        "outputId": "474d525f-8849-4e1d-d97c-d0997d51496f",
        "colab": {
          "base_uri": "https://localhost:8080/"
        }
      },
      "outputs": [
        {
          "output_type": "stream",
          "name": "stdout",
          "text": [
            "['Billie', 'Arthur']\n",
            "Darrell\n"
          ]
        }
      ],
      "source": [
        "names = ['Darrell', 'Clayton', ['Billie', 'Arthur'], 'Samantha']\n",
        "print(names[2]) # returns a *list*\n",
        "print(names[0]) # returns a *string*"
      ]
    },
    {
      "cell_type": "markdown",
      "id": "38732195-9987-4845-8ef1-8154bcced82d",
      "metadata": {
        "tags": [],
        "id": "38732195-9987-4845-8ef1-8154bcced82d"
      },
      "source": [
        "# Dictionaries `dict`\n",
        "\n",
        "Like a hash table, containing key-value pairs.\n",
        "\n",
        "Elements are indexed using brackets `[]` (like lists).\n",
        "\n",
        "But they are constructed used braces `{}` or `dict()`.\n",
        "\n",
        "Key names must be unique. If you re-use a key, you overwrite its value.\n",
        "\n",
        "Keys don't have to be strings -- they can be numbers or tuples or expressions that evaluate to one of these."
      ]
    },
    {
      "cell_type": "markdown",
      "id": "d0760dc2-ae63-4ab7-805c-d4ba6cfd143e",
      "metadata": {
        "id": "d0760dc2-ae63-4ab7-805c-d4ba6cfd143e"
      },
      "source": [
        "### Constructing"
      ]
    },
    {
      "cell_type": "code",
      "execution_count": 37,
      "id": "3c40a687-9635-42e9-9590-6e5b608fe16d",
      "metadata": {
        "id": "3c40a687-9635-42e9-9590-6e5b608fe16d"
      },
      "outputs": [],
      "source": [
        "dictionary1 = {\n",
        "    'a': 1,\n",
        "    'b': 2,\n",
        "    'c': 3\n",
        "}"
      ]
    },
    {
      "cell_type": "code",
      "execution_count": 38,
      "id": "5a41a0f9-3a07-4c48-8702-7e66110abd19",
      "metadata": {
        "id": "5a41a0f9-3a07-4c48-8702-7e66110abd19"
      },
      "outputs": [],
      "source": [
        "dictionary2 = dict(x=55, y=29, z=99) # Note the absence of quotes around keys"
      ]
    },
    {
      "cell_type": "code",
      "execution_count": 39,
      "id": "928109fa-925a-4dff-a090-476dc5f3cbec",
      "metadata": {
        "id": "928109fa-925a-4dff-a090-476dc5f3cbec",
        "outputId": "7a449d2b-ec83-4af8-c258-2d0f982c337e",
        "colab": {
          "base_uri": "https://localhost:8080/"
        }
      },
      "outputs": [
        {
          "output_type": "execute_result",
          "data": {
            "text/plain": [
              "{'x': 55, 'y': 29, 'z': 99}"
            ]
          },
          "metadata": {},
          "execution_count": 39
        }
      ],
      "source": [
        "dictionary2"
      ]
    },
    {
      "cell_type": "code",
      "execution_count": 40,
      "id": "d6bc0b2d-34ab-46c4-9057-40649ead16cb",
      "metadata": {
        "id": "d6bc0b2d-34ab-46c4-9057-40649ead16cb"
      },
      "outputs": [],
      "source": [
        "dictionary3 = {'A': 'foo', 99: 'bar', (1,2): 'baz'}"
      ]
    },
    {
      "cell_type": "code",
      "execution_count": 41,
      "id": "0489d1f9-be2e-4d39-b30f-f15f00b5e919",
      "metadata": {
        "id": "0489d1f9-be2e-4d39-b30f-f15f00b5e919",
        "outputId": "ae1c8967-5221-4e74-91b2-7b194c10bae9",
        "colab": {
          "base_uri": "https://localhost:8080/"
        }
      },
      "outputs": [
        {
          "output_type": "execute_result",
          "data": {
            "text/plain": [
              "{'A': 'foo', 99: 'bar', (1, 2): 'baz'}"
            ]
          },
          "metadata": {},
          "execution_count": 41
        }
      ],
      "source": [
        "dictionary3"
      ]
    },
    {
      "cell_type": "markdown",
      "id": "624cd83e-4b7b-4bc0-9c76-d33bd40a1633",
      "metadata": {
        "id": "624cd83e-4b7b-4bc0-9c76-d33bd40a1633"
      },
      "source": [
        "### Retrieve a value\n",
        "\n",
        "Just write a key as the *index*."
      ]
    },
    {
      "cell_type": "code",
      "execution_count": 42,
      "id": "39bc8222-fe71-490f-8b53-fa1352221948",
      "metadata": {
        "id": "39bc8222-fe71-490f-8b53-fa1352221948"
      },
      "outputs": [],
      "source": [
        "phonelist = {'Tom':123, 'Bob':456, 'Sam':897}"
      ]
    },
    {
      "cell_type": "code",
      "execution_count": 43,
      "id": "12ca56b5-2bb4-4482-9002-3449b6e68f04",
      "metadata": {
        "id": "12ca56b5-2bb4-4482-9002-3449b6e68f04",
        "outputId": "8c6632a0-41c6-4b62-f820-bc02e63cf8ca",
        "colab": {
          "base_uri": "https://localhost:8080/"
        }
      },
      "outputs": [
        {
          "output_type": "execute_result",
          "data": {
            "text/plain": [
              "456"
            ]
          },
          "metadata": {},
          "execution_count": 43
        }
      ],
      "source": [
        "phonelist['Bob']"
      ]
    },
    {
      "cell_type": "markdown",
      "id": "21f76a54-54b4-4937-a262-c89d9cd936bf",
      "metadata": {
        "id": "21f76a54-54b4-4937-a262-c89d9cd936bf"
      },
      "source": [
        "### Print list of keys, values, or both\n",
        "\n",
        "Use the `.keys()`, `.values()`, or `.items()` methods.\n",
        "\n",
        "Keys are not sorted. They print in the order entered."
      ]
    },
    {
      "cell_type": "markdown",
      "id": "35f0b2cd",
      "metadata": {
        "id": "35f0b2cd"
      },
      "source": [
        "`.keys()`"
      ]
    },
    {
      "cell_type": "code",
      "execution_count": 44,
      "id": "47ed6e92-2c4c-4f3c-8435-7e27a191ccab",
      "metadata": {
        "id": "47ed6e92-2c4c-4f3c-8435-7e27a191ccab",
        "outputId": "23be2777-43d9-43bd-b593-3e7838070245",
        "colab": {
          "base_uri": "https://localhost:8080/"
        }
      },
      "outputs": [
        {
          "output_type": "execute_result",
          "data": {
            "text/plain": [
              "dict_keys(['Tom', 'Bob', 'Sam'])"
            ]
          },
          "metadata": {},
          "execution_count": 44
        }
      ],
      "source": [
        "phonelist.keys() # Returns a list"
      ]
    },
    {
      "cell_type": "markdown",
      "id": "783c7600",
      "metadata": {
        "id": "783c7600"
      },
      "source": [
        "`.values()`"
      ]
    },
    {
      "cell_type": "code",
      "execution_count": 45,
      "id": "ae19e277-e929-46ad-ab27-2715a05243a7",
      "metadata": {
        "id": "ae19e277-e929-46ad-ab27-2715a05243a7",
        "outputId": "375f9ceb-2eda-4f9d-ff3e-b899c49a2a0c",
        "colab": {
          "base_uri": "https://localhost:8080/"
        }
      },
      "outputs": [
        {
          "output_type": "execute_result",
          "data": {
            "text/plain": [
              "dict_values([123, 456, 897])"
            ]
          },
          "metadata": {},
          "execution_count": 45
        }
      ],
      "source": [
        "phonelist.values() # Returns a list"
      ]
    },
    {
      "cell_type": "markdown",
      "id": "8a05ac9a",
      "metadata": {
        "id": "8a05ac9a"
      },
      "source": [
        "`.items()`"
      ]
    },
    {
      "cell_type": "code",
      "execution_count": 46,
      "id": "292b5fee-68db-42b6-af5e-7c4ef14c384a",
      "metadata": {
        "id": "292b5fee-68db-42b6-af5e-7c4ef14c384a",
        "outputId": "e03b0bdf-1583-4734-faea-3ac581c73fd3",
        "colab": {
          "base_uri": "https://localhost:8080/"
        }
      },
      "outputs": [
        {
          "output_type": "execute_result",
          "data": {
            "text/plain": [
              "dict_items([('Tom', 123), ('Bob', 456), ('Sam', 897)])"
            ]
          },
          "metadata": {},
          "execution_count": 46
        }
      ],
      "source": [
        "phonelist.items() # Returns a list of tuples"
      ]
    },
    {
      "cell_type": "code",
      "execution_count": 47,
      "id": "fa4bb854-314e-4226-af57-379ac722c0e8",
      "metadata": {
        "id": "fa4bb854-314e-4226-af57-379ac722c0e8",
        "outputId": "e1ba1b75-64b2-420c-e02d-1402cd7cae1a",
        "colab": {
          "base_uri": "https://localhost:8080/"
        }
      },
      "outputs": [
        {
          "output_type": "execute_result",
          "data": {
            "text/plain": [
              "{'Tom': 123, 'Bob': 456, 'Sam': 897}"
            ]
          },
          "metadata": {},
          "execution_count": 47
        }
      ],
      "source": [
        "phonelist"
      ]
    },
    {
      "cell_type": "markdown",
      "id": "e5e1a406",
      "metadata": {
        "id": "e5e1a406"
      },
      "source": [
        "Example of sorting keys using a **For Loop**"
      ]
    },
    {
      "cell_type": "code",
      "execution_count": 48,
      "id": "05e77ecd",
      "metadata": {
        "id": "05e77ecd",
        "outputId": "a2bb4536-28e5-4a50-d23e-b6dd5f8d9d63",
        "colab": {
          "base_uri": "https://localhost:8080/"
        }
      },
      "outputs": [
        {
          "output_type": "stream",
          "name": "stdout",
          "text": [
            "Bob\n",
            "Sam\n",
            "Tom\n"
          ]
        }
      ],
      "source": [
        "for key in sorted(phonelist.keys()):\n",
        "    print(key)"
      ]
    },
    {
      "cell_type": "markdown",
      "id": "e1c90780-7058-4623-a1a1-c5301f5771c6",
      "metadata": {
        "tags": [],
        "id": "e1c90780-7058-4623-a1a1-c5301f5771c6"
      },
      "source": [
        "# Tuples\n",
        "\n",
        "A tuple is like a list but with one big difference: **a tuple is an immutable object!**\n",
        "\n",
        "You can't change a tuple once it's created.\n",
        "\n",
        "A tuple can contain any number of elements of any datatype.\n",
        "\n",
        "Accessed with brackets `[]` but constructed with or without parentheses `()`."
      ]
    },
    {
      "cell_type": "code",
      "execution_count": 49,
      "id": "d8683806-f03c-4663-86e6-e1345ee4f53c",
      "metadata": {
        "id": "d8683806-f03c-4663-86e6-e1345ee4f53c",
        "outputId": "ce41f91f-171f-475a-9206-2bd8ffebc853",
        "colab": {
          "base_uri": "https://localhost:8080/"
        }
      },
      "outputs": [
        {
          "output_type": "execute_result",
          "data": {
            "text/plain": [
              "[1, 2, 3, 30, 5, 6]"
            ]
          },
          "metadata": {},
          "execution_count": 49
        }
      ],
      "source": [
        "numbers[3] = 30\n",
        "numbers"
      ]
    },
    {
      "cell_type": "code",
      "execution_count": 50,
      "id": "9998596e",
      "metadata": {
        "id": "9998596e",
        "outputId": "d294485b-421d-492e-b221-92206e1d1c53",
        "colab": {
          "base_uri": "https://localhost:8080/",
          "height": 214
        }
      },
      "outputs": [
        {
          "output_type": "error",
          "ename": "TypeError",
          "evalue": "ignored",
          "traceback": [
            "\u001b[0;31m---------------------------------------------------------------------------\u001b[0m",
            "\u001b[0;31mTypeError\u001b[0m                                 Traceback (most recent call last)",
            "\u001b[0;32m<ipython-input-50-ba77ea8708a3>\u001b[0m in \u001b[0;36m<cell line: 3>\u001b[0;34m()\u001b[0m\n\u001b[1;32m      1\u001b[0m \u001b[0;31m# tuples are immutable\u001b[0m\u001b[0;34m\u001b[0m\u001b[0;34m\u001b[0m\u001b[0m\n\u001b[1;32m      2\u001b[0m \u001b[0mnumbers4\u001b[0m \u001b[0;34m=\u001b[0m \u001b[0;34m(\u001b[0m\u001b[0;36m26\u001b[0m\u001b[0;34m,\u001b[0m \u001b[0;36m27\u001b[0m\u001b[0;34m,\u001b[0m \u001b[0;36m28\u001b[0m\u001b[0;34m)\u001b[0m\u001b[0;34m\u001b[0m\u001b[0;34m\u001b[0m\u001b[0m\n\u001b[0;32m----> 3\u001b[0;31m \u001b[0mnumbers4\u001b[0m\u001b[0;34m[\u001b[0m\u001b[0;36m2\u001b[0m\u001b[0;34m]\u001b[0m \u001b[0;34m=\u001b[0m \u001b[0;36m30\u001b[0m\u001b[0;34m\u001b[0m\u001b[0;34m\u001b[0m\u001b[0m\n\u001b[0m",
            "\u001b[0;31mTypeError\u001b[0m: 'tuple' object does not support item assignment"
          ]
        }
      ],
      "source": [
        "# tuples are immutable\n",
        "numbers4 = (26, 27, 28)\n",
        "numbers4[2] = 30"
      ]
    },
    {
      "cell_type": "markdown",
      "id": "59eb44f3-ff39-4285-a980-9a29eea56387",
      "metadata": {
        "tags": [],
        "id": "59eb44f3-ff39-4285-a980-9a29eea56387"
      },
      "source": [
        "## Constructing\n",
        "\n",
        "Created with comma-separated values, with or without parentheses.\n"
      ]
    },
    {
      "cell_type": "code",
      "execution_count": 51,
      "id": "378ed89f-0e0b-4408-ad48-b1e5d56c0c48",
      "metadata": {
        "id": "378ed89f-0e0b-4408-ad48-b1e5d56c0c48"
      },
      "outputs": [],
      "source": [
        "letters = 'a', 'b', 'c', 'd'"
      ]
    },
    {
      "cell_type": "code",
      "execution_count": 52,
      "id": "626c8760-4ced-490b-8a99-58b087ec9563",
      "metadata": {
        "id": "626c8760-4ced-490b-8a99-58b087ec9563",
        "outputId": "53e4cc98-5b49-4d51-cf2a-2fcfcda5418c",
        "colab": {
          "base_uri": "https://localhost:8080/"
        }
      },
      "outputs": [
        {
          "output_type": "execute_result",
          "data": {
            "text/plain": [
              "('a', 'b', 'c', 'd')"
            ]
          },
          "metadata": {},
          "execution_count": 52
        }
      ],
      "source": [
        "letters"
      ]
    },
    {
      "cell_type": "code",
      "execution_count": 53,
      "id": "2f2d72be-39d5-4495-8ac3-1f8aa18c28b6",
      "metadata": {
        "id": "2f2d72be-39d5-4495-8ac3-1f8aa18c28b6"
      },
      "outputs": [],
      "source": [
        "numbers = (1,2,3,4) # numbers 1,2,3,4 stored in a tuple"
      ]
    },
    {
      "cell_type": "markdown",
      "id": "5559a519-ed9f-4ba1-b9cb-2014b4265f3f",
      "metadata": {
        "id": "5559a519-ed9f-4ba1-b9cb-2014b4265f3f"
      },
      "source": [
        "A single valued tuple must include a comma `,`, e.g."
      ]
    },
    {
      "cell_type": "code",
      "execution_count": 54,
      "id": "fd0488fa-7a8a-464c-ad0a-7bc6b328ca69",
      "metadata": {
        "id": "fd0488fa-7a8a-464c-ad0a-7bc6b328ca69"
      },
      "outputs": [],
      "source": [
        "# missing the comma\n",
        "tuple0 = (29)"
      ]
    },
    {
      "cell_type": "code",
      "execution_count": 55,
      "id": "01420088-8f1b-480b-9961-109fb168100e",
      "metadata": {
        "id": "01420088-8f1b-480b-9961-109fb168100e",
        "outputId": "e7a1f28c-2d85-4ab8-c2ba-a18894012495",
        "colab": {
          "base_uri": "https://localhost:8080/"
        }
      },
      "outputs": [
        {
          "output_type": "execute_result",
          "data": {
            "text/plain": [
              "(29, int)"
            ]
          },
          "metadata": {},
          "execution_count": 55
        }
      ],
      "source": [
        "tuple0, type(tuple0)"
      ]
    },
    {
      "cell_type": "code",
      "execution_count": 56,
      "id": "d975e57a-4598-433e-ac5d-f0a3b67dd77c",
      "metadata": {
        "id": "d975e57a-4598-433e-ac5d-f0a3b67dd77c"
      },
      "outputs": [],
      "source": [
        "# comma included\n",
        "tuple1 = (29,)"
      ]
    },
    {
      "cell_type": "code",
      "execution_count": 57,
      "id": "f31b8940-ff95-4b99-a5cf-b7cb6d7fb0b9",
      "metadata": {
        "id": "f31b8940-ff95-4b99-a5cf-b7cb6d7fb0b9",
        "outputId": "c79e703f-97ba-4e14-957a-5eeb8083bedc",
        "colab": {
          "base_uri": "https://localhost:8080/"
        }
      },
      "outputs": [
        {
          "output_type": "execute_result",
          "data": {
            "text/plain": [
              "((29,), tuple)"
            ]
          },
          "metadata": {},
          "execution_count": 57
        }
      ],
      "source": [
        "tuple1, type(tuple1)"
      ]
    },
    {
      "cell_type": "code",
      "execution_count": 58,
      "id": "6698b95f-979e-45f4-a22a-421fb9519083",
      "metadata": {
        "jp-MarkdownHeadingCollapsed": true,
        "tags": [],
        "id": "6698b95f-979e-45f4-a22a-421fb9519083",
        "outputId": "14b9ff24-e115-40da-dd91-61bd49b11442",
        "colab": {
          "base_uri": "https://localhost:8080/",
          "height": 197
        }
      },
      "outputs": [
        {
          "output_type": "error",
          "ename": "TypeError",
          "evalue": "ignored",
          "traceback": [
            "\u001b[0;31m---------------------------------------------------------------------------\u001b[0m",
            "\u001b[0;31mTypeError\u001b[0m                                 Traceback (most recent call last)",
            "\u001b[0;32m<ipython-input-58-9c1900008aed>\u001b[0m in \u001b[0;36m<cell line: 2>\u001b[0;34m()\u001b[0m\n\u001b[1;32m      1\u001b[0m \u001b[0;31m# attempting to reassign a tuple value\u001b[0m\u001b[0;34m\u001b[0m\u001b[0;34m\u001b[0m\u001b[0m\n\u001b[0;32m----> 2\u001b[0;31m \u001b[0mnumbers\u001b[0m\u001b[0;34m[\u001b[0m\u001b[0;36m0\u001b[0m\u001b[0;34m]\u001b[0m \u001b[0;34m=\u001b[0m \u001b[0;36m5\u001b[0m \u001b[0;31m# Trying to assign a new value 5 to the first position\u001b[0m\u001b[0;34m\u001b[0m\u001b[0;34m\u001b[0m\u001b[0m\n\u001b[0m",
            "\u001b[0;31mTypeError\u001b[0m: 'tuple' object does not support item assignment"
          ]
        }
      ],
      "source": [
        "# attempting to reassign a tuple value\n",
        "numbers[0] = 5 # Trying to assign a new value 5 to the first position"
      ]
    },
    {
      "cell_type": "markdown",
      "id": "36c918da",
      "metadata": {
        "id": "36c918da"
      },
      "source": [
        "> List one important attribute of list, dictionary, and tuple"
      ]
    },
    {
      "cell_type": "markdown",
      "id": "32f2c01f",
      "metadata": {
        "id": "32f2c01f"
      },
      "source": []
    },
    {
      "cell_type": "markdown",
      "id": "7ac8c7fc-9b22-4d08-9fd7-246cad70b649",
      "metadata": {
        "tags": [],
        "id": "7ac8c7fc-9b22-4d08-9fd7-246cad70b649"
      },
      "source": [
        "# Common functions and methods to all sequences\n",
        "\n",
        "```\n",
        "len()\n",
        "in\n",
        "+\n",
        "*\n",
        "```"
      ]
    },
    {
      "cell_type": "code",
      "execution_count": 30,
      "id": "ebc407b8-41f4-4fc4-9225-6cfa5bc6e953",
      "metadata": {
        "id": "ebc407b8-41f4-4fc4-9225-6cfa5bc6e953",
        "outputId": "e699d5e5-51d6-461c-9bc1-1cabdc038820",
        "colab": {
          "base_uri": "https://localhost:8080/"
        }
      },
      "outputs": [
        {
          "output_type": "execute_result",
          "data": {
            "text/plain": [
              "[1, 3, 1, 3, 1, 3, 1, 3, 1, 3, 1, 3, 1, 3, 1, 3]"
            ]
          },
          "metadata": {},
          "execution_count": 30
        }
      ],
      "source": [
        "[1, 3] * 8"
      ]
    },
    {
      "cell_type": "code",
      "execution_count": 31,
      "id": "ceed3a1b-7d04-4f9e-8679-d7f18287f3c6",
      "metadata": {
        "id": "ceed3a1b-7d04-4f9e-8679-d7f18287f3c6",
        "outputId": "21c6a531-82a0-45e9-b964-768ede4ff0d7",
        "colab": {
          "base_uri": "https://localhost:8080/"
        }
      },
      "outputs": [
        {
          "output_type": "execute_result",
          "data": {
            "text/plain": [
              "(1, 3, 1, 3, 1, 3, 1, 3, 1, 3, 1, 3, 1, 3, 1, 3)"
            ]
          },
          "metadata": {},
          "execution_count": 31
        }
      ],
      "source": [
        "(1, 3) * 8"
      ]
    },
    {
      "cell_type": "markdown",
      "id": "8eb49046-abfc-4a29-8c15-24a2a2f25e85",
      "metadata": {
        "tags": [],
        "id": "8eb49046-abfc-4a29-8c15-24a2a2f25e85"
      },
      "source": [
        "## Membership with `in`\n",
        "\n",
        "Returns a boolean."
      ]
    },
    {
      "cell_type": "code",
      "execution_count": 59,
      "id": "ffda4677-405a-4479-81fe-0b274f0cf640",
      "metadata": {
        "id": "ffda4677-405a-4479-81fe-0b274f0cf640",
        "outputId": "70c790f8-9c97-4b2c-e4df-0f8e24a73c2b",
        "colab": {
          "base_uri": "https://localhost:8080/"
        }
      },
      "outputs": [
        {
          "output_type": "execute_result",
          "data": {
            "text/plain": [
              "True"
            ]
          },
          "metadata": {},
          "execution_count": 59
        }
      ],
      "source": [
        "'Sam' in phonelist"
      ]
    },
    {
      "cell_type": "markdown",
      "id": "d0bfdd0f-d38c-4121-b8fd-f3e3400af809",
      "metadata": {
        "id": "d0bfdd0f-d38c-4121-b8fd-f3e3400af809"
      },
      "source": [
        "# Sets\n",
        "\n",
        "A `set` is an unordered collection of unique objects.\n",
        "\n",
        "They are subject to set operations."
      ]
    },
    {
      "cell_type": "code",
      "execution_count": 33,
      "id": "e67e33ff-7f03-4b99-a95e-fad0c80a04c3",
      "metadata": {
        "id": "e67e33ff-7f03-4b99-a95e-fad0c80a04c3"
      },
      "outputs": [],
      "source": [
        "peanuts = {'snoopy','snoopy','woodstock'}"
      ]
    },
    {
      "cell_type": "code",
      "execution_count": 34,
      "id": "197eebed-71a9-4a89-8dbf-3dd2d73a29ac",
      "metadata": {
        "id": "197eebed-71a9-4a89-8dbf-3dd2d73a29ac",
        "outputId": "b515f50e-54aa-4287-b0d7-ef9438378bea",
        "colab": {
          "base_uri": "https://localhost:8080/"
        }
      },
      "outputs": [
        {
          "output_type": "execute_result",
          "data": {
            "text/plain": [
              "{'snoopy', 'woodstock'}"
            ]
          },
          "metadata": {},
          "execution_count": 34
        }
      ],
      "source": [
        "peanuts"
      ]
    },
    {
      "cell_type": "markdown",
      "id": "7c1bbeda-d23d-4b87-83a9-d3f843953419",
      "metadata": {
        "id": "7c1bbeda-d23d-4b87-83a9-d3f843953419"
      },
      "source": [
        "Note the set is deduped\n",
        "\n",
        "Since sets are unordered, they don't have an index. This will break:"
      ]
    },
    {
      "cell_type": "code",
      "execution_count": 60,
      "id": "65370579-21be-4623-9c45-f37bccee907a",
      "metadata": {
        "id": "65370579-21be-4623-9c45-f37bccee907a",
        "outputId": "35334050-801b-46e2-c372-63c540216744",
        "colab": {
          "base_uri": "https://localhost:8080/",
          "height": 179
        }
      },
      "outputs": [
        {
          "output_type": "error",
          "ename": "TypeError",
          "evalue": "ignored",
          "traceback": [
            "\u001b[0;31m---------------------------------------------------------------------------\u001b[0m",
            "\u001b[0;31mTypeError\u001b[0m                                 Traceback (most recent call last)",
            "\u001b[0;32m<ipython-input-60-e29b821fb567>\u001b[0m in \u001b[0;36m<cell line: 1>\u001b[0;34m()\u001b[0m\n\u001b[0;32m----> 1\u001b[0;31m \u001b[0mpeanuts\u001b[0m\u001b[0;34m[\u001b[0m\u001b[0;36m0\u001b[0m\u001b[0;34m]\u001b[0m\u001b[0;34m\u001b[0m\u001b[0;34m\u001b[0m\u001b[0m\n\u001b[0m",
            "\u001b[0;31mTypeError\u001b[0m: 'set' object is not subscriptable"
          ]
        }
      ],
      "source": [
        "peanuts[0]"
      ]
    },
    {
      "cell_type": "code",
      "execution_count": 61,
      "id": "685ebf06-7e74-42bc-b49b-f1c3f5272aa8",
      "metadata": {
        "id": "685ebf06-7e74-42bc-b49b-f1c3f5272aa8",
        "outputId": "40caa272-689a-4f1f-d04e-2b19b3b01e12",
        "colab": {
          "base_uri": "https://localhost:8080/"
        }
      },
      "outputs": [
        {
          "output_type": "stream",
          "name": "stdout",
          "text": [
            "snoopy\n",
            "woodstock\n"
          ]
        }
      ],
      "source": [
        "for peanut in peanuts:\n",
        "    print(peanut)"
      ]
    },
    {
      "cell_type": "markdown",
      "id": "dbde2ea0-9891-4dc7-953a-39db86deb82a",
      "metadata": {
        "id": "dbde2ea0-9891-4dc7-953a-39db86deb82a"
      },
      "source": [
        "**Check if a value is in the set using `in`**"
      ]
    },
    {
      "cell_type": "code",
      "execution_count": 62,
      "id": "72495cad-a5c9-44b4-a023-4ee45086053e",
      "metadata": {
        "id": "72495cad-a5c9-44b4-a023-4ee45086053e",
        "outputId": "a5c7df6c-8a16-423e-ca5d-c91576b85e28",
        "colab": {
          "base_uri": "https://localhost:8080/"
        }
      },
      "outputs": [
        {
          "output_type": "execute_result",
          "data": {
            "text/plain": [
              "True"
            ]
          },
          "metadata": {},
          "execution_count": 62
        }
      ],
      "source": [
        "'snoopy' in peanuts"
      ]
    },
    {
      "cell_type": "markdown",
      "id": "34e5ace8-9af9-4589-b0c3-f800905e4f40",
      "metadata": {
        "id": "34e5ace8-9af9-4589-b0c3-f800905e4f40"
      },
      "source": [
        "Combine two sets"
      ]
    },
    {
      "cell_type": "code",
      "execution_count": 63,
      "id": "0f99fdee-7f2c-4822-b236-01fd6bb00726",
      "metadata": {
        "id": "0f99fdee-7f2c-4822-b236-01fd6bb00726"
      },
      "outputs": [],
      "source": [
        "set1 = {'python','R'}\n",
        "set2 = {'R','SQL'}"
      ]
    },
    {
      "cell_type": "markdown",
      "id": "e2752287-76ed-45f3-addf-516266f519ea",
      "metadata": {
        "id": "e2752287-76ed-45f3-addf-516266f519ea"
      },
      "source": [
        "This fails:"
      ]
    },
    {
      "cell_type": "code",
      "execution_count": 64,
      "id": "7a962b44-b939-4b07-9266-458a1d6868c6",
      "metadata": {
        "id": "7a962b44-b939-4b07-9266-458a1d6868c6",
        "outputId": "43c80f5c-51c3-4a27-e704-bd8a722e4aaa",
        "colab": {
          "base_uri": "https://localhost:8080/",
          "height": 179
        }
      },
      "outputs": [
        {
          "output_type": "error",
          "ename": "TypeError",
          "evalue": "ignored",
          "traceback": [
            "\u001b[0;31m---------------------------------------------------------------------------\u001b[0m",
            "\u001b[0;31mTypeError\u001b[0m                                 Traceback (most recent call last)",
            "\u001b[0;32m<ipython-input-64-2236669a2fa1>\u001b[0m in \u001b[0;36m<cell line: 1>\u001b[0;34m()\u001b[0m\n\u001b[0;32m----> 1\u001b[0;31m \u001b[0mset1\u001b[0m \u001b[0;34m+\u001b[0m \u001b[0mset2\u001b[0m\u001b[0;34m\u001b[0m\u001b[0;34m\u001b[0m\u001b[0m\n\u001b[0m",
            "\u001b[0;31mTypeError\u001b[0m: unsupported operand type(s) for +: 'set' and 'set'"
          ]
        }
      ],
      "source": [
        "set1 + set2"
      ]
    },
    {
      "cell_type": "markdown",
      "id": "8030ff7a-51f1-4487-acad-cef38ac030b7",
      "metadata": {
        "id": "8030ff7a-51f1-4487-acad-cef38ac030b7"
      },
      "source": [
        "This succeeds:"
      ]
    },
    {
      "cell_type": "code",
      "execution_count": 65,
      "id": "3b941371-1958-42ff-9c87-48777ded63d8",
      "metadata": {
        "id": "3b941371-1958-42ff-9c87-48777ded63d8",
        "outputId": "0b8ae858-e805-456c-c44c-cd94f2866ad8",
        "colab": {
          "base_uri": "https://localhost:8080/"
        }
      },
      "outputs": [
        {
          "output_type": "execute_result",
          "data": {
            "text/plain": [
              "{'R', 'SQL', 'python'}"
            ]
          },
          "metadata": {},
          "execution_count": 65
        }
      ],
      "source": [
        "set1.union(set2)"
      ]
    },
    {
      "cell_type": "markdown",
      "id": "8f17e6aa-4155-4c63-a411-239d54273f42",
      "metadata": {
        "id": "8f17e6aa-4155-4c63-a411-239d54273f42"
      },
      "source": [
        "Get the set intersection"
      ]
    },
    {
      "cell_type": "code",
      "execution_count": 66,
      "id": "3b5f2b4e-06f8-48e5-a222-5344c5e489b1",
      "metadata": {
        "id": "3b5f2b4e-06f8-48e5-a222-5344c5e489b1",
        "outputId": "20d52235-e2cd-4d2d-a8ff-ef4bd4cecf8d",
        "colab": {
          "base_uri": "https://localhost:8080/"
        }
      },
      "outputs": [
        {
          "output_type": "execute_result",
          "data": {
            "text/plain": [
              "{'R'}"
            ]
          },
          "metadata": {},
          "execution_count": 66
        }
      ],
      "source": [
        "set1.intersection(set2)"
      ]
    },
    {
      "cell_type": "markdown",
      "id": "2237ecae-9123-4151-ab14-63451d556aad",
      "metadata": {
        "tags": [],
        "id": "2237ecae-9123-4151-ab14-63451d556aad"
      },
      "source": [
        "# Ranges\n",
        "\n",
        "A range is a sequence of integers, from `start` to `stop` by `step`.\n",
        "- The `start` point is zero by default.  \n",
        "- The `step` is one by default.  \n",
        "- The `stop` point is NOT included.  "
      ]
    },
    {
      "cell_type": "markdown",
      "id": "7a3faa4d-b8d2-4d15-a23c-74fa656cd86c",
      "metadata": {
        "id": "7a3faa4d-b8d2-4d15-a23c-74fa656cd86c"
      },
      "source": [
        "Ranges can be assigned to a variable."
      ]
    },
    {
      "cell_type": "code",
      "execution_count": 67,
      "id": "60e92444-c947-4e06-890f-69098dc3ac52",
      "metadata": {
        "id": "60e92444-c947-4e06-890f-69098dc3ac52",
        "outputId": "a5005d43-645b-4826-c711-3761b9b9005b",
        "colab": {
          "base_uri": "https://localhost:8080/"
        }
      },
      "outputs": [
        {
          "output_type": "execute_result",
          "data": {
            "text/plain": [
              "range(0, 5)"
            ]
          },
          "metadata": {},
          "execution_count": 67
        }
      ],
      "source": [
        "rng = range(5)\n",
        "rng"
      ]
    },
    {
      "cell_type": "markdown",
      "id": "68f9fc31-e4d4-435b-864b-3ffc8be02709",
      "metadata": {
        "id": "68f9fc31-e4d4-435b-864b-3ffc8be02709"
      },
      "source": [
        "More often, ranges are used in iterations, which we will cover later."
      ]
    },
    {
      "cell_type": "code",
      "execution_count": 68,
      "id": "1a2cc0db-3167-423e-b391-fa0a0a3eb1e7",
      "metadata": {
        "id": "1a2cc0db-3167-423e-b391-fa0a0a3eb1e7",
        "outputId": "0b138b18-d753-48ca-ee03-96f742311505",
        "colab": {
          "base_uri": "https://localhost:8080/"
        }
      },
      "outputs": [
        {
          "output_type": "stream",
          "name": "stdout",
          "text": [
            "0\n",
            "1\n",
            "2\n",
            "3\n",
            "4\n"
          ]
        }
      ],
      "source": [
        "for rn in rng:\n",
        "    print(rn)"
      ]
    },
    {
      "cell_type": "markdown",
      "id": "0cc0d38e-7e61-4e20-b991-b7bae5a36c90",
      "metadata": {
        "id": "0cc0d38e-7e61-4e20-b991-b7bae5a36c90"
      },
      "source": [
        "another range:"
      ]
    },
    {
      "cell_type": "code",
      "execution_count": 69,
      "id": "54b9d3ca-7e6f-4531-b514-10750087322c",
      "metadata": {
        "id": "54b9d3ca-7e6f-4531-b514-10750087322c",
        "outputId": "13f1643a-c3fd-4e6f-bb72-2c6aafef3f0b",
        "colab": {
          "base_uri": "https://localhost:8080/"
        }
      },
      "outputs": [
        {
          "output_type": "stream",
          "name": "stdout",
          "text": [
            "1\n",
            "3\n",
            "5\n",
            "7\n",
            "9\n"
          ]
        }
      ],
      "source": [
        "rangy = range(1, 11, 2)\n",
        "for rn in rangy:\n",
        "    print(rn)"
      ]
    }
  ],
  "metadata": {
    "kernelspec": {
      "display_name": "Python 3 (ipykernel)",
      "language": "python",
      "name": "python3"
    },
    "language_info": {
      "codemirror_mode": {
        "name": "ipython",
        "version": 3
      },
      "file_extension": ".py",
      "mimetype": "text/x-python",
      "name": "python",
      "nbconvert_exporter": "python",
      "pygments_lexer": "ipython3",
      "version": "3.9.6"
    },
    "vscode": {
      "interpreter": {
        "hash": "31f2aee4e71d21fbe5cf8b01ff0e069b9275f58929596ceb00d14d90e3e16cd6"
      }
    },
    "colab": {
      "provenance": [],
      "include_colab_link": true
    }
  },
  "nbformat": 4,
  "nbformat_minor": 5
}