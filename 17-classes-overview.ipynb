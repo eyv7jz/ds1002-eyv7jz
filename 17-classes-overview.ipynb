{
  "nbformat": 4,
  "nbformat_minor": 0,
  "metadata": {
    "colab": {
      "provenance": [],
      "include_colab_link": true
    },
    "kernelspec": {
      "name": "python3",
      "display_name": "Python 3"
    },
    "language_info": {
      "name": "python"
    }
  },
  "cells": [
    {
      "cell_type": "markdown",
      "metadata": {
        "id": "view-in-github",
        "colab_type": "text"
      },
      "source": [
        "<a href=\"https://colab.research.google.com/github/eyv7jz/ds1002-eyv7jz/blob/main/17-classes-overview.ipynb\" target=\"_parent\"><img src=\"https://colab.research.google.com/assets/colab-badge.svg\" alt=\"Open In Colab\"/></a>"
      ]
    },
    {
      "cell_type": "markdown",
      "source": [
        "# Classes - Moving Deeper into OOP\n",
        "\n",
        "**Classes** help describe/model data structures, or collections of functions centered on a particular set of tasks related to a particular type of data. A class is much like a template or schema. Classes may, but does not have to, take parameters.\n",
        "\n",
        "**Instances** / **Objects** are actual, concrete implementations of a class with specific values.\n",
        "\n",
        "- **Attributes** - values/fields specific to each instance of a class.\n",
        "- **Methods** - functions available within and specific to a class. Methods may consume attributes or other parameters.\n",
        "- **Constructors** - the attribute structure/default values of a class.\n",
        "\n",
        "> \"OO is about grouping DATA with the FUNCTIONS that manipulate that data and hiding HOW it manipulates it so you can MODIFY the behavior through INHERITANCE.\"\n",
        "\n",
        "Advantages of OOP programming:\n",
        "\n",
        "- **MAINTAINABILITY** Object-oriented programming methods make code more maintainable. Identifying the source of errors is easier because objects are self-contained.\n",
        "- **REUSABILITY** Because objects contain both data and methods that act on data, objects can be thought of as self-contained. This makes it easy to reuse code in new systems. Messages provide a predefined interface to an object's data and functionality. With this interface, objects can be used in any context.\n",
        "- **SCALABILITY** Object-oriented programs are also scalable. As an object's interface provides a road map for reusing the object in new software, and provides all the information needed to replace the object without affecting other code. This way aging code can be replaced with faster algorithms and newer technology."
      ],
      "metadata": {
        "id": "-e4JcExnJAY3"
      }
    },
    {
      "cell_type": "code",
      "source": [
        "class Robots:\n",
        "\n",
        "  def introduce_self(self):\n",
        "    print(\"Hello there, my name is \" + self.name)"
      ],
      "metadata": {
        "id": "-YRBBhUwJDhs"
      },
      "execution_count": 1,
      "outputs": []
    },
    {
      "cell_type": "code",
      "source": [
        "# Create an instance and add some attributes\n",
        "robot1 = Robots()"
      ],
      "metadata": {
        "id": "bU8kkMTtJyrE"
      },
      "execution_count": 2,
      "outputs": []
    },
    {
      "cell_type": "code",
      "source": [
        "# You can add attributes directly using a . with the name of the attribute.\n",
        "# Specify any arbitrary value you like after the = sign.\n",
        "\n",
        "robot1.name = \"Ben\"\n",
        "robot1.color = \"Blue\"\n",
        "robot1.weight = 50"
      ],
      "metadata": {
        "id": "vjZS2jbYMJOr"
      },
      "execution_count": 3,
      "outputs": []
    },
    {
      "cell_type": "code",
      "source": [
        "# now you can call a built-in method of the class. We already know that this\n",
        "# method is looking for the `self.name` attribute:\n",
        "\n",
        "robot1.introduce_self()"
      ],
      "metadata": {
        "id": "Kk8G0MGtMXOM",
        "outputId": "6d101567-19f8-4d5c-c375-5fa22721790e",
        "colab": {
          "base_uri": "https://localhost:8080/"
        }
      },
      "execution_count": 4,
      "outputs": [
        {
          "output_type": "stream",
          "name": "stdout",
          "text": [
            "Hello there, my name is Ben\n"
          ]
        }
      ]
    },
    {
      "cell_type": "code",
      "source": [
        "# Now let's redefine the Class with an __init__ function, which is called a \"constructor\"\n",
        "# and defines the basic attributes of the class.\n",
        "\n",
        "# In the case below, the constructor says that any new instance of the class requires 3 parameters\n",
        "# be passed into it.\n",
        "\n",
        "# NOTE that `self` is present in both methods. \"self\" is a Python keyword unique to classes\n",
        "# and is a way the class instance knows that any method is referring to itself.\n",
        "\n",
        "class Robots:\n",
        "  def __init__(self, name, color, weight):\n",
        "    self.name = name\n",
        "    self.color = color\n",
        "    self.weight = weight\n",
        "\n",
        "  def introduce_self(self):\n",
        "    print(\"Hello there, my name is \" + self.name)\n",
        "\n",
        "\n",
        "# Now let's create an instance with 3 parameters:\n",
        "robot2 = Robots(\"Sherry\", \"Red\", 40)"
      ],
      "metadata": {
        "id": "2L3Zds3wN8V7"
      },
      "execution_count": 5,
      "outputs": []
    },
    {
      "cell_type": "code",
      "source": [
        "robot2.introduce_self()"
      ],
      "metadata": {
        "id": "ywn747UqOF54",
        "outputId": "27da6540-f4b5-4ec7-80d3-63924b32af38",
        "colab": {
          "base_uri": "https://localhost:8080/"
        }
      },
      "execution_count": 6,
      "outputs": [
        {
          "output_type": "stream",
          "name": "stdout",
          "text": [
            "Hello there, my name is Sherry\n"
          ]
        }
      ]
    },
    {
      "cell_type": "code",
      "source": [
        "robot2.color"
      ],
      "metadata": {
        "id": "9oICWnCNOLLn",
        "outputId": "85a0b56b-f735-4f83-c11f-2e0b673f1054",
        "colab": {
          "base_uri": "https://localhost:8080/",
          "height": 35
        }
      },
      "execution_count": 7,
      "outputs": [
        {
          "output_type": "execute_result",
          "data": {
            "text/plain": [
              "'Red'"
            ],
            "application/vnd.google.colaboratory.intrinsic+json": {
              "type": "string"
            }
          },
          "metadata": {},
          "execution_count": 7
        }
      ]
    },
    {
      "cell_type": "markdown",
      "source": [
        "## Data Structures within a Class"
      ],
      "metadata": {
        "id": "92OHV9bvXv56"
      }
    },
    {
      "cell_type": "code",
      "source": [
        "# Let's set up an empty class that we can throw a data structure into:\n",
        "class Record:\n",
        "  \"\"\"Store information about something in a structure.\"\"\"\n",
        "\n",
        "# here are some simple data attributes in the form of a dict\n",
        "john = {\n",
        "    \"id\": 13,\n",
        "    \"name\": \"John Doe\",\n",
        "    \"position\": \"Data Scientist\",\n",
        "    \"department\": \"Analytics\",\n",
        "    \"salary\": 94000,\n",
        "    \"hire_date\": \"2023-10-24\",\n",
        "    \"is_manager\": False,\n",
        "    \"email\": \"jdoe@company.com\"\n",
        "}\n",
        "\n",
        "# finally let's instantiate (create) an instance of a Record into a new object\n",
        "# called \"john_record\". Note there are no parameters passed.\n",
        "john_record = Record()"
      ],
      "metadata": {
        "id": "sQA-zOAdXwOo"
      },
      "execution_count": 8,
      "outputs": []
    },
    {
      "cell_type": "code",
      "source": [
        "# So the empty instance exists. Now let's throw the data into it by for-looping\n",
        "# the dict into the Record. Note that the \"structure\" is coming entirely by the\n",
        "# dict we are passing.\n",
        "\n",
        "for field, value in john.items():\n",
        "  setattr(john_record, field, value)"
      ],
      "metadata": {
        "id": "CVWSLzSXYHfj"
      },
      "execution_count": 9,
      "outputs": []
    },
    {
      "cell_type": "code",
      "source": [
        "# Kapow!!\n",
        "\n",
        "# Now all the data fields (attributes) for this record are available when you type\n",
        "# john_record.   (wait for Colab to suggest the available fields)\n",
        "\n",
        "print(john_record.name)\n",
        "print(john_record.salary)\n",
        "print(john_record.department)"
      ],
      "metadata": {
        "id": "z-bn5PmHYYBn",
        "outputId": "d884dc51-4d39-4365-cd2f-e57a3cbb5d2e",
        "colab": {
          "base_uri": "https://localhost:8080/"
        }
      },
      "execution_count": 10,
      "outputs": [
        {
          "output_type": "stream",
          "name": "stdout",
          "text": [
            "John Doe\n",
            "94000\n",
            "Analytics\n"
          ]
        }
      ]
    },
    {
      "cell_type": "code",
      "source": [
        "john_record."
      ],
      "metadata": {
        "id": "iv_Qsnr3P5ZJ",
        "outputId": "fb218a4a-2c41-4f85-c4f6-d96288322b59",
        "colab": {
          "base_uri": "https://localhost:8080/",
          "height": 143
        }
      },
      "execution_count": 11,
      "outputs": [
        {
          "output_type": "error",
          "ename": "SyntaxError",
          "evalue": "ignored",
          "traceback": [
            "\u001b[0;36m  File \u001b[0;32m\"<ipython-input-11-7fab64ea892f>\"\u001b[0;36m, line \u001b[0;32m1\u001b[0m\n\u001b[0;31m    john_record.\u001b[0m\n\u001b[0m                ^\u001b[0m\n\u001b[0;31mSyntaxError\u001b[0m\u001b[0;31m:\u001b[0m invalid syntax\n"
          ]
        }
      ]
    },
    {
      "cell_type": "code",
      "source": [
        "# Using normal print syntax, or f-string printing (for example), you can call out\n",
        "# specific data as needed.\n",
        "\n",
        "print(f\"Record {john_record.id} is named: {john_record.name}\")"
      ],
      "metadata": {
        "id": "bRr8jrgbDMss",
        "outputId": "18235371-d057-4c9b-8258-90e9db0eed86",
        "colab": {
          "base_uri": "https://localhost:8080/"
        }
      },
      "execution_count": 12,
      "outputs": [
        {
          "output_type": "stream",
          "name": "stdout",
          "text": [
            "Record 13 is named: John Doe\n"
          ]
        }
      ]
    },
    {
      "cell_type": "code",
      "source": [
        "# or you can spit back out the entire dict structure from the Record:\n",
        "\n",
        "john_record.__dict__"
      ],
      "metadata": {
        "id": "FyYLNR9mYuRJ",
        "outputId": "2c83a775-d65a-44ef-b986-f36bb5dde39e",
        "colab": {
          "base_uri": "https://localhost:8080/"
        }
      },
      "execution_count": 13,
      "outputs": [
        {
          "output_type": "execute_result",
          "data": {
            "text/plain": [
              "{'id': 13,\n",
              " 'name': 'John Doe',\n",
              " 'position': 'Data Scientist',\n",
              " 'department': 'Analytics',\n",
              " 'salary': 94000,\n",
              " 'hire_date': '2023-10-24',\n",
              " 'is_manager': False,\n",
              " 'email': 'jdoe@company.com'}"
            ]
          },
          "metadata": {},
          "execution_count": 13
        }
      ]
    },
    {
      "cell_type": "markdown",
      "source": [
        "## Define a Class with Methods to Perform Operations on Data\n",
        "\n",
        "A class can receive parameters when instantiated, which can then perform method operations based on those values."
      ],
      "metadata": {
        "id": "Sp4NAF79nbUN"
      }
    },
    {
      "cell_type": "code",
      "execution_count": 14,
      "metadata": {
        "id": "DNSYUEC9Ru3v"
      },
      "outputs": [],
      "source": [
        "import math\n",
        "\n",
        "class Circle:\n",
        "  def __init__(self, radius):\n",
        "    self.radius = radius\n",
        "\n",
        "  def calculate_area(self):\n",
        "    return round(math.pi * self.radius ** 2, 2)\n",
        "\n",
        "  def calculate_x_area(self,multiplier):\n",
        "    return Circle.calculate_area(self) * multiplier\n"
      ]
    },
    {
      "cell_type": "code",
      "source": [
        "# Create an instance by calling the Class and providing the required parameter\n",
        "circle0 = Circle(14)"
      ],
      "metadata": {
        "id": "QZkG2QmBRyzH"
      },
      "execution_count": 15,
      "outputs": []
    },
    {
      "cell_type": "code",
      "source": [
        "circle0.calculate_area()"
      ],
      "metadata": {
        "id": "wvz_WpjaSD1E",
        "outputId": "dc7e58bd-b99a-46ab-cc05-dc16ac00373f",
        "colab": {
          "base_uri": "https://localhost:8080/"
        }
      },
      "execution_count": 16,
      "outputs": [
        {
          "output_type": "execute_result",
          "data": {
            "text/plain": [
              "615.75"
            ]
          },
          "metadata": {},
          "execution_count": 16
        }
      ]
    },
    {
      "cell_type": "code",
      "source": [
        "# The class instance has an additional method available, which requires one parameter, a multiplier.\n",
        "\n",
        "circle0.calculate_x_area(4)"
      ],
      "metadata": {
        "id": "jC90p1EXpZhx",
        "outputId": "f3723eb7-e0ef-4d19-aa5a-0cc3e129868c",
        "colab": {
          "base_uri": "https://localhost:8080/"
        }
      },
      "execution_count": 17,
      "outputs": [
        {
          "output_type": "execute_result",
          "data": {
            "text/plain": [
              "2463.0"
            ]
          },
          "metadata": {},
          "execution_count": 17
        }
      ]
    },
    {
      "cell_type": "markdown",
      "source": [
        "## Create a class attribute to record data"
      ],
      "metadata": {
        "id": "mEgP8ueqVekq"
      }
    },
    {
      "cell_type": "code",
      "source": [
        "class ObjectCounter:\n",
        "  num_instances = 0\n",
        "  def __init__(self):\n",
        "    ObjectCounter.num_instances += 1"
      ],
      "metadata": {
        "id": "KHKCixwcVfVw"
      },
      "execution_count": 18,
      "outputs": []
    },
    {
      "cell_type": "code",
      "source": [
        "counter = ObjectCounter()"
      ],
      "metadata": {
        "id": "6jTtvOuSVkeu"
      },
      "execution_count": 19,
      "outputs": []
    },
    {
      "cell_type": "code",
      "source": [
        "counter.num_instances"
      ],
      "metadata": {
        "id": "hQ_GvIWvVod0",
        "outputId": "9e1f18d1-b077-4b82-c54e-61848b136c13",
        "colab": {
          "base_uri": "https://localhost:8080/"
        }
      },
      "execution_count": 20,
      "outputs": [
        {
          "output_type": "execute_result",
          "data": {
            "text/plain": [
              "1"
            ]
          },
          "metadata": {},
          "execution_count": 20
        }
      ]
    },
    {
      "cell_type": "code",
      "source": [
        "class Counter:\n",
        "  mycount = 0\n",
        "\n",
        "  def click(self):\n",
        "    Counter.mycount += 1"
      ],
      "metadata": {
        "id": "xGjNv-mOEmmb"
      },
      "execution_count": 21,
      "outputs": []
    },
    {
      "cell_type": "code",
      "source": [
        "counter = Counter()"
      ],
      "metadata": {
        "id": "pkR1FBrXEzQt"
      },
      "execution_count": 22,
      "outputs": []
    },
    {
      "cell_type": "code",
      "source": [
        "counter.mycount"
      ],
      "metadata": {
        "id": "yRa38ZUSE4Id",
        "outputId": "cde1ad07-914a-4686-fc72-893820cd5789",
        "colab": {
          "base_uri": "https://localhost:8080/"
        }
      },
      "execution_count": 23,
      "outputs": [
        {
          "output_type": "execute_result",
          "data": {
            "text/plain": [
              "0"
            ]
          },
          "metadata": {},
          "execution_count": 23
        }
      ]
    },
    {
      "cell_type": "code",
      "source": [
        "counter.click()"
      ],
      "metadata": {
        "id": "Iqdkt8p_E7_d"
      },
      "execution_count": 24,
      "outputs": []
    },
    {
      "cell_type": "code",
      "source": [
        "counter.mycount"
      ],
      "metadata": {
        "id": "LOYiP5K2E-VX",
        "outputId": "99edfef6-eaaf-47fe-c59c-f27e817b6d57",
        "colab": {
          "base_uri": "https://localhost:8080/"
        }
      },
      "execution_count": 25,
      "outputs": [
        {
          "output_type": "execute_result",
          "data": {
            "text/plain": [
              "1"
            ]
          },
          "metadata": {},
          "execution_count": 25
        }
      ]
    },
    {
      "cell_type": "markdown",
      "source": [
        "## Use a Class to perform remote API calls\n",
        "\n",
        "Use the ID Generator API to fetch a unique identifier. In this example, get a GUID."
      ],
      "metadata": {
        "id": "7hsblEmdFFRO"
      }
    },
    {
      "cell_type": "code",
      "source": [
        "import requests\n",
        "import json\n",
        "import sys\n",
        "\n",
        "class Id:\n",
        "\n",
        "  def guid(self):\n",
        "    response = requests.get('https://ids.pods.uvarc.io/guid')\n",
        "    body = json.loads(response.text)\n",
        "    return body['id']"
      ],
      "metadata": {
        "id": "6t_bqvRrFPcl"
      },
      "execution_count": 26,
      "outputs": []
    },
    {
      "cell_type": "code",
      "source": [
        "# Create an instance of the class\n",
        "id = Id()"
      ],
      "metadata": {
        "id": "BuArVNiJTliD"
      },
      "execution_count": 27,
      "outputs": []
    },
    {
      "cell_type": "code",
      "source": [
        "# Now call the method available within the instance\n",
        "id.guid()"
      ],
      "metadata": {
        "id": "yLF7Iv8mTnqW",
        "outputId": "11ae3dfa-ebee-408c-b3e8-5027c286cf92",
        "colab": {
          "base_uri": "https://localhost:8080/",
          "height": 35
        }
      },
      "execution_count": 28,
      "outputs": [
        {
          "output_type": "execute_result",
          "data": {
            "text/plain": [
              "'f3f4c768-9e26-47f0-a0ba-acbf8d0de88f'"
            ],
            "application/vnd.google.colaboratory.intrinsic+json": {
              "type": "string"
            }
          },
          "metadata": {},
          "execution_count": 28
        }
      ]
    },
    {
      "cell_type": "markdown",
      "source": [
        "## Temp Converter Class"
      ],
      "metadata": {
        "id": "R7-PryAymWi4"
      }
    },
    {
      "cell_type": "code",
      "source": [
        "# Define the class itself and initialize. This class requires one parameter to be instantiated -- a temp\n",
        "# This is what the __init__ accomplishes.\n",
        "# Next come two methods you can use with any instance of the class:\n",
        "#   - convert to F\n",
        "#   - convert to C\n",
        "\n",
        "class TempConverter:\n",
        "\n",
        "  def __init__(self, temperature):\n",
        "    self.temperature = temperature\n",
        "\n",
        "  def convert_to_fahrenheit(self):\n",
        "    return (self.temperature * 9 / 5) + 32\n",
        "\n",
        "  def convert_to_celsius(self):\n",
        "    return (self.temperature - 32) * 5 / 9\n"
      ],
      "metadata": {
        "id": "BS1ZpueCmYsF"
      },
      "execution_count": 29,
      "outputs": []
    },
    {
      "cell_type": "code",
      "source": [
        "# Here we create an instance of the class by calling it into a new object and providing the parameter\n",
        "temp1 = TempConverter(40)\n",
        "\n",
        "# Or you could assign that attribute value using a variable:\n",
        "temp_reading = 33\n",
        "temp2 = TempConverter(temp_reading)"
      ],
      "metadata": {
        "id": "EJVxEps7mZg9"
      },
      "execution_count": 30,
      "outputs": []
    },
    {
      "cell_type": "code",
      "source": [
        "# Now you can use the methods available to the new object (instance of the class)\n",
        "temp1.convert_to_fahrenheit()"
      ],
      "metadata": {
        "id": "gIeluGfdmcJ-",
        "outputId": "0bbaf215-a0c0-43f3-fa1c-d213fb19b507",
        "colab": {
          "base_uri": "https://localhost:8080/"
        }
      },
      "execution_count": 31,
      "outputs": [
        {
          "output_type": "execute_result",
          "data": {
            "text/plain": [
              "104.0"
            ]
          },
          "metadata": {},
          "execution_count": 31
        }
      ]
    },
    {
      "cell_type": "code",
      "source": [
        "# each instance exists separately\n",
        "temp2.convert_to_celsius()"
      ],
      "metadata": {
        "id": "idjK3cxAnEJn",
        "outputId": "cb2efc2d-c565-4a49-e762-1fd7a92f9e45",
        "colab": {
          "base_uri": "https://localhost:8080/"
        }
      },
      "execution_count": 32,
      "outputs": [
        {
          "output_type": "execute_result",
          "data": {
            "text/plain": [
              "0.5555555555555556"
            ]
          },
          "metadata": {},
          "execution_count": 32
        }
      ]
    },
    {
      "cell_type": "markdown",
      "source": [
        "## Define a simple class"
      ],
      "metadata": {
        "id": "jf0t6CCfqM6U"
      }
    },
    {
      "cell_type": "code",
      "source": [
        "class Bike:\n",
        "  name = \"\"\n",
        "  gear = 0"
      ],
      "metadata": {
        "id": "Qhx75gJKqOY1"
      },
      "execution_count": 33,
      "outputs": []
    },
    {
      "cell_type": "markdown",
      "source": [
        "This basic class has two variables inside of the class, `name` and `gear`.\n",
        "\n",
        "Note: Variables within a class are called \"attributes\"."
      ],
      "metadata": {
        "id": "y1WyEKb3qeka"
      }
    },
    {
      "cell_type": "code",
      "source": [
        "# Now create an instance of the class\n",
        "\n",
        "bike1 = Bike()"
      ],
      "metadata": {
        "id": "DPAxxuvZqrt0"
      },
      "execution_count": 34,
      "outputs": []
    },
    {
      "cell_type": "code",
      "source": [
        "# Set or call attributes of a class object\n",
        "\n",
        "# modify the name attribute\n",
        "bike1.name = \"Mountain Bike\"\n",
        "\n",
        "# access the gear attribute\n",
        "bike1.gear"
      ],
      "metadata": {
        "id": "LrztC457q0yS",
        "outputId": "03e56378-89ea-4a7e-b2c8-1b441fbab9d7",
        "colab": {
          "base_uri": "https://localhost:8080/"
        }
      },
      "execution_count": 35,
      "outputs": [
        {
          "output_type": "execute_result",
          "data": {
            "text/plain": [
              "0"
            ]
          },
          "metadata": {},
          "execution_count": 35
        }
      ]
    },
    {
      "cell_type": "code",
      "source": [
        "# define a class\n",
        "class Bike:\n",
        "  name = \"\"\n",
        "  gear = 0\n",
        "\n",
        "# create object of class\n",
        "bike1 = Bike()\n",
        "\n",
        "# access attributes and assign new values\n",
        "bike1.gear = 11\n",
        "bike1.name = \"Mountain Bike\"\n",
        "\n",
        "print(f\"Name: {bike1.name}, Gears: {bike1.gear} \")"
      ],
      "metadata": {
        "id": "d62qfmysrDW1",
        "outputId": "356b3a0d-5ddb-4a9d-985d-2403dd1fa148",
        "colab": {
          "base_uri": "https://localhost:8080/"
        }
      },
      "execution_count": 36,
      "outputs": [
        {
          "output_type": "stream",
          "name": "stdout",
          "text": [
            "Name: Mountain Bike, Gears: 11 \n"
          ]
        }
      ]
    },
    {
      "cell_type": "markdown",
      "source": [
        "## Using a Constructor to Initialize"
      ],
      "metadata": {
        "id": "kAyhZ8aVtgy2"
      }
    },
    {
      "cell_type": "code",
      "source": [
        "class Bike:\n",
        "    name = \"\"\n",
        "...\n",
        "# create object\n",
        "bike1 = Bike()"
      ],
      "metadata": {
        "id": "tn3dcyMGtgFA"
      },
      "execution_count": 37,
      "outputs": []
    },
    {
      "cell_type": "code",
      "source": [
        "class Bike:\n",
        "\n",
        "    # constructor function\n",
        "    def __init__(self, name = \"\"):\n",
        "        self.name = name\n",
        "\n",
        "bike1 = Bike()"
      ],
      "metadata": {
        "id": "Q-MHgNOStnTO"
      },
      "execution_count": 38,
      "outputs": []
    },
    {
      "cell_type": "code",
      "source": [
        "bike1 = Bike(\"Mountain Bike\")"
      ],
      "metadata": {
        "id": "LDJv3RyGtpt9"
      },
      "execution_count": 39,
      "outputs": []
    },
    {
      "cell_type": "markdown",
      "source": [
        "## Create Multiple Instances of a Class"
      ],
      "metadata": {
        "id": "AOoxQguRrMGQ"
      }
    },
    {
      "cell_type": "code",
      "source": [
        "# define a class with an attribute\n",
        "class Employee:\n",
        "    # define an attribute\n",
        "    employee_id = 0\n",
        "\n",
        "# create two objects of the Employee class.\n",
        "# both will have employee_id = 0\n",
        "employee1 = Employee()\n",
        "employee2 = Employee()\n",
        "\n",
        "# set the attribute for employee1\n",
        "employee1.employeeID = 1001\n",
        "# now access or \"call\" the attribute\n",
        "print(f\"Employee ID: {employee1.employeeID}\")\n",
        "\n",
        "# set the attribute for employee2\n",
        "employee2.employeeID = 1002\n",
        "print(f\"Employee ID: {employee2.employeeID}\")"
      ],
      "metadata": {
        "id": "9nbaiZ7ArJYg",
        "outputId": "24e4f5fb-41bb-4372-ad73-1d2bb589e3d9",
        "colab": {
          "base_uri": "https://localhost:8080/"
        }
      },
      "execution_count": 40,
      "outputs": [
        {
          "output_type": "stream",
          "name": "stdout",
          "text": [
            "Employee ID: 1001\n",
            "Employee ID: 1002\n"
          ]
        }
      ]
    },
    {
      "cell_type": "markdown",
      "source": [
        "## Methods within a Class"
      ],
      "metadata": {
        "id": "iWgu6_c2rVJY"
      }
    },
    {
      "cell_type": "code",
      "source": [
        "# create a class with some default attributes and values\n",
        "class Room:\n",
        "  length = 24.0\n",
        "  width = 14.0\n",
        "\n",
        "  # class method to calculate area\n",
        "  # Note how self. must be appended to the attributes to refer to them\n",
        "  def calculate_area(self):\n",
        "    print(\"Area of Room =\", self.length * self.width)\n",
        "\n",
        "# create object of Room class\n",
        "library = Room()\n",
        "\n",
        "# assign values to the attributes\n",
        "library.length = 42.5\n",
        "library.width = 30.8\n",
        "\n",
        "# access method inside class\n",
        "library.calculate_area()"
      ],
      "metadata": {
        "id": "-nbshHoxrXMW",
        "outputId": "9bb4dc38-5aec-4a75-83ea-b6dcef936d36",
        "colab": {
          "base_uri": "https://localhost:8080/"
        }
      },
      "execution_count": 41,
      "outputs": [
        {
          "output_type": "stream",
          "name": "stdout",
          "text": [
            "Area of Room = 1309.0\n"
          ]
        }
      ]
    }
  ]
}