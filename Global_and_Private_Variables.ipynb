{
  "nbformat": 4,
  "nbformat_minor": 0,
  "metadata": {
    "colab": {
      "provenance": [],
      "authorship_tag": "ABX9TyPbg3+p6kfvvHG5hl37Xs80",
      "include_colab_link": true
    },
    "kernelspec": {
      "name": "python3",
      "display_name": "Python 3"
    },
    "language_info": {
      "name": "python"
    }
  },
  "cells": [
    {
      "cell_type": "markdown",
      "metadata": {
        "id": "view-in-github",
        "colab_type": "text"
      },
      "source": [
        "<a href=\"https://colab.research.google.com/github/eyv7jz/ds1002-eyv7jz/blob/main/Global_and_Private_Variables.ipynb\" target=\"_parent\"><img src=\"https://colab.research.google.com/assets/colab-badge.svg\" alt=\"Open In Colab\"/></a>"
      ]
    },
    {
      "cell_type": "code",
      "execution_count": 1,
      "metadata": {
        "colab": {
          "base_uri": "https://localhost:8080/"
        },
        "id": "W_FEolx5Y7ie",
        "outputId": "fa9feda6-be13-4699-8bca-499e0949a881"
      },
      "outputs": [
        {
          "output_type": "stream",
          "name": "stdout",
          "text": [
            "17\n"
          ]
        }
      ],
      "source": [
        "# x is a global variable, which means it is acessible anywhere in code\n",
        "# since it is not created in a function, it can be used within a function or\n",
        "# outside of a function\n",
        "x = 17\n",
        "print(x)"
      ]
    },
    {
      "cell_type": "code",
      "source": [
        "def call_x():\n",
        "  print(x)\n",
        "\n",
        "call_x()"
      ],
      "metadata": {
        "colab": {
          "base_uri": "https://localhost:8080/"
        },
        "id": "47BXM5gjZMpc",
        "outputId": "b7040854-0f4b-43e2-ade1-be76e0382339"
      },
      "execution_count": 3,
      "outputs": [
        {
          "output_type": "stream",
          "name": "stdout",
          "text": [
            "17\n"
          ]
        }
      ]
    },
    {
      "cell_type": "code",
      "source": [
        "# when a variable is created in a function it can only be used within the\n",
        "# function\n",
        "# these kinds of variables are called private variables\n",
        "def private_var():\n",
        "  xx = \"charlottesville\"\n",
        "\n",
        "private_var()\n",
        "print(xx)"
      ],
      "metadata": {
        "colab": {
          "base_uri": "https://localhost:8080/",
          "height": 214
        },
        "id": "dLXPvTRuZoWL",
        "outputId": "971fe679-3770-4907-ab69-e14176bf4a1d"
      },
      "execution_count": 4,
      "outputs": [
        {
          "output_type": "error",
          "ename": "NameError",
          "evalue": "ignored",
          "traceback": [
            "\u001b[0;31m---------------------------------------------------------------------------\u001b[0m",
            "\u001b[0;31mNameError\u001b[0m                                 Traceback (most recent call last)",
            "\u001b[0;32m<ipython-input-4-db30b0559aad>\u001b[0m in \u001b[0;36m<cell line: 5>\u001b[0;34m()\u001b[0m\n\u001b[1;32m      3\u001b[0m \u001b[0;34m\u001b[0m\u001b[0m\n\u001b[1;32m      4\u001b[0m \u001b[0mprivate_var\u001b[0m\u001b[0;34m(\u001b[0m\u001b[0;34m)\u001b[0m\u001b[0;34m\u001b[0m\u001b[0;34m\u001b[0m\u001b[0m\n\u001b[0;32m----> 5\u001b[0;31m \u001b[0mprint\u001b[0m\u001b[0;34m(\u001b[0m\u001b[0mxx\u001b[0m\u001b[0;34m)\u001b[0m\u001b[0;34m\u001b[0m\u001b[0;34m\u001b[0m\u001b[0m\n\u001b[0m",
            "\u001b[0;31mNameError\u001b[0m: name 'xx' is not defined"
          ]
        }
      ]
    },
    {
      "cell_type": "code",
      "source": [
        "# it is possible for a variable to be created within a function and not be\n",
        "# private but instead be global and can be used anywhere in code\n",
        "def create_a_global_var():\n",
        "  global zz\n",
        "  zz= \"top\"\n",
        "\n",
        "create_a_global_var()\n",
        "print(zz)"
      ],
      "metadata": {
        "colab": {
          "base_uri": "https://localhost:8080/"
        },
        "id": "VMygCrNJZ90W",
        "outputId": "06bf4b62-9f8d-4309-d7a6-968962dc80cd"
      },
      "execution_count": 9,
      "outputs": [
        {
          "output_type": "stream",
          "name": "stdout",
          "text": [
            "top\n"
          ]
        }
      ]
    },
    {
      "cell_type": "code",
      "source": [
        "# it is possible to make a global variable a private variable as it can be\n",
        "# redefined within a function and will only be redefined within that function\n",
        "# as outside of the fucntion it retains its original value\n",
        "mm = 17\n",
        "def update_the_global():\n",
        "  # global mm  --> this can make the variable be refined within and outside of\n",
        "  # the function\n",
        "  mm = 14\n",
        "  print(mm)\n",
        "\n",
        "update_the_global()\n",
        "print(mm)"
      ],
      "metadata": {
        "colab": {
          "base_uri": "https://localhost:8080/"
        },
        "id": "vV6bjR2haqNT",
        "outputId": "dab49757-fde7-4129-ebae-b8370a77204f"
      },
      "execution_count": 10,
      "outputs": [
        {
          "output_type": "stream",
          "name": "stdout",
          "text": [
            "14\n",
            "17\n"
          ]
        }
      ]
    }
  ]
}