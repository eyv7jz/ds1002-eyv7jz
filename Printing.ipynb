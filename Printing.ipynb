{
  "nbformat": 4,
  "nbformat_minor": 0,
  "metadata": {
    "colab": {
      "provenance": [],
      "authorship_tag": "ABX9TyMvkfKsEa9uibWbkmOdjUeM",
      "include_colab_link": true
    },
    "kernelspec": {
      "name": "python3",
      "display_name": "Python 3"
    },
    "language_info": {
      "name": "python"
    }
  },
  "cells": [
    {
      "cell_type": "markdown",
      "metadata": {
        "id": "view-in-github",
        "colab_type": "text"
      },
      "source": [
        "<a href=\"https://colab.research.google.com/github/eyv7jz/ds1002-eyv7jz/blob/main/Printing.ipynb\" target=\"_parent\"><img src=\"https://colab.research.google.com/assets/colab-badge.svg\" alt=\"Open In Colab\"/></a>"
      ]
    },
    {
      "cell_type": "code",
      "execution_count": 11,
      "metadata": {
        "colab": {
          "base_uri": "https://localhost:8080/"
        },
        "id": "9OnByFArdUbz",
        "outputId": "c99c453a-df1c-4469-bc01-b9708cd96084"
      },
      "outputs": [
        {
          "output_type": "stream",
          "name": "stdout",
          "text": [
            "The name of this band is Talking Heads and it has 4 members.\n",
            "The name of this band is Talking Heads and it has 4 members.\n",
            "The name of this band is Talking Heads and it has 4 members.\n"
          ]
        }
      ],
      "source": [
        "#print\n",
        "\n",
        "band = \"Talking Heads\"\n",
        "member_count = 4\n",
        "\n",
        "print(\"The name of this band is \" + band + \" and it has \" + str(member_count) + \" members.\")\n",
        "\n",
        "print(\"The name of this band is\", band, \"and it has\", member_count, \"members.\")\n",
        "\n",
        "print(f\"The name of this band is {band} and it has {member_count} members.\")"
      ]
    }
  ]
}