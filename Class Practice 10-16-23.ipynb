{
  "nbformat": 4,
  "nbformat_minor": 0,
  "metadata": {
    "colab": {
      "provenance": [],
      "authorship_tag": "ABX9TyMX3YMsf/V63I++8NJiSVfM",
      "include_colab_link": true
    },
    "kernelspec": {
      "name": "python3",
      "display_name": "Python 3"
    },
    "language_info": {
      "name": "python"
    }
  },
  "cells": [
    {
      "cell_type": "markdown",
      "metadata": {
        "id": "view-in-github",
        "colab_type": "text"
      },
      "source": [
        "<a href=\"https://colab.research.google.com/github/eyv7jz/ds1002-eyv7jz/blob/main/Class_Practice_10_16_23.ipynb\" target=\"_parent\"><img src=\"https://colab.research.google.com/assets/colab-badge.svg\" alt=\"Open In Colab\"/></a>"
      ]
    },
    {
      "cell_type": "code",
      "execution_count": 1,
      "metadata": {
        "id": "XZaXV5MaywCb"
      },
      "outputs": [],
      "source": [
        "import string\n",
        "import random"
      ]
    },
    {
      "cell_type": "code",
      "source": [
        "lc_letters = string.ascii_lowercase\n",
        "print(lc_letters)\n",
        "\n",
        "uc_letters = string.ascii_uppercase\n",
        "print(uc_letters)\n",
        "\n",
        "digits = string.digits\n",
        "print(digits)\n",
        "\n",
        "# punc = string.punctuation\n",
        "# print(punc)\n",
        "\n",
        "punc = \"!#$%&*,-./;?@^_`|~\"\n",
        "print(punc)\n",
        "\n",
        "allchars = lc_letters + uc_letters + digits + punc"
      ],
      "metadata": {
        "colab": {
          "base_uri": "https://localhost:8080/"
        },
        "id": "00NUbnk4zBcI",
        "outputId": "64e54fea-5968-48ef-9f54-7d1a142414b1"
      },
      "execution_count": 29,
      "outputs": [
        {
          "output_type": "stream",
          "name": "stdout",
          "text": [
            "abcdefghijklmnopqrstuvwxyz\n",
            "ABCDEFGHIJKLMNOPQRSTUVWXYZ\n",
            "0123456789\n",
            "!#$%&*,-./;?@^_`|~\n"
          ]
        }
      ]
    },
    {
      "cell_type": "code",
      "source": [
        "character = random.choice(lc_letters)\n",
        "print(character)\n",
        "print(allchars)"
      ],
      "metadata": {
        "colab": {
          "base_uri": "https://localhost:8080/"
        },
        "id": "96K-0EYXzoxq",
        "outputId": "be42a887-febc-4524-8d2e-e592660427cb"
      },
      "execution_count": 30,
      "outputs": [
        {
          "output_type": "stream",
          "name": "stdout",
          "text": [
            "c\n",
            "abcdefghijklmnopqrstuvwxyzABCDEFGHIJKLMNOPQRSTUVWXYZ0123456789!#$%&*,-./;?@^_`|~\n"
          ]
        }
      ]
    },
    {
      "cell_type": "code",
      "source": [
        "passwd = ''\n",
        "\n",
        "# for each instance in this range, do this...\n",
        "for i in range(8):\n",
        "  passwd += random.choice(allchars)\n",
        "  # I think the two lines of code below are how you could get rid of whitespace\n",
        "  # passwd = passwd.replace(\"'\", \"\")\n",
        "  # passwd = passwd.replace('\"', '')\n",
        "\n",
        "print(passwd)"
      ],
      "metadata": {
        "colab": {
          "base_uri": "https://localhost:8080/"
        },
        "id": "zeT2xvf50UN5",
        "outputId": "a7b2fd27-3dbb-4b8f-aa9f-ecd553882358"
      },
      "execution_count": 31,
      "outputs": [
        {
          "output_type": "stream",
          "name": "stdout",
          "text": [
            "G/B,G^8m\n"
          ]
        }
      ]
    },
    {
      "cell_type": "code",
      "source": [
        "allchars = lc_letters + uc_letters + digits + punc\n",
        "\n",
        "def give_me_a_password(length):\n",
        "  passwd = ''\n",
        "  for i in range(length):\n",
        "    passwd += random.choice(allchars)\n",
        "  return passwd\n",
        "# cannot do two returns in a function (I think)\n",
        "\n",
        "give_me_a_password(44)"
      ],
      "metadata": {
        "colab": {
          "base_uri": "https://localhost:8080/",
          "height": 35
        },
        "id": "r-qYUstN2gGK",
        "outputId": "1e3e2189-8ab5-445d-961c-48513d711999"
      },
      "execution_count": 32,
      "outputs": [
        {
          "output_type": "execute_result",
          "data": {
            "text/plain": [
              "'&ztSZ6dJx%-p?vmm5R_|~n|P#vvPRLe@k|QbafgvV%-k'"
            ],
            "application/vnd.google.colaboratory.intrinsic+json": {
              "type": "string"
            }
          },
          "metadata": {},
          "execution_count": 32
        }
      ]
    },
    {
      "cell_type": "code",
      "source": [
        "beatles = [\"John\", \"Paul\", \"Ringo\", \"George\"]\n",
        "\n",
        "for b in beatles:\n",
        "  print(b + ': ' + give_me_a_password(10))"
      ],
      "metadata": {
        "colab": {
          "base_uri": "https://localhost:8080/"
        },
        "id": "J62pp2Ac30S7",
        "outputId": "7c7e76cb-f16b-4026-837a-2fc7330146e8"
      },
      "execution_count": 34,
      "outputs": [
        {
          "output_type": "stream",
          "name": "stdout",
          "text": [
            "John: U/aO6S-^83\n",
            "Paul: v3jv~Nu&g?\n",
            "Ringo: meAosab_b8\n",
            "George: @8E~I-ybiv\n"
          ]
        }
      ]
    },
    {
      "cell_type": "markdown",
      "source": [
        "# F to C to F Conveter"
      ],
      "metadata": {
        "id": "ieHkX3UG6XFC"
      }
    },
    {
      "cell_type": "code",
      "source": [
        "def c_to_f(temp):\n",
        "  ftemp = (temp * 1.8) + 32\n",
        "  return ftemp"
      ],
      "metadata": {
        "id": "2L21g5kx6ca9"
      },
      "execution_count": 37,
      "outputs": []
    },
    {
      "cell_type": "code",
      "source": [
        "c_to_f(40)"
      ],
      "metadata": {
        "colab": {
          "base_uri": "https://localhost:8080/"
        },
        "id": "5LH9s-rk7DSB",
        "outputId": "5e441b6c-5bb5-415d-9676-1d0b82bde415"
      },
      "execution_count": 38,
      "outputs": [
        {
          "output_type": "execute_result",
          "data": {
            "text/plain": [
              "104.0"
            ]
          },
          "metadata": {},
          "execution_count": 38
        }
      ]
    },
    {
      "cell_type": "code",
      "source": [
        "# this won't work because it's not an integer or float\n",
        "c_to_f(bananas)"
      ],
      "metadata": {
        "colab": {
          "base_uri": "https://localhost:8080/",
          "height": 197
        },
        "id": "CsYELNSZ7KDp",
        "outputId": "35104641-6629-4c24-e748-74efda147e0a"
      },
      "execution_count": 39,
      "outputs": [
        {
          "output_type": "error",
          "ename": "NameError",
          "evalue": "ignored",
          "traceback": [
            "\u001b[0;31m---------------------------------------------------------------------------\u001b[0m",
            "\u001b[0;31mNameError\u001b[0m                                 Traceback (most recent call last)",
            "\u001b[0;32m<ipython-input-39-867c44d57dc6>\u001b[0m in \u001b[0;36m<cell line: 2>\u001b[0;34m()\u001b[0m\n\u001b[1;32m      1\u001b[0m \u001b[0;31m# this won't work because it's not an integer or float\u001b[0m\u001b[0;34m\u001b[0m\u001b[0;34m\u001b[0m\u001b[0m\n\u001b[0;32m----> 2\u001b[0;31m \u001b[0mc_to_f\u001b[0m\u001b[0;34m(\u001b[0m\u001b[0mbananas\u001b[0m\u001b[0;34m)\u001b[0m\u001b[0;34m\u001b[0m\u001b[0;34m\u001b[0m\u001b[0m\n\u001b[0m",
            "\u001b[0;31mNameError\u001b[0m: name 'bananas' is not defined"
          ]
        }
      ]
    },
    {
      "cell_type": "code",
      "source": [
        "# this functoin still works with a negative integer or float\n",
        "c_to_f(-32)"
      ],
      "metadata": {
        "colab": {
          "base_uri": "https://localhost:8080/"
        },
        "id": "eNoc6QOI7Usr",
        "outputId": "0c8ed101-ec6c-42d3-9c65-a7b75018e460"
      },
      "execution_count": 41,
      "outputs": [
        {
          "output_type": "execute_result",
          "data": {
            "text/plain": [
              "-25.6"
            ]
          },
          "metadata": {},
          "execution_count": 41
        }
      ]
    },
    {
      "cell_type": "code",
      "source": [
        "def f_to_c(temp):\n",
        "  ctemp = (temp - 32)/1.8\n",
        "  return ctemp"
      ],
      "metadata": {
        "id": "2SGSjP3_7en9"
      },
      "execution_count": 42,
      "outputs": []
    },
    {
      "cell_type": "code",
      "source": [
        "f_to_c(104)"
      ],
      "metadata": {
        "colab": {
          "base_uri": "https://localhost:8080/"
        },
        "id": "IOY3Fcgz7nK3",
        "outputId": "1672be49-5e9c-4812-d750-1b202b71a0a6"
      },
      "execution_count": 43,
      "outputs": [
        {
          "output_type": "execute_result",
          "data": {
            "text/plain": [
              "40.0"
            ]
          },
          "metadata": {},
          "execution_count": 43
        }
      ]
    },
    {
      "cell_type": "code",
      "source": [
        "def convert_temp(temp,unit):\n",
        "  # in case I want Celsius back\n",
        "  if unit == \"C\":\n",
        "    ctemp = (temp - 32)/1.8\n",
        "    return ctemp\n",
        "  elif unit == \"F\":\n",
        "    ftemp = (temp * 1.8) + 32\n",
        "    return ftemp\n",
        "  else:\n",
        "    print(\"Hey you didn't give me C or F!\")\n",
        "\n",
        "print(convert_temp(40,\"F\"))\n",
        "print(convert_temp(40,\"K\"))"
      ],
      "metadata": {
        "colab": {
          "base_uri": "https://localhost:8080/"
        },
        "id": "T_d65OAn7zNd",
        "outputId": "36e106d3-be77-4a40-89d1-71e372cc076c"
      },
      "execution_count": 46,
      "outputs": [
        {
          "output_type": "stream",
          "name": "stdout",
          "text": [
            "104.0\n",
            "Hey you didn't give me C or F!\n",
            "None\n"
          ]
        }
      ]
    }
  ]
}
