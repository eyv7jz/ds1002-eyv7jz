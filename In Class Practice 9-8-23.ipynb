{
  "nbformat": 4,
  "nbformat_minor": 0,
  "metadata": {
    "colab": {
      "provenance": [],
      "authorship_tag": "ABX9TyND0m84C9c2uXB08s74vmhj",
      "include_colab_link": true
    },
    "kernelspec": {
      "name": "python3",
      "display_name": "Python 3"
    },
    "language_info": {
      "name": "python"
    }
  },
  "cells": [
    {
      "cell_type": "markdown",
      "metadata": {
        "id": "view-in-github",
        "colab_type": "text"
      },
      "source": [
        "<a href=\"https://colab.research.google.com/github/eyv7jz/ds1002-eyv7jz/blob/main/In%20Class%20Practice%209-8-23.ipynb\" target=\"_parent\"><img src=\"https://colab.research.google.com/assets/colab-badge.svg\" alt=\"Open In Colab\"/></a>"
      ]
    },
    {
      "cell_type": "code",
      "execution_count": null,
      "metadata": {
        "id": "M2QvXB52GzBz"
      },
      "outputs": [],
      "source": [
        "# a list of countries\n",
        "# can use single or double quotes, just need to be consistent\n",
        "countries = [\"vietnam\", \"italy\", \"uzbekistan\",\"spain\", \"united states\", \"uruguay\"]\n",
        "lookfor = \"italy\"\n",
        "\n",
        "\n",
        "def find_things(countries, lookfor):\n",
        "  for c in countries:\n",
        "    if (c == lookfor):\n",
        "      print(\"Hey I found \" + lookfor)\n",
        "    else:\n",
        "      print(\"No match\")\n",
        "\n",
        "\n",
        "# find_things(countries, lookfor)\n",
        "# countries is the dataset and lookfor is the value that the code/computer is trying to find\n",
        "find_things(countries, \"spain\")"
      ]
    }
  ]
}