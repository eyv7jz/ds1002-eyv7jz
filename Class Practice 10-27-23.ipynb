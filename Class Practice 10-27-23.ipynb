{
  "nbformat": 4,
  "nbformat_minor": 0,
  "metadata": {
    "colab": {
      "provenance": [],
      "authorship_tag": "ABX9TyPiLKdBhB4HOkruiszJyfPL",
      "include_colab_link": true
    },
    "kernelspec": {
      "name": "python3",
      "display_name": "Python 3"
    },
    "language_info": {
      "name": "python"
    }
  },
  "cells": [
    {
      "cell_type": "markdown",
      "metadata": {
        "id": "view-in-github",
        "colab_type": "text"
      },
      "source": [
        "<a href=\"https://colab.research.google.com/github/eyv7jz/ds1002-eyv7jz/blob/main/Class%20Practice%2010-27-23.ipynb\" target=\"_parent\"><img src=\"https://colab.research.google.com/assets/colab-badge.svg\" alt=\"Open In Colab\"/></a>"
      ]
    },
    {
      "cell_type": "code",
      "execution_count": 1,
      "metadata": {
        "colab": {
          "base_uri": "https://localhost:8080/"
        },
        "id": "9OnByFArdUbz",
        "outputId": "11c373d6-3e00-4d86-8e53-d1cbeb43a954"
      },
      "outputs": [
        {
          "output_type": "stream",
          "name": "stdout",
          "text": [
            "The name of this band is Talking Heads and it has 4 members.\n",
            "The name of this band is Talking Heads and it has 4 members.\n",
            "The name of this band is Talking Heads and it has 4 members.\n"
          ]
        }
      ],
      "source": [
        "#print\n",
        "\n",
        "band = \"Talking Heads\"\n",
        "member_count = 4\n",
        "\n",
        "print(\"The name of this band is \" + band + \" and it has \" + str(member_count) + \" members.\")\n",
        "\n",
        "print(\"The name of this band is\", band, \"and it has\", member_count, \"members.\")\n",
        "\n",
        "print(f\"The name of this band is {band} and it has {member_count} members.\")"
      ]
    },
    {
      "cell_type": "code",
      "source": [
        "# function output\n",
        "# I missed this section\n",
        "\n",
        "mylist = []"
      ],
      "metadata": {
        "id": "6hi6dv53ghRg"
      },
      "execution_count": null,
      "outputs": []
    },
    {
      "cell_type": "code",
      "source": [
        "def simple_function(x,y,z):\n",
        "  return x + y + z\n",
        "\n",
        "print(simple_function(5,6,7))\n",
        "simple_function(z=3,y=14,x=1)"
      ],
      "metadata": {
        "colab": {
          "base_uri": "https://localhost:8080/"
        },
        "id": "V9FWUYaeiZYJ",
        "outputId": "e313e1eb-ebef-4d29-df6c-8a86ecb8e4d9"
      },
      "execution_count": 2,
      "outputs": [
        {
          "output_type": "stream",
          "name": "stdout",
          "text": [
            "18\n"
          ]
        },
        {
          "output_type": "execute_result",
          "data": {
            "text/plain": [
              "18"
            ]
          },
          "metadata": {},
          "execution_count": 2
        }
      ]
    },
    {
      "cell_type": "code",
      "source": [
        "class Records:\n",
        "  var1 = \"Rockets\"\n",
        "  var2 = \"Bananas\"\n",
        "\n",
        "# can call out attributes when only the variables are defined and there is no object\n",
        "print(Records.var1)\n",
        "\n",
        "record1 = Records()\n",
        "print(record1.var1)\n",
        "record1.var1 = \"Mopeds\"\n",
        "print(record1.var1)\n",
        "Records.var1"
      ],
      "metadata": {
        "colab": {
          "base_uri": "https://localhost:8080/",
          "height": 89
        },
        "id": "eRADdHvJjPg8",
        "outputId": "c21a5f19-a6af-4cb1-8ec0-5e408ce77499"
      },
      "execution_count": 3,
      "outputs": [
        {
          "output_type": "stream",
          "name": "stdout",
          "text": [
            "Rockets\n",
            "Rockets\n",
            "Mopeds\n"
          ]
        },
        {
          "output_type": "execute_result",
          "data": {
            "text/plain": [
              "'Rockets'"
            ],
            "application/vnd.google.colaboratory.intrinsic+json": {
              "type": "string"
            }
          },
          "metadata": {},
          "execution_count": 3
        }
      ]
    }
  ]
}