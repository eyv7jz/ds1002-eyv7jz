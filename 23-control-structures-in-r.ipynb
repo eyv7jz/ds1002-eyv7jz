{
  "nbformat": 4,
  "nbformat_minor": 0,
  "metadata": {
    "colab": {
      "provenance": [],
      "include_colab_link": true
    },
    "kernelspec": {
      "name": "ir",
      "display_name": "R"
    },
    "language_info": {
      "name": "R"
    }
  },
  "cells": [
    {
      "cell_type": "markdown",
      "metadata": {
        "id": "view-in-github",
        "colab_type": "text"
      },
      "source": [
        "<a href=\"https://colab.research.google.com/github/eyv7jz/ds1002-eyv7jz/blob/main/23-control-structures-in-r.ipynb\" target=\"_parent\"><img src=\"https://colab.research.google.com/assets/colab-badge.svg\" alt=\"Open In Colab\"/></a>"
      ]
    },
    {
      "cell_type": "markdown",
      "source": [
        "# Control Structures\n",
        "\n",
        "R code needs looping and conditionals just like Python does. Here are some examples and practice exercises for you:"
      ],
      "metadata": {
        "id": "jRNjXbUlTQPB"
      }
    },
    {
      "cell_type": "markdown",
      "source": [
        "## `if` / `else if` / `else` Condition Checking\n",
        "\n",
        "R uses a fairly similar model to Python. The `if` and `else if` controls require a logical test that results in a `TRUE`|`FALSE` and the `else` remains a catch-all that has no condition.\n",
        "\n",
        "Comparison operators are:\n",
        "\n",
        "| Operator  | Name  | Example  |\n",
        "|---|---|---|\n",
        "| `==` | Equals  | `x == y` |\n",
        "| `!=` | Not equals  | `y != x` |\n",
        "| `>`  | Greater than  | `x > y` |\n",
        "| `<`  | Less than  | `y < x` |\n",
        "| `>=` | Greater than or equal to  | `x >= y` |\n",
        "| `<=` | Less than or equal to  | `y <= x` |"
      ],
      "metadata": {
        "id": "m7votYy_Yh7f"
      }
    },
    {
      "cell_type": "code",
      "source": [
        "x <- 14\n",
        "y <- 120\n",
        "\n",
        "if (y > x) {\n",
        "  print(\"y is greater than x\")\n",
        "}"
      ],
      "metadata": {
        "id": "yPHhbOulYmBw",
        "outputId": "8e11358a-0bdb-4ca5-bcd9-4aafdf620a17",
        "colab": {
          "base_uri": "https://localhost:8080/"
        }
      },
      "execution_count": 1,
      "outputs": [
        {
          "output_type": "stream",
          "name": "stdout",
          "text": [
            "[1] \"y is greater than x\"\n"
          ]
        }
      ]
    },
    {
      "cell_type": "code",
      "source": [
        "x <- 33\n",
        "y <- 33\n",
        "\n",
        "if (y > x) {\n",
        "  print(\"y is greater than x\")\n",
        "} else if (x == y) {\n",
        "  print(\"x and y are equal\")\n",
        "}"
      ],
      "metadata": {
        "id": "4_MdL-xUZH5A",
        "outputId": "0237f589-f8b0-43b3-d159-275af42339c2",
        "colab": {
          "base_uri": "https://localhost:8080/"
        }
      },
      "execution_count": 2,
      "outputs": [
        {
          "output_type": "stream",
          "name": "stdout",
          "text": [
            "[1] \"x and y are equal\"\n"
          ]
        }
      ]
    },
    {
      "cell_type": "code",
      "source": [
        "x <- 120\n",
        "y <- 44\n",
        "\n",
        "if (y > x) {\n",
        "  print(\"y is greater than x\")\n",
        "} else if (x == y) {\n",
        "  print(\"x and y are equal\")\n",
        "} else {\n",
        "  print(\"x is greater than y\")\n",
        "}"
      ],
      "metadata": {
        "id": "XDnNHcz4ZWWX",
        "outputId": "c2206aca-6e32-4092-83aa-4be819c3870f",
        "colab": {
          "base_uri": "https://localhost:8080/"
        }
      },
      "execution_count": 3,
      "outputs": [
        {
          "output_type": "stream",
          "name": "stdout",
          "text": [
            "[1] \"x is greater than y\"\n"
          ]
        }
      ]
    },
    {
      "cell_type": "markdown",
      "source": [
        "The `else if` is not required. A condition check could simply have `if` and `else` stanzas."
      ],
      "metadata": {
        "id": "IKEcJ6gzZnde"
      }
    },
    {
      "cell_type": "markdown",
      "source": [
        "### Your turn\n",
        "\n",
        "Declare 3 variables populated with chars or numerics and use them in an `if` / `else if` / `else` statement."
      ],
      "metadata": {
        "id": "CTPqGTo8arwa"
      }
    },
    {
      "cell_type": "code",
      "source": [
        "v <- 5\n",
        "c <- 9\n",
        "g <- 5\n",
        "\n",
        "if (v > g & c > g) {\n",
        "  print(\"v and c are greater than g\")\n",
        "} else if (v == g & c == g) {\n",
        "  print(\"v and c are equal to g\")\n",
        "} else if (v < g & c < g) {\n",
        "  print(\"v and c are less than g\")\n",
        "} else if (v == g & c > g) {\n",
        "  print(\"v is equal to g and c is greater than g\")\n",
        "}"
      ],
      "metadata": {
        "id": "MBosjbjjas4p",
        "outputId": "d4b30512-6b1f-408f-8d84-5ea2c273dc26",
        "colab": {
          "base_uri": "https://localhost:8080/"
        }
      },
      "execution_count": 4,
      "outputs": [
        {
          "output_type": "stream",
          "name": "stdout",
          "text": [
            "[1] \"v is equal to g and c is greater than g\"\n"
          ]
        }
      ]
    },
    {
      "cell_type": "markdown",
      "source": [
        "## `for` Loops\n",
        "\n",
        "A for-loop can iterate up to numeric count or range (example 1), or through a series of items in a list or vector, or for a numeric range/limit against a vector. For loops of this sort are determinate, in that you can easily predict the number of cycles required to completion."
      ],
      "metadata": {
        "id": "BqwD2Nj8TS5E"
      }
    },
    {
      "cell_type": "code",
      "source": [
        "# loops 10x, counting 1-10.\n",
        "\n",
        "for(i in 1:10) {\n",
        "  print(i)\n",
        "}"
      ],
      "metadata": {
        "id": "Y60RH0l1TZFz",
        "outputId": "70da0d14-164d-4e77-9767-9300dd25e991",
        "colab": {
          "base_uri": "https://localhost:8080/"
        }
      },
      "execution_count": 5,
      "outputs": [
        {
          "output_type": "stream",
          "name": "stdout",
          "text": [
            "[1] 1\n",
            "[1] 2\n",
            "[1] 3\n",
            "[1] 4\n",
            "[1] 5\n",
            "[1] 6\n",
            "[1] 7\n",
            "[1] 8\n",
            "[1] 9\n",
            "[1] 10\n"
          ]
        }
      ]
    },
    {
      "cell_type": "code",
      "source": [
        "# loops once for each item in a vector\n",
        "\n",
        "x <- c(\"a\", \"b\", \"x\", \"y\", \"z\")\n",
        "\n",
        "for(i in x) {\n",
        "  print(i)\n",
        "}"
      ],
      "metadata": {
        "id": "vUA8aXUOTeet",
        "outputId": "008f41dc-4910-4d34-a0ae-1b6f3bec732a",
        "colab": {
          "base_uri": "https://localhost:8080/"
        }
      },
      "execution_count": 6,
      "outputs": [
        {
          "output_type": "stream",
          "name": "stdout",
          "text": [
            "[1] \"a\"\n",
            "[1] \"b\"\n",
            "[1] \"x\"\n",
            "[1] \"y\"\n",
            "[1] \"z\"\n"
          ]
        }
      ]
    },
    {
      "cell_type": "code",
      "source": [
        "# loops in a range of items (3x) mapped against a vector.\n",
        "# therefore loops 3x total against a, b, and x.\n",
        "\n",
        "x <- c(\"a\", \"b\", \"x\", \"y\", \"z\")\n",
        "\n",
        "for(i in 1:3) {\n",
        "  print(x[i])\n",
        "}"
      ],
      "metadata": {
        "id": "pAfeV-G2TyrQ",
        "outputId": "049700f1-c1cd-4e42-f1a7-5e15cd5b7950",
        "colab": {
          "base_uri": "https://localhost:8080/"
        }
      },
      "execution_count": 7,
      "outputs": [
        {
          "output_type": "stream",
          "name": "stdout",
          "text": [
            "[1] \"a\"\n",
            "[1] \"b\"\n",
            "[1] \"x\"\n"
          ]
        }
      ]
    },
    {
      "cell_type": "markdown",
      "source": [
        "### Your Turn\n",
        "\n",
        "Create a for-loop that iterates 17 times. It can use any of the patterns above."
      ],
      "metadata": {
        "id": "4s_Qvods5HAo"
      }
    },
    {
      "cell_type": "code",
      "source": [
        "for(i in 1:17) {\n",
        "  print(i)\n",
        "}"
      ],
      "metadata": {
        "id": "f63-VxK35OYU",
        "outputId": "0974e438-4dcb-4a1e-ae30-9c969fedf992",
        "colab": {
          "base_uri": "https://localhost:8080/"
        }
      },
      "execution_count": 8,
      "outputs": [
        {
          "output_type": "stream",
          "name": "stdout",
          "text": [
            "[1] 1\n",
            "[1] 2\n",
            "[1] 3\n",
            "[1] 4\n",
            "[1] 5\n",
            "[1] 6\n",
            "[1] 7\n",
            "[1] 8\n",
            "[1] 9\n",
            "[1] 10\n",
            "[1] 11\n",
            "[1] 12\n",
            "[1] 13\n",
            "[1] 14\n",
            "[1] 15\n",
            "[1] 16\n",
            "[1] 17\n"
          ]
        }
      ]
    },
    {
      "cell_type": "markdown",
      "source": [
        "## `seq_along()`\n",
        "\n",
        "Generates an integer sequence based on the length of an object."
      ],
      "metadata": {
        "id": "A57JqVZrUANj"
      }
    },
    {
      "cell_type": "code",
      "source": [
        "x <- c(\"a\", \"b\", \"x\", \"y\", \"z\")\n",
        "\n",
        "for(i in seq_along(x)) {\n",
        "  print(i)     # the integer of the vector item index\n",
        "  print(x[i])  # the actual value of the vector item\n",
        "}"
      ],
      "metadata": {
        "id": "x9SW3BhsUHPZ",
        "outputId": "9891d7a7-3c4e-4eb5-9da1-c22e2f884c69",
        "colab": {
          "base_uri": "https://localhost:8080/"
        }
      },
      "execution_count": 9,
      "outputs": [
        {
          "output_type": "stream",
          "name": "stdout",
          "text": [
            "[1] 1\n",
            "[1] \"a\"\n",
            "[1] 2\n",
            "[1] \"b\"\n",
            "[1] 3\n",
            "[1] \"x\"\n",
            "[1] 4\n",
            "[1] \"y\"\n",
            "[1] 5\n",
            "[1] \"z\"\n"
          ]
        }
      ]
    },
    {
      "cell_type": "code",
      "source": [
        "# compare to this for-loop that skips integer/indexing and simply takes each value of the vector in sequence\n",
        "\n",
        "for(letter in x) {\n",
        "  print(letter)\n",
        "}"
      ],
      "metadata": {
        "id": "vigE4HTVUTuI",
        "outputId": "b81170c8-c58c-4253-9066-fcba085b0ff5",
        "colab": {
          "base_uri": "https://localhost:8080/"
        }
      },
      "execution_count": 10,
      "outputs": [
        {
          "output_type": "stream",
          "name": "stdout",
          "text": [
            "[1] \"a\"\n",
            "[1] \"b\"\n",
            "[1] \"x\"\n",
            "[1] \"y\"\n",
            "[1] \"z\"\n"
          ]
        }
      ]
    },
    {
      "cell_type": "code",
      "source": [
        "# What about iterating across a range, but only at certain intervals?\n",
        "# Use a sequence from 1-30 but count in intervals of 3\n",
        "\n",
        "for(i in seq(1, 30, 3)) {\n",
        "  print(i)\n",
        "}"
      ],
      "metadata": {
        "id": "8fPtDNc35TTG",
        "outputId": "a31038fb-f98c-491e-883e-2f5358b394fa",
        "colab": {
          "base_uri": "https://localhost:8080/"
        }
      },
      "execution_count": 11,
      "outputs": [
        {
          "output_type": "stream",
          "name": "stdout",
          "text": [
            "[1] 1\n",
            "[1] 4\n",
            "[1] 7\n",
            "[1] 10\n",
            "[1] 13\n",
            "[1] 16\n",
            "[1] 19\n",
            "[1] 22\n",
            "[1] 25\n",
            "[1] 28\n"
          ]
        }
      ]
    },
    {
      "cell_type": "markdown",
      "source": [
        "### Your turn\n",
        "\n",
        "Write your own sequential for-loop using the seq(start, stop, interval) pattern"
      ],
      "metadata": {
        "id": "dEQp8uh_bAOp"
      }
    },
    {
      "cell_type": "code",
      "source": [
        "for(i in seq(0, 50, 10)) {\n",
        "  print(i)\n",
        "}"
      ],
      "metadata": {
        "id": "eHPCEfxj559W",
        "outputId": "08ff0414-8226-4aeb-85f7-838e69ddeaed",
        "colab": {
          "base_uri": "https://localhost:8080/"
        }
      },
      "execution_count": 12,
      "outputs": [
        {
          "output_type": "stream",
          "name": "stdout",
          "text": [
            "[1] 0\n",
            "[1] 10\n",
            "[1] 20\n",
            "[1] 30\n",
            "[1] 40\n",
            "[1] 50\n"
          ]
        }
      ]
    },
    {
      "cell_type": "markdown",
      "source": [
        "## `while` Loops\n",
        "\n",
        "As in Python, `while` loops in R often iterate until a condition is met after an indeterminate number of cycles. This might mean cycling through data until a particular value is found, or a particular sum is met, etc."
      ],
      "metadata": {
        "id": "lgOzJViiboPV"
      }
    },
    {
      "cell_type": "code",
      "source": [
        "count <- 0\n",
        "\n",
        "while(count < 10) {\n",
        "  print(count)\n",
        "  count <- count + 1\n",
        "}"
      ],
      "metadata": {
        "id": "lmJoOxuLbpxg",
        "outputId": "3010aaec-2486-4853-9b70-b46e70e95cb0",
        "colab": {
          "base_uri": "https://localhost:8080/"
        }
      },
      "execution_count": 13,
      "outputs": [
        {
          "output_type": "stream",
          "name": "stdout",
          "text": [
            "[1] 0\n",
            "[1] 1\n",
            "[1] 2\n",
            "[1] 3\n",
            "[1] 4\n",
            "[1] 5\n",
            "[1] 6\n",
            "[1] 7\n",
            "[1] 8\n",
            "[1] 9\n"
          ]
        }
      ]
    },
    {
      "cell_type": "markdown",
      "source": [
        "###  Yahtzee!\n",
        "\n",
        "A simple example of a `while` loop in action:"
      ],
      "metadata": {
        "id": "9ek-ByJ80IXo"
      }
    },
    {
      "cell_type": "code",
      "source": [
        "dice <- 1\n",
        "while (dice <= 6) {\n",
        "  if (dice < 6) {\n",
        "    print(\"No Yahtzee\")\n",
        "  } else {\n",
        "    print(\"Yahtzee!\")\n",
        "  }\n",
        "  dice <- dice + 1\n",
        "}"
      ],
      "metadata": {
        "id": "2uybDniK0O5U",
        "outputId": "97164ee5-b6e3-4626-d8c9-8121335fc5de",
        "colab": {
          "base_uri": "https://localhost:8080/"
        }
      },
      "execution_count": 14,
      "outputs": [
        {
          "output_type": "stream",
          "name": "stdout",
          "text": [
            "[1] \"No Yahtzee\"\n",
            "[1] \"No Yahtzee\"\n",
            "[1] \"No Yahtzee\"\n",
            "[1] \"No Yahtzee\"\n",
            "[1] \"No Yahtzee\"\n",
            "[1] \"Yahtzee!\"\n"
          ]
        }
      ]
    },
    {
      "cell_type": "markdown",
      "source": [
        "## `break` and `next`\n",
        "\n",
        "`break` - Stops the loop entirely. It \"breaks\" the loop when a condition is met.\n",
        "`next` - Skips an interation of the loop and moves on to the next step in logic."
      ],
      "metadata": {
        "id": "j8h-_W_B0hHR"
      }
    },
    {
      "cell_type": "code",
      "source": [
        "# BREAK\n",
        "\n",
        "i <- 1\n",
        "while (i < 9) {\n",
        "  print(i)\n",
        "  i <- i + 1\n",
        "  if (i == 5) {\n",
        "    print(\"I'm all done!\")\n",
        "    break\n",
        "  }\n",
        "}"
      ],
      "metadata": {
        "id": "CSLP66hf00F6",
        "outputId": "fbcfcfc1-d901-42a5-c57c-4adeac231b0e",
        "colab": {
          "base_uri": "https://localhost:8080/"
        }
      },
      "execution_count": 15,
      "outputs": [
        {
          "output_type": "stream",
          "name": "stdout",
          "text": [
            "[1] 1\n",
            "[1] 2\n",
            "[1] 3\n",
            "[1] 4\n",
            "[1] \"I'm all done!\"\n"
          ]
        }
      ]
    },
    {
      "cell_type": "code",
      "source": [
        "# NEXT\n",
        "\n",
        "i <- 0\n",
        "while (i < 8) {\n",
        "  i <- i + 1\n",
        "  if (i == 5) {\n",
        "    print(\"Here is where I pass\")\n",
        "    next\n",
        "  }\n",
        "  print(i)\n",
        "}"
      ],
      "metadata": {
        "id": "s462Zmrt01OE",
        "outputId": "975233e6-493e-430b-885c-3a228d1e08de",
        "colab": {
          "base_uri": "https://localhost:8080/"
        }
      },
      "execution_count": 16,
      "outputs": [
        {
          "output_type": "stream",
          "name": "stdout",
          "text": [
            "[1] 1\n",
            "[1] 2\n",
            "[1] 3\n",
            "[1] 4\n",
            "[1] \"Here is where I pass\"\n",
            "[1] 6\n",
            "[1] 7\n",
            "[1] 8\n"
          ]
        }
      ]
    },
    {
      "cell_type": "markdown",
      "source": [
        "### Your turn\n",
        "\n",
        "Write a `while` or `for` loop that includes the use of `break` and `next`."
      ],
      "metadata": {
        "id": "o9UVUekLbEV7"
      }
    },
    {
      "cell_type": "code",
      "source": [
        "i <- 0\n",
        "while (i < 11) {\n",
        "  i <- i + 1\n",
        "  if (i == 3) {\n",
        "    print(\"Here is where I pass\")\n",
        "    next\n",
        "  }\n",
        "  if (i == 10) {\n",
        "    print(\"I'm all done!\")\n",
        "    break\n",
        "  }\n",
        "  print(i)\n",
        "}"
      ],
      "metadata": {
        "id": "AWrQdFlAbLJh",
        "outputId": "9261d430-86eb-44e9-b7a2-7332bfd767d0",
        "colab": {
          "base_uri": "https://localhost:8080/"
        }
      },
      "execution_count": 17,
      "outputs": [
        {
          "output_type": "stream",
          "name": "stdout",
          "text": [
            "[1] 1\n",
            "[1] 2\n",
            "[1] \"Here is where I pass\"\n",
            "[1] 4\n",
            "[1] 5\n",
            "[1] 6\n",
            "[1] 7\n",
            "[1] 8\n",
            "[1] 9\n",
            "[1] \"I'm all done!\"\n"
          ]
        }
      ]
    },
    {
      "cell_type": "markdown",
      "source": [
        "# Printing in R\n",
        "\n",
        "Bonus! There are a variety of ways to print within your R code. Here are the most common:"
      ],
      "metadata": {
        "id": "dtO9tDX711LZ"
      }
    },
    {
      "cell_type": "code",
      "source": [
        "# print a string manually:\n",
        "\n",
        "print(\"This is being printed\")"
      ],
      "metadata": {
        "id": "P-vH0P1s16Dy",
        "outputId": "bb04d9aa-4688-4f38-d1e7-b46127c4be3b",
        "colab": {
          "base_uri": "https://localhost:8080/"
        }
      },
      "execution_count": 18,
      "outputs": [
        {
          "output_type": "stream",
          "name": "stdout",
          "text": [
            "[1] \"This is being printed\"\n"
          ]
        }
      ]
    },
    {
      "cell_type": "code",
      "source": [
        "# print something from a variable\n",
        "\n",
        "x = \"This is being printed a different way\"\n",
        "print(x)"
      ],
      "metadata": {
        "id": "NFsPdB57160g",
        "outputId": "9ae71367-b483-4bdc-d7dc-7f467f2b837e",
        "colab": {
          "base_uri": "https://localhost:8080/"
        }
      },
      "execution_count": 19,
      "outputs": [
        {
          "output_type": "stream",
          "name": "stdout",
          "text": [
            "[1] \"This is being printed a different way\"\n"
          ]
        }
      ]
    },
    {
      "cell_type": "code",
      "source": [
        "# concatenate things together into a vector to get printed. Keeps separate\n",
        "\n",
        "x = \"Here\"\n",
        "y = \"we\"\n",
        "z = \"go\"\n",
        "\n",
        "print(c(x, y, z))"
      ],
      "metadata": {
        "id": "G269VEA616sX",
        "outputId": "c6d43086-01a5-47fb-c6ec-e4d3be54214a",
        "colab": {
          "base_uri": "https://localhost:8080/"
        }
      },
      "execution_count": 20,
      "outputs": [
        {
          "output_type": "stream",
          "name": "stdout",
          "text": [
            "[1] \"Here\" \"we\"   \"go\"  \n"
          ]
        }
      ]
    },
    {
      "cell_type": "code",
      "source": [
        "# paste() method - replaces a variable with its value and concatenates smoothly\n",
        "\n",
        "x = \"Apples\"\n",
        "\n",
        "print(paste(x, \"are the finest fruit\"))"
      ],
      "metadata": {
        "id": "BqjI49dm16Xi",
        "outputId": "d80b4154-ca11-4e3b-82f1-1eee7a3e4a26",
        "colab": {
          "base_uri": "https://localhost:8080/"
        }
      },
      "execution_count": 21,
      "outputs": [
        {
          "output_type": "stream",
          "name": "stdout",
          "text": [
            "[1] \"Apples are the finest fruit\"\n"
          ]
        }
      ]
    },
    {
      "cell_type": "code",
      "source": [
        "# sprint() method - string printing. Note you should specify data type (s)tring, (f)loat, (i)nteger\n",
        "\n",
        "x = \"Bananas\"       # string\n",
        "y = 11              # integer\n",
        "z = 3.14159         # float l\n",
        "\n",
        "sprintf(\"%s are best\", x)\n",
        "sprintf(\"%i is my favorite number\", y)\n",
        "sprintf(\"%f is also known as pi\", z)"
      ],
      "metadata": {
        "id": "ALH7GVSK3ETn",
        "outputId": "dea830ff-684e-4458-c720-99781a4c96c1",
        "colab": {
          "base_uri": "https://localhost:8080/",
          "height": 69
        }
      },
      "execution_count": 22,
      "outputs": [
        {
          "output_type": "display_data",
          "data": {
            "text/html": [
              "'Bananas are best'"
            ],
            "text/markdown": "'Bananas are best'",
            "text/latex": "'Bananas are best'",
            "text/plain": [
              "[1] \"Bananas are best\""
            ]
          },
          "metadata": {}
        },
        {
          "output_type": "display_data",
          "data": {
            "text/html": [
              "'11 is my favorite number'"
            ],
            "text/markdown": "'11 is my favorite number'",
            "text/latex": "'11 is my favorite number'",
            "text/plain": [
              "[1] \"11 is my favorite number\""
            ]
          },
          "metadata": {}
        },
        {
          "output_type": "display_data",
          "data": {
            "text/html": [
              "'3.141590 is also known as pi'"
            ],
            "text/markdown": "'3.141590 is also known as pi'",
            "text/latex": "'3.141590 is also known as pi'",
            "text/plain": [
              "[1] \"3.141590 is also known as pi\""
            ]
          },
          "metadata": {}
        }
      ]
    },
    {
      "cell_type": "markdown",
      "source": [
        "### Your turn\n",
        "\n",
        "Create and populate two variables: One numeric and one character.\n",
        "Next, create at least three print commands that incorporate your variables alongside other printed text."
      ],
      "metadata": {
        "id": "iV1RDU5EbMlG"
      }
    },
    {
      "cell_type": "code",
      "source": [
        "h <- \"kiwis\"\n",
        "j <- 2\n",
        "\n",
        "sprintf(\"%s taste good\", h)\n",
        "sprintf(\"%i is my favorite number\", j)"
      ],
      "metadata": {
        "id": "svSHPFyNbcE8",
        "outputId": "6d7a026d-55c6-432f-af66-4c3f207b9fc7",
        "colab": {
          "base_uri": "https://localhost:8080/",
          "height": 52
        }
      },
      "execution_count": 23,
      "outputs": [
        {
          "output_type": "display_data",
          "data": {
            "text/html": [
              "'kiwis taste good'"
            ],
            "text/markdown": "'kiwis taste good'",
            "text/latex": "'kiwis taste good'",
            "text/plain": [
              "[1] \"kiwis taste good\""
            ]
          },
          "metadata": {}
        },
        {
          "output_type": "display_data",
          "data": {
            "text/html": [
              "'2 is my favorite number'"
            ],
            "text/markdown": "'2 is my favorite number'",
            "text/latex": "'2 is my favorite number'",
            "text/plain": [
              "[1] \"2 is my favorite number\""
            ]
          },
          "metadata": {}
        }
      ]
    }
  ]
}