{
  "nbformat": 4,
  "nbformat_minor": 0,
  "metadata": {
    "colab": {
      "provenance": [],
      "authorship_tag": "ABX9TyMl+eqv33uLPR8KTfcQKUVn",
      "include_colab_link": true
    },
    "kernelspec": {
      "name": "python3",
      "display_name": "Python 3"
    },
    "language_info": {
      "name": "python"
    }
  },
  "cells": [
    {
      "cell_type": "markdown",
      "metadata": {
        "id": "view-in-github",
        "colab_type": "text"
      },
      "source": [
        "<a href=\"https://colab.research.google.com/github/eyv7jz/ds1002-eyv7jz/blob/main/remote_data.ipynb\" target=\"_parent\"><img src=\"https://colab.research.google.com/assets/colab-badge.svg\" alt=\"Open In Colab\"/></a>"
      ]
    },
    {
      "cell_type": "markdown",
      "source": [
        "#Remote Data"
      ],
      "metadata": {
        "id": "KkdY8IaK6vcL"
      }
    },
    {
      "cell_type": "code",
      "source": [
        "import requests\n",
        "\n",
        "# Make a GET request\n",
        "response = requests.get(\"https://ids.pods.uvarc.io/\")\n",
        "\n",
        "print(response)\n",
        "print(response.text)\n",
        "print(response.status_code)\n",
        "print(response.encoding)\n",
        "print(response.headers)\n",
        "print(response.raw)\n",
        "print(response.content)"
      ],
      "metadata": {
        "colab": {
          "base_uri": "https://localhost:8080/"
        },
        "id": "pwRQweDd67s2",
        "outputId": "3b8b2919-b8d3-47f4-bb46-84a20147c90e"
      },
      "execution_count": 3,
      "outputs": [
        {
          "output_type": "stream",
          "name": "stdout",
          "text": [
            "<Response [200]>\n",
            "{\"id\":\"z14lqix9\"}\n",
            "200\n",
            "utf-8\n",
            "{'Server': 'nginx/1.21.6', 'Date': 'Sat, 28 Oct 2023 17:19:49 GMT', 'Content-Type': 'application/json', 'Content-Length': '17', 'Connection': 'keep-alive'}\n",
            "<urllib3.response.HTTPResponse object at 0x78323822f790>\n",
            "b'{\"id\":\"z14lqix9\"}'\n"
          ]
        }
      ]
    },
    {
      "cell_type": "code",
      "source": [
        "import requests\n",
        "\n",
        "# Make a GET request\n",
        "response = requests.get(\"https://ids.pods.uvarc.io/id/18\")\n",
        "\n",
        "# Check the response status code\n",
        "# I missed this section\n",
        "if response.status_code == :\n",
        "  print()\n",
        "else:\n",
        "  print()"
      ],
      "metadata": {
        "id": "H3kJmfuf7kFI"
      },
      "execution_count": null,
      "outputs": []
    },
    {
      "cell_type": "code",
      "source": [
        "import requests\n",
        "import json\n",
        "\n",
        "response = requests.get(\"https://ids.pods.uvarc.io/guid\")\n",
        "data = json.loads(response.text)\n",
        "print(data[\"id\"])"
      ],
      "metadata": {
        "colab": {
          "base_uri": "https://localhost:8080/"
        },
        "id": "lvoVlcsw8MHl",
        "outputId": "8fb29d75-5f72-410e-abea-39f834c626e6"
      },
      "execution_count": 4,
      "outputs": [
        {
          "output_type": "stream",
          "name": "stdout",
          "text": [
            "b2d86d9d-8c5e-4075-950a-4feb36c806ca\n"
          ]
        }
      ]
    }
  ]
}