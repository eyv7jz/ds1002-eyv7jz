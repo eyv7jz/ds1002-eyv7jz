{
  "nbformat": 4,
  "nbformat_minor": 0,
  "metadata": {
    "colab": {
      "provenance": [],
      "include_colab_link": true
    },
    "kernelspec": {
      "name": "ir",
      "display_name": "R"
    },
    "language_info": {
      "name": "R"
    }
  },
  "cells": [
    {
      "cell_type": "markdown",
      "metadata": {
        "id": "view-in-github",
        "colab_type": "text"
      },
      "source": [
        "<a href=\"https://colab.research.google.com/github/eyv7jz/ds1002-eyv7jz/blob/main/lab2-race-results.ipynb\" target=\"_parent\"><img src=\"https://colab.research.google.com/assets/colab-badge.svg\" alt=\"Open In Colab\"/></a>"
      ]
    },
    {
      "cell_type": "markdown",
      "source": [
        "# DS1002 Lab 2: Determine Race Results with R\n",
        "\n",
        "In this lab you will work with a dataset, writing R to generate the deliverables specified in the cells below.\n",
        "\n",
        "The dataset for this lab is made up of fictitious results from a road race. Runner information and results is provided in the data.\n",
        "\n",
        "Answer the questions below with the appropriate R code. Point assignments are indicated for each section. There are 10 total points possible for this lab.\n",
        "\n",
        "Useful reference material (check all R modules within the Canvas site for more help)\n",
        "- [R Reference Material](https://canvas.its.virginia.edu/courses/78571/modules#module_219810).\n",
        "- [Plots Samples](https://colab.research.google.com/github/nmagee/ds1002/blob/main/notebooks/25-plots-in-r.ipynb)"
      ],
      "metadata": {
        "id": "2yEePrJ-1G1Z"
      }
    },
    {
      "cell_type": "markdown",
      "source": [
        "## Group Submissions\n",
        "\n",
        "If you are working in a group to complete this lab, you may have no more than 3 members to a group. Group members should be indicated in the cell below -- list both names and UVA computing IDs.\n",
        "\n",
        "Each student should then submit **the same URL** for the lab in Canvas. (If a group has Member1, Member2, and Member3, only one member needs to save the completed work back to GitHub and all members should submit that URL for grading.)"
      ],
      "metadata": {
        "id": "acXFkytd2PWS"
      }
    },
    {
      "cell_type": "code",
      "source": [
        "# List group members (if applicable). Identify names and computing IDs\n",
        "#\n",
        "# Name                    Computing ID\n",
        "# I'm working alone"
      ],
      "metadata": {
        "id": "4N8_o3tG232h"
      },
      "execution_count": 1,
      "outputs": []
    },
    {
      "cell_type": "markdown",
      "source": [
        "## 1. Load Libraries & Data (1 pt)\n",
        "\n",
        "https://raw.githubusercontent.com/nmagee/ds1002/main/data/road-race.csv\n",
        "\n",
        "Import any necessary libraries and load the remote CSV file below into a data frame."
      ],
      "metadata": {
        "id": "w0VxTDNf1k2O"
      }
    },
    {
      "cell_type": "code",
      "execution_count": 3,
      "metadata": {
        "id": "I0B9chFD1GR0",
        "outputId": "efacecd9-b2b4-4ebf-e75b-be32cce16531",
        "colab": {
          "base_uri": "https://localhost:8080/",
          "height": 1000
        }
      },
      "outputs": [
        {
          "output_type": "display_data",
          "data": {
            "text/html": [
              "<table class=\"dataframe\">\n",
              "<caption>A data.frame: 764 × 5</caption>\n",
              "<thead>\n",
              "\t<tr><th scope=col>runner_bib</th><th scope=col>runner_name</th><th scope=col>runner_age</th><th scope=col>runner_gender</th><th scope=col>finish_time</th></tr>\n",
              "\t<tr><th scope=col>&lt;int&gt;</th><th scope=col>&lt;chr&gt;</th><th scope=col>&lt;int&gt;</th><th scope=col>&lt;chr&gt;</th><th scope=col>&lt;chr&gt;</th></tr>\n",
              "</thead>\n",
              "<tbody>\n",
              "\t<tr><td> 1</td><td>Loydie Lopes          </td><td>17</td><td>Male   </td><td>16:01</td></tr>\n",
              "\t<tr><td> 2</td><td>Lorens Crispe         </td><td>33</td><td>Male   </td><td>15:40</td></tr>\n",
              "\t<tr><td> 3</td><td>Shirline Hasser       </td><td>22</td><td>Female </td><td>14:20</td></tr>\n",
              "\t<tr><td> 4</td><td>Alleyn Hartshorn      </td><td>39</td><td>Male   </td><td>17:06</td></tr>\n",
              "\t<tr><td> 5</td><td>Wang MacColl          </td><td>50</td><td>Male   </td><td>16:49</td></tr>\n",
              "\t<tr><td> 6</td><td>Tonnie Tidder         </td><td>44</td><td>Male   </td><td>15:43</td></tr>\n",
              "\t<tr><td> 7</td><td>Hermy Everal          </td><td>51</td><td>Male   </td><td>     </td></tr>\n",
              "\t<tr><td> 8</td><td>Basil Moxsom          </td><td>44</td><td>Male   </td><td>15:16</td></tr>\n",
              "\t<tr><td> 9</td><td>Lark Bragge           </td><td>30</td><td>Female </td><td>15:59</td></tr>\n",
              "\t<tr><td>10</td><td>Kent Wakely           </td><td>60</td><td>Male   </td><td>14:29</td></tr>\n",
              "\t<tr><td>11</td><td>Judye Hattrick        </td><td>17</td><td>Female </td><td>15:27</td></tr>\n",
              "\t<tr><td>12</td><td>Amalea Laurand        </td><td>17</td><td>Agender</td><td>16:46</td></tr>\n",
              "\t<tr><td>13</td><td>Christiana Winspeare  </td><td>52</td><td>Female </td><td>16:18</td></tr>\n",
              "\t<tr><td>14</td><td>Trevar Pegrum         </td><td>31</td><td>Male   </td><td>16:05</td></tr>\n",
              "\t<tr><td>15</td><td>Kearney Doumerc       </td><td>48</td><td>Male   </td><td>15:11</td></tr>\n",
              "\t<tr><td>16</td><td>Casey Arthur          </td><td>54</td><td>Female </td><td>16:41</td></tr>\n",
              "\t<tr><td>17</td><td>Antony Burnes         </td><td>19</td><td>Male   </td><td>15:58</td></tr>\n",
              "\t<tr><td>18</td><td>Ike Ranson            </td><td>20</td><td>Agender</td><td>16:45</td></tr>\n",
              "\t<tr><td>19</td><td>Niels Lynagh          </td><td>25</td><td>Male   </td><td>17:08</td></tr>\n",
              "\t<tr><td>20</td><td>Stormy Gideon         </td><td>43</td><td>Female </td><td>16:51</td></tr>\n",
              "\t<tr><td>21</td><td>Carmencita Petrishchev</td><td>20</td><td>Female </td><td>14:15</td></tr>\n",
              "\t<tr><td>22</td><td>Cristina Brabbs       </td><td>60</td><td>Female </td><td>14:20</td></tr>\n",
              "\t<tr><td>23</td><td>Cordy Jeannaud        </td><td>27</td><td>Female </td><td>14:45</td></tr>\n",
              "\t<tr><td>24</td><td>Rubi Greeson          </td><td>39</td><td>Female </td><td>14:46</td></tr>\n",
              "\t<tr><td>25</td><td>Mickie Drohun         </td><td>28</td><td>Female </td><td>16:20</td></tr>\n",
              "\t<tr><td>26</td><td>Levon Cayette         </td><td>14</td><td>Male   </td><td>17:07</td></tr>\n",
              "\t<tr><td>27</td><td>Georges Capoun        </td><td>38</td><td>Male   </td><td>14:47</td></tr>\n",
              "\t<tr><td>28</td><td>Yance Ingreda         </td><td>39</td><td>Male   </td><td>15:40</td></tr>\n",
              "\t<tr><td>29</td><td>Elfreda Dunmuir       </td><td>44</td><td>Female </td><td>15:04</td></tr>\n",
              "\t<tr><td>30</td><td>Ivar Nutting          </td><td>33</td><td>Male   </td><td>15:00</td></tr>\n",
              "\t<tr><td>⋮</td><td>⋮</td><td>⋮</td><td>⋮</td><td>⋮</td></tr>\n",
              "\t<tr><td> 7</td><td>Hermy Everal          </td><td>51</td><td>Male   </td><td>     </td></tr>\n",
              "\t<tr><td> 8</td><td>Basil Moxsom          </td><td>44</td><td>Male   </td><td>15:16</td></tr>\n",
              "\t<tr><td> 9</td><td>Lark Bragge           </td><td>30</td><td>Female </td><td>15:59</td></tr>\n",
              "\t<tr><td>10</td><td>Kent Wakely           </td><td>60</td><td>Male   </td><td>14:29</td></tr>\n",
              "\t<tr><td>11</td><td>Judye Hattrick        </td><td>17</td><td>Female </td><td>15:27</td></tr>\n",
              "\t<tr><td>12</td><td>Amalea Laurand        </td><td>17</td><td>Agender</td><td>16:46</td></tr>\n",
              "\t<tr><td>13</td><td>Christiana Winspeare  </td><td>52</td><td>Female </td><td>16:18</td></tr>\n",
              "\t<tr><td>14</td><td>Trevar Pegrum         </td><td>31</td><td>Male   </td><td>16:05</td></tr>\n",
              "\t<tr><td>15</td><td>Kearney Doumerc       </td><td>48</td><td>Male   </td><td>15:11</td></tr>\n",
              "\t<tr><td>16</td><td>Casey Arthur          </td><td>54</td><td>Female </td><td>16:41</td></tr>\n",
              "\t<tr><td>17</td><td>Antony Burnes         </td><td>19</td><td>Male   </td><td>15:58</td></tr>\n",
              "\t<tr><td>18</td><td>Ike Ranson            </td><td>20</td><td>Agender</td><td>16:45</td></tr>\n",
              "\t<tr><td>19</td><td>Niels Lynagh          </td><td>25</td><td>Male   </td><td>17:08</td></tr>\n",
              "\t<tr><td>20</td><td>Stormy Gideon         </td><td>43</td><td>Female </td><td>16:51</td></tr>\n",
              "\t<tr><td>21</td><td>Carmencita Petrishchev</td><td>20</td><td>Female </td><td>14:15</td></tr>\n",
              "\t<tr><td>22</td><td>Cristina Brabbs       </td><td>60</td><td>Female </td><td>14:20</td></tr>\n",
              "\t<tr><td>23</td><td>Cordy Jeannaud        </td><td>27</td><td>Female </td><td>14:45</td></tr>\n",
              "\t<tr><td>24</td><td>Rubi Greeson          </td><td>39</td><td>Female </td><td>14:46</td></tr>\n",
              "\t<tr><td>25</td><td>Mickie Drohun         </td><td>28</td><td>Female </td><td>16:20</td></tr>\n",
              "\t<tr><td>26</td><td>Levon Cayette         </td><td>14</td><td>Male   </td><td>17:07</td></tr>\n",
              "\t<tr><td>27</td><td>Georges Capoun        </td><td>38</td><td>Male   </td><td>14:47</td></tr>\n",
              "\t<tr><td>28</td><td>Yance Ingreda         </td><td>39</td><td>Male   </td><td>15:40</td></tr>\n",
              "\t<tr><td>29</td><td>Elfreda Dunmuir       </td><td>44</td><td>Female </td><td>15:04</td></tr>\n",
              "\t<tr><td>30</td><td>Ivar Nutting          </td><td>33</td><td>Male   </td><td>15:00</td></tr>\n",
              "\t<tr><td>31</td><td>Sibley Golton         </td><td>42</td><td>Female </td><td>14:54</td></tr>\n",
              "\t<tr><td>32</td><td>Winn Froome           </td><td>48</td><td>Male   </td><td>14:25</td></tr>\n",
              "\t<tr><td>33</td><td>Gabbie Woollhead      </td><td>35</td><td>Male   </td><td>14:39</td></tr>\n",
              "\t<tr><td>34</td><td>Essy Icke             </td><td>48</td><td>Female </td><td>14:53</td></tr>\n",
              "\t<tr><td>35</td><td>Rodd Pessler          </td><td>53</td><td>Male   </td><td>16:08</td></tr>\n",
              "\t<tr><td>36</td><td>Gertrude Sinclaire    </td><td>21</td><td>Female </td><td>15:15</td></tr>\n",
              "</tbody>\n",
              "</table>\n"
            ],
            "text/markdown": "\nA data.frame: 764 × 5\n\n| runner_bib &lt;int&gt; | runner_name &lt;chr&gt; | runner_age &lt;int&gt; | runner_gender &lt;chr&gt; | finish_time &lt;chr&gt; |\n|---|---|---|---|---|\n|  1 | Loydie Lopes           | 17 | Male    | 16:01 |\n|  2 | Lorens Crispe          | 33 | Male    | 15:40 |\n|  3 | Shirline Hasser        | 22 | Female  | 14:20 |\n|  4 | Alleyn Hartshorn       | 39 | Male    | 17:06 |\n|  5 | Wang MacColl           | 50 | Male    | 16:49 |\n|  6 | Tonnie Tidder          | 44 | Male    | 15:43 |\n|  7 | Hermy Everal           | 51 | Male    | <!----> |\n|  8 | Basil Moxsom           | 44 | Male    | 15:16 |\n|  9 | Lark Bragge            | 30 | Female  | 15:59 |\n| 10 | Kent Wakely            | 60 | Male    | 14:29 |\n| 11 | Judye Hattrick         | 17 | Female  | 15:27 |\n| 12 | Amalea Laurand         | 17 | Agender | 16:46 |\n| 13 | Christiana Winspeare   | 52 | Female  | 16:18 |\n| 14 | Trevar Pegrum          | 31 | Male    | 16:05 |\n| 15 | Kearney Doumerc        | 48 | Male    | 15:11 |\n| 16 | Casey Arthur           | 54 | Female  | 16:41 |\n| 17 | Antony Burnes          | 19 | Male    | 15:58 |\n| 18 | Ike Ranson             | 20 | Agender | 16:45 |\n| 19 | Niels Lynagh           | 25 | Male    | 17:08 |\n| 20 | Stormy Gideon          | 43 | Female  | 16:51 |\n| 21 | Carmencita Petrishchev | 20 | Female  | 14:15 |\n| 22 | Cristina Brabbs        | 60 | Female  | 14:20 |\n| 23 | Cordy Jeannaud         | 27 | Female  | 14:45 |\n| 24 | Rubi Greeson           | 39 | Female  | 14:46 |\n| 25 | Mickie Drohun          | 28 | Female  | 16:20 |\n| 26 | Levon Cayette          | 14 | Male    | 17:07 |\n| 27 | Georges Capoun         | 38 | Male    | 14:47 |\n| 28 | Yance Ingreda          | 39 | Male    | 15:40 |\n| 29 | Elfreda Dunmuir        | 44 | Female  | 15:04 |\n| 30 | Ivar Nutting           | 33 | Male    | 15:00 |\n| ⋮ | ⋮ | ⋮ | ⋮ | ⋮ |\n|  7 | Hermy Everal           | 51 | Male    | <!----> |\n|  8 | Basil Moxsom           | 44 | Male    | 15:16 |\n|  9 | Lark Bragge            | 30 | Female  | 15:59 |\n| 10 | Kent Wakely            | 60 | Male    | 14:29 |\n| 11 | Judye Hattrick         | 17 | Female  | 15:27 |\n| 12 | Amalea Laurand         | 17 | Agender | 16:46 |\n| 13 | Christiana Winspeare   | 52 | Female  | 16:18 |\n| 14 | Trevar Pegrum          | 31 | Male    | 16:05 |\n| 15 | Kearney Doumerc        | 48 | Male    | 15:11 |\n| 16 | Casey Arthur           | 54 | Female  | 16:41 |\n| 17 | Antony Burnes          | 19 | Male    | 15:58 |\n| 18 | Ike Ranson             | 20 | Agender | 16:45 |\n| 19 | Niels Lynagh           | 25 | Male    | 17:08 |\n| 20 | Stormy Gideon          | 43 | Female  | 16:51 |\n| 21 | Carmencita Petrishchev | 20 | Female  | 14:15 |\n| 22 | Cristina Brabbs        | 60 | Female  | 14:20 |\n| 23 | Cordy Jeannaud         | 27 | Female  | 14:45 |\n| 24 | Rubi Greeson           | 39 | Female  | 14:46 |\n| 25 | Mickie Drohun          | 28 | Female  | 16:20 |\n| 26 | Levon Cayette          | 14 | Male    | 17:07 |\n| 27 | Georges Capoun         | 38 | Male    | 14:47 |\n| 28 | Yance Ingreda          | 39 | Male    | 15:40 |\n| 29 | Elfreda Dunmuir        | 44 | Female  | 15:04 |\n| 30 | Ivar Nutting           | 33 | Male    | 15:00 |\n| 31 | Sibley Golton          | 42 | Female  | 14:54 |\n| 32 | Winn Froome            | 48 | Male    | 14:25 |\n| 33 | Gabbie Woollhead       | 35 | Male    | 14:39 |\n| 34 | Essy Icke              | 48 | Female  | 14:53 |\n| 35 | Rodd Pessler           | 53 | Male    | 16:08 |\n| 36 | Gertrude Sinclaire     | 21 | Female  | 15:15 |\n\n",
            "text/latex": "A data.frame: 764 × 5\n\\begin{tabular}{lllll}\n runner\\_bib & runner\\_name & runner\\_age & runner\\_gender & finish\\_time\\\\\n <int> & <chr> & <int> & <chr> & <chr>\\\\\n\\hline\n\t  1 & Loydie Lopes           & 17 & Male    & 16:01\\\\\n\t  2 & Lorens Crispe          & 33 & Male    & 15:40\\\\\n\t  3 & Shirline Hasser        & 22 & Female  & 14:20\\\\\n\t  4 & Alleyn Hartshorn       & 39 & Male    & 17:06\\\\\n\t  5 & Wang MacColl           & 50 & Male    & 16:49\\\\\n\t  6 & Tonnie Tidder          & 44 & Male    & 15:43\\\\\n\t  7 & Hermy Everal           & 51 & Male    &      \\\\\n\t  8 & Basil Moxsom           & 44 & Male    & 15:16\\\\\n\t  9 & Lark Bragge            & 30 & Female  & 15:59\\\\\n\t 10 & Kent Wakely            & 60 & Male    & 14:29\\\\\n\t 11 & Judye Hattrick         & 17 & Female  & 15:27\\\\\n\t 12 & Amalea Laurand         & 17 & Agender & 16:46\\\\\n\t 13 & Christiana Winspeare   & 52 & Female  & 16:18\\\\\n\t 14 & Trevar Pegrum          & 31 & Male    & 16:05\\\\\n\t 15 & Kearney Doumerc        & 48 & Male    & 15:11\\\\\n\t 16 & Casey Arthur           & 54 & Female  & 16:41\\\\\n\t 17 & Antony Burnes          & 19 & Male    & 15:58\\\\\n\t 18 & Ike Ranson             & 20 & Agender & 16:45\\\\\n\t 19 & Niels Lynagh           & 25 & Male    & 17:08\\\\\n\t 20 & Stormy Gideon          & 43 & Female  & 16:51\\\\\n\t 21 & Carmencita Petrishchev & 20 & Female  & 14:15\\\\\n\t 22 & Cristina Brabbs        & 60 & Female  & 14:20\\\\\n\t 23 & Cordy Jeannaud         & 27 & Female  & 14:45\\\\\n\t 24 & Rubi Greeson           & 39 & Female  & 14:46\\\\\n\t 25 & Mickie Drohun          & 28 & Female  & 16:20\\\\\n\t 26 & Levon Cayette          & 14 & Male    & 17:07\\\\\n\t 27 & Georges Capoun         & 38 & Male    & 14:47\\\\\n\t 28 & Yance Ingreda          & 39 & Male    & 15:40\\\\\n\t 29 & Elfreda Dunmuir        & 44 & Female  & 15:04\\\\\n\t 30 & Ivar Nutting           & 33 & Male    & 15:00\\\\\n\t ⋮ & ⋮ & ⋮ & ⋮ & ⋮\\\\\n\t  7 & Hermy Everal           & 51 & Male    &      \\\\\n\t  8 & Basil Moxsom           & 44 & Male    & 15:16\\\\\n\t  9 & Lark Bragge            & 30 & Female  & 15:59\\\\\n\t 10 & Kent Wakely            & 60 & Male    & 14:29\\\\\n\t 11 & Judye Hattrick         & 17 & Female  & 15:27\\\\\n\t 12 & Amalea Laurand         & 17 & Agender & 16:46\\\\\n\t 13 & Christiana Winspeare   & 52 & Female  & 16:18\\\\\n\t 14 & Trevar Pegrum          & 31 & Male    & 16:05\\\\\n\t 15 & Kearney Doumerc        & 48 & Male    & 15:11\\\\\n\t 16 & Casey Arthur           & 54 & Female  & 16:41\\\\\n\t 17 & Antony Burnes          & 19 & Male    & 15:58\\\\\n\t 18 & Ike Ranson             & 20 & Agender & 16:45\\\\\n\t 19 & Niels Lynagh           & 25 & Male    & 17:08\\\\\n\t 20 & Stormy Gideon          & 43 & Female  & 16:51\\\\\n\t 21 & Carmencita Petrishchev & 20 & Female  & 14:15\\\\\n\t 22 & Cristina Brabbs        & 60 & Female  & 14:20\\\\\n\t 23 & Cordy Jeannaud         & 27 & Female  & 14:45\\\\\n\t 24 & Rubi Greeson           & 39 & Female  & 14:46\\\\\n\t 25 & Mickie Drohun          & 28 & Female  & 16:20\\\\\n\t 26 & Levon Cayette          & 14 & Male    & 17:07\\\\\n\t 27 & Georges Capoun         & 38 & Male    & 14:47\\\\\n\t 28 & Yance Ingreda          & 39 & Male    & 15:40\\\\\n\t 29 & Elfreda Dunmuir        & 44 & Female  & 15:04\\\\\n\t 30 & Ivar Nutting           & 33 & Male    & 15:00\\\\\n\t 31 & Sibley Golton          & 42 & Female  & 14:54\\\\\n\t 32 & Winn Froome            & 48 & Male    & 14:25\\\\\n\t 33 & Gabbie Woollhead       & 35 & Male    & 14:39\\\\\n\t 34 & Essy Icke              & 48 & Female  & 14:53\\\\\n\t 35 & Rodd Pessler           & 53 & Male    & 16:08\\\\\n\t 36 & Gertrude Sinclaire     & 21 & Female  & 15:15\\\\\n\\end{tabular}\n",
            "text/plain": [
              "    runner_bib runner_name            runner_age runner_gender finish_time\n",
              "1    1         Loydie Lopes           17         Male          16:01      \n",
              "2    2         Lorens Crispe          33         Male          15:40      \n",
              "3    3         Shirline Hasser        22         Female        14:20      \n",
              "4    4         Alleyn Hartshorn       39         Male          17:06      \n",
              "5    5         Wang MacColl           50         Male          16:49      \n",
              "6    6         Tonnie Tidder          44         Male          15:43      \n",
              "7    7         Hermy Everal           51         Male                     \n",
              "8    8         Basil Moxsom           44         Male          15:16      \n",
              "9    9         Lark Bragge            30         Female        15:59      \n",
              "10  10         Kent Wakely            60         Male          14:29      \n",
              "11  11         Judye Hattrick         17         Female        15:27      \n",
              "12  12         Amalea Laurand         17         Agender       16:46      \n",
              "13  13         Christiana Winspeare   52         Female        16:18      \n",
              "14  14         Trevar Pegrum          31         Male          16:05      \n",
              "15  15         Kearney Doumerc        48         Male          15:11      \n",
              "16  16         Casey Arthur           54         Female        16:41      \n",
              "17  17         Antony Burnes          19         Male          15:58      \n",
              "18  18         Ike Ranson             20         Agender       16:45      \n",
              "19  19         Niels Lynagh           25         Male          17:08      \n",
              "20  20         Stormy Gideon          43         Female        16:51      \n",
              "21  21         Carmencita Petrishchev 20         Female        14:15      \n",
              "22  22         Cristina Brabbs        60         Female        14:20      \n",
              "23  23         Cordy Jeannaud         27         Female        14:45      \n",
              "24  24         Rubi Greeson           39         Female        14:46      \n",
              "25  25         Mickie Drohun          28         Female        16:20      \n",
              "26  26         Levon Cayette          14         Male          17:07      \n",
              "27  27         Georges Capoun         38         Male          14:47      \n",
              "28  28         Yance Ingreda          39         Male          15:40      \n",
              "29  29         Elfreda Dunmuir        44         Female        15:04      \n",
              "30  30         Ivar Nutting           33         Male          15:00      \n",
              "⋮   ⋮          ⋮                      ⋮          ⋮             ⋮          \n",
              "735  7         Hermy Everal           51         Male                     \n",
              "736  8         Basil Moxsom           44         Male          15:16      \n",
              "737  9         Lark Bragge            30         Female        15:59      \n",
              "738 10         Kent Wakely            60         Male          14:29      \n",
              "739 11         Judye Hattrick         17         Female        15:27      \n",
              "740 12         Amalea Laurand         17         Agender       16:46      \n",
              "741 13         Christiana Winspeare   52         Female        16:18      \n",
              "742 14         Trevar Pegrum          31         Male          16:05      \n",
              "743 15         Kearney Doumerc        48         Male          15:11      \n",
              "744 16         Casey Arthur           54         Female        16:41      \n",
              "745 17         Antony Burnes          19         Male          15:58      \n",
              "746 18         Ike Ranson             20         Agender       16:45      \n",
              "747 19         Niels Lynagh           25         Male          17:08      \n",
              "748 20         Stormy Gideon          43         Female        16:51      \n",
              "749 21         Carmencita Petrishchev 20         Female        14:15      \n",
              "750 22         Cristina Brabbs        60         Female        14:20      \n",
              "751 23         Cordy Jeannaud         27         Female        14:45      \n",
              "752 24         Rubi Greeson           39         Female        14:46      \n",
              "753 25         Mickie Drohun          28         Female        16:20      \n",
              "754 26         Levon Cayette          14         Male          17:07      \n",
              "755 27         Georges Capoun         38         Male          14:47      \n",
              "756 28         Yance Ingreda          39         Male          15:40      \n",
              "757 29         Elfreda Dunmuir        44         Female        15:04      \n",
              "758 30         Ivar Nutting           33         Male          15:00      \n",
              "759 31         Sibley Golton          42         Female        14:54      \n",
              "760 32         Winn Froome            48         Male          14:25      \n",
              "761 33         Gabbie Woollhead       35         Male          14:39      \n",
              "762 34         Essy Icke              48         Female        14:53      \n",
              "763 35         Rodd Pessler           53         Male          16:08      \n",
              "764 36         Gertrude Sinclaire     21         Female        15:15      "
            ]
          },
          "metadata": {}
        }
      ],
      "source": [
        "library(tidyverse)\n",
        "library(ggplot2)\n",
        "df <- read.csv(\"https://raw.githubusercontent.com/nmagee/ds1002/main/data/road-race.csv\")\n",
        "df"
      ]
    },
    {
      "cell_type": "markdown",
      "source": [
        "## 2. Get Summary Data (1 pt)"
      ],
      "metadata": {
        "id": "H389W9dkobGI"
      }
    },
    {
      "cell_type": "markdown",
      "source": [
        "In code, display how many rows and columns are in the raw dataset."
      ],
      "metadata": {
        "id": "KA0wbjmE-4Q9"
      }
    },
    {
      "cell_type": "code",
      "source": [
        "str(df)"
      ],
      "metadata": {
        "id": "XhULtu7qox-p",
        "outputId": "1e23ddb5-1906-4cc6-af79-90c3a847cf08",
        "colab": {
          "base_uri": "https://localhost:8080/"
        }
      },
      "execution_count": 4,
      "outputs": [
        {
          "output_type": "stream",
          "name": "stdout",
          "text": [
            "'data.frame':\t764 obs. of  5 variables:\n",
            " $ runner_bib   : int  1 2 3 4 5 6 7 8 9 10 ...\n",
            " $ runner_name  : chr  \"Loydie Lopes\" \"Lorens Crispe\" \"Shirline Hasser\" \"Alleyn Hartshorn\" ...\n",
            " $ runner_age   : int  17 33 22 39 50 44 51 44 30 60 ...\n",
            " $ runner_gender: chr  \"Male\" \"Male\" \"Female\" \"Male\" ...\n",
            " $ finish_time  : chr  \"16:01\" \"15:40\" \"14:20\" \"17:06\" ...\n"
          ]
        }
      ]
    },
    {
      "cell_type": "markdown",
      "source": [
        "## 3. Clean and Organize the Data (2 pts)\n",
        "\n",
        "Check for data quality.\n",
        "\n",
        "- Resolve any duplicate rows.\n",
        "- If a runner does not have a finish time, they are DNF and should not be counted in the dataset.\n",
        "\n"
      ],
      "metadata": {
        "id": "abshX7QeooAs"
      }
    },
    {
      "cell_type": "code",
      "source": [
        "# checking the number of duplicated rows\n",
        "nrow(df[duplicated(df), ])\n",
        "df1 <- df[!duplicated(df), ]\n",
        "# checking the number of rows after duplicated rows were removed (764-124=640)\n",
        "nrow(df1)\n",
        "df1$finish_time[df1$finish_time == \"\"] <- NA\n",
        "df2 <- df1[complete.cases(df1$finish_time), ]\n",
        "df2"
      ],
      "metadata": {
        "id": "Aq3J7yD82uwW",
        "outputId": "31a5a097-d92c-4f4c-8837-72d9d734aa03",
        "colab": {
          "base_uri": "https://localhost:8080/",
          "height": 1000
        }
      },
      "execution_count": 5,
      "outputs": [
        {
          "output_type": "display_data",
          "data": {
            "text/html": [
              "124"
            ],
            "text/markdown": "124",
            "text/latex": "124",
            "text/plain": [
              "[1] 124"
            ]
          },
          "metadata": {}
        },
        {
          "output_type": "display_data",
          "data": {
            "text/html": [
              "640"
            ],
            "text/markdown": "640",
            "text/latex": "640",
            "text/plain": [
              "[1] 640"
            ]
          },
          "metadata": {}
        },
        {
          "output_type": "display_data",
          "data": {
            "text/html": [
              "<table class=\"dataframe\">\n",
              "<caption>A data.frame: 594 × 5</caption>\n",
              "<thead>\n",
              "\t<tr><th></th><th scope=col>runner_bib</th><th scope=col>runner_name</th><th scope=col>runner_age</th><th scope=col>runner_gender</th><th scope=col>finish_time</th></tr>\n",
              "\t<tr><th></th><th scope=col>&lt;int&gt;</th><th scope=col>&lt;chr&gt;</th><th scope=col>&lt;int&gt;</th><th scope=col>&lt;chr&gt;</th><th scope=col>&lt;chr&gt;</th></tr>\n",
              "</thead>\n",
              "<tbody>\n",
              "\t<tr><th scope=row>1</th><td> 1</td><td>Loydie Lopes          </td><td>17</td><td>Male   </td><td>16:01</td></tr>\n",
              "\t<tr><th scope=row>2</th><td> 2</td><td>Lorens Crispe         </td><td>33</td><td>Male   </td><td>15:40</td></tr>\n",
              "\t<tr><th scope=row>3</th><td> 3</td><td>Shirline Hasser       </td><td>22</td><td>Female </td><td>14:20</td></tr>\n",
              "\t<tr><th scope=row>4</th><td> 4</td><td>Alleyn Hartshorn      </td><td>39</td><td>Male   </td><td>17:06</td></tr>\n",
              "\t<tr><th scope=row>5</th><td> 5</td><td>Wang MacColl          </td><td>50</td><td>Male   </td><td>16:49</td></tr>\n",
              "\t<tr><th scope=row>6</th><td> 6</td><td>Tonnie Tidder         </td><td>44</td><td>Male   </td><td>15:43</td></tr>\n",
              "\t<tr><th scope=row>8</th><td> 8</td><td>Basil Moxsom          </td><td>44</td><td>Male   </td><td>15:16</td></tr>\n",
              "\t<tr><th scope=row>9</th><td> 9</td><td>Lark Bragge           </td><td>30</td><td>Female </td><td>15:59</td></tr>\n",
              "\t<tr><th scope=row>10</th><td>10</td><td>Kent Wakely           </td><td>60</td><td>Male   </td><td>14:29</td></tr>\n",
              "\t<tr><th scope=row>11</th><td>11</td><td>Judye Hattrick        </td><td>17</td><td>Female </td><td>15:27</td></tr>\n",
              "\t<tr><th scope=row>12</th><td>12</td><td>Amalea Laurand        </td><td>17</td><td>Agender</td><td>16:46</td></tr>\n",
              "\t<tr><th scope=row>13</th><td>13</td><td>Christiana Winspeare  </td><td>52</td><td>Female </td><td>16:18</td></tr>\n",
              "\t<tr><th scope=row>14</th><td>14</td><td>Trevar Pegrum         </td><td>31</td><td>Male   </td><td>16:05</td></tr>\n",
              "\t<tr><th scope=row>15</th><td>15</td><td>Kearney Doumerc       </td><td>48</td><td>Male   </td><td>15:11</td></tr>\n",
              "\t<tr><th scope=row>16</th><td>16</td><td>Casey Arthur          </td><td>54</td><td>Female </td><td>16:41</td></tr>\n",
              "\t<tr><th scope=row>17</th><td>17</td><td>Antony Burnes         </td><td>19</td><td>Male   </td><td>15:58</td></tr>\n",
              "\t<tr><th scope=row>18</th><td>18</td><td>Ike Ranson            </td><td>20</td><td>Agender</td><td>16:45</td></tr>\n",
              "\t<tr><th scope=row>19</th><td>19</td><td>Niels Lynagh          </td><td>25</td><td>Male   </td><td>17:08</td></tr>\n",
              "\t<tr><th scope=row>20</th><td>20</td><td>Stormy Gideon         </td><td>43</td><td>Female </td><td>16:51</td></tr>\n",
              "\t<tr><th scope=row>21</th><td>21</td><td>Carmencita Petrishchev</td><td>20</td><td>Female </td><td>14:15</td></tr>\n",
              "\t<tr><th scope=row>22</th><td>22</td><td>Cristina Brabbs       </td><td>60</td><td>Female </td><td>14:20</td></tr>\n",
              "\t<tr><th scope=row>23</th><td>23</td><td>Cordy Jeannaud        </td><td>27</td><td>Female </td><td>14:45</td></tr>\n",
              "\t<tr><th scope=row>24</th><td>24</td><td>Rubi Greeson          </td><td>39</td><td>Female </td><td>14:46</td></tr>\n",
              "\t<tr><th scope=row>25</th><td>25</td><td>Mickie Drohun         </td><td>28</td><td>Female </td><td>16:20</td></tr>\n",
              "\t<tr><th scope=row>26</th><td>26</td><td>Levon Cayette         </td><td>14</td><td>Male   </td><td>17:07</td></tr>\n",
              "\t<tr><th scope=row>27</th><td>27</td><td>Georges Capoun        </td><td>38</td><td>Male   </td><td>14:47</td></tr>\n",
              "\t<tr><th scope=row>28</th><td>28</td><td>Yance Ingreda         </td><td>39</td><td>Male   </td><td>15:40</td></tr>\n",
              "\t<tr><th scope=row>29</th><td>29</td><td>Elfreda Dunmuir       </td><td>44</td><td>Female </td><td>15:04</td></tr>\n",
              "\t<tr><th scope=row>30</th><td>30</td><td>Ivar Nutting          </td><td>33</td><td>Male   </td><td>15:00</td></tr>\n",
              "\t<tr><th scope=row>31</th><td>31</td><td>Sibley Golton         </td><td>42</td><td>Female </td><td>14:54</td></tr>\n",
              "\t<tr><th scope=row>⋮</th><td>⋮</td><td>⋮</td><td>⋮</td><td>⋮</td><td>⋮</td></tr>\n",
              "\t<tr><th scope=row>703</th><td>610</td><td>Noble Daunay        </td><td>26</td><td>Male  </td><td>15:44</td></tr>\n",
              "\t<tr><th scope=row>704</th><td>611</td><td>Dianna Dunsire      </td><td>23</td><td>Female</td><td>15:56</td></tr>\n",
              "\t<tr><th scope=row>705</th><td>612</td><td>Cordey Gibke        </td><td>27</td><td>Female</td><td>15:39</td></tr>\n",
              "\t<tr><th scope=row>706</th><td>613</td><td>Ulysses Middell     </td><td>22</td><td>Male  </td><td>15:07</td></tr>\n",
              "\t<tr><th scope=row>707</th><td>614</td><td>Edin Soloway        </td><td>46</td><td>Female</td><td>14:52</td></tr>\n",
              "\t<tr><th scope=row>708</th><td>615</td><td>Seth Willishire     </td><td>41</td><td>Male  </td><td>15:08</td></tr>\n",
              "\t<tr><th scope=row>709</th><td>616</td><td>Abelard Bole        </td><td>36</td><td>Male  </td><td>15:51</td></tr>\n",
              "\t<tr><th scope=row>710</th><td>617</td><td>Mac Figiovanni      </td><td>60</td><td>Male  </td><td>14:43</td></tr>\n",
              "\t<tr><th scope=row>711</th><td>618</td><td>Rafaelita Mates     </td><td>47</td><td>Female</td><td>16:32</td></tr>\n",
              "\t<tr><th scope=row>712</th><td>619</td><td>Harper Ferrier      </td><td>47</td><td>Male  </td><td>16:20</td></tr>\n",
              "\t<tr><th scope=row>713</th><td>620</td><td>Horten Rupp         </td><td>58</td><td>Male  </td><td>14:43</td></tr>\n",
              "\t<tr><th scope=row>714</th><td>621</td><td>Gare Shacklady      </td><td>50</td><td>Male  </td><td>15:34</td></tr>\n",
              "\t<tr><th scope=row>715</th><td>622</td><td>Jacquie MacRanald   </td><td>58</td><td>Female</td><td>16:59</td></tr>\n",
              "\t<tr><th scope=row>716</th><td>623</td><td>Ingram Ivamy        </td><td>39</td><td>Male  </td><td>16:01</td></tr>\n",
              "\t<tr><th scope=row>717</th><td>624</td><td>Mariejeanne Bernetti</td><td>49</td><td>Female</td><td>14:57</td></tr>\n",
              "\t<tr><th scope=row>718</th><td>625</td><td>Merrill Dorre       </td><td>25</td><td>Female</td><td>16:26</td></tr>\n",
              "\t<tr><th scope=row>719</th><td>626</td><td>Man Sancto          </td><td>23</td><td>Male  </td><td>14:51</td></tr>\n",
              "\t<tr><th scope=row>720</th><td>627</td><td>Michelle Janus      </td><td>61</td><td>Female</td><td>15:16</td></tr>\n",
              "\t<tr><th scope=row>721</th><td>628</td><td>Noble Gorling       </td><td>54</td><td>Male  </td><td>16:45</td></tr>\n",
              "\t<tr><th scope=row>722</th><td>629</td><td>Abra Paulou         </td><td>15</td><td>Female</td><td>14:56</td></tr>\n",
              "\t<tr><th scope=row>724</th><td>631</td><td>Agace Oats          </td><td>55</td><td>Female</td><td>16:14</td></tr>\n",
              "\t<tr><th scope=row>725</th><td>632</td><td>Shaughn Sapauton    </td><td>33</td><td>Male  </td><td>15:58</td></tr>\n",
              "\t<tr><th scope=row>726</th><td>633</td><td>Molli Stanley       </td><td>27</td><td>Female</td><td>15:20</td></tr>\n",
              "\t<tr><th scope=row>727</th><td>634</td><td>Mile Hrishanok      </td><td>57</td><td>Male  </td><td>16:26</td></tr>\n",
              "\t<tr><th scope=row>728</th><td>635</td><td>Dusty Truder        </td><td>40</td><td>Female</td><td>17:03</td></tr>\n",
              "\t<tr><th scope=row>729</th><td>636</td><td>Fayette Pervoe      </td><td>18</td><td>Female</td><td>15:42</td></tr>\n",
              "\t<tr><th scope=row>730</th><td>637</td><td>Allie Mingaye       </td><td>55</td><td>Male  </td><td>14:53</td></tr>\n",
              "\t<tr><th scope=row>731</th><td>638</td><td>Noe Nayer           </td><td>38</td><td>Male  </td><td>15:08</td></tr>\n",
              "\t<tr><th scope=row>732</th><td>639</td><td>Collen Lainton      </td><td>54</td><td>Female</td><td>17:07</td></tr>\n",
              "\t<tr><th scope=row>733</th><td>640</td><td>Chickie Wildman     </td><td>52</td><td>Male  </td><td>16:22</td></tr>\n",
              "</tbody>\n",
              "</table>\n"
            ],
            "text/markdown": "\nA data.frame: 594 × 5\n\n| <!--/--> | runner_bib &lt;int&gt; | runner_name &lt;chr&gt; | runner_age &lt;int&gt; | runner_gender &lt;chr&gt; | finish_time &lt;chr&gt; |\n|---|---|---|---|---|---|\n| 1 |  1 | Loydie Lopes           | 17 | Male    | 16:01 |\n| 2 |  2 | Lorens Crispe          | 33 | Male    | 15:40 |\n| 3 |  3 | Shirline Hasser        | 22 | Female  | 14:20 |\n| 4 |  4 | Alleyn Hartshorn       | 39 | Male    | 17:06 |\n| 5 |  5 | Wang MacColl           | 50 | Male    | 16:49 |\n| 6 |  6 | Tonnie Tidder          | 44 | Male    | 15:43 |\n| 8 |  8 | Basil Moxsom           | 44 | Male    | 15:16 |\n| 9 |  9 | Lark Bragge            | 30 | Female  | 15:59 |\n| 10 | 10 | Kent Wakely            | 60 | Male    | 14:29 |\n| 11 | 11 | Judye Hattrick         | 17 | Female  | 15:27 |\n| 12 | 12 | Amalea Laurand         | 17 | Agender | 16:46 |\n| 13 | 13 | Christiana Winspeare   | 52 | Female  | 16:18 |\n| 14 | 14 | Trevar Pegrum          | 31 | Male    | 16:05 |\n| 15 | 15 | Kearney Doumerc        | 48 | Male    | 15:11 |\n| 16 | 16 | Casey Arthur           | 54 | Female  | 16:41 |\n| 17 | 17 | Antony Burnes          | 19 | Male    | 15:58 |\n| 18 | 18 | Ike Ranson             | 20 | Agender | 16:45 |\n| 19 | 19 | Niels Lynagh           | 25 | Male    | 17:08 |\n| 20 | 20 | Stormy Gideon          | 43 | Female  | 16:51 |\n| 21 | 21 | Carmencita Petrishchev | 20 | Female  | 14:15 |\n| 22 | 22 | Cristina Brabbs        | 60 | Female  | 14:20 |\n| 23 | 23 | Cordy Jeannaud         | 27 | Female  | 14:45 |\n| 24 | 24 | Rubi Greeson           | 39 | Female  | 14:46 |\n| 25 | 25 | Mickie Drohun          | 28 | Female  | 16:20 |\n| 26 | 26 | Levon Cayette          | 14 | Male    | 17:07 |\n| 27 | 27 | Georges Capoun         | 38 | Male    | 14:47 |\n| 28 | 28 | Yance Ingreda          | 39 | Male    | 15:40 |\n| 29 | 29 | Elfreda Dunmuir        | 44 | Female  | 15:04 |\n| 30 | 30 | Ivar Nutting           | 33 | Male    | 15:00 |\n| 31 | 31 | Sibley Golton          | 42 | Female  | 14:54 |\n| ⋮ | ⋮ | ⋮ | ⋮ | ⋮ | ⋮ |\n| 703 | 610 | Noble Daunay         | 26 | Male   | 15:44 |\n| 704 | 611 | Dianna Dunsire       | 23 | Female | 15:56 |\n| 705 | 612 | Cordey Gibke         | 27 | Female | 15:39 |\n| 706 | 613 | Ulysses Middell      | 22 | Male   | 15:07 |\n| 707 | 614 | Edin Soloway         | 46 | Female | 14:52 |\n| 708 | 615 | Seth Willishire      | 41 | Male   | 15:08 |\n| 709 | 616 | Abelard Bole         | 36 | Male   | 15:51 |\n| 710 | 617 | Mac Figiovanni       | 60 | Male   | 14:43 |\n| 711 | 618 | Rafaelita Mates      | 47 | Female | 16:32 |\n| 712 | 619 | Harper Ferrier       | 47 | Male   | 16:20 |\n| 713 | 620 | Horten Rupp          | 58 | Male   | 14:43 |\n| 714 | 621 | Gare Shacklady       | 50 | Male   | 15:34 |\n| 715 | 622 | Jacquie MacRanald    | 58 | Female | 16:59 |\n| 716 | 623 | Ingram Ivamy         | 39 | Male   | 16:01 |\n| 717 | 624 | Mariejeanne Bernetti | 49 | Female | 14:57 |\n| 718 | 625 | Merrill Dorre        | 25 | Female | 16:26 |\n| 719 | 626 | Man Sancto           | 23 | Male   | 14:51 |\n| 720 | 627 | Michelle Janus       | 61 | Female | 15:16 |\n| 721 | 628 | Noble Gorling        | 54 | Male   | 16:45 |\n| 722 | 629 | Abra Paulou          | 15 | Female | 14:56 |\n| 724 | 631 | Agace Oats           | 55 | Female | 16:14 |\n| 725 | 632 | Shaughn Sapauton     | 33 | Male   | 15:58 |\n| 726 | 633 | Molli Stanley        | 27 | Female | 15:20 |\n| 727 | 634 | Mile Hrishanok       | 57 | Male   | 16:26 |\n| 728 | 635 | Dusty Truder         | 40 | Female | 17:03 |\n| 729 | 636 | Fayette Pervoe       | 18 | Female | 15:42 |\n| 730 | 637 | Allie Mingaye        | 55 | Male   | 14:53 |\n| 731 | 638 | Noe Nayer            | 38 | Male   | 15:08 |\n| 732 | 639 | Collen Lainton       | 54 | Female | 17:07 |\n| 733 | 640 | Chickie Wildman      | 52 | Male   | 16:22 |\n\n",
            "text/latex": "A data.frame: 594 × 5\n\\begin{tabular}{r|lllll}\n  & runner\\_bib & runner\\_name & runner\\_age & runner\\_gender & finish\\_time\\\\\n  & <int> & <chr> & <int> & <chr> & <chr>\\\\\n\\hline\n\t1 &  1 & Loydie Lopes           & 17 & Male    & 16:01\\\\\n\t2 &  2 & Lorens Crispe          & 33 & Male    & 15:40\\\\\n\t3 &  3 & Shirline Hasser        & 22 & Female  & 14:20\\\\\n\t4 &  4 & Alleyn Hartshorn       & 39 & Male    & 17:06\\\\\n\t5 &  5 & Wang MacColl           & 50 & Male    & 16:49\\\\\n\t6 &  6 & Tonnie Tidder          & 44 & Male    & 15:43\\\\\n\t8 &  8 & Basil Moxsom           & 44 & Male    & 15:16\\\\\n\t9 &  9 & Lark Bragge            & 30 & Female  & 15:59\\\\\n\t10 & 10 & Kent Wakely            & 60 & Male    & 14:29\\\\\n\t11 & 11 & Judye Hattrick         & 17 & Female  & 15:27\\\\\n\t12 & 12 & Amalea Laurand         & 17 & Agender & 16:46\\\\\n\t13 & 13 & Christiana Winspeare   & 52 & Female  & 16:18\\\\\n\t14 & 14 & Trevar Pegrum          & 31 & Male    & 16:05\\\\\n\t15 & 15 & Kearney Doumerc        & 48 & Male    & 15:11\\\\\n\t16 & 16 & Casey Arthur           & 54 & Female  & 16:41\\\\\n\t17 & 17 & Antony Burnes          & 19 & Male    & 15:58\\\\\n\t18 & 18 & Ike Ranson             & 20 & Agender & 16:45\\\\\n\t19 & 19 & Niels Lynagh           & 25 & Male    & 17:08\\\\\n\t20 & 20 & Stormy Gideon          & 43 & Female  & 16:51\\\\\n\t21 & 21 & Carmencita Petrishchev & 20 & Female  & 14:15\\\\\n\t22 & 22 & Cristina Brabbs        & 60 & Female  & 14:20\\\\\n\t23 & 23 & Cordy Jeannaud         & 27 & Female  & 14:45\\\\\n\t24 & 24 & Rubi Greeson           & 39 & Female  & 14:46\\\\\n\t25 & 25 & Mickie Drohun          & 28 & Female  & 16:20\\\\\n\t26 & 26 & Levon Cayette          & 14 & Male    & 17:07\\\\\n\t27 & 27 & Georges Capoun         & 38 & Male    & 14:47\\\\\n\t28 & 28 & Yance Ingreda          & 39 & Male    & 15:40\\\\\n\t29 & 29 & Elfreda Dunmuir        & 44 & Female  & 15:04\\\\\n\t30 & 30 & Ivar Nutting           & 33 & Male    & 15:00\\\\\n\t31 & 31 & Sibley Golton          & 42 & Female  & 14:54\\\\\n\t⋮ & ⋮ & ⋮ & ⋮ & ⋮ & ⋮\\\\\n\t703 & 610 & Noble Daunay         & 26 & Male   & 15:44\\\\\n\t704 & 611 & Dianna Dunsire       & 23 & Female & 15:56\\\\\n\t705 & 612 & Cordey Gibke         & 27 & Female & 15:39\\\\\n\t706 & 613 & Ulysses Middell      & 22 & Male   & 15:07\\\\\n\t707 & 614 & Edin Soloway         & 46 & Female & 14:52\\\\\n\t708 & 615 & Seth Willishire      & 41 & Male   & 15:08\\\\\n\t709 & 616 & Abelard Bole         & 36 & Male   & 15:51\\\\\n\t710 & 617 & Mac Figiovanni       & 60 & Male   & 14:43\\\\\n\t711 & 618 & Rafaelita Mates      & 47 & Female & 16:32\\\\\n\t712 & 619 & Harper Ferrier       & 47 & Male   & 16:20\\\\\n\t713 & 620 & Horten Rupp          & 58 & Male   & 14:43\\\\\n\t714 & 621 & Gare Shacklady       & 50 & Male   & 15:34\\\\\n\t715 & 622 & Jacquie MacRanald    & 58 & Female & 16:59\\\\\n\t716 & 623 & Ingram Ivamy         & 39 & Male   & 16:01\\\\\n\t717 & 624 & Mariejeanne Bernetti & 49 & Female & 14:57\\\\\n\t718 & 625 & Merrill Dorre        & 25 & Female & 16:26\\\\\n\t719 & 626 & Man Sancto           & 23 & Male   & 14:51\\\\\n\t720 & 627 & Michelle Janus       & 61 & Female & 15:16\\\\\n\t721 & 628 & Noble Gorling        & 54 & Male   & 16:45\\\\\n\t722 & 629 & Abra Paulou          & 15 & Female & 14:56\\\\\n\t724 & 631 & Agace Oats           & 55 & Female & 16:14\\\\\n\t725 & 632 & Shaughn Sapauton     & 33 & Male   & 15:58\\\\\n\t726 & 633 & Molli Stanley        & 27 & Female & 15:20\\\\\n\t727 & 634 & Mile Hrishanok       & 57 & Male   & 16:26\\\\\n\t728 & 635 & Dusty Truder         & 40 & Female & 17:03\\\\\n\t729 & 636 & Fayette Pervoe       & 18 & Female & 15:42\\\\\n\t730 & 637 & Allie Mingaye        & 55 & Male   & 14:53\\\\\n\t731 & 638 & Noe Nayer            & 38 & Male   & 15:08\\\\\n\t732 & 639 & Collen Lainton       & 54 & Female & 17:07\\\\\n\t733 & 640 & Chickie Wildman      & 52 & Male   & 16:22\\\\\n\\end{tabular}\n",
            "text/plain": [
              "    runner_bib runner_name            runner_age runner_gender finish_time\n",
              "1    1         Loydie Lopes           17         Male          16:01      \n",
              "2    2         Lorens Crispe          33         Male          15:40      \n",
              "3    3         Shirline Hasser        22         Female        14:20      \n",
              "4    4         Alleyn Hartshorn       39         Male          17:06      \n",
              "5    5         Wang MacColl           50         Male          16:49      \n",
              "6    6         Tonnie Tidder          44         Male          15:43      \n",
              "8    8         Basil Moxsom           44         Male          15:16      \n",
              "9    9         Lark Bragge            30         Female        15:59      \n",
              "10  10         Kent Wakely            60         Male          14:29      \n",
              "11  11         Judye Hattrick         17         Female        15:27      \n",
              "12  12         Amalea Laurand         17         Agender       16:46      \n",
              "13  13         Christiana Winspeare   52         Female        16:18      \n",
              "14  14         Trevar Pegrum          31         Male          16:05      \n",
              "15  15         Kearney Doumerc        48         Male          15:11      \n",
              "16  16         Casey Arthur           54         Female        16:41      \n",
              "17  17         Antony Burnes          19         Male          15:58      \n",
              "18  18         Ike Ranson             20         Agender       16:45      \n",
              "19  19         Niels Lynagh           25         Male          17:08      \n",
              "20  20         Stormy Gideon          43         Female        16:51      \n",
              "21  21         Carmencita Petrishchev 20         Female        14:15      \n",
              "22  22         Cristina Brabbs        60         Female        14:20      \n",
              "23  23         Cordy Jeannaud         27         Female        14:45      \n",
              "24  24         Rubi Greeson           39         Female        14:46      \n",
              "25  25         Mickie Drohun          28         Female        16:20      \n",
              "26  26         Levon Cayette          14         Male          17:07      \n",
              "27  27         Georges Capoun         38         Male          14:47      \n",
              "28  28         Yance Ingreda          39         Male          15:40      \n",
              "29  29         Elfreda Dunmuir        44         Female        15:04      \n",
              "30  30         Ivar Nutting           33         Male          15:00      \n",
              "31  31         Sibley Golton          42         Female        14:54      \n",
              "⋮   ⋮          ⋮                      ⋮          ⋮             ⋮          \n",
              "703 610        Noble Daunay           26         Male          15:44      \n",
              "704 611        Dianna Dunsire         23         Female        15:56      \n",
              "705 612        Cordey Gibke           27         Female        15:39      \n",
              "706 613        Ulysses Middell        22         Male          15:07      \n",
              "707 614        Edin Soloway           46         Female        14:52      \n",
              "708 615        Seth Willishire        41         Male          15:08      \n",
              "709 616        Abelard Bole           36         Male          15:51      \n",
              "710 617        Mac Figiovanni         60         Male          14:43      \n",
              "711 618        Rafaelita Mates        47         Female        16:32      \n",
              "712 619        Harper Ferrier         47         Male          16:20      \n",
              "713 620        Horten Rupp            58         Male          14:43      \n",
              "714 621        Gare Shacklady         50         Male          15:34      \n",
              "715 622        Jacquie MacRanald      58         Female        16:59      \n",
              "716 623        Ingram Ivamy           39         Male          16:01      \n",
              "717 624        Mariejeanne Bernetti   49         Female        14:57      \n",
              "718 625        Merrill Dorre          25         Female        16:26      \n",
              "719 626        Man Sancto             23         Male          14:51      \n",
              "720 627        Michelle Janus         61         Female        15:16      \n",
              "721 628        Noble Gorling          54         Male          16:45      \n",
              "722 629        Abra Paulou            15         Female        14:56      \n",
              "724 631        Agace Oats             55         Female        16:14      \n",
              "725 632        Shaughn Sapauton       33         Male          15:58      \n",
              "726 633        Molli Stanley          27         Female        15:20      \n",
              "727 634        Mile Hrishanok         57         Male          16:26      \n",
              "728 635        Dusty Truder           40         Female        17:03      \n",
              "729 636        Fayette Pervoe         18         Female        15:42      \n",
              "730 637        Allie Mingaye          55         Male          14:53      \n",
              "731 638        Noe Nayer              38         Male          15:08      \n",
              "732 639        Collen Lainton         54         Female        17:07      \n",
              "733 640        Chickie Wildman        52         Male          16:22      "
            ]
          },
          "metadata": {}
        }
      ]
    },
    {
      "cell_type": "markdown",
      "source": [
        "Now display the first 10 rows of the cleaned dataset."
      ],
      "metadata": {
        "id": "Ccwu8bUx_Azj"
      }
    },
    {
      "cell_type": "code",
      "source": [
        "head(df2, 9)"
      ],
      "metadata": {
        "id": "1iVIskCs_Ewe",
        "outputId": "d2d93b02-d7b4-43e5-983e-6adb193c2991",
        "colab": {
          "base_uri": "https://localhost:8080/",
          "height": 380
        }
      },
      "execution_count": 6,
      "outputs": [
        {
          "output_type": "display_data",
          "data": {
            "text/html": [
              "<table class=\"dataframe\">\n",
              "<caption>A data.frame: 9 × 5</caption>\n",
              "<thead>\n",
              "\t<tr><th></th><th scope=col>runner_bib</th><th scope=col>runner_name</th><th scope=col>runner_age</th><th scope=col>runner_gender</th><th scope=col>finish_time</th></tr>\n",
              "\t<tr><th></th><th scope=col>&lt;int&gt;</th><th scope=col>&lt;chr&gt;</th><th scope=col>&lt;int&gt;</th><th scope=col>&lt;chr&gt;</th><th scope=col>&lt;chr&gt;</th></tr>\n",
              "</thead>\n",
              "<tbody>\n",
              "\t<tr><th scope=row>1</th><td> 1</td><td>Loydie Lopes    </td><td>17</td><td>Male  </td><td>16:01</td></tr>\n",
              "\t<tr><th scope=row>2</th><td> 2</td><td>Lorens Crispe   </td><td>33</td><td>Male  </td><td>15:40</td></tr>\n",
              "\t<tr><th scope=row>3</th><td> 3</td><td>Shirline Hasser </td><td>22</td><td>Female</td><td>14:20</td></tr>\n",
              "\t<tr><th scope=row>4</th><td> 4</td><td>Alleyn Hartshorn</td><td>39</td><td>Male  </td><td>17:06</td></tr>\n",
              "\t<tr><th scope=row>5</th><td> 5</td><td>Wang MacColl    </td><td>50</td><td>Male  </td><td>16:49</td></tr>\n",
              "\t<tr><th scope=row>6</th><td> 6</td><td>Tonnie Tidder   </td><td>44</td><td>Male  </td><td>15:43</td></tr>\n",
              "\t<tr><th scope=row>8</th><td> 8</td><td>Basil Moxsom    </td><td>44</td><td>Male  </td><td>15:16</td></tr>\n",
              "\t<tr><th scope=row>9</th><td> 9</td><td>Lark Bragge     </td><td>30</td><td>Female</td><td>15:59</td></tr>\n",
              "\t<tr><th scope=row>10</th><td>10</td><td>Kent Wakely     </td><td>60</td><td>Male  </td><td>14:29</td></tr>\n",
              "</tbody>\n",
              "</table>\n"
            ],
            "text/markdown": "\nA data.frame: 9 × 5\n\n| <!--/--> | runner_bib &lt;int&gt; | runner_name &lt;chr&gt; | runner_age &lt;int&gt; | runner_gender &lt;chr&gt; | finish_time &lt;chr&gt; |\n|---|---|---|---|---|---|\n| 1 |  1 | Loydie Lopes     | 17 | Male   | 16:01 |\n| 2 |  2 | Lorens Crispe    | 33 | Male   | 15:40 |\n| 3 |  3 | Shirline Hasser  | 22 | Female | 14:20 |\n| 4 |  4 | Alleyn Hartshorn | 39 | Male   | 17:06 |\n| 5 |  5 | Wang MacColl     | 50 | Male   | 16:49 |\n| 6 |  6 | Tonnie Tidder    | 44 | Male   | 15:43 |\n| 8 |  8 | Basil Moxsom     | 44 | Male   | 15:16 |\n| 9 |  9 | Lark Bragge      | 30 | Female | 15:59 |\n| 10 | 10 | Kent Wakely      | 60 | Male   | 14:29 |\n\n",
            "text/latex": "A data.frame: 9 × 5\n\\begin{tabular}{r|lllll}\n  & runner\\_bib & runner\\_name & runner\\_age & runner\\_gender & finish\\_time\\\\\n  & <int> & <chr> & <int> & <chr> & <chr>\\\\\n\\hline\n\t1 &  1 & Loydie Lopes     & 17 & Male   & 16:01\\\\\n\t2 &  2 & Lorens Crispe    & 33 & Male   & 15:40\\\\\n\t3 &  3 & Shirline Hasser  & 22 & Female & 14:20\\\\\n\t4 &  4 & Alleyn Hartshorn & 39 & Male   & 17:06\\\\\n\t5 &  5 & Wang MacColl     & 50 & Male   & 16:49\\\\\n\t6 &  6 & Tonnie Tidder    & 44 & Male   & 15:43\\\\\n\t8 &  8 & Basil Moxsom     & 44 & Male   & 15:16\\\\\n\t9 &  9 & Lark Bragge      & 30 & Female & 15:59\\\\\n\t10 & 10 & Kent Wakely      & 60 & Male   & 14:29\\\\\n\\end{tabular}\n",
            "text/plain": [
              "   runner_bib runner_name      runner_age runner_gender finish_time\n",
              "1   1         Loydie Lopes     17         Male          16:01      \n",
              "2   2         Lorens Crispe    33         Male          15:40      \n",
              "3   3         Shirline Hasser  22         Female        14:20      \n",
              "4   4         Alleyn Hartshorn 39         Male          17:06      \n",
              "5   5         Wang MacColl     50         Male          16:49      \n",
              "6   6         Tonnie Tidder    44         Male          15:43      \n",
              "8   8         Basil Moxsom     44         Male          15:16      \n",
              "9   9         Lark Bragge      30         Female        15:59      \n",
              "10 10         Kent Wakely      60         Male          14:29      "
            ]
          },
          "metadata": {}
        }
      ]
    },
    {
      "cell_type": "markdown",
      "source": [
        "## 4. Calculate Elapsed Time (3 pts)"
      ],
      "metadata": {
        "id": "3-4dd8nsr_zF"
      }
    },
    {
      "cell_type": "markdown",
      "source": [
        "Using R, add a new column named `[\"finish_minutes\"]` to the dataframe that calculates the number of minutes it took for the runner to complete the race. Ideally this is a column consisting of plain integers.\n",
        "\n",
        "The starting gun was fired at precisely 12:00pm that day.\n",
        "\n",
        "Note: This is calculated using a built-in function of R, `difftime()` which takes 3 parameters:\n",
        "\n",
        "- End time\n",
        "- Start time\n",
        "- Units\n",
        "\n",
        "The result is an output that figures the difference between the two: `3 days`, `14 years`, `112 mins`, etc.\n",
        "\n",
        "The syntax for that function is below. Take care to use the proper order of parameters. The `as.POSIXct` casting makes it possible to read a long datetime in the `YYYY-MM-DDTHH:MM` format, a common `datetime` value. The `format` parameter specifies the pattern you are trying to read.\n",
        "\n",
        "```\n",
        "df$new-column <- (difftime( as.POSIXct(df$end-column, format=\"%Y-%m-%dT%H:%M\"),\n",
        "                            as.POSIXct(df$start-column, format=\"%Y-%m-%dT%H:%M\"),\n",
        "                            units=\"min\"))\n",
        "```"
      ],
      "metadata": {
        "id": "HrGLlM83vH0c"
      }
    },
    {
      "cell_type": "code",
      "source": [
        "start_time <- \"12:00\"\n",
        "\n",
        "df2$finish_minutes <- (difftime( as.POSIXct(df2$finish_time, format=\"%H:%M\"),\n",
        "                            as.POSIXct(start_time, format=\"%H:%M\"),\n",
        "                            units=\"min\"))\n",
        "df2"
      ],
      "metadata": {
        "id": "5HKqg1bfAXbl",
        "outputId": "aedaddfb-19ec-4922-c8e1-a83e96c8e693",
        "colab": {
          "base_uri": "https://localhost:8080/",
          "height": 1000
        }
      },
      "execution_count": 7,
      "outputs": [
        {
          "output_type": "display_data",
          "data": {
            "text/html": [
              "<table class=\"dataframe\">\n",
              "<caption>A data.frame: 594 × 6</caption>\n",
              "<thead>\n",
              "\t<tr><th></th><th scope=col>runner_bib</th><th scope=col>runner_name</th><th scope=col>runner_age</th><th scope=col>runner_gender</th><th scope=col>finish_time</th><th scope=col>finish_minutes</th></tr>\n",
              "\t<tr><th></th><th scope=col>&lt;int&gt;</th><th scope=col>&lt;chr&gt;</th><th scope=col>&lt;int&gt;</th><th scope=col>&lt;chr&gt;</th><th scope=col>&lt;chr&gt;</th><th scope=col>&lt;drtn&gt;</th></tr>\n",
              "</thead>\n",
              "<tbody>\n",
              "\t<tr><th scope=row>1</th><td> 1</td><td>Loydie Lopes          </td><td>17</td><td>Male   </td><td>16:01</td><td>241 mins</td></tr>\n",
              "\t<tr><th scope=row>2</th><td> 2</td><td>Lorens Crispe         </td><td>33</td><td>Male   </td><td>15:40</td><td>220 mins</td></tr>\n",
              "\t<tr><th scope=row>3</th><td> 3</td><td>Shirline Hasser       </td><td>22</td><td>Female </td><td>14:20</td><td>140 mins</td></tr>\n",
              "\t<tr><th scope=row>4</th><td> 4</td><td>Alleyn Hartshorn      </td><td>39</td><td>Male   </td><td>17:06</td><td>306 mins</td></tr>\n",
              "\t<tr><th scope=row>5</th><td> 5</td><td>Wang MacColl          </td><td>50</td><td>Male   </td><td>16:49</td><td>289 mins</td></tr>\n",
              "\t<tr><th scope=row>6</th><td> 6</td><td>Tonnie Tidder         </td><td>44</td><td>Male   </td><td>15:43</td><td>223 mins</td></tr>\n",
              "\t<tr><th scope=row>8</th><td> 8</td><td>Basil Moxsom          </td><td>44</td><td>Male   </td><td>15:16</td><td>196 mins</td></tr>\n",
              "\t<tr><th scope=row>9</th><td> 9</td><td>Lark Bragge           </td><td>30</td><td>Female </td><td>15:59</td><td>239 mins</td></tr>\n",
              "\t<tr><th scope=row>10</th><td>10</td><td>Kent Wakely           </td><td>60</td><td>Male   </td><td>14:29</td><td>149 mins</td></tr>\n",
              "\t<tr><th scope=row>11</th><td>11</td><td>Judye Hattrick        </td><td>17</td><td>Female </td><td>15:27</td><td>207 mins</td></tr>\n",
              "\t<tr><th scope=row>12</th><td>12</td><td>Amalea Laurand        </td><td>17</td><td>Agender</td><td>16:46</td><td>286 mins</td></tr>\n",
              "\t<tr><th scope=row>13</th><td>13</td><td>Christiana Winspeare  </td><td>52</td><td>Female </td><td>16:18</td><td>258 mins</td></tr>\n",
              "\t<tr><th scope=row>14</th><td>14</td><td>Trevar Pegrum         </td><td>31</td><td>Male   </td><td>16:05</td><td>245 mins</td></tr>\n",
              "\t<tr><th scope=row>15</th><td>15</td><td>Kearney Doumerc       </td><td>48</td><td>Male   </td><td>15:11</td><td>191 mins</td></tr>\n",
              "\t<tr><th scope=row>16</th><td>16</td><td>Casey Arthur          </td><td>54</td><td>Female </td><td>16:41</td><td>281 mins</td></tr>\n",
              "\t<tr><th scope=row>17</th><td>17</td><td>Antony Burnes         </td><td>19</td><td>Male   </td><td>15:58</td><td>238 mins</td></tr>\n",
              "\t<tr><th scope=row>18</th><td>18</td><td>Ike Ranson            </td><td>20</td><td>Agender</td><td>16:45</td><td>285 mins</td></tr>\n",
              "\t<tr><th scope=row>19</th><td>19</td><td>Niels Lynagh          </td><td>25</td><td>Male   </td><td>17:08</td><td>308 mins</td></tr>\n",
              "\t<tr><th scope=row>20</th><td>20</td><td>Stormy Gideon         </td><td>43</td><td>Female </td><td>16:51</td><td>291 mins</td></tr>\n",
              "\t<tr><th scope=row>21</th><td>21</td><td>Carmencita Petrishchev</td><td>20</td><td>Female </td><td>14:15</td><td>135 mins</td></tr>\n",
              "\t<tr><th scope=row>22</th><td>22</td><td>Cristina Brabbs       </td><td>60</td><td>Female </td><td>14:20</td><td>140 mins</td></tr>\n",
              "\t<tr><th scope=row>23</th><td>23</td><td>Cordy Jeannaud        </td><td>27</td><td>Female </td><td>14:45</td><td>165 mins</td></tr>\n",
              "\t<tr><th scope=row>24</th><td>24</td><td>Rubi Greeson          </td><td>39</td><td>Female </td><td>14:46</td><td>166 mins</td></tr>\n",
              "\t<tr><th scope=row>25</th><td>25</td><td>Mickie Drohun         </td><td>28</td><td>Female </td><td>16:20</td><td>260 mins</td></tr>\n",
              "\t<tr><th scope=row>26</th><td>26</td><td>Levon Cayette         </td><td>14</td><td>Male   </td><td>17:07</td><td>307 mins</td></tr>\n",
              "\t<tr><th scope=row>27</th><td>27</td><td>Georges Capoun        </td><td>38</td><td>Male   </td><td>14:47</td><td>167 mins</td></tr>\n",
              "\t<tr><th scope=row>28</th><td>28</td><td>Yance Ingreda         </td><td>39</td><td>Male   </td><td>15:40</td><td>220 mins</td></tr>\n",
              "\t<tr><th scope=row>29</th><td>29</td><td>Elfreda Dunmuir       </td><td>44</td><td>Female </td><td>15:04</td><td>184 mins</td></tr>\n",
              "\t<tr><th scope=row>30</th><td>30</td><td>Ivar Nutting          </td><td>33</td><td>Male   </td><td>15:00</td><td>180 mins</td></tr>\n",
              "\t<tr><th scope=row>31</th><td>31</td><td>Sibley Golton         </td><td>42</td><td>Female </td><td>14:54</td><td>174 mins</td></tr>\n",
              "\t<tr><th scope=row>⋮</th><td>⋮</td><td>⋮</td><td>⋮</td><td>⋮</td><td>⋮</td><td>⋮</td></tr>\n",
              "\t<tr><th scope=row>703</th><td>610</td><td>Noble Daunay        </td><td>26</td><td>Male  </td><td>15:44</td><td>224 mins</td></tr>\n",
              "\t<tr><th scope=row>704</th><td>611</td><td>Dianna Dunsire      </td><td>23</td><td>Female</td><td>15:56</td><td>236 mins</td></tr>\n",
              "\t<tr><th scope=row>705</th><td>612</td><td>Cordey Gibke        </td><td>27</td><td>Female</td><td>15:39</td><td>219 mins</td></tr>\n",
              "\t<tr><th scope=row>706</th><td>613</td><td>Ulysses Middell     </td><td>22</td><td>Male  </td><td>15:07</td><td>187 mins</td></tr>\n",
              "\t<tr><th scope=row>707</th><td>614</td><td>Edin Soloway        </td><td>46</td><td>Female</td><td>14:52</td><td>172 mins</td></tr>\n",
              "\t<tr><th scope=row>708</th><td>615</td><td>Seth Willishire     </td><td>41</td><td>Male  </td><td>15:08</td><td>188 mins</td></tr>\n",
              "\t<tr><th scope=row>709</th><td>616</td><td>Abelard Bole        </td><td>36</td><td>Male  </td><td>15:51</td><td>231 mins</td></tr>\n",
              "\t<tr><th scope=row>710</th><td>617</td><td>Mac Figiovanni      </td><td>60</td><td>Male  </td><td>14:43</td><td>163 mins</td></tr>\n",
              "\t<tr><th scope=row>711</th><td>618</td><td>Rafaelita Mates     </td><td>47</td><td>Female</td><td>16:32</td><td>272 mins</td></tr>\n",
              "\t<tr><th scope=row>712</th><td>619</td><td>Harper Ferrier      </td><td>47</td><td>Male  </td><td>16:20</td><td>260 mins</td></tr>\n",
              "\t<tr><th scope=row>713</th><td>620</td><td>Horten Rupp         </td><td>58</td><td>Male  </td><td>14:43</td><td>163 mins</td></tr>\n",
              "\t<tr><th scope=row>714</th><td>621</td><td>Gare Shacklady      </td><td>50</td><td>Male  </td><td>15:34</td><td>214 mins</td></tr>\n",
              "\t<tr><th scope=row>715</th><td>622</td><td>Jacquie MacRanald   </td><td>58</td><td>Female</td><td>16:59</td><td>299 mins</td></tr>\n",
              "\t<tr><th scope=row>716</th><td>623</td><td>Ingram Ivamy        </td><td>39</td><td>Male  </td><td>16:01</td><td>241 mins</td></tr>\n",
              "\t<tr><th scope=row>717</th><td>624</td><td>Mariejeanne Bernetti</td><td>49</td><td>Female</td><td>14:57</td><td>177 mins</td></tr>\n",
              "\t<tr><th scope=row>718</th><td>625</td><td>Merrill Dorre       </td><td>25</td><td>Female</td><td>16:26</td><td>266 mins</td></tr>\n",
              "\t<tr><th scope=row>719</th><td>626</td><td>Man Sancto          </td><td>23</td><td>Male  </td><td>14:51</td><td>171 mins</td></tr>\n",
              "\t<tr><th scope=row>720</th><td>627</td><td>Michelle Janus      </td><td>61</td><td>Female</td><td>15:16</td><td>196 mins</td></tr>\n",
              "\t<tr><th scope=row>721</th><td>628</td><td>Noble Gorling       </td><td>54</td><td>Male  </td><td>16:45</td><td>285 mins</td></tr>\n",
              "\t<tr><th scope=row>722</th><td>629</td><td>Abra Paulou         </td><td>15</td><td>Female</td><td>14:56</td><td>176 mins</td></tr>\n",
              "\t<tr><th scope=row>724</th><td>631</td><td>Agace Oats          </td><td>55</td><td>Female</td><td>16:14</td><td>254 mins</td></tr>\n",
              "\t<tr><th scope=row>725</th><td>632</td><td>Shaughn Sapauton    </td><td>33</td><td>Male  </td><td>15:58</td><td>238 mins</td></tr>\n",
              "\t<tr><th scope=row>726</th><td>633</td><td>Molli Stanley       </td><td>27</td><td>Female</td><td>15:20</td><td>200 mins</td></tr>\n",
              "\t<tr><th scope=row>727</th><td>634</td><td>Mile Hrishanok      </td><td>57</td><td>Male  </td><td>16:26</td><td>266 mins</td></tr>\n",
              "\t<tr><th scope=row>728</th><td>635</td><td>Dusty Truder        </td><td>40</td><td>Female</td><td>17:03</td><td>303 mins</td></tr>\n",
              "\t<tr><th scope=row>729</th><td>636</td><td>Fayette Pervoe      </td><td>18</td><td>Female</td><td>15:42</td><td>222 mins</td></tr>\n",
              "\t<tr><th scope=row>730</th><td>637</td><td>Allie Mingaye       </td><td>55</td><td>Male  </td><td>14:53</td><td>173 mins</td></tr>\n",
              "\t<tr><th scope=row>731</th><td>638</td><td>Noe Nayer           </td><td>38</td><td>Male  </td><td>15:08</td><td>188 mins</td></tr>\n",
              "\t<tr><th scope=row>732</th><td>639</td><td>Collen Lainton      </td><td>54</td><td>Female</td><td>17:07</td><td>307 mins</td></tr>\n",
              "\t<tr><th scope=row>733</th><td>640</td><td>Chickie Wildman     </td><td>52</td><td>Male  </td><td>16:22</td><td>262 mins</td></tr>\n",
              "</tbody>\n",
              "</table>\n"
            ],
            "text/markdown": "\nA data.frame: 594 × 6\n\n| <!--/--> | runner_bib &lt;int&gt; | runner_name &lt;chr&gt; | runner_age &lt;int&gt; | runner_gender &lt;chr&gt; | finish_time &lt;chr&gt; | finish_minutes &lt;drtn&gt; |\n|---|---|---|---|---|---|---|\n| 1 |  1 | Loydie Lopes           | 17 | Male    | 16:01 | 241 mins |\n| 2 |  2 | Lorens Crispe          | 33 | Male    | 15:40 | 220 mins |\n| 3 |  3 | Shirline Hasser        | 22 | Female  | 14:20 | 140 mins |\n| 4 |  4 | Alleyn Hartshorn       | 39 | Male    | 17:06 | 306 mins |\n| 5 |  5 | Wang MacColl           | 50 | Male    | 16:49 | 289 mins |\n| 6 |  6 | Tonnie Tidder          | 44 | Male    | 15:43 | 223 mins |\n| 8 |  8 | Basil Moxsom           | 44 | Male    | 15:16 | 196 mins |\n| 9 |  9 | Lark Bragge            | 30 | Female  | 15:59 | 239 mins |\n| 10 | 10 | Kent Wakely            | 60 | Male    | 14:29 | 149 mins |\n| 11 | 11 | Judye Hattrick         | 17 | Female  | 15:27 | 207 mins |\n| 12 | 12 | Amalea Laurand         | 17 | Agender | 16:46 | 286 mins |\n| 13 | 13 | Christiana Winspeare   | 52 | Female  | 16:18 | 258 mins |\n| 14 | 14 | Trevar Pegrum          | 31 | Male    | 16:05 | 245 mins |\n| 15 | 15 | Kearney Doumerc        | 48 | Male    | 15:11 | 191 mins |\n| 16 | 16 | Casey Arthur           | 54 | Female  | 16:41 | 281 mins |\n| 17 | 17 | Antony Burnes          | 19 | Male    | 15:58 | 238 mins |\n| 18 | 18 | Ike Ranson             | 20 | Agender | 16:45 | 285 mins |\n| 19 | 19 | Niels Lynagh           | 25 | Male    | 17:08 | 308 mins |\n| 20 | 20 | Stormy Gideon          | 43 | Female  | 16:51 | 291 mins |\n| 21 | 21 | Carmencita Petrishchev | 20 | Female  | 14:15 | 135 mins |\n| 22 | 22 | Cristina Brabbs        | 60 | Female  | 14:20 | 140 mins |\n| 23 | 23 | Cordy Jeannaud         | 27 | Female  | 14:45 | 165 mins |\n| 24 | 24 | Rubi Greeson           | 39 | Female  | 14:46 | 166 mins |\n| 25 | 25 | Mickie Drohun          | 28 | Female  | 16:20 | 260 mins |\n| 26 | 26 | Levon Cayette          | 14 | Male    | 17:07 | 307 mins |\n| 27 | 27 | Georges Capoun         | 38 | Male    | 14:47 | 167 mins |\n| 28 | 28 | Yance Ingreda          | 39 | Male    | 15:40 | 220 mins |\n| 29 | 29 | Elfreda Dunmuir        | 44 | Female  | 15:04 | 184 mins |\n| 30 | 30 | Ivar Nutting           | 33 | Male    | 15:00 | 180 mins |\n| 31 | 31 | Sibley Golton          | 42 | Female  | 14:54 | 174 mins |\n| ⋮ | ⋮ | ⋮ | ⋮ | ⋮ | ⋮ | ⋮ |\n| 703 | 610 | Noble Daunay         | 26 | Male   | 15:44 | 224 mins |\n| 704 | 611 | Dianna Dunsire       | 23 | Female | 15:56 | 236 mins |\n| 705 | 612 | Cordey Gibke         | 27 | Female | 15:39 | 219 mins |\n| 706 | 613 | Ulysses Middell      | 22 | Male   | 15:07 | 187 mins |\n| 707 | 614 | Edin Soloway         | 46 | Female | 14:52 | 172 mins |\n| 708 | 615 | Seth Willishire      | 41 | Male   | 15:08 | 188 mins |\n| 709 | 616 | Abelard Bole         | 36 | Male   | 15:51 | 231 mins |\n| 710 | 617 | Mac Figiovanni       | 60 | Male   | 14:43 | 163 mins |\n| 711 | 618 | Rafaelita Mates      | 47 | Female | 16:32 | 272 mins |\n| 712 | 619 | Harper Ferrier       | 47 | Male   | 16:20 | 260 mins |\n| 713 | 620 | Horten Rupp          | 58 | Male   | 14:43 | 163 mins |\n| 714 | 621 | Gare Shacklady       | 50 | Male   | 15:34 | 214 mins |\n| 715 | 622 | Jacquie MacRanald    | 58 | Female | 16:59 | 299 mins |\n| 716 | 623 | Ingram Ivamy         | 39 | Male   | 16:01 | 241 mins |\n| 717 | 624 | Mariejeanne Bernetti | 49 | Female | 14:57 | 177 mins |\n| 718 | 625 | Merrill Dorre        | 25 | Female | 16:26 | 266 mins |\n| 719 | 626 | Man Sancto           | 23 | Male   | 14:51 | 171 mins |\n| 720 | 627 | Michelle Janus       | 61 | Female | 15:16 | 196 mins |\n| 721 | 628 | Noble Gorling        | 54 | Male   | 16:45 | 285 mins |\n| 722 | 629 | Abra Paulou          | 15 | Female | 14:56 | 176 mins |\n| 724 | 631 | Agace Oats           | 55 | Female | 16:14 | 254 mins |\n| 725 | 632 | Shaughn Sapauton     | 33 | Male   | 15:58 | 238 mins |\n| 726 | 633 | Molli Stanley        | 27 | Female | 15:20 | 200 mins |\n| 727 | 634 | Mile Hrishanok       | 57 | Male   | 16:26 | 266 mins |\n| 728 | 635 | Dusty Truder         | 40 | Female | 17:03 | 303 mins |\n| 729 | 636 | Fayette Pervoe       | 18 | Female | 15:42 | 222 mins |\n| 730 | 637 | Allie Mingaye        | 55 | Male   | 14:53 | 173 mins |\n| 731 | 638 | Noe Nayer            | 38 | Male   | 15:08 | 188 mins |\n| 732 | 639 | Collen Lainton       | 54 | Female | 17:07 | 307 mins |\n| 733 | 640 | Chickie Wildman      | 52 | Male   | 16:22 | 262 mins |\n\n",
            "text/latex": "A data.frame: 594 × 6\n\\begin{tabular}{r|llllll}\n  & runner\\_bib & runner\\_name & runner\\_age & runner\\_gender & finish\\_time & finish\\_minutes\\\\\n  & <int> & <chr> & <int> & <chr> & <chr> & <drtn>\\\\\n\\hline\n\t1 &  1 & Loydie Lopes           & 17 & Male    & 16:01 & 241 mins\\\\\n\t2 &  2 & Lorens Crispe          & 33 & Male    & 15:40 & 220 mins\\\\\n\t3 &  3 & Shirline Hasser        & 22 & Female  & 14:20 & 140 mins\\\\\n\t4 &  4 & Alleyn Hartshorn       & 39 & Male    & 17:06 & 306 mins\\\\\n\t5 &  5 & Wang MacColl           & 50 & Male    & 16:49 & 289 mins\\\\\n\t6 &  6 & Tonnie Tidder          & 44 & Male    & 15:43 & 223 mins\\\\\n\t8 &  8 & Basil Moxsom           & 44 & Male    & 15:16 & 196 mins\\\\\n\t9 &  9 & Lark Bragge            & 30 & Female  & 15:59 & 239 mins\\\\\n\t10 & 10 & Kent Wakely            & 60 & Male    & 14:29 & 149 mins\\\\\n\t11 & 11 & Judye Hattrick         & 17 & Female  & 15:27 & 207 mins\\\\\n\t12 & 12 & Amalea Laurand         & 17 & Agender & 16:46 & 286 mins\\\\\n\t13 & 13 & Christiana Winspeare   & 52 & Female  & 16:18 & 258 mins\\\\\n\t14 & 14 & Trevar Pegrum          & 31 & Male    & 16:05 & 245 mins\\\\\n\t15 & 15 & Kearney Doumerc        & 48 & Male    & 15:11 & 191 mins\\\\\n\t16 & 16 & Casey Arthur           & 54 & Female  & 16:41 & 281 mins\\\\\n\t17 & 17 & Antony Burnes          & 19 & Male    & 15:58 & 238 mins\\\\\n\t18 & 18 & Ike Ranson             & 20 & Agender & 16:45 & 285 mins\\\\\n\t19 & 19 & Niels Lynagh           & 25 & Male    & 17:08 & 308 mins\\\\\n\t20 & 20 & Stormy Gideon          & 43 & Female  & 16:51 & 291 mins\\\\\n\t21 & 21 & Carmencita Petrishchev & 20 & Female  & 14:15 & 135 mins\\\\\n\t22 & 22 & Cristina Brabbs        & 60 & Female  & 14:20 & 140 mins\\\\\n\t23 & 23 & Cordy Jeannaud         & 27 & Female  & 14:45 & 165 mins\\\\\n\t24 & 24 & Rubi Greeson           & 39 & Female  & 14:46 & 166 mins\\\\\n\t25 & 25 & Mickie Drohun          & 28 & Female  & 16:20 & 260 mins\\\\\n\t26 & 26 & Levon Cayette          & 14 & Male    & 17:07 & 307 mins\\\\\n\t27 & 27 & Georges Capoun         & 38 & Male    & 14:47 & 167 mins\\\\\n\t28 & 28 & Yance Ingreda          & 39 & Male    & 15:40 & 220 mins\\\\\n\t29 & 29 & Elfreda Dunmuir        & 44 & Female  & 15:04 & 184 mins\\\\\n\t30 & 30 & Ivar Nutting           & 33 & Male    & 15:00 & 180 mins\\\\\n\t31 & 31 & Sibley Golton          & 42 & Female  & 14:54 & 174 mins\\\\\n\t⋮ & ⋮ & ⋮ & ⋮ & ⋮ & ⋮ & ⋮\\\\\n\t703 & 610 & Noble Daunay         & 26 & Male   & 15:44 & 224 mins\\\\\n\t704 & 611 & Dianna Dunsire       & 23 & Female & 15:56 & 236 mins\\\\\n\t705 & 612 & Cordey Gibke         & 27 & Female & 15:39 & 219 mins\\\\\n\t706 & 613 & Ulysses Middell      & 22 & Male   & 15:07 & 187 mins\\\\\n\t707 & 614 & Edin Soloway         & 46 & Female & 14:52 & 172 mins\\\\\n\t708 & 615 & Seth Willishire      & 41 & Male   & 15:08 & 188 mins\\\\\n\t709 & 616 & Abelard Bole         & 36 & Male   & 15:51 & 231 mins\\\\\n\t710 & 617 & Mac Figiovanni       & 60 & Male   & 14:43 & 163 mins\\\\\n\t711 & 618 & Rafaelita Mates      & 47 & Female & 16:32 & 272 mins\\\\\n\t712 & 619 & Harper Ferrier       & 47 & Male   & 16:20 & 260 mins\\\\\n\t713 & 620 & Horten Rupp          & 58 & Male   & 14:43 & 163 mins\\\\\n\t714 & 621 & Gare Shacklady       & 50 & Male   & 15:34 & 214 mins\\\\\n\t715 & 622 & Jacquie MacRanald    & 58 & Female & 16:59 & 299 mins\\\\\n\t716 & 623 & Ingram Ivamy         & 39 & Male   & 16:01 & 241 mins\\\\\n\t717 & 624 & Mariejeanne Bernetti & 49 & Female & 14:57 & 177 mins\\\\\n\t718 & 625 & Merrill Dorre        & 25 & Female & 16:26 & 266 mins\\\\\n\t719 & 626 & Man Sancto           & 23 & Male   & 14:51 & 171 mins\\\\\n\t720 & 627 & Michelle Janus       & 61 & Female & 15:16 & 196 mins\\\\\n\t721 & 628 & Noble Gorling        & 54 & Male   & 16:45 & 285 mins\\\\\n\t722 & 629 & Abra Paulou          & 15 & Female & 14:56 & 176 mins\\\\\n\t724 & 631 & Agace Oats           & 55 & Female & 16:14 & 254 mins\\\\\n\t725 & 632 & Shaughn Sapauton     & 33 & Male   & 15:58 & 238 mins\\\\\n\t726 & 633 & Molli Stanley        & 27 & Female & 15:20 & 200 mins\\\\\n\t727 & 634 & Mile Hrishanok       & 57 & Male   & 16:26 & 266 mins\\\\\n\t728 & 635 & Dusty Truder         & 40 & Female & 17:03 & 303 mins\\\\\n\t729 & 636 & Fayette Pervoe       & 18 & Female & 15:42 & 222 mins\\\\\n\t730 & 637 & Allie Mingaye        & 55 & Male   & 14:53 & 173 mins\\\\\n\t731 & 638 & Noe Nayer            & 38 & Male   & 15:08 & 188 mins\\\\\n\t732 & 639 & Collen Lainton       & 54 & Female & 17:07 & 307 mins\\\\\n\t733 & 640 & Chickie Wildman      & 52 & Male   & 16:22 & 262 mins\\\\\n\\end{tabular}\n",
            "text/plain": [
              "    runner_bib runner_name            runner_age runner_gender finish_time\n",
              "1    1         Loydie Lopes           17         Male          16:01      \n",
              "2    2         Lorens Crispe          33         Male          15:40      \n",
              "3    3         Shirline Hasser        22         Female        14:20      \n",
              "4    4         Alleyn Hartshorn       39         Male          17:06      \n",
              "5    5         Wang MacColl           50         Male          16:49      \n",
              "6    6         Tonnie Tidder          44         Male          15:43      \n",
              "8    8         Basil Moxsom           44         Male          15:16      \n",
              "9    9         Lark Bragge            30         Female        15:59      \n",
              "10  10         Kent Wakely            60         Male          14:29      \n",
              "11  11         Judye Hattrick         17         Female        15:27      \n",
              "12  12         Amalea Laurand         17         Agender       16:46      \n",
              "13  13         Christiana Winspeare   52         Female        16:18      \n",
              "14  14         Trevar Pegrum          31         Male          16:05      \n",
              "15  15         Kearney Doumerc        48         Male          15:11      \n",
              "16  16         Casey Arthur           54         Female        16:41      \n",
              "17  17         Antony Burnes          19         Male          15:58      \n",
              "18  18         Ike Ranson             20         Agender       16:45      \n",
              "19  19         Niels Lynagh           25         Male          17:08      \n",
              "20  20         Stormy Gideon          43         Female        16:51      \n",
              "21  21         Carmencita Petrishchev 20         Female        14:15      \n",
              "22  22         Cristina Brabbs        60         Female        14:20      \n",
              "23  23         Cordy Jeannaud         27         Female        14:45      \n",
              "24  24         Rubi Greeson           39         Female        14:46      \n",
              "25  25         Mickie Drohun          28         Female        16:20      \n",
              "26  26         Levon Cayette          14         Male          17:07      \n",
              "27  27         Georges Capoun         38         Male          14:47      \n",
              "28  28         Yance Ingreda          39         Male          15:40      \n",
              "29  29         Elfreda Dunmuir        44         Female        15:04      \n",
              "30  30         Ivar Nutting           33         Male          15:00      \n",
              "31  31         Sibley Golton          42         Female        14:54      \n",
              "⋮   ⋮          ⋮                      ⋮          ⋮             ⋮          \n",
              "703 610        Noble Daunay           26         Male          15:44      \n",
              "704 611        Dianna Dunsire         23         Female        15:56      \n",
              "705 612        Cordey Gibke           27         Female        15:39      \n",
              "706 613        Ulysses Middell        22         Male          15:07      \n",
              "707 614        Edin Soloway           46         Female        14:52      \n",
              "708 615        Seth Willishire        41         Male          15:08      \n",
              "709 616        Abelard Bole           36         Male          15:51      \n",
              "710 617        Mac Figiovanni         60         Male          14:43      \n",
              "711 618        Rafaelita Mates        47         Female        16:32      \n",
              "712 619        Harper Ferrier         47         Male          16:20      \n",
              "713 620        Horten Rupp            58         Male          14:43      \n",
              "714 621        Gare Shacklady         50         Male          15:34      \n",
              "715 622        Jacquie MacRanald      58         Female        16:59      \n",
              "716 623        Ingram Ivamy           39         Male          16:01      \n",
              "717 624        Mariejeanne Bernetti   49         Female        14:57      \n",
              "718 625        Merrill Dorre          25         Female        16:26      \n",
              "719 626        Man Sancto             23         Male          14:51      \n",
              "720 627        Michelle Janus         61         Female        15:16      \n",
              "721 628        Noble Gorling          54         Male          16:45      \n",
              "722 629        Abra Paulou            15         Female        14:56      \n",
              "724 631        Agace Oats             55         Female        16:14      \n",
              "725 632        Shaughn Sapauton       33         Male          15:58      \n",
              "726 633        Molli Stanley          27         Female        15:20      \n",
              "727 634        Mile Hrishanok         57         Male          16:26      \n",
              "728 635        Dusty Truder           40         Female        17:03      \n",
              "729 636        Fayette Pervoe         18         Female        15:42      \n",
              "730 637        Allie Mingaye          55         Male          14:53      \n",
              "731 638        Noe Nayer              38         Male          15:08      \n",
              "732 639        Collen Lainton         54         Female        17:07      \n",
              "733 640        Chickie Wildman        52         Male          16:22      \n",
              "    finish_minutes\n",
              "1   241 mins      \n",
              "2   220 mins      \n",
              "3   140 mins      \n",
              "4   306 mins      \n",
              "5   289 mins      \n",
              "6   223 mins      \n",
              "8   196 mins      \n",
              "9   239 mins      \n",
              "10  149 mins      \n",
              "11  207 mins      \n",
              "12  286 mins      \n",
              "13  258 mins      \n",
              "14  245 mins      \n",
              "15  191 mins      \n",
              "16  281 mins      \n",
              "17  238 mins      \n",
              "18  285 mins      \n",
              "19  308 mins      \n",
              "20  291 mins      \n",
              "21  135 mins      \n",
              "22  140 mins      \n",
              "23  165 mins      \n",
              "24  166 mins      \n",
              "25  260 mins      \n",
              "26  307 mins      \n",
              "27  167 mins      \n",
              "28  220 mins      \n",
              "29  184 mins      \n",
              "30  180 mins      \n",
              "31  174 mins      \n",
              "⋮   ⋮             \n",
              "703 224 mins      \n",
              "704 236 mins      \n",
              "705 219 mins      \n",
              "706 187 mins      \n",
              "707 172 mins      \n",
              "708 188 mins      \n",
              "709 231 mins      \n",
              "710 163 mins      \n",
              "711 272 mins      \n",
              "712 260 mins      \n",
              "713 163 mins      \n",
              "714 214 mins      \n",
              "715 299 mins      \n",
              "716 241 mins      \n",
              "717 177 mins      \n",
              "718 266 mins      \n",
              "719 171 mins      \n",
              "720 196 mins      \n",
              "721 285 mins      \n",
              "722 176 mins      \n",
              "724 254 mins      \n",
              "725 238 mins      \n",
              "726 200 mins      \n",
              "727 266 mins      \n",
              "728 303 mins      \n",
              "729 222 mins      \n",
              "730 173 mins      \n",
              "731 188 mins      \n",
              "732 307 mins      \n",
              "733 262 mins      "
            ]
          },
          "metadata": {}
        }
      ]
    },
    {
      "cell_type": "markdown",
      "source": [
        "## 5. Identify Winners by Gender (2 pts)"
      ],
      "metadata": {
        "id": "KKg8d9RDyeDa"
      }
    },
    {
      "cell_type": "markdown",
      "source": [
        "Based on the minutes it took each runner to complete the race, identify the top three places for each gender.\n",
        "\n",
        "There are several ways to do this, some of which require less code than others. You will only be graded for producing the correct output, not on how elegant/advanced your programming is."
      ],
      "metadata": {
        "id": "5kKBo3_sykGD"
      }
    },
    {
      "cell_type": "code",
      "source": [
        "library(dplyr)\n",
        "\n",
        "df3 <- df2 %>%\n",
        "  arrange(runner_gender, finish_minutes) %>%\n",
        "  group_by(runner_gender) %>%\n",
        "  slice_head(n = 3)\n",
        "\n",
        "df3"
      ],
      "metadata": {
        "id": "xRlliRMY2_-c",
        "outputId": "d48256d3-e49a-4e15-f6c3-41508f2bd435",
        "colab": {
          "base_uri": "https://localhost:8080/",
          "height": 851
        }
      },
      "execution_count": 8,
      "outputs": [
        {
          "output_type": "display_data",
          "data": {
            "text/html": [
              "<table class=\"dataframe\">\n",
              "<caption>A grouped_df: 24 × 6</caption>\n",
              "<thead>\n",
              "\t<tr><th scope=col>runner_bib</th><th scope=col>runner_name</th><th scope=col>runner_age</th><th scope=col>runner_gender</th><th scope=col>finish_time</th><th scope=col>finish_minutes</th></tr>\n",
              "\t<tr><th scope=col>&lt;int&gt;</th><th scope=col>&lt;chr&gt;</th><th scope=col>&lt;int&gt;</th><th scope=col>&lt;chr&gt;</th><th scope=col>&lt;chr&gt;</th><th scope=col>&lt;drtn&gt;</th></tr>\n",
              "</thead>\n",
              "<tbody>\n",
              "\t<tr><td>321</td><td>Jacobo Telling        </td><td>33</td><td>Agender    </td><td>14:47</td><td>167 mins</td></tr>\n",
              "\t<tr><td>480</td><td>Tomasina Greensall    </td><td>22</td><td>Agender    </td><td>15:12</td><td>192 mins</td></tr>\n",
              "\t<tr><td>332</td><td>Ina Bonifant          </td><td>30</td><td>Agender    </td><td>15:17</td><td>197 mins</td></tr>\n",
              "\t<tr><td>249</td><td>Sephira Kirgan        </td><td>33</td><td>Bigender   </td><td>14:24</td><td>144 mins</td></tr>\n",
              "\t<tr><td>546</td><td>Chauncey Langthorne   </td><td>16</td><td>Bigender   </td><td>14:29</td><td>149 mins</td></tr>\n",
              "\t<tr><td>263</td><td>Ernestus Draper       </td><td>45</td><td>Bigender   </td><td>14:58</td><td>178 mins</td></tr>\n",
              "\t<tr><td> 21</td><td>Carmencita Petrishchev</td><td>20</td><td>Female     </td><td>14:15</td><td>135 mins</td></tr>\n",
              "\t<tr><td>134</td><td>Marylin Standering    </td><td>18</td><td>Female     </td><td>14:15</td><td>135 mins</td></tr>\n",
              "\t<tr><td>238</td><td>Melloney Fonteyne     </td><td>20</td><td>Female     </td><td>14:15</td><td>135 mins</td></tr>\n",
              "\t<tr><td>152</td><td>Patrice Draye         </td><td>18</td><td>Genderfluid</td><td>14:15</td><td>135 mins</td></tr>\n",
              "\t<tr><td>606</td><td>Nonna Restill         </td><td>57</td><td>Genderfluid</td><td>14:24</td><td>144 mins</td></tr>\n",
              "\t<tr><td>421</td><td>Neysa Willatt         </td><td>60</td><td>Genderfluid</td><td>14:33</td><td>153 mins</td></tr>\n",
              "\t<tr><td>547</td><td>Patin Dawidowitsch    </td><td>17</td><td>Genderqueer</td><td>15:27</td><td>207 mins</td></tr>\n",
              "\t<tr><td>527</td><td>Bobby Sykes           </td><td>52</td><td>Genderqueer</td><td>15:28</td><td>208 mins</td></tr>\n",
              "\t<tr><td>590</td><td>Abigale Beedle        </td><td>41</td><td>Genderqueer</td><td>15:34</td><td>214 mins</td></tr>\n",
              "\t<tr><td>393</td><td>Ker Dearden           </td><td>62</td><td>Male       </td><td>14:15</td><td>135 mins</td></tr>\n",
              "\t<tr><td>114</td><td>Arin Maffezzoli       </td><td>52</td><td>Male       </td><td>14:18</td><td>138 mins</td></tr>\n",
              "\t<tr><td>325</td><td>Holt Teissier         </td><td>36</td><td>Male       </td><td>14:18</td><td>138 mins</td></tr>\n",
              "\t<tr><td>341</td><td>Gaylor Buckett        </td><td>17</td><td>Non-binary </td><td>14:29</td><td>149 mins</td></tr>\n",
              "\t<tr><td> 38</td><td>Mellie Merryfield     </td><td>54</td><td>Non-binary </td><td>15:03</td><td>183 mins</td></tr>\n",
              "\t<tr><td>426</td><td>Base Dukes            </td><td>62</td><td>Non-binary </td><td>15:19</td><td>199 mins</td></tr>\n",
              "\t<tr><td>283</td><td>Karyl Pyne            </td><td>38</td><td>Polygender </td><td>14:21</td><td>141 mins</td></tr>\n",
              "\t<tr><td>356</td><td>Alair Blyde           </td><td>42</td><td>Polygender </td><td>14:27</td><td>147 mins</td></tr>\n",
              "\t<tr><td>578</td><td>Dagmar Bedburrow      </td><td>47</td><td>Polygender </td><td>14:49</td><td>169 mins</td></tr>\n",
              "</tbody>\n",
              "</table>\n"
            ],
            "text/markdown": "\nA grouped_df: 24 × 6\n\n| runner_bib &lt;int&gt; | runner_name &lt;chr&gt; | runner_age &lt;int&gt; | runner_gender &lt;chr&gt; | finish_time &lt;chr&gt; | finish_minutes &lt;drtn&gt; |\n|---|---|---|---|---|---|\n| 321 | Jacobo Telling         | 33 | Agender     | 14:47 | 167 mins |\n| 480 | Tomasina Greensall     | 22 | Agender     | 15:12 | 192 mins |\n| 332 | Ina Bonifant           | 30 | Agender     | 15:17 | 197 mins |\n| 249 | Sephira Kirgan         | 33 | Bigender    | 14:24 | 144 mins |\n| 546 | Chauncey Langthorne    | 16 | Bigender    | 14:29 | 149 mins |\n| 263 | Ernestus Draper        | 45 | Bigender    | 14:58 | 178 mins |\n|  21 | Carmencita Petrishchev | 20 | Female      | 14:15 | 135 mins |\n| 134 | Marylin Standering     | 18 | Female      | 14:15 | 135 mins |\n| 238 | Melloney Fonteyne      | 20 | Female      | 14:15 | 135 mins |\n| 152 | Patrice Draye          | 18 | Genderfluid | 14:15 | 135 mins |\n| 606 | Nonna Restill          | 57 | Genderfluid | 14:24 | 144 mins |\n| 421 | Neysa Willatt          | 60 | Genderfluid | 14:33 | 153 mins |\n| 547 | Patin Dawidowitsch     | 17 | Genderqueer | 15:27 | 207 mins |\n| 527 | Bobby Sykes            | 52 | Genderqueer | 15:28 | 208 mins |\n| 590 | Abigale Beedle         | 41 | Genderqueer | 15:34 | 214 mins |\n| 393 | Ker Dearden            | 62 | Male        | 14:15 | 135 mins |\n| 114 | Arin Maffezzoli        | 52 | Male        | 14:18 | 138 mins |\n| 325 | Holt Teissier          | 36 | Male        | 14:18 | 138 mins |\n| 341 | Gaylor Buckett         | 17 | Non-binary  | 14:29 | 149 mins |\n|  38 | Mellie Merryfield      | 54 | Non-binary  | 15:03 | 183 mins |\n| 426 | Base Dukes             | 62 | Non-binary  | 15:19 | 199 mins |\n| 283 | Karyl Pyne             | 38 | Polygender  | 14:21 | 141 mins |\n| 356 | Alair Blyde            | 42 | Polygender  | 14:27 | 147 mins |\n| 578 | Dagmar Bedburrow       | 47 | Polygender  | 14:49 | 169 mins |\n\n",
            "text/latex": "A grouped\\_df: 24 × 6\n\\begin{tabular}{llllll}\n runner\\_bib & runner\\_name & runner\\_age & runner\\_gender & finish\\_time & finish\\_minutes\\\\\n <int> & <chr> & <int> & <chr> & <chr> & <drtn>\\\\\n\\hline\n\t 321 & Jacobo Telling         & 33 & Agender     & 14:47 & 167 mins\\\\\n\t 480 & Tomasina Greensall     & 22 & Agender     & 15:12 & 192 mins\\\\\n\t 332 & Ina Bonifant           & 30 & Agender     & 15:17 & 197 mins\\\\\n\t 249 & Sephira Kirgan         & 33 & Bigender    & 14:24 & 144 mins\\\\\n\t 546 & Chauncey Langthorne    & 16 & Bigender    & 14:29 & 149 mins\\\\\n\t 263 & Ernestus Draper        & 45 & Bigender    & 14:58 & 178 mins\\\\\n\t  21 & Carmencita Petrishchev & 20 & Female      & 14:15 & 135 mins\\\\\n\t 134 & Marylin Standering     & 18 & Female      & 14:15 & 135 mins\\\\\n\t 238 & Melloney Fonteyne      & 20 & Female      & 14:15 & 135 mins\\\\\n\t 152 & Patrice Draye          & 18 & Genderfluid & 14:15 & 135 mins\\\\\n\t 606 & Nonna Restill          & 57 & Genderfluid & 14:24 & 144 mins\\\\\n\t 421 & Neysa Willatt          & 60 & Genderfluid & 14:33 & 153 mins\\\\\n\t 547 & Patin Dawidowitsch     & 17 & Genderqueer & 15:27 & 207 mins\\\\\n\t 527 & Bobby Sykes            & 52 & Genderqueer & 15:28 & 208 mins\\\\\n\t 590 & Abigale Beedle         & 41 & Genderqueer & 15:34 & 214 mins\\\\\n\t 393 & Ker Dearden            & 62 & Male        & 14:15 & 135 mins\\\\\n\t 114 & Arin Maffezzoli        & 52 & Male        & 14:18 & 138 mins\\\\\n\t 325 & Holt Teissier          & 36 & Male        & 14:18 & 138 mins\\\\\n\t 341 & Gaylor Buckett         & 17 & Non-binary  & 14:29 & 149 mins\\\\\n\t  38 & Mellie Merryfield      & 54 & Non-binary  & 15:03 & 183 mins\\\\\n\t 426 & Base Dukes             & 62 & Non-binary  & 15:19 & 199 mins\\\\\n\t 283 & Karyl Pyne             & 38 & Polygender  & 14:21 & 141 mins\\\\\n\t 356 & Alair Blyde            & 42 & Polygender  & 14:27 & 147 mins\\\\\n\t 578 & Dagmar Bedburrow       & 47 & Polygender  & 14:49 & 169 mins\\\\\n\\end{tabular}\n",
            "text/plain": [
              "   runner_bib runner_name            runner_age runner_gender finish_time\n",
              "1  321        Jacobo Telling         33         Agender       14:47      \n",
              "2  480        Tomasina Greensall     22         Agender       15:12      \n",
              "3  332        Ina Bonifant           30         Agender       15:17      \n",
              "4  249        Sephira Kirgan         33         Bigender      14:24      \n",
              "5  546        Chauncey Langthorne    16         Bigender      14:29      \n",
              "6  263        Ernestus Draper        45         Bigender      14:58      \n",
              "7   21        Carmencita Petrishchev 20         Female        14:15      \n",
              "8  134        Marylin Standering     18         Female        14:15      \n",
              "9  238        Melloney Fonteyne      20         Female        14:15      \n",
              "10 152        Patrice Draye          18         Genderfluid   14:15      \n",
              "11 606        Nonna Restill          57         Genderfluid   14:24      \n",
              "12 421        Neysa Willatt          60         Genderfluid   14:33      \n",
              "13 547        Patin Dawidowitsch     17         Genderqueer   15:27      \n",
              "14 527        Bobby Sykes            52         Genderqueer   15:28      \n",
              "15 590        Abigale Beedle         41         Genderqueer   15:34      \n",
              "16 393        Ker Dearden            62         Male          14:15      \n",
              "17 114        Arin Maffezzoli        52         Male          14:18      \n",
              "18 325        Holt Teissier          36         Male          14:18      \n",
              "19 341        Gaylor Buckett         17         Non-binary    14:29      \n",
              "20  38        Mellie Merryfield      54         Non-binary    15:03      \n",
              "21 426        Base Dukes             62         Non-binary    15:19      \n",
              "22 283        Karyl Pyne             38         Polygender    14:21      \n",
              "23 356        Alair Blyde            42         Polygender    14:27      \n",
              "24 578        Dagmar Bedburrow       47         Polygender    14:49      \n",
              "   finish_minutes\n",
              "1  167 mins      \n",
              "2  192 mins      \n",
              "3  197 mins      \n",
              "4  144 mins      \n",
              "5  149 mins      \n",
              "6  178 mins      \n",
              "7  135 mins      \n",
              "8  135 mins      \n",
              "9  135 mins      \n",
              "10 135 mins      \n",
              "11 144 mins      \n",
              "12 153 mins      \n",
              "13 207 mins      \n",
              "14 208 mins      \n",
              "15 214 mins      \n",
              "16 135 mins      \n",
              "17 138 mins      \n",
              "18 138 mins      \n",
              "19 149 mins      \n",
              "20 183 mins      \n",
              "21 199 mins      \n",
              "22 141 mins      \n",
              "23 147 mins      \n",
              "24 169 mins      "
            ]
          },
          "metadata": {}
        }
      ]
    },
    {
      "cell_type": "markdown",
      "source": [
        "## 6. Plot the Data (3 pts)"
      ],
      "metadata": {
        "id": "2B9dxJbno0s0"
      }
    },
    {
      "cell_type": "markdown",
      "source": [
        "Finally, using `ggplot2` create two plots of the data -- density plots of race finishers.\n",
        "\n",
        "- In the first plot use `finish_minutes` as the x axis.\n",
        "- In the second plot use `runner_age` as the x axis.\n",
        "- Use `runner_gender` as the fill.\n",
        "- We suggest using a `geom_density(alpha=0.2)` or therabouts to see layers through one another.\n",
        "- Use the `gridExtra` library's `grid.arrange()` method to plot them both.\n",
        "\n",
        "You will note that since this is artificial data you will be able to see the gender layers clearly enough but they will not be statistically meaningful."
      ],
      "metadata": {
        "id": "LwMrL6-AplCH"
      }
    },
    {
      "cell_type": "code",
      "source": [
        "install.packages(\"gridExtra\")\n",
        "library(gridExtra)\n",
        "\n",
        "common_subplot <- function(data, field) {\n",
        "  ggplot(data, aes(x=get(field), fill=runner_gender)) +\n",
        "    geom_density(alpha=0.2) +\n",
        "    labs(x=field, y=\"Density\")\n",
        "}\n",
        "\n",
        "finmin <- common_subplot(df3, \"finish_minutes\")\n",
        "runage <- common_subplot(df3, \"runner_age\")\n",
        "\n",
        "grid.arrange(finmin, runage)"
      ],
      "metadata": {
        "id": "9vDIw9YeERNx",
        "outputId": "0549086a-98d8-4612-9ff9-51ea20308dd4",
        "colab": {
          "base_uri": "https://localhost:8080/",
          "height": 687
        }
      },
      "execution_count": 9,
      "outputs": [
        {
          "output_type": "stream",
          "name": "stderr",
          "text": [
            "Installing package into ‘/usr/local/lib/R/site-library’\n",
            "(as ‘lib’ is unspecified)\n",
            "\n",
            "\n",
            "Attaching package: ‘gridExtra’\n",
            "\n",
            "\n",
            "The following object is masked from ‘package:dplyr’:\n",
            "\n",
            "    combine\n",
            "\n",
            "\n",
            "\u001b[1m\u001b[22mDon't know how to automatically pick scale for object of type \u001b[34m<difftime>\u001b[39m.\n",
            "Defaulting to continuous.\n"
          ]
        },
        {
          "output_type": "display_data",
          "data": {
            "text/plain": [
              "plot without title"
            ],
            "image/png": "[encoded data removed]"
          },
          "metadata": {
            "image/png": {
              "width": 420,
              "height": 420
            }
          }
        }
      ]
    }
  ]
}